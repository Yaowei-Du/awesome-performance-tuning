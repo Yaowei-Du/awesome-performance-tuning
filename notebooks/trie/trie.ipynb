{
 "cells": [
  {
   "cell_type": "markdown",
   "metadata": {},
   "source": [
    "# Trie\n",
    "\n",
    "A trie, also called prefix tree, is a kind of search tree. All the descendants of a node have a common prefix of the string associated with that node, and the root is associated with the empty string."
   ]
  },
  {
   "cell_type": "code",
   "execution_count": 47,
   "metadata": {},
   "outputs": [
    {
     "data": {
      "text/html": [
       "\n",
       "        <iframe\n",
       "            width=\"900\"\n",
       "            height=\"350\"\n",
       "            src=\"https://en.wikipedia.org/wiki/Trie\"\n",
       "            frameborder=\"0\"\n",
       "            allowfullscreen\n",
       "        ></iframe>\n",
       "        "
      ],
      "text/plain": [
       "<IPython.lib.display.IFrame at 0x118ac1510>"
      ]
     },
     "execution_count": 47,
     "metadata": {},
     "output_type": "execute_result"
    }
   ],
   "source": [
    "from IPython.display import IFrame\n",
    "IFrame('https://en.wikipedia.org/wiki/Trie', width=800, height=350)"
   ]
  },
  {
   "cell_type": "code",
   "execution_count": 16,
   "metadata": {},
   "outputs": [],
   "source": [
    "import collections\n",
    "\n",
    "AllAppAccount = collections.namedtuple('AllAppAccount', [\"app_id\"])\n",
    "AllAppActivity = collections.namedtuple('AllAppActivity', [\"app_id\"])\n",
    "AllAppEvent = collections.namedtuple('AllAppEvent', [\"app_id\"])\n",
    "AllAchievement = collections.namedtuple('AllAchievement', [])\n",
    "Achievement = collections.namedtuple('Achievement', [\"achievement_id\"])\n",
    "AllAchievementType = collections.namedtuple('AllAchievementType', [])\n",
    "AllUser = collections.namedtuple('AllUser', [])\n",
    "User = collections.namedtuple('User', [\"user_id\"])\n",
    "AllUserFriend = collections.namedtuple('AllUserFriend', [\"user_id\"])\n",
    "AllPost = collections.namedtuple('AllPost', [])\n",
    "Post = collections.namedtuple('Post', [\"post_id\"])\n",
    "AllPostLike = collections.namedtuple('AllPostLike', [\"post_id\"])"
   ]
  },
  {
   "cell_type": "markdown",
   "metadata": {},
   "source": [
    "## Build Trie"
   ]
  },
  {
   "cell_type": "code",
   "execution_count": 35,
   "metadata": {},
   "outputs": [],
   "source": [
    "\n",
    "import networkx as nx\n",
    "from networkx.utils import generate_unique_node\n",
    "\n",
    "DYNAMIC = 'dynamic'\n",
    "SEPERATOR = '/'\n",
    "\n",
    "def normal_traverse(trie, node, key, params=[]):\n",
    "    return trie.successor(node, key)\n",
    "\n",
    "def seperator_traverse(trie, node, key, params):\n",
    "    dynamic_node = trie.successor(node, DYNAMIC)\n",
    "    if dynamic_node is not None:\n",
    "        params.append(key)\n",
    "        return dynamic_node\n",
    "    else:\n",
    "        return normal_traverse(trie, node, key)\n",
    "\n",
    "def dynamic_traverse(trie, node, key, params):\n",
    "    if key == SEPERATOR:\n",
    "        return normal_traverse(trie, node, key)\n",
    "    else:\n",
    "        params[-1] += key\n",
    "        return node\n",
    "\n",
    "class Trie:\n",
    "    def __init__(self, graph = nx.DiGraph()):\n",
    "        self.graph = graph\n",
    "        self._root = self.__add_node(None, None)\n",
    "\n",
    "    def search(self, path):\n",
    "        current = self._root\n",
    "        params = []\n",
    "        for char in path.rstrip(SEPERATOR):\n",
    "            next_node = self.__traverse(current, char, params)\n",
    "            if next_node is None:\n",
    "                break\n",
    "            current = next_node\n",
    "        return (current, params)\n",
    "\n",
    "    def insert(self, path_segments, value):\n",
    "        current = self._root\n",
    "        for segment in path_segments:\n",
    "            for char in segment:\n",
    "                next_node = self.successor(current, char)\n",
    "                if next_node is None:\n",
    "                    next_node = self.__add_node(current, char)\n",
    "                current = next_node\n",
    "        self.node(current)['clazz'] = value\n",
    "\n",
    "    def successor(self, node, key):\n",
    "        return next(filter(lambda n: self.node(n).get('key') == key, self.graph.succ[node]), None)\n",
    "\n",
    "    def node(self, node):\n",
    "        return self.graph.nodes[node]\n",
    "\n",
    "    def __add_node(self, node, key):\n",
    "        next_node, next_node_attr = self.__build_node(key)\n",
    "        self.graph.add_node(next_node, **next_node_attr)\n",
    "        if node is not None:\n",
    "            self.graph.add_edge(node, next_node)\n",
    "        return next_node\n",
    "\n",
    "    def __build_node(self, key, clazz=None):\n",
    "        return (generate_unique_node(), dict(key=key, clazz=clazz))\n",
    "\n",
    "    def __traverse(self, node, char, params):\n",
    "        NODES = {\n",
    "            DYNAMIC: dynamic_traverse,\n",
    "            SEPERATOR: seperator_traverse\n",
    "        }\n",
    "        return NODES.get(self.node(node).get('key'), normal_traverse)(self, node, char, params)\n"
   ]
  },
  {
   "cell_type": "code",
   "execution_count": 36,
   "metadata": {},
   "outputs": [],
   "source": [
    "G = nx.DiGraph()\n",
    "trie = Trie(G)"
   ]
  },
  {
   "cell_type": "markdown",
   "metadata": {},
   "source": [
    "## Visualize Trie\n",
    "### Build graph by Graphviz"
   ]
  },
  {
   "cell_type": "code",
   "execution_count": 37,
   "metadata": {},
   "outputs": [],
   "source": [
    "import pygraphviz as pgv\n",
    "\n",
    "def build_graphviz(V, E):\n",
    "    H = pgv.AGraph(strict=True, directed=False)\n",
    "    H.add_nodes_from(V)\n",
    "    H.add_edges_from(E)\n",
    "    H.layout(prog='dot')\n",
    "    return H"
   ]
  },
  {
   "cell_type": "markdown",
   "metadata": {},
   "source": [
    "### Transfer Graphviz to Plotly"
   ]
  },
  {
   "cell_type": "code",
   "execution_count": 43,
   "metadata": {},
   "outputs": [],
   "source": [
    "import plotly.graph_objs as go\n",
    "import numpy as np\n",
    "from ast import literal_eval\n",
    "\n",
    "def plotly_nodes(G, H, function):\n",
    "    nodes = list(filter(function, H.nodes()))\n",
    "    labels = [G.node[v]['key'] for v in nodes]\n",
    "    hoverlabels = [G.node[v]['clazz'] for v in nodes]\n",
    "    \n",
    "    pos = np.array([literal_eval(n.attr['pos']) for n in nodes])\n",
    "\n",
    "    N = len(pos)\n",
    "    Xn = [pos[k][0] for k in range(N)]\n",
    "    Yn = [pos[k][1] for k in range(N)]\n",
    "\n",
    "    return Xn, Yn, labels, hoverlabels\n",
    "\n",
    "def plotly_edges(G, H, edges):\n",
    "    Xe = []\n",
    "    Ye = []\n",
    "    for e in edges:\n",
    "        e0 = np.array(literal_eval(H.get_node(e[0]).attr['pos']))\n",
    "        e1 = np.array(literal_eval(H.get_node(e[1]).attr['pos']))\n",
    "        Xe += [e0[0],e1[0], None]\n",
    "        Ye += [e0[1],e1[1], None]\n",
    "        \n",
    "    return Xe, Ye\n",
    "\n",
    "def edge_scatter(go, Xe, Ye, color='rgb(160,160,160)'):\n",
    "    return go.Scatter(x=Xe, y=Ye, mode='lines', line=dict(color=color, width=2), hoverinfo='none')\n",
    "\n",
    "def node_scatter(go, Xn, Yn, color, labels, hoverlabels):\n",
    "    return go.Scatter(x=Xn, y=Yn, mode='markers+text', text=labels, name='', hoverinfo='none',\n",
    "                   marker=dict(color=color, size=18, line=dict(color='rgb(100,100,100)', width=1)))\n",
    "\n",
    "def plotly_node_scatter(go, G, H, function, color):\n",
    "    Xn, Yn, labels, hoverlabels = plotly_nodes(G, H, function)\n",
    "    return node_scatter(go, Xn, Yn, color, labels, hoverlabels)\n",
    "\n",
    "def plotly_edge_scatter(go, G, H, edges, color='rgb(160,160,160)'):\n",
    "    Xe, Ye = plotly_edges(G, H, edges)\n",
    "    return edge_scatter(go, Xe, Ye, color)\n",
    "\n",
    "def plotly_figure(go, G, H, data=[]):\n",
    "    edges = plotly_edge_scatter(go, G, H, H.edges())\n",
    "    root_node = plotly_node_scatter(go, G, H, lambda n: G.node[n]['key'] is None, 'rgb(100,100,100)')\n",
    "    dynamic_nodes = plotly_node_scatter(go, G, H, lambda n: G.node[n]['key'] == DYNAMIC, 'rgb(101,214,67)')\n",
    "    seperate_nodes = plotly_node_scatter(go, G, H, lambda n: G.node[n]['key'] == SEPERATOR, 'rgb(247,185,43)')\n",
    "    normal_nodes = plotly_node_scatter(go, G, H, lambda n: G.node[n]['key'] not in [None, DYNAMIC, SEPERATOR], 'rgb(24,140,216)')\n",
    "    \n",
    "    axis = dict(showline=False, zeroline=False, showgrid=False, showticklabels=False)\n",
    "    layout = go.Layout(title=\"Trie\", width=1000, height=800, font_size=15, showlegend=False, xaxis=axis, yaxis=axis,\n",
    "                       plot_bgcolor='rgb(248,248,248)', margin=dict(l=40, r=40, b=85, t=100), hovermode='closest')\n",
    "    return go.FigureWidget(data=[edges] + data + [root_node, dynamic_nodes, seperate_nodes, normal_nodes], layout=layout)\n",
    "\n",
    "def animation(graph):\n",
    "    plotly_figure(go, graph, build_graphviz(graph.nodes(), graph.edges())).show()"
   ]
  },
  {
   "cell_type": "code",
   "execution_count": 44,
   "metadata": {},
   "outputs": [],
   "source": [
    "from functools import wraps\n",
    "\n",
    "def insert_animation(graph, func):\n",
    "    @wraps(func)\n",
    "    def wrapper(*args, **kwargs):\n",
    "        result = func(*args, **kwargs)\n",
    "        animation(graph.copy())\n",
    "    return wrapper\n",
    "\n",
    "insert = insert_animation(G, trie.insert)"
   ]
  },
  {
   "cell_type": "code",
   "execution_count": 45,
   "metadata": {},
   "outputs": [
    {
     "data": {
      "application/vnd.plotly.v1+json": {
       "config": {
        "plotlyServerURL": "https://plot.ly"
       },
       "data": [
        {
         "hoverinfo": "none",
         "line": {
          "color": "rgb(160,160,160)",
          "width": 2
         },
         "mode": "lines",
         "type": "scatter",
         "uid": "e92000aa-1ee4-4353-8ae1-0b9ce15b4035",
         "x": [
          1822.5,
          1822.5,
          null,
          1822.5,
          1323.5,
          null,
          1822.5,
          1822.5,
          null,
          1822.5,
          2155.5,
          null,
          1323.5,
          992.49,
          null,
          1323.5,
          1323.5,
          null,
          1822.5,
          1822.5,
          null,
          2155.5,
          2157.5,
          null,
          992.49,
          992.49,
          null,
          1323.5,
          1323.5,
          null,
          1822.5,
          1822.5,
          null,
          2157.5,
          2158.5,
          null,
          992.49,
          991.49,
          null,
          1323.5,
          1323.5,
          null,
          991.49,
          990.49,
          null,
          990.49,
          988.49,
          null,
          988.49,
          825.49,
          null,
          825.49,
          492.49,
          null,
          825.49,
          825.49,
          null,
          492.49,
          489.49,
          null,
          825.49,
          825.49,
          null,
          489.49,
          159.49,
          null,
          489.49,
          489.49,
          null,
          825.49,
          825.49,
          null,
          159.49,
          157.49,
          null,
          489.49,
          489.49,
          null,
          157.49,
          156.49,
          null,
          489.49,
          489.49,
          null,
          156.49,
          156.49,
          null,
          156.49,
          156.49,
          null,
          156.49,
          156.49,
          null,
          489.49,
          489.49,
          null,
          489.49,
          490.49,
          null,
          490.49,
          490.49,
          null,
          490.49,
          490.49,
          null,
          490.49,
          490.49,
          null,
          825.49,
          825.49,
          null,
          825.49,
          825.49,
          null,
          825.49,
          825.49,
          null,
          1323.5,
          1323.5,
          null,
          1323.5,
          1323.5,
          null,
          1323.5,
          1323.5,
          null,
          1323.5,
          1323.5,
          null,
          1323.5,
          1323.5,
          null,
          1323.5,
          1323.5,
          null,
          1323.5,
          1323.5,
          null,
          1323.5,
          1159.5,
          null,
          1323.5,
          1490.5,
          null,
          1159.5,
          1159.5,
          null,
          1490.5,
          1491.5,
          null,
          1159.5,
          1159.5,
          null,
          1491.5,
          1491.5,
          null,
          1491.5,
          1490.5,
          null,
          1490.5,
          1490.5,
          null,
          1490.5,
          1490.5,
          null,
          1822.5,
          1822.5,
          null,
          1822.5,
          1822.5,
          null,
          1822.5,
          1822.5,
          null,
          1822.5,
          1822.5,
          null,
          1822.5,
          1822.5,
          null,
          1822.5,
          1823.5,
          null,
          1823.5,
          1823.5,
          null,
          1823.5,
          1823.5,
          null,
          1823.5,
          1823.5,
          null,
          1823.5,
          1824.5,
          null,
          1824.5,
          1824.5,
          null,
          1824.5,
          1824.5,
          null,
          2158.5,
          2158.5,
          null,
          2158.5,
          2158.5,
          null,
          2158.5,
          2158.5,
          null,
          2158.5,
          2158.5,
          null,
          2158.5,
          2158.5,
          null,
          2158.5,
          2158.5,
          null,
          2158.5,
          2158.5,
          null,
          2158.5,
          2158.5,
          null,
          2158.5,
          2158.5,
          null,
          2158.5,
          2158.5,
          null
         ],
         "y": [
          1314,
          1242,
          null,
          1242,
          1170,
          null,
          1242,
          1170,
          null,
          1242,
          1170,
          null,
          1170,
          1098,
          null,
          1170,
          1098,
          null,
          1170,
          1098,
          null,
          1170,
          1098,
          null,
          1098,
          1026,
          null,
          1098,
          1026,
          null,
          1098,
          1026,
          null,
          1098,
          1026,
          null,
          1026,
          954,
          null,
          1026,
          954,
          null,
          954,
          882,
          null,
          882,
          810,
          null,
          810,
          738,
          null,
          738,
          666,
          null,
          738,
          666,
          null,
          666,
          594,
          null,
          666,
          594,
          null,
          594,
          522,
          null,
          594,
          522,
          null,
          594,
          522,
          null,
          522,
          450,
          null,
          522,
          450,
          null,
          450,
          378,
          null,
          450,
          378,
          null,
          378,
          306,
          null,
          306,
          234,
          null,
          234,
          162,
          null,
          378,
          306,
          null,
          306,
          234,
          null,
          234,
          162,
          null,
          162,
          90,
          null,
          90,
          18,
          null,
          522,
          450,
          null,
          450,
          378,
          null,
          378,
          306,
          null,
          954,
          882,
          null,
          882,
          810,
          null,
          810,
          738,
          null,
          738,
          666,
          null,
          666,
          594,
          null,
          594,
          522,
          null,
          522,
          450,
          null,
          450,
          378,
          null,
          450,
          378,
          null,
          378,
          306,
          null,
          378,
          306,
          null,
          306,
          234,
          null,
          306,
          234,
          null,
          234,
          162,
          null,
          162,
          90,
          null,
          90,
          18,
          null,
          1026,
          954,
          null,
          954,
          882,
          null,
          882,
          810,
          null,
          810,
          738,
          null,
          738,
          666,
          null,
          666,
          594,
          null,
          594,
          522,
          null,
          522,
          450,
          null,
          450,
          378,
          null,
          378,
          306,
          null,
          306,
          234,
          null,
          234,
          162,
          null,
          1026,
          954,
          null,
          954,
          882,
          null,
          882,
          810,
          null,
          810,
          738,
          null,
          738,
          666,
          null,
          666,
          594,
          null,
          594,
          522,
          null,
          522,
          450,
          null,
          450,
          378,
          null,
          378,
          306,
          null
         ]
        },
        {
         "hoverinfo": "none",
         "marker": {
          "color": "rgb(100,100,100)",
          "line": {
           "color": "rgb(100,100,100)",
           "width": 1
          },
          "size": 18
         },
         "mode": "markers+text",
         "name": "",
         "text": [
          null
         ],
         "type": "scatter",
         "uid": "f6783c3f-0daf-4611-a3f7-3bc29654d167",
         "x": [
          1822.5
         ],
         "y": [
          1314
         ]
        },
        {
         "hoverinfo": "none",
         "marker": {
          "color": "rgb(101,214,67)",
          "line": {
           "color": "rgb(100,100,100)",
           "width": 1
          },
          "size": 18
         },
         "mode": "markers+text",
         "name": "",
         "text": [
          "dynamic",
          "dynamic",
          "dynamic",
          "dynamic"
         ],
         "type": "scatter",
         "uid": "7266fb47-7a96-44ad-87c7-f4796621876f",
         "x": [
          988.49,
          1159.5,
          1822.5,
          2158.5
         ],
         "y": [
          810,
          234,
          738,
          738
         ]
        },
        {
         "hoverinfo": "none",
         "marker": {
          "color": "rgb(247,185,43)",
          "line": {
           "color": "rgb(100,100,100)",
           "width": 1
          },
          "size": 18
         },
         "mode": "markers+text",
         "name": "",
         "text": [
          "/",
          "/",
          "/",
          "/",
          "/",
          "/",
          "/",
          "/"
         ],
         "type": "scatter",
         "uid": "ef75b74f-9115-4618-a1c1-f92efed1d81e",
         "x": [
          1822.5,
          990.49,
          825.49,
          1159.5,
          1822.5,
          1822.5,
          2158.5,
          2158.5
         ],
         "y": [
          1242,
          882,
          738,
          306,
          810,
          666,
          810,
          666
         ]
        },
        {
         "hoverinfo": "none",
         "marker": {
          "color": "rgb(24,140,216)",
          "line": {
           "color": "rgb(100,100,100)",
           "width": 1
          },
          "size": 18
         },
         "mode": "markers+text",
         "name": "",
         "text": [
          "a",
          "u",
          "p",
          "p",
          "c",
          "s",
          "o",
          "p",
          "h",
          "s",
          "a",
          "e",
          "c",
          "v",
          "c",
          "t",
          "o",
          "i",
          "u",
          "n",
          "t",
          "s",
          "v",
          "i",
          "t",
          "i",
          "e",
          "s",
          "e",
          "n",
          "t",
          "s",
          "i",
          "e",
          "v",
          "e",
          "m",
          "e",
          "n",
          "t",
          "s",
          "-",
          "t",
          "y",
          "p",
          "e",
          "s",
          "e",
          "r",
          "s",
          "f",
          "r",
          "i",
          "e",
          "n",
          "d",
          "s",
          "s",
          "t",
          "s",
          "l",
          "i",
          "k",
          "e",
          "s"
         ],
         "type": "scatter",
         "uid": "20ba8ecb-7411-48b3-a791-cdd213f5bee9",
         "x": [
          1323.5,
          1822.5,
          2155.5,
          992.49,
          1323.5,
          1822.5,
          2157.5,
          992.49,
          1323.5,
          991.49,
          492.49,
          825.49,
          489.49,
          825.49,
          159.49,
          489.49,
          157.49,
          489.49,
          156.49,
          156.49,
          156.49,
          156.49,
          489.49,
          489.49,
          490.49,
          490.49,
          490.49,
          490.49,
          825.49,
          825.49,
          825.49,
          825.49,
          1323.5,
          1323.5,
          1323.5,
          1323.5,
          1323.5,
          1323.5,
          1323.5,
          1323.5,
          1159.5,
          1490.5,
          1491.5,
          1491.5,
          1490.5,
          1490.5,
          1490.5,
          1822.5,
          1822.5,
          1822.5,
          1823.5,
          1823.5,
          1823.5,
          1823.5,
          1824.5,
          1824.5,
          1824.5,
          2158.5,
          2158.5,
          2158.5,
          2158.5,
          2158.5,
          2158.5,
          2158.5,
          2158.5
         ],
         "y": [
          1170,
          1170,
          1170,
          1098,
          1098,
          1098,
          1098,
          1026,
          1026,
          954,
          666,
          666,
          594,
          594,
          522,
          522,
          450,
          450,
          378,
          306,
          234,
          162,
          378,
          306,
          234,
          162,
          90,
          18,
          522,
          450,
          378,
          306,
          954,
          882,
          810,
          738,
          666,
          594,
          522,
          450,
          378,
          378,
          306,
          234,
          162,
          90,
          18,
          1026,
          954,
          882,
          594,
          522,
          450,
          378,
          306,
          234,
          162,
          1026,
          954,
          882,
          594,
          522,
          450,
          378,
          306
         ]
        }
       ],
       "layout": {
        "font": {
         "size": 15
        },
        "height": 800,
        "hovermode": "closest",
        "margin": {
         "b": 85,
         "l": 40,
         "r": 40,
         "t": 100
        },
        "plot_bgcolor": "rgb(248,248,248)",
        "showlegend": false,
        "template": {
         "data": {
          "bar": [
           {
            "error_x": {
             "color": "#2a3f5f"
            },
            "error_y": {
             "color": "#2a3f5f"
            },
            "marker": {
             "line": {
              "color": "#E5ECF6",
              "width": 0.5
             }
            },
            "type": "bar"
           }
          ],
          "barpolar": [
           {
            "marker": {
             "line": {
              "color": "#E5ECF6",
              "width": 0.5
             }
            },
            "type": "barpolar"
           }
          ],
          "carpet": [
           {
            "aaxis": {
             "endlinecolor": "#2a3f5f",
             "gridcolor": "white",
             "linecolor": "white",
             "minorgridcolor": "white",
             "startlinecolor": "#2a3f5f"
            },
            "baxis": {
             "endlinecolor": "#2a3f5f",
             "gridcolor": "white",
             "linecolor": "white",
             "minorgridcolor": "white",
             "startlinecolor": "#2a3f5f"
            },
            "type": "carpet"
           }
          ],
          "choropleth": [
           {
            "colorbar": {
             "outlinewidth": 0,
             "ticks": ""
            },
            "type": "choropleth"
           }
          ],
          "contour": [
           {
            "colorbar": {
             "outlinewidth": 0,
             "ticks": ""
            },
            "colorscale": [
             [
              0,
              "#0d0887"
             ],
             [
              0.1111111111111111,
              "#46039f"
             ],
             [
              0.2222222222222222,
              "#7201a8"
             ],
             [
              0.3333333333333333,
              "#9c179e"
             ],
             [
              0.4444444444444444,
              "#bd3786"
             ],
             [
              0.5555555555555556,
              "#d8576b"
             ],
             [
              0.6666666666666666,
              "#ed7953"
             ],
             [
              0.7777777777777778,
              "#fb9f3a"
             ],
             [
              0.8888888888888888,
              "#fdca26"
             ],
             [
              1,
              "#f0f921"
             ]
            ],
            "type": "contour"
           }
          ],
          "contourcarpet": [
           {
            "colorbar": {
             "outlinewidth": 0,
             "ticks": ""
            },
            "type": "contourcarpet"
           }
          ],
          "heatmap": [
           {
            "colorbar": {
             "outlinewidth": 0,
             "ticks": ""
            },
            "colorscale": [
             [
              0,
              "#0d0887"
             ],
             [
              0.1111111111111111,
              "#46039f"
             ],
             [
              0.2222222222222222,
              "#7201a8"
             ],
             [
              0.3333333333333333,
              "#9c179e"
             ],
             [
              0.4444444444444444,
              "#bd3786"
             ],
             [
              0.5555555555555556,
              "#d8576b"
             ],
             [
              0.6666666666666666,
              "#ed7953"
             ],
             [
              0.7777777777777778,
              "#fb9f3a"
             ],
             [
              0.8888888888888888,
              "#fdca26"
             ],
             [
              1,
              "#f0f921"
             ]
            ],
            "type": "heatmap"
           }
          ],
          "heatmapgl": [
           {
            "colorbar": {
             "outlinewidth": 0,
             "ticks": ""
            },
            "colorscale": [
             [
              0,
              "#0d0887"
             ],
             [
              0.1111111111111111,
              "#46039f"
             ],
             [
              0.2222222222222222,
              "#7201a8"
             ],
             [
              0.3333333333333333,
              "#9c179e"
             ],
             [
              0.4444444444444444,
              "#bd3786"
             ],
             [
              0.5555555555555556,
              "#d8576b"
             ],
             [
              0.6666666666666666,
              "#ed7953"
             ],
             [
              0.7777777777777778,
              "#fb9f3a"
             ],
             [
              0.8888888888888888,
              "#fdca26"
             ],
             [
              1,
              "#f0f921"
             ]
            ],
            "type": "heatmapgl"
           }
          ],
          "histogram": [
           {
            "marker": {
             "colorbar": {
              "outlinewidth": 0,
              "ticks": ""
             }
            },
            "type": "histogram"
           }
          ],
          "histogram2d": [
           {
            "colorbar": {
             "outlinewidth": 0,
             "ticks": ""
            },
            "colorscale": [
             [
              0,
              "#0d0887"
             ],
             [
              0.1111111111111111,
              "#46039f"
             ],
             [
              0.2222222222222222,
              "#7201a8"
             ],
             [
              0.3333333333333333,
              "#9c179e"
             ],
             [
              0.4444444444444444,
              "#bd3786"
             ],
             [
              0.5555555555555556,
              "#d8576b"
             ],
             [
              0.6666666666666666,
              "#ed7953"
             ],
             [
              0.7777777777777778,
              "#fb9f3a"
             ],
             [
              0.8888888888888888,
              "#fdca26"
             ],
             [
              1,
              "#f0f921"
             ]
            ],
            "type": "histogram2d"
           }
          ],
          "histogram2dcontour": [
           {
            "colorbar": {
             "outlinewidth": 0,
             "ticks": ""
            },
            "colorscale": [
             [
              0,
              "#0d0887"
             ],
             [
              0.1111111111111111,
              "#46039f"
             ],
             [
              0.2222222222222222,
              "#7201a8"
             ],
             [
              0.3333333333333333,
              "#9c179e"
             ],
             [
              0.4444444444444444,
              "#bd3786"
             ],
             [
              0.5555555555555556,
              "#d8576b"
             ],
             [
              0.6666666666666666,
              "#ed7953"
             ],
             [
              0.7777777777777778,
              "#fb9f3a"
             ],
             [
              0.8888888888888888,
              "#fdca26"
             ],
             [
              1,
              "#f0f921"
             ]
            ],
            "type": "histogram2dcontour"
           }
          ],
          "mesh3d": [
           {
            "colorbar": {
             "outlinewidth": 0,
             "ticks": ""
            },
            "type": "mesh3d"
           }
          ],
          "parcoords": [
           {
            "line": {
             "colorbar": {
              "outlinewidth": 0,
              "ticks": ""
             }
            },
            "type": "parcoords"
           }
          ],
          "scatter": [
           {
            "marker": {
             "colorbar": {
              "outlinewidth": 0,
              "ticks": ""
             }
            },
            "type": "scatter"
           }
          ],
          "scatter3d": [
           {
            "line": {
             "colorbar": {
              "outlinewidth": 0,
              "ticks": ""
             }
            },
            "marker": {
             "colorbar": {
              "outlinewidth": 0,
              "ticks": ""
             }
            },
            "type": "scatter3d"
           }
          ],
          "scattercarpet": [
           {
            "marker": {
             "colorbar": {
              "outlinewidth": 0,
              "ticks": ""
             }
            },
            "type": "scattercarpet"
           }
          ],
          "scattergeo": [
           {
            "marker": {
             "colorbar": {
              "outlinewidth": 0,
              "ticks": ""
             }
            },
            "type": "scattergeo"
           }
          ],
          "scattergl": [
           {
            "marker": {
             "colorbar": {
              "outlinewidth": 0,
              "ticks": ""
             }
            },
            "type": "scattergl"
           }
          ],
          "scattermapbox": [
           {
            "marker": {
             "colorbar": {
              "outlinewidth": 0,
              "ticks": ""
             }
            },
            "type": "scattermapbox"
           }
          ],
          "scatterpolar": [
           {
            "marker": {
             "colorbar": {
              "outlinewidth": 0,
              "ticks": ""
             }
            },
            "type": "scatterpolar"
           }
          ],
          "scatterpolargl": [
           {
            "marker": {
             "colorbar": {
              "outlinewidth": 0,
              "ticks": ""
             }
            },
            "type": "scatterpolargl"
           }
          ],
          "scatterternary": [
           {
            "marker": {
             "colorbar": {
              "outlinewidth": 0,
              "ticks": ""
             }
            },
            "type": "scatterternary"
           }
          ],
          "surface": [
           {
            "colorbar": {
             "outlinewidth": 0,
             "ticks": ""
            },
            "colorscale": [
             [
              0,
              "#0d0887"
             ],
             [
              0.1111111111111111,
              "#46039f"
             ],
             [
              0.2222222222222222,
              "#7201a8"
             ],
             [
              0.3333333333333333,
              "#9c179e"
             ],
             [
              0.4444444444444444,
              "#bd3786"
             ],
             [
              0.5555555555555556,
              "#d8576b"
             ],
             [
              0.6666666666666666,
              "#ed7953"
             ],
             [
              0.7777777777777778,
              "#fb9f3a"
             ],
             [
              0.8888888888888888,
              "#fdca26"
             ],
             [
              1,
              "#f0f921"
             ]
            ],
            "type": "surface"
           }
          ],
          "table": [
           {
            "cells": {
             "fill": {
              "color": "#EBF0F8"
             },
             "line": {
              "color": "white"
             }
            },
            "header": {
             "fill": {
              "color": "#C8D4E3"
             },
             "line": {
              "color": "white"
             }
            },
            "type": "table"
           }
          ]
         },
         "layout": {
          "annotationdefaults": {
           "arrowcolor": "#2a3f5f",
           "arrowhead": 0,
           "arrowwidth": 1
          },
          "colorscale": {
           "diverging": [
            [
             0,
             "#8e0152"
            ],
            [
             0.1,
             "#c51b7d"
            ],
            [
             0.2,
             "#de77ae"
            ],
            [
             0.3,
             "#f1b6da"
            ],
            [
             0.4,
             "#fde0ef"
            ],
            [
             0.5,
             "#f7f7f7"
            ],
            [
             0.6,
             "#e6f5d0"
            ],
            [
             0.7,
             "#b8e186"
            ],
            [
             0.8,
             "#7fbc41"
            ],
            [
             0.9,
             "#4d9221"
            ],
            [
             1,
             "#276419"
            ]
           ],
           "sequential": [
            [
             0,
             "#0d0887"
            ],
            [
             0.1111111111111111,
             "#46039f"
            ],
            [
             0.2222222222222222,
             "#7201a8"
            ],
            [
             0.3333333333333333,
             "#9c179e"
            ],
            [
             0.4444444444444444,
             "#bd3786"
            ],
            [
             0.5555555555555556,
             "#d8576b"
            ],
            [
             0.6666666666666666,
             "#ed7953"
            ],
            [
             0.7777777777777778,
             "#fb9f3a"
            ],
            [
             0.8888888888888888,
             "#fdca26"
            ],
            [
             1,
             "#f0f921"
            ]
           ],
           "sequentialminus": [
            [
             0,
             "#0d0887"
            ],
            [
             0.1111111111111111,
             "#46039f"
            ],
            [
             0.2222222222222222,
             "#7201a8"
            ],
            [
             0.3333333333333333,
             "#9c179e"
            ],
            [
             0.4444444444444444,
             "#bd3786"
            ],
            [
             0.5555555555555556,
             "#d8576b"
            ],
            [
             0.6666666666666666,
             "#ed7953"
            ],
            [
             0.7777777777777778,
             "#fb9f3a"
            ],
            [
             0.8888888888888888,
             "#fdca26"
            ],
            [
             1,
             "#f0f921"
            ]
           ]
          },
          "colorway": [
           "#636efa",
           "#EF553B",
           "#00cc96",
           "#ab63fa",
           "#FFA15A",
           "#19d3f3",
           "#FF6692",
           "#B6E880",
           "#FF97FF",
           "#FECB52"
          ],
          "font": {
           "color": "#2a3f5f"
          },
          "geo": {
           "bgcolor": "white",
           "lakecolor": "white",
           "landcolor": "#E5ECF6",
           "showlakes": true,
           "showland": true,
           "subunitcolor": "white"
          },
          "hoverlabel": {
           "align": "left"
          },
          "hovermode": "closest",
          "mapbox": {
           "style": "light"
          },
          "paper_bgcolor": "white",
          "plot_bgcolor": "#E5ECF6",
          "polar": {
           "angularaxis": {
            "gridcolor": "white",
            "linecolor": "white",
            "ticks": ""
           },
           "bgcolor": "#E5ECF6",
           "radialaxis": {
            "gridcolor": "white",
            "linecolor": "white",
            "ticks": ""
           }
          },
          "scene": {
           "xaxis": {
            "backgroundcolor": "#E5ECF6",
            "gridcolor": "white",
            "gridwidth": 2,
            "linecolor": "white",
            "showbackground": true,
            "ticks": "",
            "zerolinecolor": "white"
           },
           "yaxis": {
            "backgroundcolor": "#E5ECF6",
            "gridcolor": "white",
            "gridwidth": 2,
            "linecolor": "white",
            "showbackground": true,
            "ticks": "",
            "zerolinecolor": "white"
           },
           "zaxis": {
            "backgroundcolor": "#E5ECF6",
            "gridcolor": "white",
            "gridwidth": 2,
            "linecolor": "white",
            "showbackground": true,
            "ticks": "",
            "zerolinecolor": "white"
           }
          },
          "shapedefaults": {
           "line": {
            "color": "#2a3f5f"
           }
          },
          "ternary": {
           "aaxis": {
            "gridcolor": "white",
            "linecolor": "white",
            "ticks": ""
           },
           "baxis": {
            "gridcolor": "white",
            "linecolor": "white",
            "ticks": ""
           },
           "bgcolor": "#E5ECF6",
           "caxis": {
            "gridcolor": "white",
            "linecolor": "white",
            "ticks": ""
           }
          },
          "title": {
           "x": 0.05
          },
          "xaxis": {
           "automargin": true,
           "gridcolor": "white",
           "linecolor": "white",
           "ticks": "",
           "zerolinecolor": "white",
           "zerolinewidth": 2
          },
          "yaxis": {
           "automargin": true,
           "gridcolor": "white",
           "linecolor": "white",
           "ticks": "",
           "zerolinecolor": "white",
           "zerolinewidth": 2
          }
         }
        },
        "title": {
         "text": "Trie"
        },
        "width": 1000,
        "xaxis": {
         "showgrid": false,
         "showline": false,
         "showticklabels": false,
         "zeroline": false
        },
        "yaxis": {
         "showgrid": false,
         "showline": false,
         "showticklabels": false,
         "zeroline": false
        }
       }
      },
      "text/html": [
       "<div>\n",
       "        \n",
       "        \n",
       "            <div id=\"a2123f12-58ab-4436-809a-fb869a45f364\" class=\"plotly-graph-div\" style=\"height:800px; width:1000px;\"></div>\n",
       "            <script type=\"text/javascript\">\n",
       "                require([\"plotly\"], function(Plotly) {\n",
       "                    window.PLOTLYENV=window.PLOTLYENV || {};\n",
       "                    \n",
       "                if (document.getElementById(\"a2123f12-58ab-4436-809a-fb869a45f364\")) {\n",
       "                    Plotly.newPlot(\n",
       "                        'a2123f12-58ab-4436-809a-fb869a45f364',\n",
       "                        [{\"hoverinfo\": \"none\", \"line\": {\"color\": \"rgb(160,160,160)\", \"width\": 2}, \"mode\": \"lines\", \"type\": \"scatter\", \"uid\": \"e92000aa-1ee4-4353-8ae1-0b9ce15b4035\", \"x\": [1822.5, 1822.5, null, 1822.5, 1323.5, null, 1822.5, 1822.5, null, 1822.5, 2155.5, null, 1323.5, 992.49, null, 1323.5, 1323.5, null, 1822.5, 1822.5, null, 2155.5, 2157.5, null, 992.49, 992.49, null, 1323.5, 1323.5, null, 1822.5, 1822.5, null, 2157.5, 2158.5, null, 992.49, 991.49, null, 1323.5, 1323.5, null, 991.49, 990.49, null, 990.49, 988.49, null, 988.49, 825.49, null, 825.49, 492.49, null, 825.49, 825.49, null, 492.49, 489.49, null, 825.49, 825.49, null, 489.49, 159.49, null, 489.49, 489.49, null, 825.49, 825.49, null, 159.49, 157.49, null, 489.49, 489.49, null, 157.49, 156.49, null, 489.49, 489.49, null, 156.49, 156.49, null, 156.49, 156.49, null, 156.49, 156.49, null, 489.49, 489.49, null, 489.49, 490.49, null, 490.49, 490.49, null, 490.49, 490.49, null, 490.49, 490.49, null, 825.49, 825.49, null, 825.49, 825.49, null, 825.49, 825.49, null, 1323.5, 1323.5, null, 1323.5, 1323.5, null, 1323.5, 1323.5, null, 1323.5, 1323.5, null, 1323.5, 1323.5, null, 1323.5, 1323.5, null, 1323.5, 1323.5, null, 1323.5, 1159.5, null, 1323.5, 1490.5, null, 1159.5, 1159.5, null, 1490.5, 1491.5, null, 1159.5, 1159.5, null, 1491.5, 1491.5, null, 1491.5, 1490.5, null, 1490.5, 1490.5, null, 1490.5, 1490.5, null, 1822.5, 1822.5, null, 1822.5, 1822.5, null, 1822.5, 1822.5, null, 1822.5, 1822.5, null, 1822.5, 1822.5, null, 1822.5, 1823.5, null, 1823.5, 1823.5, null, 1823.5, 1823.5, null, 1823.5, 1823.5, null, 1823.5, 1824.5, null, 1824.5, 1824.5, null, 1824.5, 1824.5, null, 2158.5, 2158.5, null, 2158.5, 2158.5, null, 2158.5, 2158.5, null, 2158.5, 2158.5, null, 2158.5, 2158.5, null, 2158.5, 2158.5, null, 2158.5, 2158.5, null, 2158.5, 2158.5, null, 2158.5, 2158.5, null, 2158.5, 2158.5, null], \"y\": [1314.0, 1242.0, null, 1242.0, 1170.0, null, 1242.0, 1170.0, null, 1242.0, 1170.0, null, 1170.0, 1098.0, null, 1170.0, 1098.0, null, 1170.0, 1098.0, null, 1170.0, 1098.0, null, 1098.0, 1026.0, null, 1098.0, 1026.0, null, 1098.0, 1026.0, null, 1098.0, 1026.0, null, 1026.0, 954.0, null, 1026.0, 954.0, null, 954.0, 882.0, null, 882.0, 810.0, null, 810.0, 738.0, null, 738.0, 666.0, null, 738.0, 666.0, null, 666.0, 594.0, null, 666.0, 594.0, null, 594.0, 522.0, null, 594.0, 522.0, null, 594.0, 522.0, null, 522.0, 450.0, null, 522.0, 450.0, null, 450.0, 378.0, null, 450.0, 378.0, null, 378.0, 306.0, null, 306.0, 234.0, null, 234.0, 162.0, null, 378.0, 306.0, null, 306.0, 234.0, null, 234.0, 162.0, null, 162.0, 90.0, null, 90.0, 18.0, null, 522.0, 450.0, null, 450.0, 378.0, null, 378.0, 306.0, null, 954.0, 882.0, null, 882.0, 810.0, null, 810.0, 738.0, null, 738.0, 666.0, null, 666.0, 594.0, null, 594.0, 522.0, null, 522.0, 450.0, null, 450.0, 378.0, null, 450.0, 378.0, null, 378.0, 306.0, null, 378.0, 306.0, null, 306.0, 234.0, null, 306.0, 234.0, null, 234.0, 162.0, null, 162.0, 90.0, null, 90.0, 18.0, null, 1026.0, 954.0, null, 954.0, 882.0, null, 882.0, 810.0, null, 810.0, 738.0, null, 738.0, 666.0, null, 666.0, 594.0, null, 594.0, 522.0, null, 522.0, 450.0, null, 450.0, 378.0, null, 378.0, 306.0, null, 306.0, 234.0, null, 234.0, 162.0, null, 1026.0, 954.0, null, 954.0, 882.0, null, 882.0, 810.0, null, 810.0, 738.0, null, 738.0, 666.0, null, 666.0, 594.0, null, 594.0, 522.0, null, 522.0, 450.0, null, 450.0, 378.0, null, 378.0, 306.0, null]}, {\"hoverinfo\": \"none\", \"marker\": {\"color\": \"rgb(100,100,100)\", \"line\": {\"color\": \"rgb(100,100,100)\", \"width\": 1}, \"size\": 18}, \"mode\": \"markers+text\", \"name\": \"\", \"text\": [null], \"type\": \"scatter\", \"uid\": \"f6783c3f-0daf-4611-a3f7-3bc29654d167\", \"x\": [1822.5], \"y\": [1314.0]}, {\"hoverinfo\": \"none\", \"marker\": {\"color\": \"rgb(101,214,67)\", \"line\": {\"color\": \"rgb(100,100,100)\", \"width\": 1}, \"size\": 18}, \"mode\": \"markers+text\", \"name\": \"\", \"text\": [\"dynamic\", \"dynamic\", \"dynamic\", \"dynamic\"], \"type\": \"scatter\", \"uid\": \"7266fb47-7a96-44ad-87c7-f4796621876f\", \"x\": [988.49, 1159.5, 1822.5, 2158.5], \"y\": [810.0, 234.0, 738.0, 738.0]}, {\"hoverinfo\": \"none\", \"marker\": {\"color\": \"rgb(247,185,43)\", \"line\": {\"color\": \"rgb(100,100,100)\", \"width\": 1}, \"size\": 18}, \"mode\": \"markers+text\", \"name\": \"\", \"text\": [\"/\", \"/\", \"/\", \"/\", \"/\", \"/\", \"/\", \"/\"], \"type\": \"scatter\", \"uid\": \"ef75b74f-9115-4618-a1c1-f92efed1d81e\", \"x\": [1822.5, 990.49, 825.49, 1159.5, 1822.5, 1822.5, 2158.5, 2158.5], \"y\": [1242.0, 882.0, 738.0, 306.0, 810.0, 666.0, 810.0, 666.0]}, {\"hoverinfo\": \"none\", \"marker\": {\"color\": \"rgb(24,140,216)\", \"line\": {\"color\": \"rgb(100,100,100)\", \"width\": 1}, \"size\": 18}, \"mode\": \"markers+text\", \"name\": \"\", \"text\": [\"a\", \"u\", \"p\", \"p\", \"c\", \"s\", \"o\", \"p\", \"h\", \"s\", \"a\", \"e\", \"c\", \"v\", \"c\", \"t\", \"o\", \"i\", \"u\", \"n\", \"t\", \"s\", \"v\", \"i\", \"t\", \"i\", \"e\", \"s\", \"e\", \"n\", \"t\", \"s\", \"i\", \"e\", \"v\", \"e\", \"m\", \"e\", \"n\", \"t\", \"s\", \"-\", \"t\", \"y\", \"p\", \"e\", \"s\", \"e\", \"r\", \"s\", \"f\", \"r\", \"i\", \"e\", \"n\", \"d\", \"s\", \"s\", \"t\", \"s\", \"l\", \"i\", \"k\", \"e\", \"s\"], \"type\": \"scatter\", \"uid\": \"20ba8ecb-7411-48b3-a791-cdd213f5bee9\", \"x\": [1323.5, 1822.5, 2155.5, 992.49, 1323.5, 1822.5, 2157.5, 992.49, 1323.5, 991.49, 492.49, 825.49, 489.49, 825.49, 159.49, 489.49, 157.49, 489.49, 156.49, 156.49, 156.49, 156.49, 489.49, 489.49, 490.49, 490.49, 490.49, 490.49, 825.49, 825.49, 825.49, 825.49, 1323.5, 1323.5, 1323.5, 1323.5, 1323.5, 1323.5, 1323.5, 1323.5, 1159.5, 1490.5, 1491.5, 1491.5, 1490.5, 1490.5, 1490.5, 1822.5, 1822.5, 1822.5, 1823.5, 1823.5, 1823.5, 1823.5, 1824.5, 1824.5, 1824.5, 2158.5, 2158.5, 2158.5, 2158.5, 2158.5, 2158.5, 2158.5, 2158.5], \"y\": [1170.0, 1170.0, 1170.0, 1098.0, 1098.0, 1098.0, 1098.0, 1026.0, 1026.0, 954.0, 666.0, 666.0, 594.0, 594.0, 522.0, 522.0, 450.0, 450.0, 378.0, 306.0, 234.0, 162.0, 378.0, 306.0, 234.0, 162.0, 90.0, 18.0, 522.0, 450.0, 378.0, 306.0, 954.0, 882.0, 810.0, 738.0, 666.0, 594.0, 522.0, 450.0, 378.0, 378.0, 306.0, 234.0, 162.0, 90.0, 18.0, 1026.0, 954.0, 882.0, 594.0, 522.0, 450.0, 378.0, 306.0, 234.0, 162.0, 1026.0, 954.0, 882.0, 594.0, 522.0, 450.0, 378.0, 306.0]}],\n",
       "                        {\"font\": {\"size\": 15}, \"height\": 800, \"hovermode\": \"closest\", \"margin\": {\"b\": 85, \"l\": 40, \"r\": 40, \"t\": 100}, \"plot_bgcolor\": \"rgb(248,248,248)\", \"showlegend\": false, \"template\": {\"data\": {\"bar\": [{\"error_x\": {\"color\": \"#2a3f5f\"}, \"error_y\": {\"color\": \"#2a3f5f\"}, \"marker\": {\"line\": {\"color\": \"#E5ECF6\", \"width\": 0.5}}, \"type\": \"bar\"}], \"barpolar\": [{\"marker\": {\"line\": {\"color\": \"#E5ECF6\", \"width\": 0.5}}, \"type\": \"barpolar\"}], \"carpet\": [{\"aaxis\": {\"endlinecolor\": \"#2a3f5f\", \"gridcolor\": \"white\", \"linecolor\": \"white\", \"minorgridcolor\": \"white\", \"startlinecolor\": \"#2a3f5f\"}, \"baxis\": {\"endlinecolor\": \"#2a3f5f\", \"gridcolor\": \"white\", \"linecolor\": \"white\", \"minorgridcolor\": \"white\", \"startlinecolor\": \"#2a3f5f\"}, \"type\": \"carpet\"}], \"choropleth\": [{\"colorbar\": {\"outlinewidth\": 0, \"ticks\": \"\"}, \"type\": \"choropleth\"}], \"contour\": [{\"colorbar\": {\"outlinewidth\": 0, \"ticks\": \"\"}, \"colorscale\": [[0.0, \"#0d0887\"], [0.1111111111111111, \"#46039f\"], [0.2222222222222222, \"#7201a8\"], [0.3333333333333333, \"#9c179e\"], [0.4444444444444444, \"#bd3786\"], [0.5555555555555556, \"#d8576b\"], [0.6666666666666666, \"#ed7953\"], [0.7777777777777778, \"#fb9f3a\"], [0.8888888888888888, \"#fdca26\"], [1.0, \"#f0f921\"]], \"type\": \"contour\"}], \"contourcarpet\": [{\"colorbar\": {\"outlinewidth\": 0, \"ticks\": \"\"}, \"type\": \"contourcarpet\"}], \"heatmap\": [{\"colorbar\": {\"outlinewidth\": 0, \"ticks\": \"\"}, \"colorscale\": [[0.0, \"#0d0887\"], [0.1111111111111111, \"#46039f\"], [0.2222222222222222, \"#7201a8\"], [0.3333333333333333, \"#9c179e\"], [0.4444444444444444, \"#bd3786\"], [0.5555555555555556, \"#d8576b\"], [0.6666666666666666, \"#ed7953\"], [0.7777777777777778, \"#fb9f3a\"], [0.8888888888888888, \"#fdca26\"], [1.0, \"#f0f921\"]], \"type\": \"heatmap\"}], \"heatmapgl\": [{\"colorbar\": {\"outlinewidth\": 0, \"ticks\": \"\"}, \"colorscale\": [[0.0, \"#0d0887\"], [0.1111111111111111, \"#46039f\"], [0.2222222222222222, \"#7201a8\"], [0.3333333333333333, \"#9c179e\"], [0.4444444444444444, \"#bd3786\"], [0.5555555555555556, \"#d8576b\"], [0.6666666666666666, \"#ed7953\"], [0.7777777777777778, \"#fb9f3a\"], [0.8888888888888888, \"#fdca26\"], [1.0, \"#f0f921\"]], \"type\": \"heatmapgl\"}], \"histogram\": [{\"marker\": {\"colorbar\": {\"outlinewidth\": 0, \"ticks\": \"\"}}, \"type\": \"histogram\"}], \"histogram2d\": [{\"colorbar\": {\"outlinewidth\": 0, \"ticks\": \"\"}, \"colorscale\": [[0.0, \"#0d0887\"], [0.1111111111111111, \"#46039f\"], [0.2222222222222222, \"#7201a8\"], [0.3333333333333333, \"#9c179e\"], [0.4444444444444444, \"#bd3786\"], [0.5555555555555556, \"#d8576b\"], [0.6666666666666666, \"#ed7953\"], [0.7777777777777778, \"#fb9f3a\"], [0.8888888888888888, \"#fdca26\"], [1.0, \"#f0f921\"]], \"type\": \"histogram2d\"}], \"histogram2dcontour\": [{\"colorbar\": {\"outlinewidth\": 0, \"ticks\": \"\"}, \"colorscale\": [[0.0, \"#0d0887\"], [0.1111111111111111, \"#46039f\"], [0.2222222222222222, \"#7201a8\"], [0.3333333333333333, \"#9c179e\"], [0.4444444444444444, \"#bd3786\"], [0.5555555555555556, \"#d8576b\"], [0.6666666666666666, \"#ed7953\"], [0.7777777777777778, \"#fb9f3a\"], [0.8888888888888888, \"#fdca26\"], [1.0, \"#f0f921\"]], \"type\": \"histogram2dcontour\"}], \"mesh3d\": [{\"colorbar\": {\"outlinewidth\": 0, \"ticks\": \"\"}, \"type\": \"mesh3d\"}], \"parcoords\": [{\"line\": {\"colorbar\": {\"outlinewidth\": 0, \"ticks\": \"\"}}, \"type\": \"parcoords\"}], \"scatter\": [{\"marker\": {\"colorbar\": {\"outlinewidth\": 0, \"ticks\": \"\"}}, \"type\": \"scatter\"}], \"scatter3d\": [{\"line\": {\"colorbar\": {\"outlinewidth\": 0, \"ticks\": \"\"}}, \"marker\": {\"colorbar\": {\"outlinewidth\": 0, \"ticks\": \"\"}}, \"type\": \"scatter3d\"}], \"scattercarpet\": [{\"marker\": {\"colorbar\": {\"outlinewidth\": 0, \"ticks\": \"\"}}, \"type\": \"scattercarpet\"}], \"scattergeo\": [{\"marker\": {\"colorbar\": {\"outlinewidth\": 0, \"ticks\": \"\"}}, \"type\": \"scattergeo\"}], \"scattergl\": [{\"marker\": {\"colorbar\": {\"outlinewidth\": 0, \"ticks\": \"\"}}, \"type\": \"scattergl\"}], \"scattermapbox\": [{\"marker\": {\"colorbar\": {\"outlinewidth\": 0, \"ticks\": \"\"}}, \"type\": \"scattermapbox\"}], \"scatterpolar\": [{\"marker\": {\"colorbar\": {\"outlinewidth\": 0, \"ticks\": \"\"}}, \"type\": \"scatterpolar\"}], \"scatterpolargl\": [{\"marker\": {\"colorbar\": {\"outlinewidth\": 0, \"ticks\": \"\"}}, \"type\": \"scatterpolargl\"}], \"scatterternary\": [{\"marker\": {\"colorbar\": {\"outlinewidth\": 0, \"ticks\": \"\"}}, \"type\": \"scatterternary\"}], \"surface\": [{\"colorbar\": {\"outlinewidth\": 0, \"ticks\": \"\"}, \"colorscale\": [[0.0, \"#0d0887\"], [0.1111111111111111, \"#46039f\"], [0.2222222222222222, \"#7201a8\"], [0.3333333333333333, \"#9c179e\"], [0.4444444444444444, \"#bd3786\"], [0.5555555555555556, \"#d8576b\"], [0.6666666666666666, \"#ed7953\"], [0.7777777777777778, \"#fb9f3a\"], [0.8888888888888888, \"#fdca26\"], [1.0, \"#f0f921\"]], \"type\": \"surface\"}], \"table\": [{\"cells\": {\"fill\": {\"color\": \"#EBF0F8\"}, \"line\": {\"color\": \"white\"}}, \"header\": {\"fill\": {\"color\": \"#C8D4E3\"}, \"line\": {\"color\": \"white\"}}, \"type\": \"table\"}]}, \"layout\": {\"annotationdefaults\": {\"arrowcolor\": \"#2a3f5f\", \"arrowhead\": 0, \"arrowwidth\": 1}, \"colorscale\": {\"diverging\": [[0, \"#8e0152\"], [0.1, \"#c51b7d\"], [0.2, \"#de77ae\"], [0.3, \"#f1b6da\"], [0.4, \"#fde0ef\"], [0.5, \"#f7f7f7\"], [0.6, \"#e6f5d0\"], [0.7, \"#b8e186\"], [0.8, \"#7fbc41\"], [0.9, \"#4d9221\"], [1, \"#276419\"]], \"sequential\": [[0.0, \"#0d0887\"], [0.1111111111111111, \"#46039f\"], [0.2222222222222222, \"#7201a8\"], [0.3333333333333333, \"#9c179e\"], [0.4444444444444444, \"#bd3786\"], [0.5555555555555556, \"#d8576b\"], [0.6666666666666666, \"#ed7953\"], [0.7777777777777778, \"#fb9f3a\"], [0.8888888888888888, \"#fdca26\"], [1.0, \"#f0f921\"]], \"sequentialminus\": [[0.0, \"#0d0887\"], [0.1111111111111111, \"#46039f\"], [0.2222222222222222, \"#7201a8\"], [0.3333333333333333, \"#9c179e\"], [0.4444444444444444, \"#bd3786\"], [0.5555555555555556, \"#d8576b\"], [0.6666666666666666, \"#ed7953\"], [0.7777777777777778, \"#fb9f3a\"], [0.8888888888888888, \"#fdca26\"], [1.0, \"#f0f921\"]]}, \"colorway\": [\"#636efa\", \"#EF553B\", \"#00cc96\", \"#ab63fa\", \"#FFA15A\", \"#19d3f3\", \"#FF6692\", \"#B6E880\", \"#FF97FF\", \"#FECB52\"], \"font\": {\"color\": \"#2a3f5f\"}, \"geo\": {\"bgcolor\": \"white\", \"lakecolor\": \"white\", \"landcolor\": \"#E5ECF6\", \"showlakes\": true, \"showland\": true, \"subunitcolor\": \"white\"}, \"hoverlabel\": {\"align\": \"left\"}, \"hovermode\": \"closest\", \"mapbox\": {\"style\": \"light\"}, \"paper_bgcolor\": \"white\", \"plot_bgcolor\": \"#E5ECF6\", \"polar\": {\"angularaxis\": {\"gridcolor\": \"white\", \"linecolor\": \"white\", \"ticks\": \"\"}, \"bgcolor\": \"#E5ECF6\", \"radialaxis\": {\"gridcolor\": \"white\", \"linecolor\": \"white\", \"ticks\": \"\"}}, \"scene\": {\"xaxis\": {\"backgroundcolor\": \"#E5ECF6\", \"gridcolor\": \"white\", \"gridwidth\": 2, \"linecolor\": \"white\", \"showbackground\": true, \"ticks\": \"\", \"zerolinecolor\": \"white\"}, \"yaxis\": {\"backgroundcolor\": \"#E5ECF6\", \"gridcolor\": \"white\", \"gridwidth\": 2, \"linecolor\": \"white\", \"showbackground\": true, \"ticks\": \"\", \"zerolinecolor\": \"white\"}, \"zaxis\": {\"backgroundcolor\": \"#E5ECF6\", \"gridcolor\": \"white\", \"gridwidth\": 2, \"linecolor\": \"white\", \"showbackground\": true, \"ticks\": \"\", \"zerolinecolor\": \"white\"}}, \"shapedefaults\": {\"line\": {\"color\": \"#2a3f5f\"}}, \"ternary\": {\"aaxis\": {\"gridcolor\": \"white\", \"linecolor\": \"white\", \"ticks\": \"\"}, \"baxis\": {\"gridcolor\": \"white\", \"linecolor\": \"white\", \"ticks\": \"\"}, \"bgcolor\": \"#E5ECF6\", \"caxis\": {\"gridcolor\": \"white\", \"linecolor\": \"white\", \"ticks\": \"\"}}, \"title\": {\"x\": 0.05}, \"xaxis\": {\"automargin\": true, \"gridcolor\": \"white\", \"linecolor\": \"white\", \"ticks\": \"\", \"zerolinecolor\": \"white\", \"zerolinewidth\": 2}, \"yaxis\": {\"automargin\": true, \"gridcolor\": \"white\", \"linecolor\": \"white\", \"ticks\": \"\", \"zerolinecolor\": \"white\", \"zerolinewidth\": 2}}}, \"title\": {\"text\": \"Trie\"}, \"width\": 1000, \"xaxis\": {\"showgrid\": false, \"showline\": false, \"showticklabels\": false, \"zeroline\": false}, \"yaxis\": {\"showgrid\": false, \"showline\": false, \"showticklabels\": false, \"zeroline\": false}},\n",
       "                        {\"responsive\": true}\n",
       "                    ).then(function(){\n",
       "                            \n",
       "var gd = document.getElementById('a2123f12-58ab-4436-809a-fb869a45f364');\n",
       "var x = new MutationObserver(function (mutations, observer) {{\n",
       "        var display = window.getComputedStyle(gd).display;\n",
       "        if (!display || display === 'none') {{\n",
       "            console.log([gd, 'removed!']);\n",
       "            Plotly.purge(gd);\n",
       "            observer.disconnect();\n",
       "        }}\n",
       "}});\n",
       "\n",
       "// Listen for the removal of the full notebook cells\n",
       "var notebookContainer = gd.closest('#notebook-container');\n",
       "if (notebookContainer) {{\n",
       "    x.observe(notebookContainer, {childList: true});\n",
       "}}\n",
       "\n",
       "// Listen for the clearing of the current output cell\n",
       "var outputEl = gd.closest('.output');\n",
       "if (outputEl) {{\n",
       "    x.observe(outputEl, {childList: true});\n",
       "}}\n",
       "\n",
       "                        })\n",
       "                };\n",
       "                });\n",
       "            </script>\n",
       "        </div>"
      ]
     },
     "metadata": {},
     "output_type": "display_data"
    },
    {
     "data": {
      "application/vnd.plotly.v1+json": {
       "config": {
        "plotlyServerURL": "https://plot.ly"
       },
       "data": [
        {
         "hoverinfo": "none",
         "line": {
          "color": "rgb(160,160,160)",
          "width": 2
         },
         "mode": "lines",
         "type": "scatter",
         "uid": "6f7f73cc-5805-4735-a768-46d3e58c4c85",
         "x": [
          1822.5,
          1822.5,
          null,
          1822.5,
          1323.5,
          null,
          1822.5,
          1822.5,
          null,
          1822.5,
          2155.5,
          null,
          1323.5,
          992.49,
          null,
          1323.5,
          1323.5,
          null,
          1822.5,
          1822.5,
          null,
          2155.5,
          2157.5,
          null,
          992.49,
          992.49,
          null,
          1323.5,
          1323.5,
          null,
          1822.5,
          1822.5,
          null,
          2157.5,
          2158.5,
          null,
          992.49,
          991.49,
          null,
          1323.5,
          1323.5,
          null,
          991.49,
          990.49,
          null,
          990.49,
          988.49,
          null,
          988.49,
          825.49,
          null,
          825.49,
          492.49,
          null,
          825.49,
          825.49,
          null,
          492.49,
          489.49,
          null,
          825.49,
          825.49,
          null,
          489.49,
          159.49,
          null,
          489.49,
          489.49,
          null,
          825.49,
          825.49,
          null,
          159.49,
          157.49,
          null,
          489.49,
          489.49,
          null,
          157.49,
          156.49,
          null,
          489.49,
          489.49,
          null,
          156.49,
          156.49,
          null,
          156.49,
          156.49,
          null,
          156.49,
          156.49,
          null,
          489.49,
          489.49,
          null,
          489.49,
          490.49,
          null,
          490.49,
          490.49,
          null,
          490.49,
          490.49,
          null,
          490.49,
          490.49,
          null,
          825.49,
          825.49,
          null,
          825.49,
          825.49,
          null,
          825.49,
          825.49,
          null,
          1323.5,
          1323.5,
          null,
          1323.5,
          1323.5,
          null,
          1323.5,
          1323.5,
          null,
          1323.5,
          1323.5,
          null,
          1323.5,
          1323.5,
          null,
          1323.5,
          1323.5,
          null,
          1323.5,
          1323.5,
          null,
          1323.5,
          1159.5,
          null,
          1323.5,
          1490.5,
          null,
          1159.5,
          1159.5,
          null,
          1490.5,
          1491.5,
          null,
          1159.5,
          1159.5,
          null,
          1491.5,
          1491.5,
          null,
          1491.5,
          1490.5,
          null,
          1490.5,
          1490.5,
          null,
          1490.5,
          1490.5,
          null,
          1822.5,
          1822.5,
          null,
          1822.5,
          1822.5,
          null,
          1822.5,
          1822.5,
          null,
          1822.5,
          1822.5,
          null,
          1822.5,
          1822.5,
          null,
          1822.5,
          1823.5,
          null,
          1823.5,
          1823.5,
          null,
          1823.5,
          1823.5,
          null,
          1823.5,
          1823.5,
          null,
          1823.5,
          1824.5,
          null,
          1824.5,
          1824.5,
          null,
          1824.5,
          1824.5,
          null,
          2158.5,
          2158.5,
          null,
          2158.5,
          2158.5,
          null,
          2158.5,
          2158.5,
          null,
          2158.5,
          2158.5,
          null,
          2158.5,
          2158.5,
          null,
          2158.5,
          2158.5,
          null,
          2158.5,
          2158.5,
          null,
          2158.5,
          2158.5,
          null,
          2158.5,
          2158.5,
          null,
          2158.5,
          2158.5,
          null
         ],
         "y": [
          1314,
          1242,
          null,
          1242,
          1170,
          null,
          1242,
          1170,
          null,
          1242,
          1170,
          null,
          1170,
          1098,
          null,
          1170,
          1098,
          null,
          1170,
          1098,
          null,
          1170,
          1098,
          null,
          1098,
          1026,
          null,
          1098,
          1026,
          null,
          1098,
          1026,
          null,
          1098,
          1026,
          null,
          1026,
          954,
          null,
          1026,
          954,
          null,
          954,
          882,
          null,
          882,
          810,
          null,
          810,
          738,
          null,
          738,
          666,
          null,
          738,
          666,
          null,
          666,
          594,
          null,
          666,
          594,
          null,
          594,
          522,
          null,
          594,
          522,
          null,
          594,
          522,
          null,
          522,
          450,
          null,
          522,
          450,
          null,
          450,
          378,
          null,
          450,
          378,
          null,
          378,
          306,
          null,
          306,
          234,
          null,
          234,
          162,
          null,
          378,
          306,
          null,
          306,
          234,
          null,
          234,
          162,
          null,
          162,
          90,
          null,
          90,
          18,
          null,
          522,
          450,
          null,
          450,
          378,
          null,
          378,
          306,
          null,
          954,
          882,
          null,
          882,
          810,
          null,
          810,
          738,
          null,
          738,
          666,
          null,
          666,
          594,
          null,
          594,
          522,
          null,
          522,
          450,
          null,
          450,
          378,
          null,
          450,
          378,
          null,
          378,
          306,
          null,
          378,
          306,
          null,
          306,
          234,
          null,
          306,
          234,
          null,
          234,
          162,
          null,
          162,
          90,
          null,
          90,
          18,
          null,
          1026,
          954,
          null,
          954,
          882,
          null,
          882,
          810,
          null,
          810,
          738,
          null,
          738,
          666,
          null,
          666,
          594,
          null,
          594,
          522,
          null,
          522,
          450,
          null,
          450,
          378,
          null,
          378,
          306,
          null,
          306,
          234,
          null,
          234,
          162,
          null,
          1026,
          954,
          null,
          954,
          882,
          null,
          882,
          810,
          null,
          810,
          738,
          null,
          738,
          666,
          null,
          666,
          594,
          null,
          594,
          522,
          null,
          522,
          450,
          null,
          450,
          378,
          null,
          378,
          306,
          null
         ]
        },
        {
         "hoverinfo": "none",
         "marker": {
          "color": "rgb(100,100,100)",
          "line": {
           "color": "rgb(100,100,100)",
           "width": 1
          },
          "size": 18
         },
         "mode": "markers+text",
         "name": "",
         "text": [
          null
         ],
         "type": "scatter",
         "uid": "c75b217e-66d1-47f6-9ff5-1bc23aad5c6a",
         "x": [
          1822.5
         ],
         "y": [
          1314
         ]
        },
        {
         "hoverinfo": "none",
         "marker": {
          "color": "rgb(101,214,67)",
          "line": {
           "color": "rgb(100,100,100)",
           "width": 1
          },
          "size": 18
         },
         "mode": "markers+text",
         "name": "",
         "text": [
          "dynamic",
          "dynamic",
          "dynamic",
          "dynamic"
         ],
         "type": "scatter",
         "uid": "40f2a040-35fe-41a8-a613-ff654d18f3ce",
         "x": [
          988.49,
          1159.5,
          1822.5,
          2158.5
         ],
         "y": [
          810,
          234,
          738,
          738
         ]
        },
        {
         "hoverinfo": "none",
         "marker": {
          "color": "rgb(247,185,43)",
          "line": {
           "color": "rgb(100,100,100)",
           "width": 1
          },
          "size": 18
         },
         "mode": "markers+text",
         "name": "",
         "text": [
          "/",
          "/",
          "/",
          "/",
          "/",
          "/",
          "/",
          "/"
         ],
         "type": "scatter",
         "uid": "1958322c-9599-4807-954f-e3c0745c752f",
         "x": [
          1822.5,
          990.49,
          825.49,
          1159.5,
          1822.5,
          1822.5,
          2158.5,
          2158.5
         ],
         "y": [
          1242,
          882,
          738,
          306,
          810,
          666,
          810,
          666
         ]
        },
        {
         "hoverinfo": "none",
         "marker": {
          "color": "rgb(24,140,216)",
          "line": {
           "color": "rgb(100,100,100)",
           "width": 1
          },
          "size": 18
         },
         "mode": "markers+text",
         "name": "",
         "text": [
          "a",
          "u",
          "p",
          "p",
          "c",
          "s",
          "o",
          "p",
          "h",
          "s",
          "a",
          "e",
          "c",
          "v",
          "c",
          "t",
          "o",
          "i",
          "u",
          "n",
          "t",
          "s",
          "v",
          "i",
          "t",
          "i",
          "e",
          "s",
          "e",
          "n",
          "t",
          "s",
          "i",
          "e",
          "v",
          "e",
          "m",
          "e",
          "n",
          "t",
          "s",
          "-",
          "t",
          "y",
          "p",
          "e",
          "s",
          "e",
          "r",
          "s",
          "f",
          "r",
          "i",
          "e",
          "n",
          "d",
          "s",
          "s",
          "t",
          "s",
          "l",
          "i",
          "k",
          "e",
          "s"
         ],
         "type": "scatter",
         "uid": "6508f566-6cd2-4dc8-88b0-9b4a6634ad1f",
         "x": [
          1323.5,
          1822.5,
          2155.5,
          992.49,
          1323.5,
          1822.5,
          2157.5,
          992.49,
          1323.5,
          991.49,
          492.49,
          825.49,
          489.49,
          825.49,
          159.49,
          489.49,
          157.49,
          489.49,
          156.49,
          156.49,
          156.49,
          156.49,
          489.49,
          489.49,
          490.49,
          490.49,
          490.49,
          490.49,
          825.49,
          825.49,
          825.49,
          825.49,
          1323.5,
          1323.5,
          1323.5,
          1323.5,
          1323.5,
          1323.5,
          1323.5,
          1323.5,
          1159.5,
          1490.5,
          1491.5,
          1491.5,
          1490.5,
          1490.5,
          1490.5,
          1822.5,
          1822.5,
          1822.5,
          1823.5,
          1823.5,
          1823.5,
          1823.5,
          1824.5,
          1824.5,
          1824.5,
          2158.5,
          2158.5,
          2158.5,
          2158.5,
          2158.5,
          2158.5,
          2158.5,
          2158.5
         ],
         "y": [
          1170,
          1170,
          1170,
          1098,
          1098,
          1098,
          1098,
          1026,
          1026,
          954,
          666,
          666,
          594,
          594,
          522,
          522,
          450,
          450,
          378,
          306,
          234,
          162,
          378,
          306,
          234,
          162,
          90,
          18,
          522,
          450,
          378,
          306,
          954,
          882,
          810,
          738,
          666,
          594,
          522,
          450,
          378,
          378,
          306,
          234,
          162,
          90,
          18,
          1026,
          954,
          882,
          594,
          522,
          450,
          378,
          306,
          234,
          162,
          1026,
          954,
          882,
          594,
          522,
          450,
          378,
          306
         ]
        }
       ],
       "layout": {
        "font": {
         "size": 15
        },
        "height": 800,
        "hovermode": "closest",
        "margin": {
         "b": 85,
         "l": 40,
         "r": 40,
         "t": 100
        },
        "plot_bgcolor": "rgb(248,248,248)",
        "showlegend": false,
        "template": {
         "data": {
          "bar": [
           {
            "error_x": {
             "color": "#2a3f5f"
            },
            "error_y": {
             "color": "#2a3f5f"
            },
            "marker": {
             "line": {
              "color": "#E5ECF6",
              "width": 0.5
             }
            },
            "type": "bar"
           }
          ],
          "barpolar": [
           {
            "marker": {
             "line": {
              "color": "#E5ECF6",
              "width": 0.5
             }
            },
            "type": "barpolar"
           }
          ],
          "carpet": [
           {
            "aaxis": {
             "endlinecolor": "#2a3f5f",
             "gridcolor": "white",
             "linecolor": "white",
             "minorgridcolor": "white",
             "startlinecolor": "#2a3f5f"
            },
            "baxis": {
             "endlinecolor": "#2a3f5f",
             "gridcolor": "white",
             "linecolor": "white",
             "minorgridcolor": "white",
             "startlinecolor": "#2a3f5f"
            },
            "type": "carpet"
           }
          ],
          "choropleth": [
           {
            "colorbar": {
             "outlinewidth": 0,
             "ticks": ""
            },
            "type": "choropleth"
           }
          ],
          "contour": [
           {
            "colorbar": {
             "outlinewidth": 0,
             "ticks": ""
            },
            "colorscale": [
             [
              0,
              "#0d0887"
             ],
             [
              0.1111111111111111,
              "#46039f"
             ],
             [
              0.2222222222222222,
              "#7201a8"
             ],
             [
              0.3333333333333333,
              "#9c179e"
             ],
             [
              0.4444444444444444,
              "#bd3786"
             ],
             [
              0.5555555555555556,
              "#d8576b"
             ],
             [
              0.6666666666666666,
              "#ed7953"
             ],
             [
              0.7777777777777778,
              "#fb9f3a"
             ],
             [
              0.8888888888888888,
              "#fdca26"
             ],
             [
              1,
              "#f0f921"
             ]
            ],
            "type": "contour"
           }
          ],
          "contourcarpet": [
           {
            "colorbar": {
             "outlinewidth": 0,
             "ticks": ""
            },
            "type": "contourcarpet"
           }
          ],
          "heatmap": [
           {
            "colorbar": {
             "outlinewidth": 0,
             "ticks": ""
            },
            "colorscale": [
             [
              0,
              "#0d0887"
             ],
             [
              0.1111111111111111,
              "#46039f"
             ],
             [
              0.2222222222222222,
              "#7201a8"
             ],
             [
              0.3333333333333333,
              "#9c179e"
             ],
             [
              0.4444444444444444,
              "#bd3786"
             ],
             [
              0.5555555555555556,
              "#d8576b"
             ],
             [
              0.6666666666666666,
              "#ed7953"
             ],
             [
              0.7777777777777778,
              "#fb9f3a"
             ],
             [
              0.8888888888888888,
              "#fdca26"
             ],
             [
              1,
              "#f0f921"
             ]
            ],
            "type": "heatmap"
           }
          ],
          "heatmapgl": [
           {
            "colorbar": {
             "outlinewidth": 0,
             "ticks": ""
            },
            "colorscale": [
             [
              0,
              "#0d0887"
             ],
             [
              0.1111111111111111,
              "#46039f"
             ],
             [
              0.2222222222222222,
              "#7201a8"
             ],
             [
              0.3333333333333333,
              "#9c179e"
             ],
             [
              0.4444444444444444,
              "#bd3786"
             ],
             [
              0.5555555555555556,
              "#d8576b"
             ],
             [
              0.6666666666666666,
              "#ed7953"
             ],
             [
              0.7777777777777778,
              "#fb9f3a"
             ],
             [
              0.8888888888888888,
              "#fdca26"
             ],
             [
              1,
              "#f0f921"
             ]
            ],
            "type": "heatmapgl"
           }
          ],
          "histogram": [
           {
            "marker": {
             "colorbar": {
              "outlinewidth": 0,
              "ticks": ""
             }
            },
            "type": "histogram"
           }
          ],
          "histogram2d": [
           {
            "colorbar": {
             "outlinewidth": 0,
             "ticks": ""
            },
            "colorscale": [
             [
              0,
              "#0d0887"
             ],
             [
              0.1111111111111111,
              "#46039f"
             ],
             [
              0.2222222222222222,
              "#7201a8"
             ],
             [
              0.3333333333333333,
              "#9c179e"
             ],
             [
              0.4444444444444444,
              "#bd3786"
             ],
             [
              0.5555555555555556,
              "#d8576b"
             ],
             [
              0.6666666666666666,
              "#ed7953"
             ],
             [
              0.7777777777777778,
              "#fb9f3a"
             ],
             [
              0.8888888888888888,
              "#fdca26"
             ],
             [
              1,
              "#f0f921"
             ]
            ],
            "type": "histogram2d"
           }
          ],
          "histogram2dcontour": [
           {
            "colorbar": {
             "outlinewidth": 0,
             "ticks": ""
            },
            "colorscale": [
             [
              0,
              "#0d0887"
             ],
             [
              0.1111111111111111,
              "#46039f"
             ],
             [
              0.2222222222222222,
              "#7201a8"
             ],
             [
              0.3333333333333333,
              "#9c179e"
             ],
             [
              0.4444444444444444,
              "#bd3786"
             ],
             [
              0.5555555555555556,
              "#d8576b"
             ],
             [
              0.6666666666666666,
              "#ed7953"
             ],
             [
              0.7777777777777778,
              "#fb9f3a"
             ],
             [
              0.8888888888888888,
              "#fdca26"
             ],
             [
              1,
              "#f0f921"
             ]
            ],
            "type": "histogram2dcontour"
           }
          ],
          "mesh3d": [
           {
            "colorbar": {
             "outlinewidth": 0,
             "ticks": ""
            },
            "type": "mesh3d"
           }
          ],
          "parcoords": [
           {
            "line": {
             "colorbar": {
              "outlinewidth": 0,
              "ticks": ""
             }
            },
            "type": "parcoords"
           }
          ],
          "scatter": [
           {
            "marker": {
             "colorbar": {
              "outlinewidth": 0,
              "ticks": ""
             }
            },
            "type": "scatter"
           }
          ],
          "scatter3d": [
           {
            "line": {
             "colorbar": {
              "outlinewidth": 0,
              "ticks": ""
             }
            },
            "marker": {
             "colorbar": {
              "outlinewidth": 0,
              "ticks": ""
             }
            },
            "type": "scatter3d"
           }
          ],
          "scattercarpet": [
           {
            "marker": {
             "colorbar": {
              "outlinewidth": 0,
              "ticks": ""
             }
            },
            "type": "scattercarpet"
           }
          ],
          "scattergeo": [
           {
            "marker": {
             "colorbar": {
              "outlinewidth": 0,
              "ticks": ""
             }
            },
            "type": "scattergeo"
           }
          ],
          "scattergl": [
           {
            "marker": {
             "colorbar": {
              "outlinewidth": 0,
              "ticks": ""
             }
            },
            "type": "scattergl"
           }
          ],
          "scattermapbox": [
           {
            "marker": {
             "colorbar": {
              "outlinewidth": 0,
              "ticks": ""
             }
            },
            "type": "scattermapbox"
           }
          ],
          "scatterpolar": [
           {
            "marker": {
             "colorbar": {
              "outlinewidth": 0,
              "ticks": ""
             }
            },
            "type": "scatterpolar"
           }
          ],
          "scatterpolargl": [
           {
            "marker": {
             "colorbar": {
              "outlinewidth": 0,
              "ticks": ""
             }
            },
            "type": "scatterpolargl"
           }
          ],
          "scatterternary": [
           {
            "marker": {
             "colorbar": {
              "outlinewidth": 0,
              "ticks": ""
             }
            },
            "type": "scatterternary"
           }
          ],
          "surface": [
           {
            "colorbar": {
             "outlinewidth": 0,
             "ticks": ""
            },
            "colorscale": [
             [
              0,
              "#0d0887"
             ],
             [
              0.1111111111111111,
              "#46039f"
             ],
             [
              0.2222222222222222,
              "#7201a8"
             ],
             [
              0.3333333333333333,
              "#9c179e"
             ],
             [
              0.4444444444444444,
              "#bd3786"
             ],
             [
              0.5555555555555556,
              "#d8576b"
             ],
             [
              0.6666666666666666,
              "#ed7953"
             ],
             [
              0.7777777777777778,
              "#fb9f3a"
             ],
             [
              0.8888888888888888,
              "#fdca26"
             ],
             [
              1,
              "#f0f921"
             ]
            ],
            "type": "surface"
           }
          ],
          "table": [
           {
            "cells": {
             "fill": {
              "color": "#EBF0F8"
             },
             "line": {
              "color": "white"
             }
            },
            "header": {
             "fill": {
              "color": "#C8D4E3"
             },
             "line": {
              "color": "white"
             }
            },
            "type": "table"
           }
          ]
         },
         "layout": {
          "annotationdefaults": {
           "arrowcolor": "#2a3f5f",
           "arrowhead": 0,
           "arrowwidth": 1
          },
          "colorscale": {
           "diverging": [
            [
             0,
             "#8e0152"
            ],
            [
             0.1,
             "#c51b7d"
            ],
            [
             0.2,
             "#de77ae"
            ],
            [
             0.3,
             "#f1b6da"
            ],
            [
             0.4,
             "#fde0ef"
            ],
            [
             0.5,
             "#f7f7f7"
            ],
            [
             0.6,
             "#e6f5d0"
            ],
            [
             0.7,
             "#b8e186"
            ],
            [
             0.8,
             "#7fbc41"
            ],
            [
             0.9,
             "#4d9221"
            ],
            [
             1,
             "#276419"
            ]
           ],
           "sequential": [
            [
             0,
             "#0d0887"
            ],
            [
             0.1111111111111111,
             "#46039f"
            ],
            [
             0.2222222222222222,
             "#7201a8"
            ],
            [
             0.3333333333333333,
             "#9c179e"
            ],
            [
             0.4444444444444444,
             "#bd3786"
            ],
            [
             0.5555555555555556,
             "#d8576b"
            ],
            [
             0.6666666666666666,
             "#ed7953"
            ],
            [
             0.7777777777777778,
             "#fb9f3a"
            ],
            [
             0.8888888888888888,
             "#fdca26"
            ],
            [
             1,
             "#f0f921"
            ]
           ],
           "sequentialminus": [
            [
             0,
             "#0d0887"
            ],
            [
             0.1111111111111111,
             "#46039f"
            ],
            [
             0.2222222222222222,
             "#7201a8"
            ],
            [
             0.3333333333333333,
             "#9c179e"
            ],
            [
             0.4444444444444444,
             "#bd3786"
            ],
            [
             0.5555555555555556,
             "#d8576b"
            ],
            [
             0.6666666666666666,
             "#ed7953"
            ],
            [
             0.7777777777777778,
             "#fb9f3a"
            ],
            [
             0.8888888888888888,
             "#fdca26"
            ],
            [
             1,
             "#f0f921"
            ]
           ]
          },
          "colorway": [
           "#636efa",
           "#EF553B",
           "#00cc96",
           "#ab63fa",
           "#FFA15A",
           "#19d3f3",
           "#FF6692",
           "#B6E880",
           "#FF97FF",
           "#FECB52"
          ],
          "font": {
           "color": "#2a3f5f"
          },
          "geo": {
           "bgcolor": "white",
           "lakecolor": "white",
           "landcolor": "#E5ECF6",
           "showlakes": true,
           "showland": true,
           "subunitcolor": "white"
          },
          "hoverlabel": {
           "align": "left"
          },
          "hovermode": "closest",
          "mapbox": {
           "style": "light"
          },
          "paper_bgcolor": "white",
          "plot_bgcolor": "#E5ECF6",
          "polar": {
           "angularaxis": {
            "gridcolor": "white",
            "linecolor": "white",
            "ticks": ""
           },
           "bgcolor": "#E5ECF6",
           "radialaxis": {
            "gridcolor": "white",
            "linecolor": "white",
            "ticks": ""
           }
          },
          "scene": {
           "xaxis": {
            "backgroundcolor": "#E5ECF6",
            "gridcolor": "white",
            "gridwidth": 2,
            "linecolor": "white",
            "showbackground": true,
            "ticks": "",
            "zerolinecolor": "white"
           },
           "yaxis": {
            "backgroundcolor": "#E5ECF6",
            "gridcolor": "white",
            "gridwidth": 2,
            "linecolor": "white",
            "showbackground": true,
            "ticks": "",
            "zerolinecolor": "white"
           },
           "zaxis": {
            "backgroundcolor": "#E5ECF6",
            "gridcolor": "white",
            "gridwidth": 2,
            "linecolor": "white",
            "showbackground": true,
            "ticks": "",
            "zerolinecolor": "white"
           }
          },
          "shapedefaults": {
           "line": {
            "color": "#2a3f5f"
           }
          },
          "ternary": {
           "aaxis": {
            "gridcolor": "white",
            "linecolor": "white",
            "ticks": ""
           },
           "baxis": {
            "gridcolor": "white",
            "linecolor": "white",
            "ticks": ""
           },
           "bgcolor": "#E5ECF6",
           "caxis": {
            "gridcolor": "white",
            "linecolor": "white",
            "ticks": ""
           }
          },
          "title": {
           "x": 0.05
          },
          "xaxis": {
           "automargin": true,
           "gridcolor": "white",
           "linecolor": "white",
           "ticks": "",
           "zerolinecolor": "white",
           "zerolinewidth": 2
          },
          "yaxis": {
           "automargin": true,
           "gridcolor": "white",
           "linecolor": "white",
           "ticks": "",
           "zerolinecolor": "white",
           "zerolinewidth": 2
          }
         }
        },
        "title": {
         "text": "Trie"
        },
        "width": 1000,
        "xaxis": {
         "showgrid": false,
         "showline": false,
         "showticklabels": false,
         "zeroline": false
        },
        "yaxis": {
         "showgrid": false,
         "showline": false,
         "showticklabels": false,
         "zeroline": false
        }
       }
      },
      "text/html": [
       "<div>\n",
       "        \n",
       "        \n",
       "            <div id=\"91d4fb37-ff5e-4420-a78d-5ef18c5c474d\" class=\"plotly-graph-div\" style=\"height:800px; width:1000px;\"></div>\n",
       "            <script type=\"text/javascript\">\n",
       "                require([\"plotly\"], function(Plotly) {\n",
       "                    window.PLOTLYENV=window.PLOTLYENV || {};\n",
       "                    \n",
       "                if (document.getElementById(\"91d4fb37-ff5e-4420-a78d-5ef18c5c474d\")) {\n",
       "                    Plotly.newPlot(\n",
       "                        '91d4fb37-ff5e-4420-a78d-5ef18c5c474d',\n",
       "                        [{\"hoverinfo\": \"none\", \"line\": {\"color\": \"rgb(160,160,160)\", \"width\": 2}, \"mode\": \"lines\", \"type\": \"scatter\", \"uid\": \"6f7f73cc-5805-4735-a768-46d3e58c4c85\", \"x\": [1822.5, 1822.5, null, 1822.5, 1323.5, null, 1822.5, 1822.5, null, 1822.5, 2155.5, null, 1323.5, 992.49, null, 1323.5, 1323.5, null, 1822.5, 1822.5, null, 2155.5, 2157.5, null, 992.49, 992.49, null, 1323.5, 1323.5, null, 1822.5, 1822.5, null, 2157.5, 2158.5, null, 992.49, 991.49, null, 1323.5, 1323.5, null, 991.49, 990.49, null, 990.49, 988.49, null, 988.49, 825.49, null, 825.49, 492.49, null, 825.49, 825.49, null, 492.49, 489.49, null, 825.49, 825.49, null, 489.49, 159.49, null, 489.49, 489.49, null, 825.49, 825.49, null, 159.49, 157.49, null, 489.49, 489.49, null, 157.49, 156.49, null, 489.49, 489.49, null, 156.49, 156.49, null, 156.49, 156.49, null, 156.49, 156.49, null, 489.49, 489.49, null, 489.49, 490.49, null, 490.49, 490.49, null, 490.49, 490.49, null, 490.49, 490.49, null, 825.49, 825.49, null, 825.49, 825.49, null, 825.49, 825.49, null, 1323.5, 1323.5, null, 1323.5, 1323.5, null, 1323.5, 1323.5, null, 1323.5, 1323.5, null, 1323.5, 1323.5, null, 1323.5, 1323.5, null, 1323.5, 1323.5, null, 1323.5, 1159.5, null, 1323.5, 1490.5, null, 1159.5, 1159.5, null, 1490.5, 1491.5, null, 1159.5, 1159.5, null, 1491.5, 1491.5, null, 1491.5, 1490.5, null, 1490.5, 1490.5, null, 1490.5, 1490.5, null, 1822.5, 1822.5, null, 1822.5, 1822.5, null, 1822.5, 1822.5, null, 1822.5, 1822.5, null, 1822.5, 1822.5, null, 1822.5, 1823.5, null, 1823.5, 1823.5, null, 1823.5, 1823.5, null, 1823.5, 1823.5, null, 1823.5, 1824.5, null, 1824.5, 1824.5, null, 1824.5, 1824.5, null, 2158.5, 2158.5, null, 2158.5, 2158.5, null, 2158.5, 2158.5, null, 2158.5, 2158.5, null, 2158.5, 2158.5, null, 2158.5, 2158.5, null, 2158.5, 2158.5, null, 2158.5, 2158.5, null, 2158.5, 2158.5, null, 2158.5, 2158.5, null], \"y\": [1314.0, 1242.0, null, 1242.0, 1170.0, null, 1242.0, 1170.0, null, 1242.0, 1170.0, null, 1170.0, 1098.0, null, 1170.0, 1098.0, null, 1170.0, 1098.0, null, 1170.0, 1098.0, null, 1098.0, 1026.0, null, 1098.0, 1026.0, null, 1098.0, 1026.0, null, 1098.0, 1026.0, null, 1026.0, 954.0, null, 1026.0, 954.0, null, 954.0, 882.0, null, 882.0, 810.0, null, 810.0, 738.0, null, 738.0, 666.0, null, 738.0, 666.0, null, 666.0, 594.0, null, 666.0, 594.0, null, 594.0, 522.0, null, 594.0, 522.0, null, 594.0, 522.0, null, 522.0, 450.0, null, 522.0, 450.0, null, 450.0, 378.0, null, 450.0, 378.0, null, 378.0, 306.0, null, 306.0, 234.0, null, 234.0, 162.0, null, 378.0, 306.0, null, 306.0, 234.0, null, 234.0, 162.0, null, 162.0, 90.0, null, 90.0, 18.0, null, 522.0, 450.0, null, 450.0, 378.0, null, 378.0, 306.0, null, 954.0, 882.0, null, 882.0, 810.0, null, 810.0, 738.0, null, 738.0, 666.0, null, 666.0, 594.0, null, 594.0, 522.0, null, 522.0, 450.0, null, 450.0, 378.0, null, 450.0, 378.0, null, 378.0, 306.0, null, 378.0, 306.0, null, 306.0, 234.0, null, 306.0, 234.0, null, 234.0, 162.0, null, 162.0, 90.0, null, 90.0, 18.0, null, 1026.0, 954.0, null, 954.0, 882.0, null, 882.0, 810.0, null, 810.0, 738.0, null, 738.0, 666.0, null, 666.0, 594.0, null, 594.0, 522.0, null, 522.0, 450.0, null, 450.0, 378.0, null, 378.0, 306.0, null, 306.0, 234.0, null, 234.0, 162.0, null, 1026.0, 954.0, null, 954.0, 882.0, null, 882.0, 810.0, null, 810.0, 738.0, null, 738.0, 666.0, null, 666.0, 594.0, null, 594.0, 522.0, null, 522.0, 450.0, null, 450.0, 378.0, null, 378.0, 306.0, null]}, {\"hoverinfo\": \"none\", \"marker\": {\"color\": \"rgb(100,100,100)\", \"line\": {\"color\": \"rgb(100,100,100)\", \"width\": 1}, \"size\": 18}, \"mode\": \"markers+text\", \"name\": \"\", \"text\": [null], \"type\": \"scatter\", \"uid\": \"c75b217e-66d1-47f6-9ff5-1bc23aad5c6a\", \"x\": [1822.5], \"y\": [1314.0]}, {\"hoverinfo\": \"none\", \"marker\": {\"color\": \"rgb(101,214,67)\", \"line\": {\"color\": \"rgb(100,100,100)\", \"width\": 1}, \"size\": 18}, \"mode\": \"markers+text\", \"name\": \"\", \"text\": [\"dynamic\", \"dynamic\", \"dynamic\", \"dynamic\"], \"type\": \"scatter\", \"uid\": \"40f2a040-35fe-41a8-a613-ff654d18f3ce\", \"x\": [988.49, 1159.5, 1822.5, 2158.5], \"y\": [810.0, 234.0, 738.0, 738.0]}, {\"hoverinfo\": \"none\", \"marker\": {\"color\": \"rgb(247,185,43)\", \"line\": {\"color\": \"rgb(100,100,100)\", \"width\": 1}, \"size\": 18}, \"mode\": \"markers+text\", \"name\": \"\", \"text\": [\"/\", \"/\", \"/\", \"/\", \"/\", \"/\", \"/\", \"/\"], \"type\": \"scatter\", \"uid\": \"1958322c-9599-4807-954f-e3c0745c752f\", \"x\": [1822.5, 990.49, 825.49, 1159.5, 1822.5, 1822.5, 2158.5, 2158.5], \"y\": [1242.0, 882.0, 738.0, 306.0, 810.0, 666.0, 810.0, 666.0]}, {\"hoverinfo\": \"none\", \"marker\": {\"color\": \"rgb(24,140,216)\", \"line\": {\"color\": \"rgb(100,100,100)\", \"width\": 1}, \"size\": 18}, \"mode\": \"markers+text\", \"name\": \"\", \"text\": [\"a\", \"u\", \"p\", \"p\", \"c\", \"s\", \"o\", \"p\", \"h\", \"s\", \"a\", \"e\", \"c\", \"v\", \"c\", \"t\", \"o\", \"i\", \"u\", \"n\", \"t\", \"s\", \"v\", \"i\", \"t\", \"i\", \"e\", \"s\", \"e\", \"n\", \"t\", \"s\", \"i\", \"e\", \"v\", \"e\", \"m\", \"e\", \"n\", \"t\", \"s\", \"-\", \"t\", \"y\", \"p\", \"e\", \"s\", \"e\", \"r\", \"s\", \"f\", \"r\", \"i\", \"e\", \"n\", \"d\", \"s\", \"s\", \"t\", \"s\", \"l\", \"i\", \"k\", \"e\", \"s\"], \"type\": \"scatter\", \"uid\": \"6508f566-6cd2-4dc8-88b0-9b4a6634ad1f\", \"x\": [1323.5, 1822.5, 2155.5, 992.49, 1323.5, 1822.5, 2157.5, 992.49, 1323.5, 991.49, 492.49, 825.49, 489.49, 825.49, 159.49, 489.49, 157.49, 489.49, 156.49, 156.49, 156.49, 156.49, 489.49, 489.49, 490.49, 490.49, 490.49, 490.49, 825.49, 825.49, 825.49, 825.49, 1323.5, 1323.5, 1323.5, 1323.5, 1323.5, 1323.5, 1323.5, 1323.5, 1159.5, 1490.5, 1491.5, 1491.5, 1490.5, 1490.5, 1490.5, 1822.5, 1822.5, 1822.5, 1823.5, 1823.5, 1823.5, 1823.5, 1824.5, 1824.5, 1824.5, 2158.5, 2158.5, 2158.5, 2158.5, 2158.5, 2158.5, 2158.5, 2158.5], \"y\": [1170.0, 1170.0, 1170.0, 1098.0, 1098.0, 1098.0, 1098.0, 1026.0, 1026.0, 954.0, 666.0, 666.0, 594.0, 594.0, 522.0, 522.0, 450.0, 450.0, 378.0, 306.0, 234.0, 162.0, 378.0, 306.0, 234.0, 162.0, 90.0, 18.0, 522.0, 450.0, 378.0, 306.0, 954.0, 882.0, 810.0, 738.0, 666.0, 594.0, 522.0, 450.0, 378.0, 378.0, 306.0, 234.0, 162.0, 90.0, 18.0, 1026.0, 954.0, 882.0, 594.0, 522.0, 450.0, 378.0, 306.0, 234.0, 162.0, 1026.0, 954.0, 882.0, 594.0, 522.0, 450.0, 378.0, 306.0]}],\n",
       "                        {\"font\": {\"size\": 15}, \"height\": 800, \"hovermode\": \"closest\", \"margin\": {\"b\": 85, \"l\": 40, \"r\": 40, \"t\": 100}, \"plot_bgcolor\": \"rgb(248,248,248)\", \"showlegend\": false, \"template\": {\"data\": {\"bar\": [{\"error_x\": {\"color\": \"#2a3f5f\"}, \"error_y\": {\"color\": \"#2a3f5f\"}, \"marker\": {\"line\": {\"color\": \"#E5ECF6\", \"width\": 0.5}}, \"type\": \"bar\"}], \"barpolar\": [{\"marker\": {\"line\": {\"color\": \"#E5ECF6\", \"width\": 0.5}}, \"type\": \"barpolar\"}], \"carpet\": [{\"aaxis\": {\"endlinecolor\": \"#2a3f5f\", \"gridcolor\": \"white\", \"linecolor\": \"white\", \"minorgridcolor\": \"white\", \"startlinecolor\": \"#2a3f5f\"}, \"baxis\": {\"endlinecolor\": \"#2a3f5f\", \"gridcolor\": \"white\", \"linecolor\": \"white\", \"minorgridcolor\": \"white\", \"startlinecolor\": \"#2a3f5f\"}, \"type\": \"carpet\"}], \"choropleth\": [{\"colorbar\": {\"outlinewidth\": 0, \"ticks\": \"\"}, \"type\": \"choropleth\"}], \"contour\": [{\"colorbar\": {\"outlinewidth\": 0, \"ticks\": \"\"}, \"colorscale\": [[0.0, \"#0d0887\"], [0.1111111111111111, \"#46039f\"], [0.2222222222222222, \"#7201a8\"], [0.3333333333333333, \"#9c179e\"], [0.4444444444444444, \"#bd3786\"], [0.5555555555555556, \"#d8576b\"], [0.6666666666666666, \"#ed7953\"], [0.7777777777777778, \"#fb9f3a\"], [0.8888888888888888, \"#fdca26\"], [1.0, \"#f0f921\"]], \"type\": \"contour\"}], \"contourcarpet\": [{\"colorbar\": {\"outlinewidth\": 0, \"ticks\": \"\"}, \"type\": \"contourcarpet\"}], \"heatmap\": [{\"colorbar\": {\"outlinewidth\": 0, \"ticks\": \"\"}, \"colorscale\": [[0.0, \"#0d0887\"], [0.1111111111111111, \"#46039f\"], [0.2222222222222222, \"#7201a8\"], [0.3333333333333333, \"#9c179e\"], [0.4444444444444444, \"#bd3786\"], [0.5555555555555556, \"#d8576b\"], [0.6666666666666666, \"#ed7953\"], [0.7777777777777778, \"#fb9f3a\"], [0.8888888888888888, \"#fdca26\"], [1.0, \"#f0f921\"]], \"type\": \"heatmap\"}], \"heatmapgl\": [{\"colorbar\": {\"outlinewidth\": 0, \"ticks\": \"\"}, \"colorscale\": [[0.0, \"#0d0887\"], [0.1111111111111111, \"#46039f\"], [0.2222222222222222, \"#7201a8\"], [0.3333333333333333, \"#9c179e\"], [0.4444444444444444, \"#bd3786\"], [0.5555555555555556, \"#d8576b\"], [0.6666666666666666, \"#ed7953\"], [0.7777777777777778, \"#fb9f3a\"], [0.8888888888888888, \"#fdca26\"], [1.0, \"#f0f921\"]], \"type\": \"heatmapgl\"}], \"histogram\": [{\"marker\": {\"colorbar\": {\"outlinewidth\": 0, \"ticks\": \"\"}}, \"type\": \"histogram\"}], \"histogram2d\": [{\"colorbar\": {\"outlinewidth\": 0, \"ticks\": \"\"}, \"colorscale\": [[0.0, \"#0d0887\"], [0.1111111111111111, \"#46039f\"], [0.2222222222222222, \"#7201a8\"], [0.3333333333333333, \"#9c179e\"], [0.4444444444444444, \"#bd3786\"], [0.5555555555555556, \"#d8576b\"], [0.6666666666666666, \"#ed7953\"], [0.7777777777777778, \"#fb9f3a\"], [0.8888888888888888, \"#fdca26\"], [1.0, \"#f0f921\"]], \"type\": \"histogram2d\"}], \"histogram2dcontour\": [{\"colorbar\": {\"outlinewidth\": 0, \"ticks\": \"\"}, \"colorscale\": [[0.0, \"#0d0887\"], [0.1111111111111111, \"#46039f\"], [0.2222222222222222, \"#7201a8\"], [0.3333333333333333, \"#9c179e\"], [0.4444444444444444, \"#bd3786\"], [0.5555555555555556, \"#d8576b\"], [0.6666666666666666, \"#ed7953\"], [0.7777777777777778, \"#fb9f3a\"], [0.8888888888888888, \"#fdca26\"], [1.0, \"#f0f921\"]], \"type\": \"histogram2dcontour\"}], \"mesh3d\": [{\"colorbar\": {\"outlinewidth\": 0, \"ticks\": \"\"}, \"type\": \"mesh3d\"}], \"parcoords\": [{\"line\": {\"colorbar\": {\"outlinewidth\": 0, \"ticks\": \"\"}}, \"type\": \"parcoords\"}], \"scatter\": [{\"marker\": {\"colorbar\": {\"outlinewidth\": 0, \"ticks\": \"\"}}, \"type\": \"scatter\"}], \"scatter3d\": [{\"line\": {\"colorbar\": {\"outlinewidth\": 0, \"ticks\": \"\"}}, \"marker\": {\"colorbar\": {\"outlinewidth\": 0, \"ticks\": \"\"}}, \"type\": \"scatter3d\"}], \"scattercarpet\": [{\"marker\": {\"colorbar\": {\"outlinewidth\": 0, \"ticks\": \"\"}}, \"type\": \"scattercarpet\"}], \"scattergeo\": [{\"marker\": {\"colorbar\": {\"outlinewidth\": 0, \"ticks\": \"\"}}, \"type\": \"scattergeo\"}], \"scattergl\": [{\"marker\": {\"colorbar\": {\"outlinewidth\": 0, \"ticks\": \"\"}}, \"type\": \"scattergl\"}], \"scattermapbox\": [{\"marker\": {\"colorbar\": {\"outlinewidth\": 0, \"ticks\": \"\"}}, \"type\": \"scattermapbox\"}], \"scatterpolar\": [{\"marker\": {\"colorbar\": {\"outlinewidth\": 0, \"ticks\": \"\"}}, \"type\": \"scatterpolar\"}], \"scatterpolargl\": [{\"marker\": {\"colorbar\": {\"outlinewidth\": 0, \"ticks\": \"\"}}, \"type\": \"scatterpolargl\"}], \"scatterternary\": [{\"marker\": {\"colorbar\": {\"outlinewidth\": 0, \"ticks\": \"\"}}, \"type\": \"scatterternary\"}], \"surface\": [{\"colorbar\": {\"outlinewidth\": 0, \"ticks\": \"\"}, \"colorscale\": [[0.0, \"#0d0887\"], [0.1111111111111111, \"#46039f\"], [0.2222222222222222, \"#7201a8\"], [0.3333333333333333, \"#9c179e\"], [0.4444444444444444, \"#bd3786\"], [0.5555555555555556, \"#d8576b\"], [0.6666666666666666, \"#ed7953\"], [0.7777777777777778, \"#fb9f3a\"], [0.8888888888888888, \"#fdca26\"], [1.0, \"#f0f921\"]], \"type\": \"surface\"}], \"table\": [{\"cells\": {\"fill\": {\"color\": \"#EBF0F8\"}, \"line\": {\"color\": \"white\"}}, \"header\": {\"fill\": {\"color\": \"#C8D4E3\"}, \"line\": {\"color\": \"white\"}}, \"type\": \"table\"}]}, \"layout\": {\"annotationdefaults\": {\"arrowcolor\": \"#2a3f5f\", \"arrowhead\": 0, \"arrowwidth\": 1}, \"colorscale\": {\"diverging\": [[0, \"#8e0152\"], [0.1, \"#c51b7d\"], [0.2, \"#de77ae\"], [0.3, \"#f1b6da\"], [0.4, \"#fde0ef\"], [0.5, \"#f7f7f7\"], [0.6, \"#e6f5d0\"], [0.7, \"#b8e186\"], [0.8, \"#7fbc41\"], [0.9, \"#4d9221\"], [1, \"#276419\"]], \"sequential\": [[0.0, \"#0d0887\"], [0.1111111111111111, \"#46039f\"], [0.2222222222222222, \"#7201a8\"], [0.3333333333333333, \"#9c179e\"], [0.4444444444444444, \"#bd3786\"], [0.5555555555555556, \"#d8576b\"], [0.6666666666666666, \"#ed7953\"], [0.7777777777777778, \"#fb9f3a\"], [0.8888888888888888, \"#fdca26\"], [1.0, \"#f0f921\"]], \"sequentialminus\": [[0.0, \"#0d0887\"], [0.1111111111111111, \"#46039f\"], [0.2222222222222222, \"#7201a8\"], [0.3333333333333333, \"#9c179e\"], [0.4444444444444444, \"#bd3786\"], [0.5555555555555556, \"#d8576b\"], [0.6666666666666666, \"#ed7953\"], [0.7777777777777778, \"#fb9f3a\"], [0.8888888888888888, \"#fdca26\"], [1.0, \"#f0f921\"]]}, \"colorway\": [\"#636efa\", \"#EF553B\", \"#00cc96\", \"#ab63fa\", \"#FFA15A\", \"#19d3f3\", \"#FF6692\", \"#B6E880\", \"#FF97FF\", \"#FECB52\"], \"font\": {\"color\": \"#2a3f5f\"}, \"geo\": {\"bgcolor\": \"white\", \"lakecolor\": \"white\", \"landcolor\": \"#E5ECF6\", \"showlakes\": true, \"showland\": true, \"subunitcolor\": \"white\"}, \"hoverlabel\": {\"align\": \"left\"}, \"hovermode\": \"closest\", \"mapbox\": {\"style\": \"light\"}, \"paper_bgcolor\": \"white\", \"plot_bgcolor\": \"#E5ECF6\", \"polar\": {\"angularaxis\": {\"gridcolor\": \"white\", \"linecolor\": \"white\", \"ticks\": \"\"}, \"bgcolor\": \"#E5ECF6\", \"radialaxis\": {\"gridcolor\": \"white\", \"linecolor\": \"white\", \"ticks\": \"\"}}, \"scene\": {\"xaxis\": {\"backgroundcolor\": \"#E5ECF6\", \"gridcolor\": \"white\", \"gridwidth\": 2, \"linecolor\": \"white\", \"showbackground\": true, \"ticks\": \"\", \"zerolinecolor\": \"white\"}, \"yaxis\": {\"backgroundcolor\": \"#E5ECF6\", \"gridcolor\": \"white\", \"gridwidth\": 2, \"linecolor\": \"white\", \"showbackground\": true, \"ticks\": \"\", \"zerolinecolor\": \"white\"}, \"zaxis\": {\"backgroundcolor\": \"#E5ECF6\", \"gridcolor\": \"white\", \"gridwidth\": 2, \"linecolor\": \"white\", \"showbackground\": true, \"ticks\": \"\", \"zerolinecolor\": \"white\"}}, \"shapedefaults\": {\"line\": {\"color\": \"#2a3f5f\"}}, \"ternary\": {\"aaxis\": {\"gridcolor\": \"white\", \"linecolor\": \"white\", \"ticks\": \"\"}, \"baxis\": {\"gridcolor\": \"white\", \"linecolor\": \"white\", \"ticks\": \"\"}, \"bgcolor\": \"#E5ECF6\", \"caxis\": {\"gridcolor\": \"white\", \"linecolor\": \"white\", \"ticks\": \"\"}}, \"title\": {\"x\": 0.05}, \"xaxis\": {\"automargin\": true, \"gridcolor\": \"white\", \"linecolor\": \"white\", \"ticks\": \"\", \"zerolinecolor\": \"white\", \"zerolinewidth\": 2}, \"yaxis\": {\"automargin\": true, \"gridcolor\": \"white\", \"linecolor\": \"white\", \"ticks\": \"\", \"zerolinecolor\": \"white\", \"zerolinewidth\": 2}}}, \"title\": {\"text\": \"Trie\"}, \"width\": 1000, \"xaxis\": {\"showgrid\": false, \"showline\": false, \"showticklabels\": false, \"zeroline\": false}, \"yaxis\": {\"showgrid\": false, \"showline\": false, \"showticklabels\": false, \"zeroline\": false}},\n",
       "                        {\"responsive\": true}\n",
       "                    ).then(function(){\n",
       "                            \n",
       "var gd = document.getElementById('91d4fb37-ff5e-4420-a78d-5ef18c5c474d');\n",
       "var x = new MutationObserver(function (mutations, observer) {{\n",
       "        var display = window.getComputedStyle(gd).display;\n",
       "        if (!display || display === 'none') {{\n",
       "            console.log([gd, 'removed!']);\n",
       "            Plotly.purge(gd);\n",
       "            observer.disconnect();\n",
       "        }}\n",
       "}});\n",
       "\n",
       "// Listen for the removal of the full notebook cells\n",
       "var notebookContainer = gd.closest('#notebook-container');\n",
       "if (notebookContainer) {{\n",
       "    x.observe(notebookContainer, {childList: true});\n",
       "}}\n",
       "\n",
       "// Listen for the clearing of the current output cell\n",
       "var outputEl = gd.closest('.output');\n",
       "if (outputEl) {{\n",
       "    x.observe(outputEl, {childList: true});\n",
       "}}\n",
       "\n",
       "                        })\n",
       "                };\n",
       "                });\n",
       "            </script>\n",
       "        </div>"
      ]
     },
     "metadata": {},
     "output_type": "display_data"
    },
    {
     "data": {
      "application/vnd.plotly.v1+json": {
       "config": {
        "plotlyServerURL": "https://plot.ly"
       },
       "data": [
        {
         "hoverinfo": "none",
         "line": {
          "color": "rgb(160,160,160)",
          "width": 2
         },
         "mode": "lines",
         "type": "scatter",
         "uid": "01c8f781-2ac2-41fe-b5f9-be35e32509ae",
         "x": [
          1822.5,
          1822.5,
          null,
          1822.5,
          1323.5,
          null,
          1822.5,
          1822.5,
          null,
          1822.5,
          2155.5,
          null,
          1323.5,
          992.49,
          null,
          1323.5,
          1323.5,
          null,
          1822.5,
          1822.5,
          null,
          2155.5,
          2157.5,
          null,
          992.49,
          992.49,
          null,
          1323.5,
          1323.5,
          null,
          1822.5,
          1822.5,
          null,
          2157.5,
          2158.5,
          null,
          992.49,
          991.49,
          null,
          1323.5,
          1323.5,
          null,
          991.49,
          990.49,
          null,
          990.49,
          988.49,
          null,
          988.49,
          825.49,
          null,
          825.49,
          492.49,
          null,
          825.49,
          825.49,
          null,
          492.49,
          489.49,
          null,
          825.49,
          825.49,
          null,
          489.49,
          159.49,
          null,
          489.49,
          489.49,
          null,
          825.49,
          825.49,
          null,
          159.49,
          157.49,
          null,
          489.49,
          489.49,
          null,
          157.49,
          156.49,
          null,
          489.49,
          489.49,
          null,
          156.49,
          156.49,
          null,
          156.49,
          156.49,
          null,
          156.49,
          156.49,
          null,
          489.49,
          489.49,
          null,
          489.49,
          490.49,
          null,
          490.49,
          490.49,
          null,
          490.49,
          490.49,
          null,
          490.49,
          490.49,
          null,
          825.49,
          825.49,
          null,
          825.49,
          825.49,
          null,
          825.49,
          825.49,
          null,
          1323.5,
          1323.5,
          null,
          1323.5,
          1323.5,
          null,
          1323.5,
          1323.5,
          null,
          1323.5,
          1323.5,
          null,
          1323.5,
          1323.5,
          null,
          1323.5,
          1323.5,
          null,
          1323.5,
          1323.5,
          null,
          1323.5,
          1159.5,
          null,
          1323.5,
          1490.5,
          null,
          1159.5,
          1159.5,
          null,
          1490.5,
          1491.5,
          null,
          1159.5,
          1159.5,
          null,
          1491.5,
          1491.5,
          null,
          1491.5,
          1490.5,
          null,
          1490.5,
          1490.5,
          null,
          1490.5,
          1490.5,
          null,
          1822.5,
          1822.5,
          null,
          1822.5,
          1822.5,
          null,
          1822.5,
          1822.5,
          null,
          1822.5,
          1822.5,
          null,
          1822.5,
          1822.5,
          null,
          1822.5,
          1823.5,
          null,
          1823.5,
          1823.5,
          null,
          1823.5,
          1823.5,
          null,
          1823.5,
          1823.5,
          null,
          1823.5,
          1824.5,
          null,
          1824.5,
          1824.5,
          null,
          1824.5,
          1824.5,
          null,
          2158.5,
          2158.5,
          null,
          2158.5,
          2158.5,
          null,
          2158.5,
          2158.5,
          null,
          2158.5,
          2158.5,
          null,
          2158.5,
          2158.5,
          null,
          2158.5,
          2158.5,
          null,
          2158.5,
          2158.5,
          null,
          2158.5,
          2158.5,
          null,
          2158.5,
          2158.5,
          null,
          2158.5,
          2158.5,
          null
         ],
         "y": [
          1314,
          1242,
          null,
          1242,
          1170,
          null,
          1242,
          1170,
          null,
          1242,
          1170,
          null,
          1170,
          1098,
          null,
          1170,
          1098,
          null,
          1170,
          1098,
          null,
          1170,
          1098,
          null,
          1098,
          1026,
          null,
          1098,
          1026,
          null,
          1098,
          1026,
          null,
          1098,
          1026,
          null,
          1026,
          954,
          null,
          1026,
          954,
          null,
          954,
          882,
          null,
          882,
          810,
          null,
          810,
          738,
          null,
          738,
          666,
          null,
          738,
          666,
          null,
          666,
          594,
          null,
          666,
          594,
          null,
          594,
          522,
          null,
          594,
          522,
          null,
          594,
          522,
          null,
          522,
          450,
          null,
          522,
          450,
          null,
          450,
          378,
          null,
          450,
          378,
          null,
          378,
          306,
          null,
          306,
          234,
          null,
          234,
          162,
          null,
          378,
          306,
          null,
          306,
          234,
          null,
          234,
          162,
          null,
          162,
          90,
          null,
          90,
          18,
          null,
          522,
          450,
          null,
          450,
          378,
          null,
          378,
          306,
          null,
          954,
          882,
          null,
          882,
          810,
          null,
          810,
          738,
          null,
          738,
          666,
          null,
          666,
          594,
          null,
          594,
          522,
          null,
          522,
          450,
          null,
          450,
          378,
          null,
          450,
          378,
          null,
          378,
          306,
          null,
          378,
          306,
          null,
          306,
          234,
          null,
          306,
          234,
          null,
          234,
          162,
          null,
          162,
          90,
          null,
          90,
          18,
          null,
          1026,
          954,
          null,
          954,
          882,
          null,
          882,
          810,
          null,
          810,
          738,
          null,
          738,
          666,
          null,
          666,
          594,
          null,
          594,
          522,
          null,
          522,
          450,
          null,
          450,
          378,
          null,
          378,
          306,
          null,
          306,
          234,
          null,
          234,
          162,
          null,
          1026,
          954,
          null,
          954,
          882,
          null,
          882,
          810,
          null,
          810,
          738,
          null,
          738,
          666,
          null,
          666,
          594,
          null,
          594,
          522,
          null,
          522,
          450,
          null,
          450,
          378,
          null,
          378,
          306,
          null
         ]
        },
        {
         "hoverinfo": "none",
         "marker": {
          "color": "rgb(100,100,100)",
          "line": {
           "color": "rgb(100,100,100)",
           "width": 1
          },
          "size": 18
         },
         "mode": "markers+text",
         "name": "",
         "text": [
          null
         ],
         "type": "scatter",
         "uid": "29e7ac51-1742-4ef0-8a6e-bdce7e0863ab",
         "x": [
          1822.5
         ],
         "y": [
          1314
         ]
        },
        {
         "hoverinfo": "none",
         "marker": {
          "color": "rgb(101,214,67)",
          "line": {
           "color": "rgb(100,100,100)",
           "width": 1
          },
          "size": 18
         },
         "mode": "markers+text",
         "name": "",
         "text": [
          "dynamic",
          "dynamic",
          "dynamic",
          "dynamic"
         ],
         "type": "scatter",
         "uid": "071385e4-8232-428b-bf75-fd755ec74fe2",
         "x": [
          988.49,
          1159.5,
          1822.5,
          2158.5
         ],
         "y": [
          810,
          234,
          738,
          738
         ]
        },
        {
         "hoverinfo": "none",
         "marker": {
          "color": "rgb(247,185,43)",
          "line": {
           "color": "rgb(100,100,100)",
           "width": 1
          },
          "size": 18
         },
         "mode": "markers+text",
         "name": "",
         "text": [
          "/",
          "/",
          "/",
          "/",
          "/",
          "/",
          "/",
          "/"
         ],
         "type": "scatter",
         "uid": "f78fe0aa-a418-4328-b5b6-ed0d4cbf33b8",
         "x": [
          1822.5,
          990.49,
          825.49,
          1159.5,
          1822.5,
          1822.5,
          2158.5,
          2158.5
         ],
         "y": [
          1242,
          882,
          738,
          306,
          810,
          666,
          810,
          666
         ]
        },
        {
         "hoverinfo": "none",
         "marker": {
          "color": "rgb(24,140,216)",
          "line": {
           "color": "rgb(100,100,100)",
           "width": 1
          },
          "size": 18
         },
         "mode": "markers+text",
         "name": "",
         "text": [
          "a",
          "u",
          "p",
          "p",
          "c",
          "s",
          "o",
          "p",
          "h",
          "s",
          "a",
          "e",
          "c",
          "v",
          "c",
          "t",
          "o",
          "i",
          "u",
          "n",
          "t",
          "s",
          "v",
          "i",
          "t",
          "i",
          "e",
          "s",
          "e",
          "n",
          "t",
          "s",
          "i",
          "e",
          "v",
          "e",
          "m",
          "e",
          "n",
          "t",
          "s",
          "-",
          "t",
          "y",
          "p",
          "e",
          "s",
          "e",
          "r",
          "s",
          "f",
          "r",
          "i",
          "e",
          "n",
          "d",
          "s",
          "s",
          "t",
          "s",
          "l",
          "i",
          "k",
          "e",
          "s"
         ],
         "type": "scatter",
         "uid": "3b73faa9-7c46-4519-94ec-eb63beeb7722",
         "x": [
          1323.5,
          1822.5,
          2155.5,
          992.49,
          1323.5,
          1822.5,
          2157.5,
          992.49,
          1323.5,
          991.49,
          492.49,
          825.49,
          489.49,
          825.49,
          159.49,
          489.49,
          157.49,
          489.49,
          156.49,
          156.49,
          156.49,
          156.49,
          489.49,
          489.49,
          490.49,
          490.49,
          490.49,
          490.49,
          825.49,
          825.49,
          825.49,
          825.49,
          1323.5,
          1323.5,
          1323.5,
          1323.5,
          1323.5,
          1323.5,
          1323.5,
          1323.5,
          1159.5,
          1490.5,
          1491.5,
          1491.5,
          1490.5,
          1490.5,
          1490.5,
          1822.5,
          1822.5,
          1822.5,
          1823.5,
          1823.5,
          1823.5,
          1823.5,
          1824.5,
          1824.5,
          1824.5,
          2158.5,
          2158.5,
          2158.5,
          2158.5,
          2158.5,
          2158.5,
          2158.5,
          2158.5
         ],
         "y": [
          1170,
          1170,
          1170,
          1098,
          1098,
          1098,
          1098,
          1026,
          1026,
          954,
          666,
          666,
          594,
          594,
          522,
          522,
          450,
          450,
          378,
          306,
          234,
          162,
          378,
          306,
          234,
          162,
          90,
          18,
          522,
          450,
          378,
          306,
          954,
          882,
          810,
          738,
          666,
          594,
          522,
          450,
          378,
          378,
          306,
          234,
          162,
          90,
          18,
          1026,
          954,
          882,
          594,
          522,
          450,
          378,
          306,
          234,
          162,
          1026,
          954,
          882,
          594,
          522,
          450,
          378,
          306
         ]
        }
       ],
       "layout": {
        "font": {
         "size": 15
        },
        "height": 800,
        "hovermode": "closest",
        "margin": {
         "b": 85,
         "l": 40,
         "r": 40,
         "t": 100
        },
        "plot_bgcolor": "rgb(248,248,248)",
        "showlegend": false,
        "template": {
         "data": {
          "bar": [
           {
            "error_x": {
             "color": "#2a3f5f"
            },
            "error_y": {
             "color": "#2a3f5f"
            },
            "marker": {
             "line": {
              "color": "#E5ECF6",
              "width": 0.5
             }
            },
            "type": "bar"
           }
          ],
          "barpolar": [
           {
            "marker": {
             "line": {
              "color": "#E5ECF6",
              "width": 0.5
             }
            },
            "type": "barpolar"
           }
          ],
          "carpet": [
           {
            "aaxis": {
             "endlinecolor": "#2a3f5f",
             "gridcolor": "white",
             "linecolor": "white",
             "minorgridcolor": "white",
             "startlinecolor": "#2a3f5f"
            },
            "baxis": {
             "endlinecolor": "#2a3f5f",
             "gridcolor": "white",
             "linecolor": "white",
             "minorgridcolor": "white",
             "startlinecolor": "#2a3f5f"
            },
            "type": "carpet"
           }
          ],
          "choropleth": [
           {
            "colorbar": {
             "outlinewidth": 0,
             "ticks": ""
            },
            "type": "choropleth"
           }
          ],
          "contour": [
           {
            "colorbar": {
             "outlinewidth": 0,
             "ticks": ""
            },
            "colorscale": [
             [
              0,
              "#0d0887"
             ],
             [
              0.1111111111111111,
              "#46039f"
             ],
             [
              0.2222222222222222,
              "#7201a8"
             ],
             [
              0.3333333333333333,
              "#9c179e"
             ],
             [
              0.4444444444444444,
              "#bd3786"
             ],
             [
              0.5555555555555556,
              "#d8576b"
             ],
             [
              0.6666666666666666,
              "#ed7953"
             ],
             [
              0.7777777777777778,
              "#fb9f3a"
             ],
             [
              0.8888888888888888,
              "#fdca26"
             ],
             [
              1,
              "#f0f921"
             ]
            ],
            "type": "contour"
           }
          ],
          "contourcarpet": [
           {
            "colorbar": {
             "outlinewidth": 0,
             "ticks": ""
            },
            "type": "contourcarpet"
           }
          ],
          "heatmap": [
           {
            "colorbar": {
             "outlinewidth": 0,
             "ticks": ""
            },
            "colorscale": [
             [
              0,
              "#0d0887"
             ],
             [
              0.1111111111111111,
              "#46039f"
             ],
             [
              0.2222222222222222,
              "#7201a8"
             ],
             [
              0.3333333333333333,
              "#9c179e"
             ],
             [
              0.4444444444444444,
              "#bd3786"
             ],
             [
              0.5555555555555556,
              "#d8576b"
             ],
             [
              0.6666666666666666,
              "#ed7953"
             ],
             [
              0.7777777777777778,
              "#fb9f3a"
             ],
             [
              0.8888888888888888,
              "#fdca26"
             ],
             [
              1,
              "#f0f921"
             ]
            ],
            "type": "heatmap"
           }
          ],
          "heatmapgl": [
           {
            "colorbar": {
             "outlinewidth": 0,
             "ticks": ""
            },
            "colorscale": [
             [
              0,
              "#0d0887"
             ],
             [
              0.1111111111111111,
              "#46039f"
             ],
             [
              0.2222222222222222,
              "#7201a8"
             ],
             [
              0.3333333333333333,
              "#9c179e"
             ],
             [
              0.4444444444444444,
              "#bd3786"
             ],
             [
              0.5555555555555556,
              "#d8576b"
             ],
             [
              0.6666666666666666,
              "#ed7953"
             ],
             [
              0.7777777777777778,
              "#fb9f3a"
             ],
             [
              0.8888888888888888,
              "#fdca26"
             ],
             [
              1,
              "#f0f921"
             ]
            ],
            "type": "heatmapgl"
           }
          ],
          "histogram": [
           {
            "marker": {
             "colorbar": {
              "outlinewidth": 0,
              "ticks": ""
             }
            },
            "type": "histogram"
           }
          ],
          "histogram2d": [
           {
            "colorbar": {
             "outlinewidth": 0,
             "ticks": ""
            },
            "colorscale": [
             [
              0,
              "#0d0887"
             ],
             [
              0.1111111111111111,
              "#46039f"
             ],
             [
              0.2222222222222222,
              "#7201a8"
             ],
             [
              0.3333333333333333,
              "#9c179e"
             ],
             [
              0.4444444444444444,
              "#bd3786"
             ],
             [
              0.5555555555555556,
              "#d8576b"
             ],
             [
              0.6666666666666666,
              "#ed7953"
             ],
             [
              0.7777777777777778,
              "#fb9f3a"
             ],
             [
              0.8888888888888888,
              "#fdca26"
             ],
             [
              1,
              "#f0f921"
             ]
            ],
            "type": "histogram2d"
           }
          ],
          "histogram2dcontour": [
           {
            "colorbar": {
             "outlinewidth": 0,
             "ticks": ""
            },
            "colorscale": [
             [
              0,
              "#0d0887"
             ],
             [
              0.1111111111111111,
              "#46039f"
             ],
             [
              0.2222222222222222,
              "#7201a8"
             ],
             [
              0.3333333333333333,
              "#9c179e"
             ],
             [
              0.4444444444444444,
              "#bd3786"
             ],
             [
              0.5555555555555556,
              "#d8576b"
             ],
             [
              0.6666666666666666,
              "#ed7953"
             ],
             [
              0.7777777777777778,
              "#fb9f3a"
             ],
             [
              0.8888888888888888,
              "#fdca26"
             ],
             [
              1,
              "#f0f921"
             ]
            ],
            "type": "histogram2dcontour"
           }
          ],
          "mesh3d": [
           {
            "colorbar": {
             "outlinewidth": 0,
             "ticks": ""
            },
            "type": "mesh3d"
           }
          ],
          "parcoords": [
           {
            "line": {
             "colorbar": {
              "outlinewidth": 0,
              "ticks": ""
             }
            },
            "type": "parcoords"
           }
          ],
          "scatter": [
           {
            "marker": {
             "colorbar": {
              "outlinewidth": 0,
              "ticks": ""
             }
            },
            "type": "scatter"
           }
          ],
          "scatter3d": [
           {
            "line": {
             "colorbar": {
              "outlinewidth": 0,
              "ticks": ""
             }
            },
            "marker": {
             "colorbar": {
              "outlinewidth": 0,
              "ticks": ""
             }
            },
            "type": "scatter3d"
           }
          ],
          "scattercarpet": [
           {
            "marker": {
             "colorbar": {
              "outlinewidth": 0,
              "ticks": ""
             }
            },
            "type": "scattercarpet"
           }
          ],
          "scattergeo": [
           {
            "marker": {
             "colorbar": {
              "outlinewidth": 0,
              "ticks": ""
             }
            },
            "type": "scattergeo"
           }
          ],
          "scattergl": [
           {
            "marker": {
             "colorbar": {
              "outlinewidth": 0,
              "ticks": ""
             }
            },
            "type": "scattergl"
           }
          ],
          "scattermapbox": [
           {
            "marker": {
             "colorbar": {
              "outlinewidth": 0,
              "ticks": ""
             }
            },
            "type": "scattermapbox"
           }
          ],
          "scatterpolar": [
           {
            "marker": {
             "colorbar": {
              "outlinewidth": 0,
              "ticks": ""
             }
            },
            "type": "scatterpolar"
           }
          ],
          "scatterpolargl": [
           {
            "marker": {
             "colorbar": {
              "outlinewidth": 0,
              "ticks": ""
             }
            },
            "type": "scatterpolargl"
           }
          ],
          "scatterternary": [
           {
            "marker": {
             "colorbar": {
              "outlinewidth": 0,
              "ticks": ""
             }
            },
            "type": "scatterternary"
           }
          ],
          "surface": [
           {
            "colorbar": {
             "outlinewidth": 0,
             "ticks": ""
            },
            "colorscale": [
             [
              0,
              "#0d0887"
             ],
             [
              0.1111111111111111,
              "#46039f"
             ],
             [
              0.2222222222222222,
              "#7201a8"
             ],
             [
              0.3333333333333333,
              "#9c179e"
             ],
             [
              0.4444444444444444,
              "#bd3786"
             ],
             [
              0.5555555555555556,
              "#d8576b"
             ],
             [
              0.6666666666666666,
              "#ed7953"
             ],
             [
              0.7777777777777778,
              "#fb9f3a"
             ],
             [
              0.8888888888888888,
              "#fdca26"
             ],
             [
              1,
              "#f0f921"
             ]
            ],
            "type": "surface"
           }
          ],
          "table": [
           {
            "cells": {
             "fill": {
              "color": "#EBF0F8"
             },
             "line": {
              "color": "white"
             }
            },
            "header": {
             "fill": {
              "color": "#C8D4E3"
             },
             "line": {
              "color": "white"
             }
            },
            "type": "table"
           }
          ]
         },
         "layout": {
          "annotationdefaults": {
           "arrowcolor": "#2a3f5f",
           "arrowhead": 0,
           "arrowwidth": 1
          },
          "colorscale": {
           "diverging": [
            [
             0,
             "#8e0152"
            ],
            [
             0.1,
             "#c51b7d"
            ],
            [
             0.2,
             "#de77ae"
            ],
            [
             0.3,
             "#f1b6da"
            ],
            [
             0.4,
             "#fde0ef"
            ],
            [
             0.5,
             "#f7f7f7"
            ],
            [
             0.6,
             "#e6f5d0"
            ],
            [
             0.7,
             "#b8e186"
            ],
            [
             0.8,
             "#7fbc41"
            ],
            [
             0.9,
             "#4d9221"
            ],
            [
             1,
             "#276419"
            ]
           ],
           "sequential": [
            [
             0,
             "#0d0887"
            ],
            [
             0.1111111111111111,
             "#46039f"
            ],
            [
             0.2222222222222222,
             "#7201a8"
            ],
            [
             0.3333333333333333,
             "#9c179e"
            ],
            [
             0.4444444444444444,
             "#bd3786"
            ],
            [
             0.5555555555555556,
             "#d8576b"
            ],
            [
             0.6666666666666666,
             "#ed7953"
            ],
            [
             0.7777777777777778,
             "#fb9f3a"
            ],
            [
             0.8888888888888888,
             "#fdca26"
            ],
            [
             1,
             "#f0f921"
            ]
           ],
           "sequentialminus": [
            [
             0,
             "#0d0887"
            ],
            [
             0.1111111111111111,
             "#46039f"
            ],
            [
             0.2222222222222222,
             "#7201a8"
            ],
            [
             0.3333333333333333,
             "#9c179e"
            ],
            [
             0.4444444444444444,
             "#bd3786"
            ],
            [
             0.5555555555555556,
             "#d8576b"
            ],
            [
             0.6666666666666666,
             "#ed7953"
            ],
            [
             0.7777777777777778,
             "#fb9f3a"
            ],
            [
             0.8888888888888888,
             "#fdca26"
            ],
            [
             1,
             "#f0f921"
            ]
           ]
          },
          "colorway": [
           "#636efa",
           "#EF553B",
           "#00cc96",
           "#ab63fa",
           "#FFA15A",
           "#19d3f3",
           "#FF6692",
           "#B6E880",
           "#FF97FF",
           "#FECB52"
          ],
          "font": {
           "color": "#2a3f5f"
          },
          "geo": {
           "bgcolor": "white",
           "lakecolor": "white",
           "landcolor": "#E5ECF6",
           "showlakes": true,
           "showland": true,
           "subunitcolor": "white"
          },
          "hoverlabel": {
           "align": "left"
          },
          "hovermode": "closest",
          "mapbox": {
           "style": "light"
          },
          "paper_bgcolor": "white",
          "plot_bgcolor": "#E5ECF6",
          "polar": {
           "angularaxis": {
            "gridcolor": "white",
            "linecolor": "white",
            "ticks": ""
           },
           "bgcolor": "#E5ECF6",
           "radialaxis": {
            "gridcolor": "white",
            "linecolor": "white",
            "ticks": ""
           }
          },
          "scene": {
           "xaxis": {
            "backgroundcolor": "#E5ECF6",
            "gridcolor": "white",
            "gridwidth": 2,
            "linecolor": "white",
            "showbackground": true,
            "ticks": "",
            "zerolinecolor": "white"
           },
           "yaxis": {
            "backgroundcolor": "#E5ECF6",
            "gridcolor": "white",
            "gridwidth": 2,
            "linecolor": "white",
            "showbackground": true,
            "ticks": "",
            "zerolinecolor": "white"
           },
           "zaxis": {
            "backgroundcolor": "#E5ECF6",
            "gridcolor": "white",
            "gridwidth": 2,
            "linecolor": "white",
            "showbackground": true,
            "ticks": "",
            "zerolinecolor": "white"
           }
          },
          "shapedefaults": {
           "line": {
            "color": "#2a3f5f"
           }
          },
          "ternary": {
           "aaxis": {
            "gridcolor": "white",
            "linecolor": "white",
            "ticks": ""
           },
           "baxis": {
            "gridcolor": "white",
            "linecolor": "white",
            "ticks": ""
           },
           "bgcolor": "#E5ECF6",
           "caxis": {
            "gridcolor": "white",
            "linecolor": "white",
            "ticks": ""
           }
          },
          "title": {
           "x": 0.05
          },
          "xaxis": {
           "automargin": true,
           "gridcolor": "white",
           "linecolor": "white",
           "ticks": "",
           "zerolinecolor": "white",
           "zerolinewidth": 2
          },
          "yaxis": {
           "automargin": true,
           "gridcolor": "white",
           "linecolor": "white",
           "ticks": "",
           "zerolinecolor": "white",
           "zerolinewidth": 2
          }
         }
        },
        "title": {
         "text": "Trie"
        },
        "width": 1000,
        "xaxis": {
         "showgrid": false,
         "showline": false,
         "showticklabels": false,
         "zeroline": false
        },
        "yaxis": {
         "showgrid": false,
         "showline": false,
         "showticklabels": false,
         "zeroline": false
        }
       }
      },
      "text/html": [
       "<div>\n",
       "        \n",
       "        \n",
       "            <div id=\"09aabd75-b720-4af1-a62d-64bc2e31ea1a\" class=\"plotly-graph-div\" style=\"height:800px; width:1000px;\"></div>\n",
       "            <script type=\"text/javascript\">\n",
       "                require([\"plotly\"], function(Plotly) {\n",
       "                    window.PLOTLYENV=window.PLOTLYENV || {};\n",
       "                    \n",
       "                if (document.getElementById(\"09aabd75-b720-4af1-a62d-64bc2e31ea1a\")) {\n",
       "                    Plotly.newPlot(\n",
       "                        '09aabd75-b720-4af1-a62d-64bc2e31ea1a',\n",
       "                        [{\"hoverinfo\": \"none\", \"line\": {\"color\": \"rgb(160,160,160)\", \"width\": 2}, \"mode\": \"lines\", \"type\": \"scatter\", \"uid\": \"01c8f781-2ac2-41fe-b5f9-be35e32509ae\", \"x\": [1822.5, 1822.5, null, 1822.5, 1323.5, null, 1822.5, 1822.5, null, 1822.5, 2155.5, null, 1323.5, 992.49, null, 1323.5, 1323.5, null, 1822.5, 1822.5, null, 2155.5, 2157.5, null, 992.49, 992.49, null, 1323.5, 1323.5, null, 1822.5, 1822.5, null, 2157.5, 2158.5, null, 992.49, 991.49, null, 1323.5, 1323.5, null, 991.49, 990.49, null, 990.49, 988.49, null, 988.49, 825.49, null, 825.49, 492.49, null, 825.49, 825.49, null, 492.49, 489.49, null, 825.49, 825.49, null, 489.49, 159.49, null, 489.49, 489.49, null, 825.49, 825.49, null, 159.49, 157.49, null, 489.49, 489.49, null, 157.49, 156.49, null, 489.49, 489.49, null, 156.49, 156.49, null, 156.49, 156.49, null, 156.49, 156.49, null, 489.49, 489.49, null, 489.49, 490.49, null, 490.49, 490.49, null, 490.49, 490.49, null, 490.49, 490.49, null, 825.49, 825.49, null, 825.49, 825.49, null, 825.49, 825.49, null, 1323.5, 1323.5, null, 1323.5, 1323.5, null, 1323.5, 1323.5, null, 1323.5, 1323.5, null, 1323.5, 1323.5, null, 1323.5, 1323.5, null, 1323.5, 1323.5, null, 1323.5, 1159.5, null, 1323.5, 1490.5, null, 1159.5, 1159.5, null, 1490.5, 1491.5, null, 1159.5, 1159.5, null, 1491.5, 1491.5, null, 1491.5, 1490.5, null, 1490.5, 1490.5, null, 1490.5, 1490.5, null, 1822.5, 1822.5, null, 1822.5, 1822.5, null, 1822.5, 1822.5, null, 1822.5, 1822.5, null, 1822.5, 1822.5, null, 1822.5, 1823.5, null, 1823.5, 1823.5, null, 1823.5, 1823.5, null, 1823.5, 1823.5, null, 1823.5, 1824.5, null, 1824.5, 1824.5, null, 1824.5, 1824.5, null, 2158.5, 2158.5, null, 2158.5, 2158.5, null, 2158.5, 2158.5, null, 2158.5, 2158.5, null, 2158.5, 2158.5, null, 2158.5, 2158.5, null, 2158.5, 2158.5, null, 2158.5, 2158.5, null, 2158.5, 2158.5, null, 2158.5, 2158.5, null], \"y\": [1314.0, 1242.0, null, 1242.0, 1170.0, null, 1242.0, 1170.0, null, 1242.0, 1170.0, null, 1170.0, 1098.0, null, 1170.0, 1098.0, null, 1170.0, 1098.0, null, 1170.0, 1098.0, null, 1098.0, 1026.0, null, 1098.0, 1026.0, null, 1098.0, 1026.0, null, 1098.0, 1026.0, null, 1026.0, 954.0, null, 1026.0, 954.0, null, 954.0, 882.0, null, 882.0, 810.0, null, 810.0, 738.0, null, 738.0, 666.0, null, 738.0, 666.0, null, 666.0, 594.0, null, 666.0, 594.0, null, 594.0, 522.0, null, 594.0, 522.0, null, 594.0, 522.0, null, 522.0, 450.0, null, 522.0, 450.0, null, 450.0, 378.0, null, 450.0, 378.0, null, 378.0, 306.0, null, 306.0, 234.0, null, 234.0, 162.0, null, 378.0, 306.0, null, 306.0, 234.0, null, 234.0, 162.0, null, 162.0, 90.0, null, 90.0, 18.0, null, 522.0, 450.0, null, 450.0, 378.0, null, 378.0, 306.0, null, 954.0, 882.0, null, 882.0, 810.0, null, 810.0, 738.0, null, 738.0, 666.0, null, 666.0, 594.0, null, 594.0, 522.0, null, 522.0, 450.0, null, 450.0, 378.0, null, 450.0, 378.0, null, 378.0, 306.0, null, 378.0, 306.0, null, 306.0, 234.0, null, 306.0, 234.0, null, 234.0, 162.0, null, 162.0, 90.0, null, 90.0, 18.0, null, 1026.0, 954.0, null, 954.0, 882.0, null, 882.0, 810.0, null, 810.0, 738.0, null, 738.0, 666.0, null, 666.0, 594.0, null, 594.0, 522.0, null, 522.0, 450.0, null, 450.0, 378.0, null, 378.0, 306.0, null, 306.0, 234.0, null, 234.0, 162.0, null, 1026.0, 954.0, null, 954.0, 882.0, null, 882.0, 810.0, null, 810.0, 738.0, null, 738.0, 666.0, null, 666.0, 594.0, null, 594.0, 522.0, null, 522.0, 450.0, null, 450.0, 378.0, null, 378.0, 306.0, null]}, {\"hoverinfo\": \"none\", \"marker\": {\"color\": \"rgb(100,100,100)\", \"line\": {\"color\": \"rgb(100,100,100)\", \"width\": 1}, \"size\": 18}, \"mode\": \"markers+text\", \"name\": \"\", \"text\": [null], \"type\": \"scatter\", \"uid\": \"29e7ac51-1742-4ef0-8a6e-bdce7e0863ab\", \"x\": [1822.5], \"y\": [1314.0]}, {\"hoverinfo\": \"none\", \"marker\": {\"color\": \"rgb(101,214,67)\", \"line\": {\"color\": \"rgb(100,100,100)\", \"width\": 1}, \"size\": 18}, \"mode\": \"markers+text\", \"name\": \"\", \"text\": [\"dynamic\", \"dynamic\", \"dynamic\", \"dynamic\"], \"type\": \"scatter\", \"uid\": \"071385e4-8232-428b-bf75-fd755ec74fe2\", \"x\": [988.49, 1159.5, 1822.5, 2158.5], \"y\": [810.0, 234.0, 738.0, 738.0]}, {\"hoverinfo\": \"none\", \"marker\": {\"color\": \"rgb(247,185,43)\", \"line\": {\"color\": \"rgb(100,100,100)\", \"width\": 1}, \"size\": 18}, \"mode\": \"markers+text\", \"name\": \"\", \"text\": [\"/\", \"/\", \"/\", \"/\", \"/\", \"/\", \"/\", \"/\"], \"type\": \"scatter\", \"uid\": \"f78fe0aa-a418-4328-b5b6-ed0d4cbf33b8\", \"x\": [1822.5, 990.49, 825.49, 1159.5, 1822.5, 1822.5, 2158.5, 2158.5], \"y\": [1242.0, 882.0, 738.0, 306.0, 810.0, 666.0, 810.0, 666.0]}, {\"hoverinfo\": \"none\", \"marker\": {\"color\": \"rgb(24,140,216)\", \"line\": {\"color\": \"rgb(100,100,100)\", \"width\": 1}, \"size\": 18}, \"mode\": \"markers+text\", \"name\": \"\", \"text\": [\"a\", \"u\", \"p\", \"p\", \"c\", \"s\", \"o\", \"p\", \"h\", \"s\", \"a\", \"e\", \"c\", \"v\", \"c\", \"t\", \"o\", \"i\", \"u\", \"n\", \"t\", \"s\", \"v\", \"i\", \"t\", \"i\", \"e\", \"s\", \"e\", \"n\", \"t\", \"s\", \"i\", \"e\", \"v\", \"e\", \"m\", \"e\", \"n\", \"t\", \"s\", \"-\", \"t\", \"y\", \"p\", \"e\", \"s\", \"e\", \"r\", \"s\", \"f\", \"r\", \"i\", \"e\", \"n\", \"d\", \"s\", \"s\", \"t\", \"s\", \"l\", \"i\", \"k\", \"e\", \"s\"], \"type\": \"scatter\", \"uid\": \"3b73faa9-7c46-4519-94ec-eb63beeb7722\", \"x\": [1323.5, 1822.5, 2155.5, 992.49, 1323.5, 1822.5, 2157.5, 992.49, 1323.5, 991.49, 492.49, 825.49, 489.49, 825.49, 159.49, 489.49, 157.49, 489.49, 156.49, 156.49, 156.49, 156.49, 489.49, 489.49, 490.49, 490.49, 490.49, 490.49, 825.49, 825.49, 825.49, 825.49, 1323.5, 1323.5, 1323.5, 1323.5, 1323.5, 1323.5, 1323.5, 1323.5, 1159.5, 1490.5, 1491.5, 1491.5, 1490.5, 1490.5, 1490.5, 1822.5, 1822.5, 1822.5, 1823.5, 1823.5, 1823.5, 1823.5, 1824.5, 1824.5, 1824.5, 2158.5, 2158.5, 2158.5, 2158.5, 2158.5, 2158.5, 2158.5, 2158.5], \"y\": [1170.0, 1170.0, 1170.0, 1098.0, 1098.0, 1098.0, 1098.0, 1026.0, 1026.0, 954.0, 666.0, 666.0, 594.0, 594.0, 522.0, 522.0, 450.0, 450.0, 378.0, 306.0, 234.0, 162.0, 378.0, 306.0, 234.0, 162.0, 90.0, 18.0, 522.0, 450.0, 378.0, 306.0, 954.0, 882.0, 810.0, 738.0, 666.0, 594.0, 522.0, 450.0, 378.0, 378.0, 306.0, 234.0, 162.0, 90.0, 18.0, 1026.0, 954.0, 882.0, 594.0, 522.0, 450.0, 378.0, 306.0, 234.0, 162.0, 1026.0, 954.0, 882.0, 594.0, 522.0, 450.0, 378.0, 306.0]}],\n",
       "                        {\"font\": {\"size\": 15}, \"height\": 800, \"hovermode\": \"closest\", \"margin\": {\"b\": 85, \"l\": 40, \"r\": 40, \"t\": 100}, \"plot_bgcolor\": \"rgb(248,248,248)\", \"showlegend\": false, \"template\": {\"data\": {\"bar\": [{\"error_x\": {\"color\": \"#2a3f5f\"}, \"error_y\": {\"color\": \"#2a3f5f\"}, \"marker\": {\"line\": {\"color\": \"#E5ECF6\", \"width\": 0.5}}, \"type\": \"bar\"}], \"barpolar\": [{\"marker\": {\"line\": {\"color\": \"#E5ECF6\", \"width\": 0.5}}, \"type\": \"barpolar\"}], \"carpet\": [{\"aaxis\": {\"endlinecolor\": \"#2a3f5f\", \"gridcolor\": \"white\", \"linecolor\": \"white\", \"minorgridcolor\": \"white\", \"startlinecolor\": \"#2a3f5f\"}, \"baxis\": {\"endlinecolor\": \"#2a3f5f\", \"gridcolor\": \"white\", \"linecolor\": \"white\", \"minorgridcolor\": \"white\", \"startlinecolor\": \"#2a3f5f\"}, \"type\": \"carpet\"}], \"choropleth\": [{\"colorbar\": {\"outlinewidth\": 0, \"ticks\": \"\"}, \"type\": \"choropleth\"}], \"contour\": [{\"colorbar\": {\"outlinewidth\": 0, \"ticks\": \"\"}, \"colorscale\": [[0.0, \"#0d0887\"], [0.1111111111111111, \"#46039f\"], [0.2222222222222222, \"#7201a8\"], [0.3333333333333333, \"#9c179e\"], [0.4444444444444444, \"#bd3786\"], [0.5555555555555556, \"#d8576b\"], [0.6666666666666666, \"#ed7953\"], [0.7777777777777778, \"#fb9f3a\"], [0.8888888888888888, \"#fdca26\"], [1.0, \"#f0f921\"]], \"type\": \"contour\"}], \"contourcarpet\": [{\"colorbar\": {\"outlinewidth\": 0, \"ticks\": \"\"}, \"type\": \"contourcarpet\"}], \"heatmap\": [{\"colorbar\": {\"outlinewidth\": 0, \"ticks\": \"\"}, \"colorscale\": [[0.0, \"#0d0887\"], [0.1111111111111111, \"#46039f\"], [0.2222222222222222, \"#7201a8\"], [0.3333333333333333, \"#9c179e\"], [0.4444444444444444, \"#bd3786\"], [0.5555555555555556, \"#d8576b\"], [0.6666666666666666, \"#ed7953\"], [0.7777777777777778, \"#fb9f3a\"], [0.8888888888888888, \"#fdca26\"], [1.0, \"#f0f921\"]], \"type\": \"heatmap\"}], \"heatmapgl\": [{\"colorbar\": {\"outlinewidth\": 0, \"ticks\": \"\"}, \"colorscale\": [[0.0, \"#0d0887\"], [0.1111111111111111, \"#46039f\"], [0.2222222222222222, \"#7201a8\"], [0.3333333333333333, \"#9c179e\"], [0.4444444444444444, \"#bd3786\"], [0.5555555555555556, \"#d8576b\"], [0.6666666666666666, \"#ed7953\"], [0.7777777777777778, \"#fb9f3a\"], [0.8888888888888888, \"#fdca26\"], [1.0, \"#f0f921\"]], \"type\": \"heatmapgl\"}], \"histogram\": [{\"marker\": {\"colorbar\": {\"outlinewidth\": 0, \"ticks\": \"\"}}, \"type\": \"histogram\"}], \"histogram2d\": [{\"colorbar\": {\"outlinewidth\": 0, \"ticks\": \"\"}, \"colorscale\": [[0.0, \"#0d0887\"], [0.1111111111111111, \"#46039f\"], [0.2222222222222222, \"#7201a8\"], [0.3333333333333333, \"#9c179e\"], [0.4444444444444444, \"#bd3786\"], [0.5555555555555556, \"#d8576b\"], [0.6666666666666666, \"#ed7953\"], [0.7777777777777778, \"#fb9f3a\"], [0.8888888888888888, \"#fdca26\"], [1.0, \"#f0f921\"]], \"type\": \"histogram2d\"}], \"histogram2dcontour\": [{\"colorbar\": {\"outlinewidth\": 0, \"ticks\": \"\"}, \"colorscale\": [[0.0, \"#0d0887\"], [0.1111111111111111, \"#46039f\"], [0.2222222222222222, \"#7201a8\"], [0.3333333333333333, \"#9c179e\"], [0.4444444444444444, \"#bd3786\"], [0.5555555555555556, \"#d8576b\"], [0.6666666666666666, \"#ed7953\"], [0.7777777777777778, \"#fb9f3a\"], [0.8888888888888888, \"#fdca26\"], [1.0, \"#f0f921\"]], \"type\": \"histogram2dcontour\"}], \"mesh3d\": [{\"colorbar\": {\"outlinewidth\": 0, \"ticks\": \"\"}, \"type\": \"mesh3d\"}], \"parcoords\": [{\"line\": {\"colorbar\": {\"outlinewidth\": 0, \"ticks\": \"\"}}, \"type\": \"parcoords\"}], \"scatter\": [{\"marker\": {\"colorbar\": {\"outlinewidth\": 0, \"ticks\": \"\"}}, \"type\": \"scatter\"}], \"scatter3d\": [{\"line\": {\"colorbar\": {\"outlinewidth\": 0, \"ticks\": \"\"}}, \"marker\": {\"colorbar\": {\"outlinewidth\": 0, \"ticks\": \"\"}}, \"type\": \"scatter3d\"}], \"scattercarpet\": [{\"marker\": {\"colorbar\": {\"outlinewidth\": 0, \"ticks\": \"\"}}, \"type\": \"scattercarpet\"}], \"scattergeo\": [{\"marker\": {\"colorbar\": {\"outlinewidth\": 0, \"ticks\": \"\"}}, \"type\": \"scattergeo\"}], \"scattergl\": [{\"marker\": {\"colorbar\": {\"outlinewidth\": 0, \"ticks\": \"\"}}, \"type\": \"scattergl\"}], \"scattermapbox\": [{\"marker\": {\"colorbar\": {\"outlinewidth\": 0, \"ticks\": \"\"}}, \"type\": \"scattermapbox\"}], \"scatterpolar\": [{\"marker\": {\"colorbar\": {\"outlinewidth\": 0, \"ticks\": \"\"}}, \"type\": \"scatterpolar\"}], \"scatterpolargl\": [{\"marker\": {\"colorbar\": {\"outlinewidth\": 0, \"ticks\": \"\"}}, \"type\": \"scatterpolargl\"}], \"scatterternary\": [{\"marker\": {\"colorbar\": {\"outlinewidth\": 0, \"ticks\": \"\"}}, \"type\": \"scatterternary\"}], \"surface\": [{\"colorbar\": {\"outlinewidth\": 0, \"ticks\": \"\"}, \"colorscale\": [[0.0, \"#0d0887\"], [0.1111111111111111, \"#46039f\"], [0.2222222222222222, \"#7201a8\"], [0.3333333333333333, \"#9c179e\"], [0.4444444444444444, \"#bd3786\"], [0.5555555555555556, \"#d8576b\"], [0.6666666666666666, \"#ed7953\"], [0.7777777777777778, \"#fb9f3a\"], [0.8888888888888888, \"#fdca26\"], [1.0, \"#f0f921\"]], \"type\": \"surface\"}], \"table\": [{\"cells\": {\"fill\": {\"color\": \"#EBF0F8\"}, \"line\": {\"color\": \"white\"}}, \"header\": {\"fill\": {\"color\": \"#C8D4E3\"}, \"line\": {\"color\": \"white\"}}, \"type\": \"table\"}]}, \"layout\": {\"annotationdefaults\": {\"arrowcolor\": \"#2a3f5f\", \"arrowhead\": 0, \"arrowwidth\": 1}, \"colorscale\": {\"diverging\": [[0, \"#8e0152\"], [0.1, \"#c51b7d\"], [0.2, \"#de77ae\"], [0.3, \"#f1b6da\"], [0.4, \"#fde0ef\"], [0.5, \"#f7f7f7\"], [0.6, \"#e6f5d0\"], [0.7, \"#b8e186\"], [0.8, \"#7fbc41\"], [0.9, \"#4d9221\"], [1, \"#276419\"]], \"sequential\": [[0.0, \"#0d0887\"], [0.1111111111111111, \"#46039f\"], [0.2222222222222222, \"#7201a8\"], [0.3333333333333333, \"#9c179e\"], [0.4444444444444444, \"#bd3786\"], [0.5555555555555556, \"#d8576b\"], [0.6666666666666666, \"#ed7953\"], [0.7777777777777778, \"#fb9f3a\"], [0.8888888888888888, \"#fdca26\"], [1.0, \"#f0f921\"]], \"sequentialminus\": [[0.0, \"#0d0887\"], [0.1111111111111111, \"#46039f\"], [0.2222222222222222, \"#7201a8\"], [0.3333333333333333, \"#9c179e\"], [0.4444444444444444, \"#bd3786\"], [0.5555555555555556, \"#d8576b\"], [0.6666666666666666, \"#ed7953\"], [0.7777777777777778, \"#fb9f3a\"], [0.8888888888888888, \"#fdca26\"], [1.0, \"#f0f921\"]]}, \"colorway\": [\"#636efa\", \"#EF553B\", \"#00cc96\", \"#ab63fa\", \"#FFA15A\", \"#19d3f3\", \"#FF6692\", \"#B6E880\", \"#FF97FF\", \"#FECB52\"], \"font\": {\"color\": \"#2a3f5f\"}, \"geo\": {\"bgcolor\": \"white\", \"lakecolor\": \"white\", \"landcolor\": \"#E5ECF6\", \"showlakes\": true, \"showland\": true, \"subunitcolor\": \"white\"}, \"hoverlabel\": {\"align\": \"left\"}, \"hovermode\": \"closest\", \"mapbox\": {\"style\": \"light\"}, \"paper_bgcolor\": \"white\", \"plot_bgcolor\": \"#E5ECF6\", \"polar\": {\"angularaxis\": {\"gridcolor\": \"white\", \"linecolor\": \"white\", \"ticks\": \"\"}, \"bgcolor\": \"#E5ECF6\", \"radialaxis\": {\"gridcolor\": \"white\", \"linecolor\": \"white\", \"ticks\": \"\"}}, \"scene\": {\"xaxis\": {\"backgroundcolor\": \"#E5ECF6\", \"gridcolor\": \"white\", \"gridwidth\": 2, \"linecolor\": \"white\", \"showbackground\": true, \"ticks\": \"\", \"zerolinecolor\": \"white\"}, \"yaxis\": {\"backgroundcolor\": \"#E5ECF6\", \"gridcolor\": \"white\", \"gridwidth\": 2, \"linecolor\": \"white\", \"showbackground\": true, \"ticks\": \"\", \"zerolinecolor\": \"white\"}, \"zaxis\": {\"backgroundcolor\": \"#E5ECF6\", \"gridcolor\": \"white\", \"gridwidth\": 2, \"linecolor\": \"white\", \"showbackground\": true, \"ticks\": \"\", \"zerolinecolor\": \"white\"}}, \"shapedefaults\": {\"line\": {\"color\": \"#2a3f5f\"}}, \"ternary\": {\"aaxis\": {\"gridcolor\": \"white\", \"linecolor\": \"white\", \"ticks\": \"\"}, \"baxis\": {\"gridcolor\": \"white\", \"linecolor\": \"white\", \"ticks\": \"\"}, \"bgcolor\": \"#E5ECF6\", \"caxis\": {\"gridcolor\": \"white\", \"linecolor\": \"white\", \"ticks\": \"\"}}, \"title\": {\"x\": 0.05}, \"xaxis\": {\"automargin\": true, \"gridcolor\": \"white\", \"linecolor\": \"white\", \"ticks\": \"\", \"zerolinecolor\": \"white\", \"zerolinewidth\": 2}, \"yaxis\": {\"automargin\": true, \"gridcolor\": \"white\", \"linecolor\": \"white\", \"ticks\": \"\", \"zerolinecolor\": \"white\", \"zerolinewidth\": 2}}}, \"title\": {\"text\": \"Trie\"}, \"width\": 1000, \"xaxis\": {\"showgrid\": false, \"showline\": false, \"showticklabels\": false, \"zeroline\": false}, \"yaxis\": {\"showgrid\": false, \"showline\": false, \"showticklabels\": false, \"zeroline\": false}},\n",
       "                        {\"responsive\": true}\n",
       "                    ).then(function(){\n",
       "                            \n",
       "var gd = document.getElementById('09aabd75-b720-4af1-a62d-64bc2e31ea1a');\n",
       "var x = new MutationObserver(function (mutations, observer) {{\n",
       "        var display = window.getComputedStyle(gd).display;\n",
       "        if (!display || display === 'none') {{\n",
       "            console.log([gd, 'removed!']);\n",
       "            Plotly.purge(gd);\n",
       "            observer.disconnect();\n",
       "        }}\n",
       "}});\n",
       "\n",
       "// Listen for the removal of the full notebook cells\n",
       "var notebookContainer = gd.closest('#notebook-container');\n",
       "if (notebookContainer) {{\n",
       "    x.observe(notebookContainer, {childList: true});\n",
       "}}\n",
       "\n",
       "// Listen for the clearing of the current output cell\n",
       "var outputEl = gd.closest('.output');\n",
       "if (outputEl) {{\n",
       "    x.observe(outputEl, {childList: true});\n",
       "}}\n",
       "\n",
       "                        })\n",
       "                };\n",
       "                });\n",
       "            </script>\n",
       "        </div>"
      ]
     },
     "metadata": {},
     "output_type": "display_data"
    },
    {
     "data": {
      "application/vnd.plotly.v1+json": {
       "config": {
        "plotlyServerURL": "https://plot.ly"
       },
       "data": [
        {
         "hoverinfo": "none",
         "line": {
          "color": "rgb(160,160,160)",
          "width": 2
         },
         "mode": "lines",
         "type": "scatter",
         "uid": "f6a09195-5358-4bdc-9270-bcf4babbfe90",
         "x": [
          1822.5,
          1822.5,
          null,
          1822.5,
          1323.5,
          null,
          1822.5,
          1822.5,
          null,
          1822.5,
          2155.5,
          null,
          1323.5,
          992.49,
          null,
          1323.5,
          1323.5,
          null,
          1822.5,
          1822.5,
          null,
          2155.5,
          2157.5,
          null,
          992.49,
          992.49,
          null,
          1323.5,
          1323.5,
          null,
          1822.5,
          1822.5,
          null,
          2157.5,
          2158.5,
          null,
          992.49,
          991.49,
          null,
          1323.5,
          1323.5,
          null,
          991.49,
          990.49,
          null,
          990.49,
          988.49,
          null,
          988.49,
          825.49,
          null,
          825.49,
          492.49,
          null,
          825.49,
          825.49,
          null,
          492.49,
          489.49,
          null,
          825.49,
          825.49,
          null,
          489.49,
          159.49,
          null,
          489.49,
          489.49,
          null,
          825.49,
          825.49,
          null,
          159.49,
          157.49,
          null,
          489.49,
          489.49,
          null,
          157.49,
          156.49,
          null,
          489.49,
          489.49,
          null,
          156.49,
          156.49,
          null,
          156.49,
          156.49,
          null,
          156.49,
          156.49,
          null,
          489.49,
          489.49,
          null,
          489.49,
          490.49,
          null,
          490.49,
          490.49,
          null,
          490.49,
          490.49,
          null,
          490.49,
          490.49,
          null,
          825.49,
          825.49,
          null,
          825.49,
          825.49,
          null,
          825.49,
          825.49,
          null,
          1323.5,
          1323.5,
          null,
          1323.5,
          1323.5,
          null,
          1323.5,
          1323.5,
          null,
          1323.5,
          1323.5,
          null,
          1323.5,
          1323.5,
          null,
          1323.5,
          1323.5,
          null,
          1323.5,
          1323.5,
          null,
          1323.5,
          1159.5,
          null,
          1323.5,
          1490.5,
          null,
          1159.5,
          1159.5,
          null,
          1490.5,
          1491.5,
          null,
          1159.5,
          1159.5,
          null,
          1491.5,
          1491.5,
          null,
          1491.5,
          1490.5,
          null,
          1490.5,
          1490.5,
          null,
          1490.5,
          1490.5,
          null,
          1822.5,
          1822.5,
          null,
          1822.5,
          1822.5,
          null,
          1822.5,
          1822.5,
          null,
          1822.5,
          1822.5,
          null,
          1822.5,
          1822.5,
          null,
          1822.5,
          1823.5,
          null,
          1823.5,
          1823.5,
          null,
          1823.5,
          1823.5,
          null,
          1823.5,
          1823.5,
          null,
          1823.5,
          1824.5,
          null,
          1824.5,
          1824.5,
          null,
          1824.5,
          1824.5,
          null,
          2158.5,
          2158.5,
          null,
          2158.5,
          2158.5,
          null,
          2158.5,
          2158.5,
          null,
          2158.5,
          2158.5,
          null,
          2158.5,
          2158.5,
          null,
          2158.5,
          2158.5,
          null,
          2158.5,
          2158.5,
          null,
          2158.5,
          2158.5,
          null,
          2158.5,
          2158.5,
          null,
          2158.5,
          2158.5,
          null
         ],
         "y": [
          1314,
          1242,
          null,
          1242,
          1170,
          null,
          1242,
          1170,
          null,
          1242,
          1170,
          null,
          1170,
          1098,
          null,
          1170,
          1098,
          null,
          1170,
          1098,
          null,
          1170,
          1098,
          null,
          1098,
          1026,
          null,
          1098,
          1026,
          null,
          1098,
          1026,
          null,
          1098,
          1026,
          null,
          1026,
          954,
          null,
          1026,
          954,
          null,
          954,
          882,
          null,
          882,
          810,
          null,
          810,
          738,
          null,
          738,
          666,
          null,
          738,
          666,
          null,
          666,
          594,
          null,
          666,
          594,
          null,
          594,
          522,
          null,
          594,
          522,
          null,
          594,
          522,
          null,
          522,
          450,
          null,
          522,
          450,
          null,
          450,
          378,
          null,
          450,
          378,
          null,
          378,
          306,
          null,
          306,
          234,
          null,
          234,
          162,
          null,
          378,
          306,
          null,
          306,
          234,
          null,
          234,
          162,
          null,
          162,
          90,
          null,
          90,
          18,
          null,
          522,
          450,
          null,
          450,
          378,
          null,
          378,
          306,
          null,
          954,
          882,
          null,
          882,
          810,
          null,
          810,
          738,
          null,
          738,
          666,
          null,
          666,
          594,
          null,
          594,
          522,
          null,
          522,
          450,
          null,
          450,
          378,
          null,
          450,
          378,
          null,
          378,
          306,
          null,
          378,
          306,
          null,
          306,
          234,
          null,
          306,
          234,
          null,
          234,
          162,
          null,
          162,
          90,
          null,
          90,
          18,
          null,
          1026,
          954,
          null,
          954,
          882,
          null,
          882,
          810,
          null,
          810,
          738,
          null,
          738,
          666,
          null,
          666,
          594,
          null,
          594,
          522,
          null,
          522,
          450,
          null,
          450,
          378,
          null,
          378,
          306,
          null,
          306,
          234,
          null,
          234,
          162,
          null,
          1026,
          954,
          null,
          954,
          882,
          null,
          882,
          810,
          null,
          810,
          738,
          null,
          738,
          666,
          null,
          666,
          594,
          null,
          594,
          522,
          null,
          522,
          450,
          null,
          450,
          378,
          null,
          378,
          306,
          null
         ]
        },
        {
         "hoverinfo": "none",
         "marker": {
          "color": "rgb(100,100,100)",
          "line": {
           "color": "rgb(100,100,100)",
           "width": 1
          },
          "size": 18
         },
         "mode": "markers+text",
         "name": "",
         "text": [
          null
         ],
         "type": "scatter",
         "uid": "4deb01a7-e083-430e-9a95-b9ab5d01e995",
         "x": [
          1822.5
         ],
         "y": [
          1314
         ]
        },
        {
         "hoverinfo": "none",
         "marker": {
          "color": "rgb(101,214,67)",
          "line": {
           "color": "rgb(100,100,100)",
           "width": 1
          },
          "size": 18
         },
         "mode": "markers+text",
         "name": "",
         "text": [
          "dynamic",
          "dynamic",
          "dynamic",
          "dynamic"
         ],
         "type": "scatter",
         "uid": "4fab8708-ce54-474d-bcd0-75025c003bc2",
         "x": [
          988.49,
          1159.5,
          1822.5,
          2158.5
         ],
         "y": [
          810,
          234,
          738,
          738
         ]
        },
        {
         "hoverinfo": "none",
         "marker": {
          "color": "rgb(247,185,43)",
          "line": {
           "color": "rgb(100,100,100)",
           "width": 1
          },
          "size": 18
         },
         "mode": "markers+text",
         "name": "",
         "text": [
          "/",
          "/",
          "/",
          "/",
          "/",
          "/",
          "/",
          "/"
         ],
         "type": "scatter",
         "uid": "c702b823-0b9d-4ed2-8644-b474cc7bf1ad",
         "x": [
          1822.5,
          990.49,
          825.49,
          1159.5,
          1822.5,
          1822.5,
          2158.5,
          2158.5
         ],
         "y": [
          1242,
          882,
          738,
          306,
          810,
          666,
          810,
          666
         ]
        },
        {
         "hoverinfo": "none",
         "marker": {
          "color": "rgb(24,140,216)",
          "line": {
           "color": "rgb(100,100,100)",
           "width": 1
          },
          "size": 18
         },
         "mode": "markers+text",
         "name": "",
         "text": [
          "a",
          "u",
          "p",
          "p",
          "c",
          "s",
          "o",
          "p",
          "h",
          "s",
          "a",
          "e",
          "c",
          "v",
          "c",
          "t",
          "o",
          "i",
          "u",
          "n",
          "t",
          "s",
          "v",
          "i",
          "t",
          "i",
          "e",
          "s",
          "e",
          "n",
          "t",
          "s",
          "i",
          "e",
          "v",
          "e",
          "m",
          "e",
          "n",
          "t",
          "s",
          "-",
          "t",
          "y",
          "p",
          "e",
          "s",
          "e",
          "r",
          "s",
          "f",
          "r",
          "i",
          "e",
          "n",
          "d",
          "s",
          "s",
          "t",
          "s",
          "l",
          "i",
          "k",
          "e",
          "s"
         ],
         "type": "scatter",
         "uid": "dd2a5a79-56a5-4b66-9ff2-82b15dced8b1",
         "x": [
          1323.5,
          1822.5,
          2155.5,
          992.49,
          1323.5,
          1822.5,
          2157.5,
          992.49,
          1323.5,
          991.49,
          492.49,
          825.49,
          489.49,
          825.49,
          159.49,
          489.49,
          157.49,
          489.49,
          156.49,
          156.49,
          156.49,
          156.49,
          489.49,
          489.49,
          490.49,
          490.49,
          490.49,
          490.49,
          825.49,
          825.49,
          825.49,
          825.49,
          1323.5,
          1323.5,
          1323.5,
          1323.5,
          1323.5,
          1323.5,
          1323.5,
          1323.5,
          1159.5,
          1490.5,
          1491.5,
          1491.5,
          1490.5,
          1490.5,
          1490.5,
          1822.5,
          1822.5,
          1822.5,
          1823.5,
          1823.5,
          1823.5,
          1823.5,
          1824.5,
          1824.5,
          1824.5,
          2158.5,
          2158.5,
          2158.5,
          2158.5,
          2158.5,
          2158.5,
          2158.5,
          2158.5
         ],
         "y": [
          1170,
          1170,
          1170,
          1098,
          1098,
          1098,
          1098,
          1026,
          1026,
          954,
          666,
          666,
          594,
          594,
          522,
          522,
          450,
          450,
          378,
          306,
          234,
          162,
          378,
          306,
          234,
          162,
          90,
          18,
          522,
          450,
          378,
          306,
          954,
          882,
          810,
          738,
          666,
          594,
          522,
          450,
          378,
          378,
          306,
          234,
          162,
          90,
          18,
          1026,
          954,
          882,
          594,
          522,
          450,
          378,
          306,
          234,
          162,
          1026,
          954,
          882,
          594,
          522,
          450,
          378,
          306
         ]
        }
       ],
       "layout": {
        "font": {
         "size": 15
        },
        "height": 800,
        "hovermode": "closest",
        "margin": {
         "b": 85,
         "l": 40,
         "r": 40,
         "t": 100
        },
        "plot_bgcolor": "rgb(248,248,248)",
        "showlegend": false,
        "template": {
         "data": {
          "bar": [
           {
            "error_x": {
             "color": "#2a3f5f"
            },
            "error_y": {
             "color": "#2a3f5f"
            },
            "marker": {
             "line": {
              "color": "#E5ECF6",
              "width": 0.5
             }
            },
            "type": "bar"
           }
          ],
          "barpolar": [
           {
            "marker": {
             "line": {
              "color": "#E5ECF6",
              "width": 0.5
             }
            },
            "type": "barpolar"
           }
          ],
          "carpet": [
           {
            "aaxis": {
             "endlinecolor": "#2a3f5f",
             "gridcolor": "white",
             "linecolor": "white",
             "minorgridcolor": "white",
             "startlinecolor": "#2a3f5f"
            },
            "baxis": {
             "endlinecolor": "#2a3f5f",
             "gridcolor": "white",
             "linecolor": "white",
             "minorgridcolor": "white",
             "startlinecolor": "#2a3f5f"
            },
            "type": "carpet"
           }
          ],
          "choropleth": [
           {
            "colorbar": {
             "outlinewidth": 0,
             "ticks": ""
            },
            "type": "choropleth"
           }
          ],
          "contour": [
           {
            "colorbar": {
             "outlinewidth": 0,
             "ticks": ""
            },
            "colorscale": [
             [
              0,
              "#0d0887"
             ],
             [
              0.1111111111111111,
              "#46039f"
             ],
             [
              0.2222222222222222,
              "#7201a8"
             ],
             [
              0.3333333333333333,
              "#9c179e"
             ],
             [
              0.4444444444444444,
              "#bd3786"
             ],
             [
              0.5555555555555556,
              "#d8576b"
             ],
             [
              0.6666666666666666,
              "#ed7953"
             ],
             [
              0.7777777777777778,
              "#fb9f3a"
             ],
             [
              0.8888888888888888,
              "#fdca26"
             ],
             [
              1,
              "#f0f921"
             ]
            ],
            "type": "contour"
           }
          ],
          "contourcarpet": [
           {
            "colorbar": {
             "outlinewidth": 0,
             "ticks": ""
            },
            "type": "contourcarpet"
           }
          ],
          "heatmap": [
           {
            "colorbar": {
             "outlinewidth": 0,
             "ticks": ""
            },
            "colorscale": [
             [
              0,
              "#0d0887"
             ],
             [
              0.1111111111111111,
              "#46039f"
             ],
             [
              0.2222222222222222,
              "#7201a8"
             ],
             [
              0.3333333333333333,
              "#9c179e"
             ],
             [
              0.4444444444444444,
              "#bd3786"
             ],
             [
              0.5555555555555556,
              "#d8576b"
             ],
             [
              0.6666666666666666,
              "#ed7953"
             ],
             [
              0.7777777777777778,
              "#fb9f3a"
             ],
             [
              0.8888888888888888,
              "#fdca26"
             ],
             [
              1,
              "#f0f921"
             ]
            ],
            "type": "heatmap"
           }
          ],
          "heatmapgl": [
           {
            "colorbar": {
             "outlinewidth": 0,
             "ticks": ""
            },
            "colorscale": [
             [
              0,
              "#0d0887"
             ],
             [
              0.1111111111111111,
              "#46039f"
             ],
             [
              0.2222222222222222,
              "#7201a8"
             ],
             [
              0.3333333333333333,
              "#9c179e"
             ],
             [
              0.4444444444444444,
              "#bd3786"
             ],
             [
              0.5555555555555556,
              "#d8576b"
             ],
             [
              0.6666666666666666,
              "#ed7953"
             ],
             [
              0.7777777777777778,
              "#fb9f3a"
             ],
             [
              0.8888888888888888,
              "#fdca26"
             ],
             [
              1,
              "#f0f921"
             ]
            ],
            "type": "heatmapgl"
           }
          ],
          "histogram": [
           {
            "marker": {
             "colorbar": {
              "outlinewidth": 0,
              "ticks": ""
             }
            },
            "type": "histogram"
           }
          ],
          "histogram2d": [
           {
            "colorbar": {
             "outlinewidth": 0,
             "ticks": ""
            },
            "colorscale": [
             [
              0,
              "#0d0887"
             ],
             [
              0.1111111111111111,
              "#46039f"
             ],
             [
              0.2222222222222222,
              "#7201a8"
             ],
             [
              0.3333333333333333,
              "#9c179e"
             ],
             [
              0.4444444444444444,
              "#bd3786"
             ],
             [
              0.5555555555555556,
              "#d8576b"
             ],
             [
              0.6666666666666666,
              "#ed7953"
             ],
             [
              0.7777777777777778,
              "#fb9f3a"
             ],
             [
              0.8888888888888888,
              "#fdca26"
             ],
             [
              1,
              "#f0f921"
             ]
            ],
            "type": "histogram2d"
           }
          ],
          "histogram2dcontour": [
           {
            "colorbar": {
             "outlinewidth": 0,
             "ticks": ""
            },
            "colorscale": [
             [
              0,
              "#0d0887"
             ],
             [
              0.1111111111111111,
              "#46039f"
             ],
             [
              0.2222222222222222,
              "#7201a8"
             ],
             [
              0.3333333333333333,
              "#9c179e"
             ],
             [
              0.4444444444444444,
              "#bd3786"
             ],
             [
              0.5555555555555556,
              "#d8576b"
             ],
             [
              0.6666666666666666,
              "#ed7953"
             ],
             [
              0.7777777777777778,
              "#fb9f3a"
             ],
             [
              0.8888888888888888,
              "#fdca26"
             ],
             [
              1,
              "#f0f921"
             ]
            ],
            "type": "histogram2dcontour"
           }
          ],
          "mesh3d": [
           {
            "colorbar": {
             "outlinewidth": 0,
             "ticks": ""
            },
            "type": "mesh3d"
           }
          ],
          "parcoords": [
           {
            "line": {
             "colorbar": {
              "outlinewidth": 0,
              "ticks": ""
             }
            },
            "type": "parcoords"
           }
          ],
          "scatter": [
           {
            "marker": {
             "colorbar": {
              "outlinewidth": 0,
              "ticks": ""
             }
            },
            "type": "scatter"
           }
          ],
          "scatter3d": [
           {
            "line": {
             "colorbar": {
              "outlinewidth": 0,
              "ticks": ""
             }
            },
            "marker": {
             "colorbar": {
              "outlinewidth": 0,
              "ticks": ""
             }
            },
            "type": "scatter3d"
           }
          ],
          "scattercarpet": [
           {
            "marker": {
             "colorbar": {
              "outlinewidth": 0,
              "ticks": ""
             }
            },
            "type": "scattercarpet"
           }
          ],
          "scattergeo": [
           {
            "marker": {
             "colorbar": {
              "outlinewidth": 0,
              "ticks": ""
             }
            },
            "type": "scattergeo"
           }
          ],
          "scattergl": [
           {
            "marker": {
             "colorbar": {
              "outlinewidth": 0,
              "ticks": ""
             }
            },
            "type": "scattergl"
           }
          ],
          "scattermapbox": [
           {
            "marker": {
             "colorbar": {
              "outlinewidth": 0,
              "ticks": ""
             }
            },
            "type": "scattermapbox"
           }
          ],
          "scatterpolar": [
           {
            "marker": {
             "colorbar": {
              "outlinewidth": 0,
              "ticks": ""
             }
            },
            "type": "scatterpolar"
           }
          ],
          "scatterpolargl": [
           {
            "marker": {
             "colorbar": {
              "outlinewidth": 0,
              "ticks": ""
             }
            },
            "type": "scatterpolargl"
           }
          ],
          "scatterternary": [
           {
            "marker": {
             "colorbar": {
              "outlinewidth": 0,
              "ticks": ""
             }
            },
            "type": "scatterternary"
           }
          ],
          "surface": [
           {
            "colorbar": {
             "outlinewidth": 0,
             "ticks": ""
            },
            "colorscale": [
             [
              0,
              "#0d0887"
             ],
             [
              0.1111111111111111,
              "#46039f"
             ],
             [
              0.2222222222222222,
              "#7201a8"
             ],
             [
              0.3333333333333333,
              "#9c179e"
             ],
             [
              0.4444444444444444,
              "#bd3786"
             ],
             [
              0.5555555555555556,
              "#d8576b"
             ],
             [
              0.6666666666666666,
              "#ed7953"
             ],
             [
              0.7777777777777778,
              "#fb9f3a"
             ],
             [
              0.8888888888888888,
              "#fdca26"
             ],
             [
              1,
              "#f0f921"
             ]
            ],
            "type": "surface"
           }
          ],
          "table": [
           {
            "cells": {
             "fill": {
              "color": "#EBF0F8"
             },
             "line": {
              "color": "white"
             }
            },
            "header": {
             "fill": {
              "color": "#C8D4E3"
             },
             "line": {
              "color": "white"
             }
            },
            "type": "table"
           }
          ]
         },
         "layout": {
          "annotationdefaults": {
           "arrowcolor": "#2a3f5f",
           "arrowhead": 0,
           "arrowwidth": 1
          },
          "colorscale": {
           "diverging": [
            [
             0,
             "#8e0152"
            ],
            [
             0.1,
             "#c51b7d"
            ],
            [
             0.2,
             "#de77ae"
            ],
            [
             0.3,
             "#f1b6da"
            ],
            [
             0.4,
             "#fde0ef"
            ],
            [
             0.5,
             "#f7f7f7"
            ],
            [
             0.6,
             "#e6f5d0"
            ],
            [
             0.7,
             "#b8e186"
            ],
            [
             0.8,
             "#7fbc41"
            ],
            [
             0.9,
             "#4d9221"
            ],
            [
             1,
             "#276419"
            ]
           ],
           "sequential": [
            [
             0,
             "#0d0887"
            ],
            [
             0.1111111111111111,
             "#46039f"
            ],
            [
             0.2222222222222222,
             "#7201a8"
            ],
            [
             0.3333333333333333,
             "#9c179e"
            ],
            [
             0.4444444444444444,
             "#bd3786"
            ],
            [
             0.5555555555555556,
             "#d8576b"
            ],
            [
             0.6666666666666666,
             "#ed7953"
            ],
            [
             0.7777777777777778,
             "#fb9f3a"
            ],
            [
             0.8888888888888888,
             "#fdca26"
            ],
            [
             1,
             "#f0f921"
            ]
           ],
           "sequentialminus": [
            [
             0,
             "#0d0887"
            ],
            [
             0.1111111111111111,
             "#46039f"
            ],
            [
             0.2222222222222222,
             "#7201a8"
            ],
            [
             0.3333333333333333,
             "#9c179e"
            ],
            [
             0.4444444444444444,
             "#bd3786"
            ],
            [
             0.5555555555555556,
             "#d8576b"
            ],
            [
             0.6666666666666666,
             "#ed7953"
            ],
            [
             0.7777777777777778,
             "#fb9f3a"
            ],
            [
             0.8888888888888888,
             "#fdca26"
            ],
            [
             1,
             "#f0f921"
            ]
           ]
          },
          "colorway": [
           "#636efa",
           "#EF553B",
           "#00cc96",
           "#ab63fa",
           "#FFA15A",
           "#19d3f3",
           "#FF6692",
           "#B6E880",
           "#FF97FF",
           "#FECB52"
          ],
          "font": {
           "color": "#2a3f5f"
          },
          "geo": {
           "bgcolor": "white",
           "lakecolor": "white",
           "landcolor": "#E5ECF6",
           "showlakes": true,
           "showland": true,
           "subunitcolor": "white"
          },
          "hoverlabel": {
           "align": "left"
          },
          "hovermode": "closest",
          "mapbox": {
           "style": "light"
          },
          "paper_bgcolor": "white",
          "plot_bgcolor": "#E5ECF6",
          "polar": {
           "angularaxis": {
            "gridcolor": "white",
            "linecolor": "white",
            "ticks": ""
           },
           "bgcolor": "#E5ECF6",
           "radialaxis": {
            "gridcolor": "white",
            "linecolor": "white",
            "ticks": ""
           }
          },
          "scene": {
           "xaxis": {
            "backgroundcolor": "#E5ECF6",
            "gridcolor": "white",
            "gridwidth": 2,
            "linecolor": "white",
            "showbackground": true,
            "ticks": "",
            "zerolinecolor": "white"
           },
           "yaxis": {
            "backgroundcolor": "#E5ECF6",
            "gridcolor": "white",
            "gridwidth": 2,
            "linecolor": "white",
            "showbackground": true,
            "ticks": "",
            "zerolinecolor": "white"
           },
           "zaxis": {
            "backgroundcolor": "#E5ECF6",
            "gridcolor": "white",
            "gridwidth": 2,
            "linecolor": "white",
            "showbackground": true,
            "ticks": "",
            "zerolinecolor": "white"
           }
          },
          "shapedefaults": {
           "line": {
            "color": "#2a3f5f"
           }
          },
          "ternary": {
           "aaxis": {
            "gridcolor": "white",
            "linecolor": "white",
            "ticks": ""
           },
           "baxis": {
            "gridcolor": "white",
            "linecolor": "white",
            "ticks": ""
           },
           "bgcolor": "#E5ECF6",
           "caxis": {
            "gridcolor": "white",
            "linecolor": "white",
            "ticks": ""
           }
          },
          "title": {
           "x": 0.05
          },
          "xaxis": {
           "automargin": true,
           "gridcolor": "white",
           "linecolor": "white",
           "ticks": "",
           "zerolinecolor": "white",
           "zerolinewidth": 2
          },
          "yaxis": {
           "automargin": true,
           "gridcolor": "white",
           "linecolor": "white",
           "ticks": "",
           "zerolinecolor": "white",
           "zerolinewidth": 2
          }
         }
        },
        "title": {
         "text": "Trie"
        },
        "width": 1000,
        "xaxis": {
         "showgrid": false,
         "showline": false,
         "showticklabels": false,
         "zeroline": false
        },
        "yaxis": {
         "showgrid": false,
         "showline": false,
         "showticklabels": false,
         "zeroline": false
        }
       }
      },
      "text/html": [
       "<div>\n",
       "        \n",
       "        \n",
       "            <div id=\"3c582827-13cb-476f-93ba-e03975841fe2\" class=\"plotly-graph-div\" style=\"height:800px; width:1000px;\"></div>\n",
       "            <script type=\"text/javascript\">\n",
       "                require([\"plotly\"], function(Plotly) {\n",
       "                    window.PLOTLYENV=window.PLOTLYENV || {};\n",
       "                    \n",
       "                if (document.getElementById(\"3c582827-13cb-476f-93ba-e03975841fe2\")) {\n",
       "                    Plotly.newPlot(\n",
       "                        '3c582827-13cb-476f-93ba-e03975841fe2',\n",
       "                        [{\"hoverinfo\": \"none\", \"line\": {\"color\": \"rgb(160,160,160)\", \"width\": 2}, \"mode\": \"lines\", \"type\": \"scatter\", \"uid\": \"f6a09195-5358-4bdc-9270-bcf4babbfe90\", \"x\": [1822.5, 1822.5, null, 1822.5, 1323.5, null, 1822.5, 1822.5, null, 1822.5, 2155.5, null, 1323.5, 992.49, null, 1323.5, 1323.5, null, 1822.5, 1822.5, null, 2155.5, 2157.5, null, 992.49, 992.49, null, 1323.5, 1323.5, null, 1822.5, 1822.5, null, 2157.5, 2158.5, null, 992.49, 991.49, null, 1323.5, 1323.5, null, 991.49, 990.49, null, 990.49, 988.49, null, 988.49, 825.49, null, 825.49, 492.49, null, 825.49, 825.49, null, 492.49, 489.49, null, 825.49, 825.49, null, 489.49, 159.49, null, 489.49, 489.49, null, 825.49, 825.49, null, 159.49, 157.49, null, 489.49, 489.49, null, 157.49, 156.49, null, 489.49, 489.49, null, 156.49, 156.49, null, 156.49, 156.49, null, 156.49, 156.49, null, 489.49, 489.49, null, 489.49, 490.49, null, 490.49, 490.49, null, 490.49, 490.49, null, 490.49, 490.49, null, 825.49, 825.49, null, 825.49, 825.49, null, 825.49, 825.49, null, 1323.5, 1323.5, null, 1323.5, 1323.5, null, 1323.5, 1323.5, null, 1323.5, 1323.5, null, 1323.5, 1323.5, null, 1323.5, 1323.5, null, 1323.5, 1323.5, null, 1323.5, 1159.5, null, 1323.5, 1490.5, null, 1159.5, 1159.5, null, 1490.5, 1491.5, null, 1159.5, 1159.5, null, 1491.5, 1491.5, null, 1491.5, 1490.5, null, 1490.5, 1490.5, null, 1490.5, 1490.5, null, 1822.5, 1822.5, null, 1822.5, 1822.5, null, 1822.5, 1822.5, null, 1822.5, 1822.5, null, 1822.5, 1822.5, null, 1822.5, 1823.5, null, 1823.5, 1823.5, null, 1823.5, 1823.5, null, 1823.5, 1823.5, null, 1823.5, 1824.5, null, 1824.5, 1824.5, null, 1824.5, 1824.5, null, 2158.5, 2158.5, null, 2158.5, 2158.5, null, 2158.5, 2158.5, null, 2158.5, 2158.5, null, 2158.5, 2158.5, null, 2158.5, 2158.5, null, 2158.5, 2158.5, null, 2158.5, 2158.5, null, 2158.5, 2158.5, null, 2158.5, 2158.5, null], \"y\": [1314.0, 1242.0, null, 1242.0, 1170.0, null, 1242.0, 1170.0, null, 1242.0, 1170.0, null, 1170.0, 1098.0, null, 1170.0, 1098.0, null, 1170.0, 1098.0, null, 1170.0, 1098.0, null, 1098.0, 1026.0, null, 1098.0, 1026.0, null, 1098.0, 1026.0, null, 1098.0, 1026.0, null, 1026.0, 954.0, null, 1026.0, 954.0, null, 954.0, 882.0, null, 882.0, 810.0, null, 810.0, 738.0, null, 738.0, 666.0, null, 738.0, 666.0, null, 666.0, 594.0, null, 666.0, 594.0, null, 594.0, 522.0, null, 594.0, 522.0, null, 594.0, 522.0, null, 522.0, 450.0, null, 522.0, 450.0, null, 450.0, 378.0, null, 450.0, 378.0, null, 378.0, 306.0, null, 306.0, 234.0, null, 234.0, 162.0, null, 378.0, 306.0, null, 306.0, 234.0, null, 234.0, 162.0, null, 162.0, 90.0, null, 90.0, 18.0, null, 522.0, 450.0, null, 450.0, 378.0, null, 378.0, 306.0, null, 954.0, 882.0, null, 882.0, 810.0, null, 810.0, 738.0, null, 738.0, 666.0, null, 666.0, 594.0, null, 594.0, 522.0, null, 522.0, 450.0, null, 450.0, 378.0, null, 450.0, 378.0, null, 378.0, 306.0, null, 378.0, 306.0, null, 306.0, 234.0, null, 306.0, 234.0, null, 234.0, 162.0, null, 162.0, 90.0, null, 90.0, 18.0, null, 1026.0, 954.0, null, 954.0, 882.0, null, 882.0, 810.0, null, 810.0, 738.0, null, 738.0, 666.0, null, 666.0, 594.0, null, 594.0, 522.0, null, 522.0, 450.0, null, 450.0, 378.0, null, 378.0, 306.0, null, 306.0, 234.0, null, 234.0, 162.0, null, 1026.0, 954.0, null, 954.0, 882.0, null, 882.0, 810.0, null, 810.0, 738.0, null, 738.0, 666.0, null, 666.0, 594.0, null, 594.0, 522.0, null, 522.0, 450.0, null, 450.0, 378.0, null, 378.0, 306.0, null]}, {\"hoverinfo\": \"none\", \"marker\": {\"color\": \"rgb(100,100,100)\", \"line\": {\"color\": \"rgb(100,100,100)\", \"width\": 1}, \"size\": 18}, \"mode\": \"markers+text\", \"name\": \"\", \"text\": [null], \"type\": \"scatter\", \"uid\": \"4deb01a7-e083-430e-9a95-b9ab5d01e995\", \"x\": [1822.5], \"y\": [1314.0]}, {\"hoverinfo\": \"none\", \"marker\": {\"color\": \"rgb(101,214,67)\", \"line\": {\"color\": \"rgb(100,100,100)\", \"width\": 1}, \"size\": 18}, \"mode\": \"markers+text\", \"name\": \"\", \"text\": [\"dynamic\", \"dynamic\", \"dynamic\", \"dynamic\"], \"type\": \"scatter\", \"uid\": \"4fab8708-ce54-474d-bcd0-75025c003bc2\", \"x\": [988.49, 1159.5, 1822.5, 2158.5], \"y\": [810.0, 234.0, 738.0, 738.0]}, {\"hoverinfo\": \"none\", \"marker\": {\"color\": \"rgb(247,185,43)\", \"line\": {\"color\": \"rgb(100,100,100)\", \"width\": 1}, \"size\": 18}, \"mode\": \"markers+text\", \"name\": \"\", \"text\": [\"/\", \"/\", \"/\", \"/\", \"/\", \"/\", \"/\", \"/\"], \"type\": \"scatter\", \"uid\": \"c702b823-0b9d-4ed2-8644-b474cc7bf1ad\", \"x\": [1822.5, 990.49, 825.49, 1159.5, 1822.5, 1822.5, 2158.5, 2158.5], \"y\": [1242.0, 882.0, 738.0, 306.0, 810.0, 666.0, 810.0, 666.0]}, {\"hoverinfo\": \"none\", \"marker\": {\"color\": \"rgb(24,140,216)\", \"line\": {\"color\": \"rgb(100,100,100)\", \"width\": 1}, \"size\": 18}, \"mode\": \"markers+text\", \"name\": \"\", \"text\": [\"a\", \"u\", \"p\", \"p\", \"c\", \"s\", \"o\", \"p\", \"h\", \"s\", \"a\", \"e\", \"c\", \"v\", \"c\", \"t\", \"o\", \"i\", \"u\", \"n\", \"t\", \"s\", \"v\", \"i\", \"t\", \"i\", \"e\", \"s\", \"e\", \"n\", \"t\", \"s\", \"i\", \"e\", \"v\", \"e\", \"m\", \"e\", \"n\", \"t\", \"s\", \"-\", \"t\", \"y\", \"p\", \"e\", \"s\", \"e\", \"r\", \"s\", \"f\", \"r\", \"i\", \"e\", \"n\", \"d\", \"s\", \"s\", \"t\", \"s\", \"l\", \"i\", \"k\", \"e\", \"s\"], \"type\": \"scatter\", \"uid\": \"dd2a5a79-56a5-4b66-9ff2-82b15dced8b1\", \"x\": [1323.5, 1822.5, 2155.5, 992.49, 1323.5, 1822.5, 2157.5, 992.49, 1323.5, 991.49, 492.49, 825.49, 489.49, 825.49, 159.49, 489.49, 157.49, 489.49, 156.49, 156.49, 156.49, 156.49, 489.49, 489.49, 490.49, 490.49, 490.49, 490.49, 825.49, 825.49, 825.49, 825.49, 1323.5, 1323.5, 1323.5, 1323.5, 1323.5, 1323.5, 1323.5, 1323.5, 1159.5, 1490.5, 1491.5, 1491.5, 1490.5, 1490.5, 1490.5, 1822.5, 1822.5, 1822.5, 1823.5, 1823.5, 1823.5, 1823.5, 1824.5, 1824.5, 1824.5, 2158.5, 2158.5, 2158.5, 2158.5, 2158.5, 2158.5, 2158.5, 2158.5], \"y\": [1170.0, 1170.0, 1170.0, 1098.0, 1098.0, 1098.0, 1098.0, 1026.0, 1026.0, 954.0, 666.0, 666.0, 594.0, 594.0, 522.0, 522.0, 450.0, 450.0, 378.0, 306.0, 234.0, 162.0, 378.0, 306.0, 234.0, 162.0, 90.0, 18.0, 522.0, 450.0, 378.0, 306.0, 954.0, 882.0, 810.0, 738.0, 666.0, 594.0, 522.0, 450.0, 378.0, 378.0, 306.0, 234.0, 162.0, 90.0, 18.0, 1026.0, 954.0, 882.0, 594.0, 522.0, 450.0, 378.0, 306.0, 234.0, 162.0, 1026.0, 954.0, 882.0, 594.0, 522.0, 450.0, 378.0, 306.0]}],\n",
       "                        {\"font\": {\"size\": 15}, \"height\": 800, \"hovermode\": \"closest\", \"margin\": {\"b\": 85, \"l\": 40, \"r\": 40, \"t\": 100}, \"plot_bgcolor\": \"rgb(248,248,248)\", \"showlegend\": false, \"template\": {\"data\": {\"bar\": [{\"error_x\": {\"color\": \"#2a3f5f\"}, \"error_y\": {\"color\": \"#2a3f5f\"}, \"marker\": {\"line\": {\"color\": \"#E5ECF6\", \"width\": 0.5}}, \"type\": \"bar\"}], \"barpolar\": [{\"marker\": {\"line\": {\"color\": \"#E5ECF6\", \"width\": 0.5}}, \"type\": \"barpolar\"}], \"carpet\": [{\"aaxis\": {\"endlinecolor\": \"#2a3f5f\", \"gridcolor\": \"white\", \"linecolor\": \"white\", \"minorgridcolor\": \"white\", \"startlinecolor\": \"#2a3f5f\"}, \"baxis\": {\"endlinecolor\": \"#2a3f5f\", \"gridcolor\": \"white\", \"linecolor\": \"white\", \"minorgridcolor\": \"white\", \"startlinecolor\": \"#2a3f5f\"}, \"type\": \"carpet\"}], \"choropleth\": [{\"colorbar\": {\"outlinewidth\": 0, \"ticks\": \"\"}, \"type\": \"choropleth\"}], \"contour\": [{\"colorbar\": {\"outlinewidth\": 0, \"ticks\": \"\"}, \"colorscale\": [[0.0, \"#0d0887\"], [0.1111111111111111, \"#46039f\"], [0.2222222222222222, \"#7201a8\"], [0.3333333333333333, \"#9c179e\"], [0.4444444444444444, \"#bd3786\"], [0.5555555555555556, \"#d8576b\"], [0.6666666666666666, \"#ed7953\"], [0.7777777777777778, \"#fb9f3a\"], [0.8888888888888888, \"#fdca26\"], [1.0, \"#f0f921\"]], \"type\": \"contour\"}], \"contourcarpet\": [{\"colorbar\": {\"outlinewidth\": 0, \"ticks\": \"\"}, \"type\": \"contourcarpet\"}], \"heatmap\": [{\"colorbar\": {\"outlinewidth\": 0, \"ticks\": \"\"}, \"colorscale\": [[0.0, \"#0d0887\"], [0.1111111111111111, \"#46039f\"], [0.2222222222222222, \"#7201a8\"], [0.3333333333333333, \"#9c179e\"], [0.4444444444444444, \"#bd3786\"], [0.5555555555555556, \"#d8576b\"], [0.6666666666666666, \"#ed7953\"], [0.7777777777777778, \"#fb9f3a\"], [0.8888888888888888, \"#fdca26\"], [1.0, \"#f0f921\"]], \"type\": \"heatmap\"}], \"heatmapgl\": [{\"colorbar\": {\"outlinewidth\": 0, \"ticks\": \"\"}, \"colorscale\": [[0.0, \"#0d0887\"], [0.1111111111111111, \"#46039f\"], [0.2222222222222222, \"#7201a8\"], [0.3333333333333333, \"#9c179e\"], [0.4444444444444444, \"#bd3786\"], [0.5555555555555556, \"#d8576b\"], [0.6666666666666666, \"#ed7953\"], [0.7777777777777778, \"#fb9f3a\"], [0.8888888888888888, \"#fdca26\"], [1.0, \"#f0f921\"]], \"type\": \"heatmapgl\"}], \"histogram\": [{\"marker\": {\"colorbar\": {\"outlinewidth\": 0, \"ticks\": \"\"}}, \"type\": \"histogram\"}], \"histogram2d\": [{\"colorbar\": {\"outlinewidth\": 0, \"ticks\": \"\"}, \"colorscale\": [[0.0, \"#0d0887\"], [0.1111111111111111, \"#46039f\"], [0.2222222222222222, \"#7201a8\"], [0.3333333333333333, \"#9c179e\"], [0.4444444444444444, \"#bd3786\"], [0.5555555555555556, \"#d8576b\"], [0.6666666666666666, \"#ed7953\"], [0.7777777777777778, \"#fb9f3a\"], [0.8888888888888888, \"#fdca26\"], [1.0, \"#f0f921\"]], \"type\": \"histogram2d\"}], \"histogram2dcontour\": [{\"colorbar\": {\"outlinewidth\": 0, \"ticks\": \"\"}, \"colorscale\": [[0.0, \"#0d0887\"], [0.1111111111111111, \"#46039f\"], [0.2222222222222222, \"#7201a8\"], [0.3333333333333333, \"#9c179e\"], [0.4444444444444444, \"#bd3786\"], [0.5555555555555556, \"#d8576b\"], [0.6666666666666666, \"#ed7953\"], [0.7777777777777778, \"#fb9f3a\"], [0.8888888888888888, \"#fdca26\"], [1.0, \"#f0f921\"]], \"type\": \"histogram2dcontour\"}], \"mesh3d\": [{\"colorbar\": {\"outlinewidth\": 0, \"ticks\": \"\"}, \"type\": \"mesh3d\"}], \"parcoords\": [{\"line\": {\"colorbar\": {\"outlinewidth\": 0, \"ticks\": \"\"}}, \"type\": \"parcoords\"}], \"scatter\": [{\"marker\": {\"colorbar\": {\"outlinewidth\": 0, \"ticks\": \"\"}}, \"type\": \"scatter\"}], \"scatter3d\": [{\"line\": {\"colorbar\": {\"outlinewidth\": 0, \"ticks\": \"\"}}, \"marker\": {\"colorbar\": {\"outlinewidth\": 0, \"ticks\": \"\"}}, \"type\": \"scatter3d\"}], \"scattercarpet\": [{\"marker\": {\"colorbar\": {\"outlinewidth\": 0, \"ticks\": \"\"}}, \"type\": \"scattercarpet\"}], \"scattergeo\": [{\"marker\": {\"colorbar\": {\"outlinewidth\": 0, \"ticks\": \"\"}}, \"type\": \"scattergeo\"}], \"scattergl\": [{\"marker\": {\"colorbar\": {\"outlinewidth\": 0, \"ticks\": \"\"}}, \"type\": \"scattergl\"}], \"scattermapbox\": [{\"marker\": {\"colorbar\": {\"outlinewidth\": 0, \"ticks\": \"\"}}, \"type\": \"scattermapbox\"}], \"scatterpolar\": [{\"marker\": {\"colorbar\": {\"outlinewidth\": 0, \"ticks\": \"\"}}, \"type\": \"scatterpolar\"}], \"scatterpolargl\": [{\"marker\": {\"colorbar\": {\"outlinewidth\": 0, \"ticks\": \"\"}}, \"type\": \"scatterpolargl\"}], \"scatterternary\": [{\"marker\": {\"colorbar\": {\"outlinewidth\": 0, \"ticks\": \"\"}}, \"type\": \"scatterternary\"}], \"surface\": [{\"colorbar\": {\"outlinewidth\": 0, \"ticks\": \"\"}, \"colorscale\": [[0.0, \"#0d0887\"], [0.1111111111111111, \"#46039f\"], [0.2222222222222222, \"#7201a8\"], [0.3333333333333333, \"#9c179e\"], [0.4444444444444444, \"#bd3786\"], [0.5555555555555556, \"#d8576b\"], [0.6666666666666666, \"#ed7953\"], [0.7777777777777778, \"#fb9f3a\"], [0.8888888888888888, \"#fdca26\"], [1.0, \"#f0f921\"]], \"type\": \"surface\"}], \"table\": [{\"cells\": {\"fill\": {\"color\": \"#EBF0F8\"}, \"line\": {\"color\": \"white\"}}, \"header\": {\"fill\": {\"color\": \"#C8D4E3\"}, \"line\": {\"color\": \"white\"}}, \"type\": \"table\"}]}, \"layout\": {\"annotationdefaults\": {\"arrowcolor\": \"#2a3f5f\", \"arrowhead\": 0, \"arrowwidth\": 1}, \"colorscale\": {\"diverging\": [[0, \"#8e0152\"], [0.1, \"#c51b7d\"], [0.2, \"#de77ae\"], [0.3, \"#f1b6da\"], [0.4, \"#fde0ef\"], [0.5, \"#f7f7f7\"], [0.6, \"#e6f5d0\"], [0.7, \"#b8e186\"], [0.8, \"#7fbc41\"], [0.9, \"#4d9221\"], [1, \"#276419\"]], \"sequential\": [[0.0, \"#0d0887\"], [0.1111111111111111, \"#46039f\"], [0.2222222222222222, \"#7201a8\"], [0.3333333333333333, \"#9c179e\"], [0.4444444444444444, \"#bd3786\"], [0.5555555555555556, \"#d8576b\"], [0.6666666666666666, \"#ed7953\"], [0.7777777777777778, \"#fb9f3a\"], [0.8888888888888888, \"#fdca26\"], [1.0, \"#f0f921\"]], \"sequentialminus\": [[0.0, \"#0d0887\"], [0.1111111111111111, \"#46039f\"], [0.2222222222222222, \"#7201a8\"], [0.3333333333333333, \"#9c179e\"], [0.4444444444444444, \"#bd3786\"], [0.5555555555555556, \"#d8576b\"], [0.6666666666666666, \"#ed7953\"], [0.7777777777777778, \"#fb9f3a\"], [0.8888888888888888, \"#fdca26\"], [1.0, \"#f0f921\"]]}, \"colorway\": [\"#636efa\", \"#EF553B\", \"#00cc96\", \"#ab63fa\", \"#FFA15A\", \"#19d3f3\", \"#FF6692\", \"#B6E880\", \"#FF97FF\", \"#FECB52\"], \"font\": {\"color\": \"#2a3f5f\"}, \"geo\": {\"bgcolor\": \"white\", \"lakecolor\": \"white\", \"landcolor\": \"#E5ECF6\", \"showlakes\": true, \"showland\": true, \"subunitcolor\": \"white\"}, \"hoverlabel\": {\"align\": \"left\"}, \"hovermode\": \"closest\", \"mapbox\": {\"style\": \"light\"}, \"paper_bgcolor\": \"white\", \"plot_bgcolor\": \"#E5ECF6\", \"polar\": {\"angularaxis\": {\"gridcolor\": \"white\", \"linecolor\": \"white\", \"ticks\": \"\"}, \"bgcolor\": \"#E5ECF6\", \"radialaxis\": {\"gridcolor\": \"white\", \"linecolor\": \"white\", \"ticks\": \"\"}}, \"scene\": {\"xaxis\": {\"backgroundcolor\": \"#E5ECF6\", \"gridcolor\": \"white\", \"gridwidth\": 2, \"linecolor\": \"white\", \"showbackground\": true, \"ticks\": \"\", \"zerolinecolor\": \"white\"}, \"yaxis\": {\"backgroundcolor\": \"#E5ECF6\", \"gridcolor\": \"white\", \"gridwidth\": 2, \"linecolor\": \"white\", \"showbackground\": true, \"ticks\": \"\", \"zerolinecolor\": \"white\"}, \"zaxis\": {\"backgroundcolor\": \"#E5ECF6\", \"gridcolor\": \"white\", \"gridwidth\": 2, \"linecolor\": \"white\", \"showbackground\": true, \"ticks\": \"\", \"zerolinecolor\": \"white\"}}, \"shapedefaults\": {\"line\": {\"color\": \"#2a3f5f\"}}, \"ternary\": {\"aaxis\": {\"gridcolor\": \"white\", \"linecolor\": \"white\", \"ticks\": \"\"}, \"baxis\": {\"gridcolor\": \"white\", \"linecolor\": \"white\", \"ticks\": \"\"}, \"bgcolor\": \"#E5ECF6\", \"caxis\": {\"gridcolor\": \"white\", \"linecolor\": \"white\", \"ticks\": \"\"}}, \"title\": {\"x\": 0.05}, \"xaxis\": {\"automargin\": true, \"gridcolor\": \"white\", \"linecolor\": \"white\", \"ticks\": \"\", \"zerolinecolor\": \"white\", \"zerolinewidth\": 2}, \"yaxis\": {\"automargin\": true, \"gridcolor\": \"white\", \"linecolor\": \"white\", \"ticks\": \"\", \"zerolinecolor\": \"white\", \"zerolinewidth\": 2}}}, \"title\": {\"text\": \"Trie\"}, \"width\": 1000, \"xaxis\": {\"showgrid\": false, \"showline\": false, \"showticklabels\": false, \"zeroline\": false}, \"yaxis\": {\"showgrid\": false, \"showline\": false, \"showticklabels\": false, \"zeroline\": false}},\n",
       "                        {\"responsive\": true}\n",
       "                    ).then(function(){\n",
       "                            \n",
       "var gd = document.getElementById('3c582827-13cb-476f-93ba-e03975841fe2');\n",
       "var x = new MutationObserver(function (mutations, observer) {{\n",
       "        var display = window.getComputedStyle(gd).display;\n",
       "        if (!display || display === 'none') {{\n",
       "            console.log([gd, 'removed!']);\n",
       "            Plotly.purge(gd);\n",
       "            observer.disconnect();\n",
       "        }}\n",
       "}});\n",
       "\n",
       "// Listen for the removal of the full notebook cells\n",
       "var notebookContainer = gd.closest('#notebook-container');\n",
       "if (notebookContainer) {{\n",
       "    x.observe(notebookContainer, {childList: true});\n",
       "}}\n",
       "\n",
       "// Listen for the clearing of the current output cell\n",
       "var outputEl = gd.closest('.output');\n",
       "if (outputEl) {{\n",
       "    x.observe(outputEl, {childList: true});\n",
       "}}\n",
       "\n",
       "                        })\n",
       "                };\n",
       "                });\n",
       "            </script>\n",
       "        </div>"
      ]
     },
     "metadata": {},
     "output_type": "display_data"
    },
    {
     "data": {
      "application/vnd.plotly.v1+json": {
       "config": {
        "plotlyServerURL": "https://plot.ly"
       },
       "data": [
        {
         "hoverinfo": "none",
         "line": {
          "color": "rgb(160,160,160)",
          "width": 2
         },
         "mode": "lines",
         "type": "scatter",
         "uid": "bee00d2c-92b2-46d6-81c6-1430eb611ef8",
         "x": [
          1822.5,
          1822.5,
          null,
          1822.5,
          1323.5,
          null,
          1822.5,
          1822.5,
          null,
          1822.5,
          2155.5,
          null,
          1323.5,
          992.49,
          null,
          1323.5,
          1323.5,
          null,
          1822.5,
          1822.5,
          null,
          2155.5,
          2157.5,
          null,
          992.49,
          992.49,
          null,
          1323.5,
          1323.5,
          null,
          1822.5,
          1822.5,
          null,
          2157.5,
          2158.5,
          null,
          992.49,
          991.49,
          null,
          1323.5,
          1323.5,
          null,
          991.49,
          990.49,
          null,
          990.49,
          988.49,
          null,
          988.49,
          825.49,
          null,
          825.49,
          492.49,
          null,
          825.49,
          825.49,
          null,
          492.49,
          489.49,
          null,
          825.49,
          825.49,
          null,
          489.49,
          159.49,
          null,
          489.49,
          489.49,
          null,
          825.49,
          825.49,
          null,
          159.49,
          157.49,
          null,
          489.49,
          489.49,
          null,
          157.49,
          156.49,
          null,
          489.49,
          489.49,
          null,
          156.49,
          156.49,
          null,
          156.49,
          156.49,
          null,
          156.49,
          156.49,
          null,
          489.49,
          489.49,
          null,
          489.49,
          490.49,
          null,
          490.49,
          490.49,
          null,
          490.49,
          490.49,
          null,
          490.49,
          490.49,
          null,
          825.49,
          825.49,
          null,
          825.49,
          825.49,
          null,
          825.49,
          825.49,
          null,
          1323.5,
          1323.5,
          null,
          1323.5,
          1323.5,
          null,
          1323.5,
          1323.5,
          null,
          1323.5,
          1323.5,
          null,
          1323.5,
          1323.5,
          null,
          1323.5,
          1323.5,
          null,
          1323.5,
          1323.5,
          null,
          1323.5,
          1159.5,
          null,
          1323.5,
          1490.5,
          null,
          1159.5,
          1159.5,
          null,
          1490.5,
          1491.5,
          null,
          1159.5,
          1159.5,
          null,
          1491.5,
          1491.5,
          null,
          1491.5,
          1490.5,
          null,
          1490.5,
          1490.5,
          null,
          1490.5,
          1490.5,
          null,
          1822.5,
          1822.5,
          null,
          1822.5,
          1822.5,
          null,
          1822.5,
          1822.5,
          null,
          1822.5,
          1822.5,
          null,
          1822.5,
          1822.5,
          null,
          1822.5,
          1823.5,
          null,
          1823.5,
          1823.5,
          null,
          1823.5,
          1823.5,
          null,
          1823.5,
          1823.5,
          null,
          1823.5,
          1824.5,
          null,
          1824.5,
          1824.5,
          null,
          1824.5,
          1824.5,
          null,
          2158.5,
          2158.5,
          null,
          2158.5,
          2158.5,
          null,
          2158.5,
          2158.5,
          null,
          2158.5,
          2158.5,
          null,
          2158.5,
          2158.5,
          null,
          2158.5,
          2158.5,
          null,
          2158.5,
          2158.5,
          null,
          2158.5,
          2158.5,
          null,
          2158.5,
          2158.5,
          null,
          2158.5,
          2158.5,
          null
         ],
         "y": [
          1314,
          1242,
          null,
          1242,
          1170,
          null,
          1242,
          1170,
          null,
          1242,
          1170,
          null,
          1170,
          1098,
          null,
          1170,
          1098,
          null,
          1170,
          1098,
          null,
          1170,
          1098,
          null,
          1098,
          1026,
          null,
          1098,
          1026,
          null,
          1098,
          1026,
          null,
          1098,
          1026,
          null,
          1026,
          954,
          null,
          1026,
          954,
          null,
          954,
          882,
          null,
          882,
          810,
          null,
          810,
          738,
          null,
          738,
          666,
          null,
          738,
          666,
          null,
          666,
          594,
          null,
          666,
          594,
          null,
          594,
          522,
          null,
          594,
          522,
          null,
          594,
          522,
          null,
          522,
          450,
          null,
          522,
          450,
          null,
          450,
          378,
          null,
          450,
          378,
          null,
          378,
          306,
          null,
          306,
          234,
          null,
          234,
          162,
          null,
          378,
          306,
          null,
          306,
          234,
          null,
          234,
          162,
          null,
          162,
          90,
          null,
          90,
          18,
          null,
          522,
          450,
          null,
          450,
          378,
          null,
          378,
          306,
          null,
          954,
          882,
          null,
          882,
          810,
          null,
          810,
          738,
          null,
          738,
          666,
          null,
          666,
          594,
          null,
          594,
          522,
          null,
          522,
          450,
          null,
          450,
          378,
          null,
          450,
          378,
          null,
          378,
          306,
          null,
          378,
          306,
          null,
          306,
          234,
          null,
          306,
          234,
          null,
          234,
          162,
          null,
          162,
          90,
          null,
          90,
          18,
          null,
          1026,
          954,
          null,
          954,
          882,
          null,
          882,
          810,
          null,
          810,
          738,
          null,
          738,
          666,
          null,
          666,
          594,
          null,
          594,
          522,
          null,
          522,
          450,
          null,
          450,
          378,
          null,
          378,
          306,
          null,
          306,
          234,
          null,
          234,
          162,
          null,
          1026,
          954,
          null,
          954,
          882,
          null,
          882,
          810,
          null,
          810,
          738,
          null,
          738,
          666,
          null,
          666,
          594,
          null,
          594,
          522,
          null,
          522,
          450,
          null,
          450,
          378,
          null,
          378,
          306,
          null
         ]
        },
        {
         "hoverinfo": "none",
         "marker": {
          "color": "rgb(100,100,100)",
          "line": {
           "color": "rgb(100,100,100)",
           "width": 1
          },
          "size": 18
         },
         "mode": "markers+text",
         "name": "",
         "text": [
          null
         ],
         "type": "scatter",
         "uid": "381025cc-971d-4975-a243-bcbb90edef19",
         "x": [
          1822.5
         ],
         "y": [
          1314
         ]
        },
        {
         "hoverinfo": "none",
         "marker": {
          "color": "rgb(101,214,67)",
          "line": {
           "color": "rgb(100,100,100)",
           "width": 1
          },
          "size": 18
         },
         "mode": "markers+text",
         "name": "",
         "text": [
          "dynamic",
          "dynamic",
          "dynamic",
          "dynamic"
         ],
         "type": "scatter",
         "uid": "226f14de-7251-46c1-a30e-deddd9432dc6",
         "x": [
          988.49,
          1159.5,
          1822.5,
          2158.5
         ],
         "y": [
          810,
          234,
          738,
          738
         ]
        },
        {
         "hoverinfo": "none",
         "marker": {
          "color": "rgb(247,185,43)",
          "line": {
           "color": "rgb(100,100,100)",
           "width": 1
          },
          "size": 18
         },
         "mode": "markers+text",
         "name": "",
         "text": [
          "/",
          "/",
          "/",
          "/",
          "/",
          "/",
          "/",
          "/"
         ],
         "type": "scatter",
         "uid": "2e899607-7f37-48a7-8b03-a5189aacc187",
         "x": [
          1822.5,
          990.49,
          825.49,
          1159.5,
          1822.5,
          1822.5,
          2158.5,
          2158.5
         ],
         "y": [
          1242,
          882,
          738,
          306,
          810,
          666,
          810,
          666
         ]
        },
        {
         "hoverinfo": "none",
         "marker": {
          "color": "rgb(24,140,216)",
          "line": {
           "color": "rgb(100,100,100)",
           "width": 1
          },
          "size": 18
         },
         "mode": "markers+text",
         "name": "",
         "text": [
          "a",
          "u",
          "p",
          "p",
          "c",
          "s",
          "o",
          "p",
          "h",
          "s",
          "a",
          "e",
          "c",
          "v",
          "c",
          "t",
          "o",
          "i",
          "u",
          "n",
          "t",
          "s",
          "v",
          "i",
          "t",
          "i",
          "e",
          "s",
          "e",
          "n",
          "t",
          "s",
          "i",
          "e",
          "v",
          "e",
          "m",
          "e",
          "n",
          "t",
          "s",
          "-",
          "t",
          "y",
          "p",
          "e",
          "s",
          "e",
          "r",
          "s",
          "f",
          "r",
          "i",
          "e",
          "n",
          "d",
          "s",
          "s",
          "t",
          "s",
          "l",
          "i",
          "k",
          "e",
          "s"
         ],
         "type": "scatter",
         "uid": "3e4923b1-fa1c-4a1f-aca4-93e7af818cc3",
         "x": [
          1323.5,
          1822.5,
          2155.5,
          992.49,
          1323.5,
          1822.5,
          2157.5,
          992.49,
          1323.5,
          991.49,
          492.49,
          825.49,
          489.49,
          825.49,
          159.49,
          489.49,
          157.49,
          489.49,
          156.49,
          156.49,
          156.49,
          156.49,
          489.49,
          489.49,
          490.49,
          490.49,
          490.49,
          490.49,
          825.49,
          825.49,
          825.49,
          825.49,
          1323.5,
          1323.5,
          1323.5,
          1323.5,
          1323.5,
          1323.5,
          1323.5,
          1323.5,
          1159.5,
          1490.5,
          1491.5,
          1491.5,
          1490.5,
          1490.5,
          1490.5,
          1822.5,
          1822.5,
          1822.5,
          1823.5,
          1823.5,
          1823.5,
          1823.5,
          1824.5,
          1824.5,
          1824.5,
          2158.5,
          2158.5,
          2158.5,
          2158.5,
          2158.5,
          2158.5,
          2158.5,
          2158.5
         ],
         "y": [
          1170,
          1170,
          1170,
          1098,
          1098,
          1098,
          1098,
          1026,
          1026,
          954,
          666,
          666,
          594,
          594,
          522,
          522,
          450,
          450,
          378,
          306,
          234,
          162,
          378,
          306,
          234,
          162,
          90,
          18,
          522,
          450,
          378,
          306,
          954,
          882,
          810,
          738,
          666,
          594,
          522,
          450,
          378,
          378,
          306,
          234,
          162,
          90,
          18,
          1026,
          954,
          882,
          594,
          522,
          450,
          378,
          306,
          234,
          162,
          1026,
          954,
          882,
          594,
          522,
          450,
          378,
          306
         ]
        }
       ],
       "layout": {
        "font": {
         "size": 15
        },
        "height": 800,
        "hovermode": "closest",
        "margin": {
         "b": 85,
         "l": 40,
         "r": 40,
         "t": 100
        },
        "plot_bgcolor": "rgb(248,248,248)",
        "showlegend": false,
        "template": {
         "data": {
          "bar": [
           {
            "error_x": {
             "color": "#2a3f5f"
            },
            "error_y": {
             "color": "#2a3f5f"
            },
            "marker": {
             "line": {
              "color": "#E5ECF6",
              "width": 0.5
             }
            },
            "type": "bar"
           }
          ],
          "barpolar": [
           {
            "marker": {
             "line": {
              "color": "#E5ECF6",
              "width": 0.5
             }
            },
            "type": "barpolar"
           }
          ],
          "carpet": [
           {
            "aaxis": {
             "endlinecolor": "#2a3f5f",
             "gridcolor": "white",
             "linecolor": "white",
             "minorgridcolor": "white",
             "startlinecolor": "#2a3f5f"
            },
            "baxis": {
             "endlinecolor": "#2a3f5f",
             "gridcolor": "white",
             "linecolor": "white",
             "minorgridcolor": "white",
             "startlinecolor": "#2a3f5f"
            },
            "type": "carpet"
           }
          ],
          "choropleth": [
           {
            "colorbar": {
             "outlinewidth": 0,
             "ticks": ""
            },
            "type": "choropleth"
           }
          ],
          "contour": [
           {
            "colorbar": {
             "outlinewidth": 0,
             "ticks": ""
            },
            "colorscale": [
             [
              0,
              "#0d0887"
             ],
             [
              0.1111111111111111,
              "#46039f"
             ],
             [
              0.2222222222222222,
              "#7201a8"
             ],
             [
              0.3333333333333333,
              "#9c179e"
             ],
             [
              0.4444444444444444,
              "#bd3786"
             ],
             [
              0.5555555555555556,
              "#d8576b"
             ],
             [
              0.6666666666666666,
              "#ed7953"
             ],
             [
              0.7777777777777778,
              "#fb9f3a"
             ],
             [
              0.8888888888888888,
              "#fdca26"
             ],
             [
              1,
              "#f0f921"
             ]
            ],
            "type": "contour"
           }
          ],
          "contourcarpet": [
           {
            "colorbar": {
             "outlinewidth": 0,
             "ticks": ""
            },
            "type": "contourcarpet"
           }
          ],
          "heatmap": [
           {
            "colorbar": {
             "outlinewidth": 0,
             "ticks": ""
            },
            "colorscale": [
             [
              0,
              "#0d0887"
             ],
             [
              0.1111111111111111,
              "#46039f"
             ],
             [
              0.2222222222222222,
              "#7201a8"
             ],
             [
              0.3333333333333333,
              "#9c179e"
             ],
             [
              0.4444444444444444,
              "#bd3786"
             ],
             [
              0.5555555555555556,
              "#d8576b"
             ],
             [
              0.6666666666666666,
              "#ed7953"
             ],
             [
              0.7777777777777778,
              "#fb9f3a"
             ],
             [
              0.8888888888888888,
              "#fdca26"
             ],
             [
              1,
              "#f0f921"
             ]
            ],
            "type": "heatmap"
           }
          ],
          "heatmapgl": [
           {
            "colorbar": {
             "outlinewidth": 0,
             "ticks": ""
            },
            "colorscale": [
             [
              0,
              "#0d0887"
             ],
             [
              0.1111111111111111,
              "#46039f"
             ],
             [
              0.2222222222222222,
              "#7201a8"
             ],
             [
              0.3333333333333333,
              "#9c179e"
             ],
             [
              0.4444444444444444,
              "#bd3786"
             ],
             [
              0.5555555555555556,
              "#d8576b"
             ],
             [
              0.6666666666666666,
              "#ed7953"
             ],
             [
              0.7777777777777778,
              "#fb9f3a"
             ],
             [
              0.8888888888888888,
              "#fdca26"
             ],
             [
              1,
              "#f0f921"
             ]
            ],
            "type": "heatmapgl"
           }
          ],
          "histogram": [
           {
            "marker": {
             "colorbar": {
              "outlinewidth": 0,
              "ticks": ""
             }
            },
            "type": "histogram"
           }
          ],
          "histogram2d": [
           {
            "colorbar": {
             "outlinewidth": 0,
             "ticks": ""
            },
            "colorscale": [
             [
              0,
              "#0d0887"
             ],
             [
              0.1111111111111111,
              "#46039f"
             ],
             [
              0.2222222222222222,
              "#7201a8"
             ],
             [
              0.3333333333333333,
              "#9c179e"
             ],
             [
              0.4444444444444444,
              "#bd3786"
             ],
             [
              0.5555555555555556,
              "#d8576b"
             ],
             [
              0.6666666666666666,
              "#ed7953"
             ],
             [
              0.7777777777777778,
              "#fb9f3a"
             ],
             [
              0.8888888888888888,
              "#fdca26"
             ],
             [
              1,
              "#f0f921"
             ]
            ],
            "type": "histogram2d"
           }
          ],
          "histogram2dcontour": [
           {
            "colorbar": {
             "outlinewidth": 0,
             "ticks": ""
            },
            "colorscale": [
             [
              0,
              "#0d0887"
             ],
             [
              0.1111111111111111,
              "#46039f"
             ],
             [
              0.2222222222222222,
              "#7201a8"
             ],
             [
              0.3333333333333333,
              "#9c179e"
             ],
             [
              0.4444444444444444,
              "#bd3786"
             ],
             [
              0.5555555555555556,
              "#d8576b"
             ],
             [
              0.6666666666666666,
              "#ed7953"
             ],
             [
              0.7777777777777778,
              "#fb9f3a"
             ],
             [
              0.8888888888888888,
              "#fdca26"
             ],
             [
              1,
              "#f0f921"
             ]
            ],
            "type": "histogram2dcontour"
           }
          ],
          "mesh3d": [
           {
            "colorbar": {
             "outlinewidth": 0,
             "ticks": ""
            },
            "type": "mesh3d"
           }
          ],
          "parcoords": [
           {
            "line": {
             "colorbar": {
              "outlinewidth": 0,
              "ticks": ""
             }
            },
            "type": "parcoords"
           }
          ],
          "scatter": [
           {
            "marker": {
             "colorbar": {
              "outlinewidth": 0,
              "ticks": ""
             }
            },
            "type": "scatter"
           }
          ],
          "scatter3d": [
           {
            "line": {
             "colorbar": {
              "outlinewidth": 0,
              "ticks": ""
             }
            },
            "marker": {
             "colorbar": {
              "outlinewidth": 0,
              "ticks": ""
             }
            },
            "type": "scatter3d"
           }
          ],
          "scattercarpet": [
           {
            "marker": {
             "colorbar": {
              "outlinewidth": 0,
              "ticks": ""
             }
            },
            "type": "scattercarpet"
           }
          ],
          "scattergeo": [
           {
            "marker": {
             "colorbar": {
              "outlinewidth": 0,
              "ticks": ""
             }
            },
            "type": "scattergeo"
           }
          ],
          "scattergl": [
           {
            "marker": {
             "colorbar": {
              "outlinewidth": 0,
              "ticks": ""
             }
            },
            "type": "scattergl"
           }
          ],
          "scattermapbox": [
           {
            "marker": {
             "colorbar": {
              "outlinewidth": 0,
              "ticks": ""
             }
            },
            "type": "scattermapbox"
           }
          ],
          "scatterpolar": [
           {
            "marker": {
             "colorbar": {
              "outlinewidth": 0,
              "ticks": ""
             }
            },
            "type": "scatterpolar"
           }
          ],
          "scatterpolargl": [
           {
            "marker": {
             "colorbar": {
              "outlinewidth": 0,
              "ticks": ""
             }
            },
            "type": "scatterpolargl"
           }
          ],
          "scatterternary": [
           {
            "marker": {
             "colorbar": {
              "outlinewidth": 0,
              "ticks": ""
             }
            },
            "type": "scatterternary"
           }
          ],
          "surface": [
           {
            "colorbar": {
             "outlinewidth": 0,
             "ticks": ""
            },
            "colorscale": [
             [
              0,
              "#0d0887"
             ],
             [
              0.1111111111111111,
              "#46039f"
             ],
             [
              0.2222222222222222,
              "#7201a8"
             ],
             [
              0.3333333333333333,
              "#9c179e"
             ],
             [
              0.4444444444444444,
              "#bd3786"
             ],
             [
              0.5555555555555556,
              "#d8576b"
             ],
             [
              0.6666666666666666,
              "#ed7953"
             ],
             [
              0.7777777777777778,
              "#fb9f3a"
             ],
             [
              0.8888888888888888,
              "#fdca26"
             ],
             [
              1,
              "#f0f921"
             ]
            ],
            "type": "surface"
           }
          ],
          "table": [
           {
            "cells": {
             "fill": {
              "color": "#EBF0F8"
             },
             "line": {
              "color": "white"
             }
            },
            "header": {
             "fill": {
              "color": "#C8D4E3"
             },
             "line": {
              "color": "white"
             }
            },
            "type": "table"
           }
          ]
         },
         "layout": {
          "annotationdefaults": {
           "arrowcolor": "#2a3f5f",
           "arrowhead": 0,
           "arrowwidth": 1
          },
          "colorscale": {
           "diverging": [
            [
             0,
             "#8e0152"
            ],
            [
             0.1,
             "#c51b7d"
            ],
            [
             0.2,
             "#de77ae"
            ],
            [
             0.3,
             "#f1b6da"
            ],
            [
             0.4,
             "#fde0ef"
            ],
            [
             0.5,
             "#f7f7f7"
            ],
            [
             0.6,
             "#e6f5d0"
            ],
            [
             0.7,
             "#b8e186"
            ],
            [
             0.8,
             "#7fbc41"
            ],
            [
             0.9,
             "#4d9221"
            ],
            [
             1,
             "#276419"
            ]
           ],
           "sequential": [
            [
             0,
             "#0d0887"
            ],
            [
             0.1111111111111111,
             "#46039f"
            ],
            [
             0.2222222222222222,
             "#7201a8"
            ],
            [
             0.3333333333333333,
             "#9c179e"
            ],
            [
             0.4444444444444444,
             "#bd3786"
            ],
            [
             0.5555555555555556,
             "#d8576b"
            ],
            [
             0.6666666666666666,
             "#ed7953"
            ],
            [
             0.7777777777777778,
             "#fb9f3a"
            ],
            [
             0.8888888888888888,
             "#fdca26"
            ],
            [
             1,
             "#f0f921"
            ]
           ],
           "sequentialminus": [
            [
             0,
             "#0d0887"
            ],
            [
             0.1111111111111111,
             "#46039f"
            ],
            [
             0.2222222222222222,
             "#7201a8"
            ],
            [
             0.3333333333333333,
             "#9c179e"
            ],
            [
             0.4444444444444444,
             "#bd3786"
            ],
            [
             0.5555555555555556,
             "#d8576b"
            ],
            [
             0.6666666666666666,
             "#ed7953"
            ],
            [
             0.7777777777777778,
             "#fb9f3a"
            ],
            [
             0.8888888888888888,
             "#fdca26"
            ],
            [
             1,
             "#f0f921"
            ]
           ]
          },
          "colorway": [
           "#636efa",
           "#EF553B",
           "#00cc96",
           "#ab63fa",
           "#FFA15A",
           "#19d3f3",
           "#FF6692",
           "#B6E880",
           "#FF97FF",
           "#FECB52"
          ],
          "font": {
           "color": "#2a3f5f"
          },
          "geo": {
           "bgcolor": "white",
           "lakecolor": "white",
           "landcolor": "#E5ECF6",
           "showlakes": true,
           "showland": true,
           "subunitcolor": "white"
          },
          "hoverlabel": {
           "align": "left"
          },
          "hovermode": "closest",
          "mapbox": {
           "style": "light"
          },
          "paper_bgcolor": "white",
          "plot_bgcolor": "#E5ECF6",
          "polar": {
           "angularaxis": {
            "gridcolor": "white",
            "linecolor": "white",
            "ticks": ""
           },
           "bgcolor": "#E5ECF6",
           "radialaxis": {
            "gridcolor": "white",
            "linecolor": "white",
            "ticks": ""
           }
          },
          "scene": {
           "xaxis": {
            "backgroundcolor": "#E5ECF6",
            "gridcolor": "white",
            "gridwidth": 2,
            "linecolor": "white",
            "showbackground": true,
            "ticks": "",
            "zerolinecolor": "white"
           },
           "yaxis": {
            "backgroundcolor": "#E5ECF6",
            "gridcolor": "white",
            "gridwidth": 2,
            "linecolor": "white",
            "showbackground": true,
            "ticks": "",
            "zerolinecolor": "white"
           },
           "zaxis": {
            "backgroundcolor": "#E5ECF6",
            "gridcolor": "white",
            "gridwidth": 2,
            "linecolor": "white",
            "showbackground": true,
            "ticks": "",
            "zerolinecolor": "white"
           }
          },
          "shapedefaults": {
           "line": {
            "color": "#2a3f5f"
           }
          },
          "ternary": {
           "aaxis": {
            "gridcolor": "white",
            "linecolor": "white",
            "ticks": ""
           },
           "baxis": {
            "gridcolor": "white",
            "linecolor": "white",
            "ticks": ""
           },
           "bgcolor": "#E5ECF6",
           "caxis": {
            "gridcolor": "white",
            "linecolor": "white",
            "ticks": ""
           }
          },
          "title": {
           "x": 0.05
          },
          "xaxis": {
           "automargin": true,
           "gridcolor": "white",
           "linecolor": "white",
           "ticks": "",
           "zerolinecolor": "white",
           "zerolinewidth": 2
          },
          "yaxis": {
           "automargin": true,
           "gridcolor": "white",
           "linecolor": "white",
           "ticks": "",
           "zerolinecolor": "white",
           "zerolinewidth": 2
          }
         }
        },
        "title": {
         "text": "Trie"
        },
        "width": 1000,
        "xaxis": {
         "showgrid": false,
         "showline": false,
         "showticklabels": false,
         "zeroline": false
        },
        "yaxis": {
         "showgrid": false,
         "showline": false,
         "showticklabels": false,
         "zeroline": false
        }
       }
      },
      "text/html": [
       "<div>\n",
       "        \n",
       "        \n",
       "            <div id=\"cc58373d-6f86-40f7-a198-36ab8230da85\" class=\"plotly-graph-div\" style=\"height:800px; width:1000px;\"></div>\n",
       "            <script type=\"text/javascript\">\n",
       "                require([\"plotly\"], function(Plotly) {\n",
       "                    window.PLOTLYENV=window.PLOTLYENV || {};\n",
       "                    \n",
       "                if (document.getElementById(\"cc58373d-6f86-40f7-a198-36ab8230da85\")) {\n",
       "                    Plotly.newPlot(\n",
       "                        'cc58373d-6f86-40f7-a198-36ab8230da85',\n",
       "                        [{\"hoverinfo\": \"none\", \"line\": {\"color\": \"rgb(160,160,160)\", \"width\": 2}, \"mode\": \"lines\", \"type\": \"scatter\", \"uid\": \"bee00d2c-92b2-46d6-81c6-1430eb611ef8\", \"x\": [1822.5, 1822.5, null, 1822.5, 1323.5, null, 1822.5, 1822.5, null, 1822.5, 2155.5, null, 1323.5, 992.49, null, 1323.5, 1323.5, null, 1822.5, 1822.5, null, 2155.5, 2157.5, null, 992.49, 992.49, null, 1323.5, 1323.5, null, 1822.5, 1822.5, null, 2157.5, 2158.5, null, 992.49, 991.49, null, 1323.5, 1323.5, null, 991.49, 990.49, null, 990.49, 988.49, null, 988.49, 825.49, null, 825.49, 492.49, null, 825.49, 825.49, null, 492.49, 489.49, null, 825.49, 825.49, null, 489.49, 159.49, null, 489.49, 489.49, null, 825.49, 825.49, null, 159.49, 157.49, null, 489.49, 489.49, null, 157.49, 156.49, null, 489.49, 489.49, null, 156.49, 156.49, null, 156.49, 156.49, null, 156.49, 156.49, null, 489.49, 489.49, null, 489.49, 490.49, null, 490.49, 490.49, null, 490.49, 490.49, null, 490.49, 490.49, null, 825.49, 825.49, null, 825.49, 825.49, null, 825.49, 825.49, null, 1323.5, 1323.5, null, 1323.5, 1323.5, null, 1323.5, 1323.5, null, 1323.5, 1323.5, null, 1323.5, 1323.5, null, 1323.5, 1323.5, null, 1323.5, 1323.5, null, 1323.5, 1159.5, null, 1323.5, 1490.5, null, 1159.5, 1159.5, null, 1490.5, 1491.5, null, 1159.5, 1159.5, null, 1491.5, 1491.5, null, 1491.5, 1490.5, null, 1490.5, 1490.5, null, 1490.5, 1490.5, null, 1822.5, 1822.5, null, 1822.5, 1822.5, null, 1822.5, 1822.5, null, 1822.5, 1822.5, null, 1822.5, 1822.5, null, 1822.5, 1823.5, null, 1823.5, 1823.5, null, 1823.5, 1823.5, null, 1823.5, 1823.5, null, 1823.5, 1824.5, null, 1824.5, 1824.5, null, 1824.5, 1824.5, null, 2158.5, 2158.5, null, 2158.5, 2158.5, null, 2158.5, 2158.5, null, 2158.5, 2158.5, null, 2158.5, 2158.5, null, 2158.5, 2158.5, null, 2158.5, 2158.5, null, 2158.5, 2158.5, null, 2158.5, 2158.5, null, 2158.5, 2158.5, null], \"y\": [1314.0, 1242.0, null, 1242.0, 1170.0, null, 1242.0, 1170.0, null, 1242.0, 1170.0, null, 1170.0, 1098.0, null, 1170.0, 1098.0, null, 1170.0, 1098.0, null, 1170.0, 1098.0, null, 1098.0, 1026.0, null, 1098.0, 1026.0, null, 1098.0, 1026.0, null, 1098.0, 1026.0, null, 1026.0, 954.0, null, 1026.0, 954.0, null, 954.0, 882.0, null, 882.0, 810.0, null, 810.0, 738.0, null, 738.0, 666.0, null, 738.0, 666.0, null, 666.0, 594.0, null, 666.0, 594.0, null, 594.0, 522.0, null, 594.0, 522.0, null, 594.0, 522.0, null, 522.0, 450.0, null, 522.0, 450.0, null, 450.0, 378.0, null, 450.0, 378.0, null, 378.0, 306.0, null, 306.0, 234.0, null, 234.0, 162.0, null, 378.0, 306.0, null, 306.0, 234.0, null, 234.0, 162.0, null, 162.0, 90.0, null, 90.0, 18.0, null, 522.0, 450.0, null, 450.0, 378.0, null, 378.0, 306.0, null, 954.0, 882.0, null, 882.0, 810.0, null, 810.0, 738.0, null, 738.0, 666.0, null, 666.0, 594.0, null, 594.0, 522.0, null, 522.0, 450.0, null, 450.0, 378.0, null, 450.0, 378.0, null, 378.0, 306.0, null, 378.0, 306.0, null, 306.0, 234.0, null, 306.0, 234.0, null, 234.0, 162.0, null, 162.0, 90.0, null, 90.0, 18.0, null, 1026.0, 954.0, null, 954.0, 882.0, null, 882.0, 810.0, null, 810.0, 738.0, null, 738.0, 666.0, null, 666.0, 594.0, null, 594.0, 522.0, null, 522.0, 450.0, null, 450.0, 378.0, null, 378.0, 306.0, null, 306.0, 234.0, null, 234.0, 162.0, null, 1026.0, 954.0, null, 954.0, 882.0, null, 882.0, 810.0, null, 810.0, 738.0, null, 738.0, 666.0, null, 666.0, 594.0, null, 594.0, 522.0, null, 522.0, 450.0, null, 450.0, 378.0, null, 378.0, 306.0, null]}, {\"hoverinfo\": \"none\", \"marker\": {\"color\": \"rgb(100,100,100)\", \"line\": {\"color\": \"rgb(100,100,100)\", \"width\": 1}, \"size\": 18}, \"mode\": \"markers+text\", \"name\": \"\", \"text\": [null], \"type\": \"scatter\", \"uid\": \"381025cc-971d-4975-a243-bcbb90edef19\", \"x\": [1822.5], \"y\": [1314.0]}, {\"hoverinfo\": \"none\", \"marker\": {\"color\": \"rgb(101,214,67)\", \"line\": {\"color\": \"rgb(100,100,100)\", \"width\": 1}, \"size\": 18}, \"mode\": \"markers+text\", \"name\": \"\", \"text\": [\"dynamic\", \"dynamic\", \"dynamic\", \"dynamic\"], \"type\": \"scatter\", \"uid\": \"226f14de-7251-46c1-a30e-deddd9432dc6\", \"x\": [988.49, 1159.5, 1822.5, 2158.5], \"y\": [810.0, 234.0, 738.0, 738.0]}, {\"hoverinfo\": \"none\", \"marker\": {\"color\": \"rgb(247,185,43)\", \"line\": {\"color\": \"rgb(100,100,100)\", \"width\": 1}, \"size\": 18}, \"mode\": \"markers+text\", \"name\": \"\", \"text\": [\"/\", \"/\", \"/\", \"/\", \"/\", \"/\", \"/\", \"/\"], \"type\": \"scatter\", \"uid\": \"2e899607-7f37-48a7-8b03-a5189aacc187\", \"x\": [1822.5, 990.49, 825.49, 1159.5, 1822.5, 1822.5, 2158.5, 2158.5], \"y\": [1242.0, 882.0, 738.0, 306.0, 810.0, 666.0, 810.0, 666.0]}, {\"hoverinfo\": \"none\", \"marker\": {\"color\": \"rgb(24,140,216)\", \"line\": {\"color\": \"rgb(100,100,100)\", \"width\": 1}, \"size\": 18}, \"mode\": \"markers+text\", \"name\": \"\", \"text\": [\"a\", \"u\", \"p\", \"p\", \"c\", \"s\", \"o\", \"p\", \"h\", \"s\", \"a\", \"e\", \"c\", \"v\", \"c\", \"t\", \"o\", \"i\", \"u\", \"n\", \"t\", \"s\", \"v\", \"i\", \"t\", \"i\", \"e\", \"s\", \"e\", \"n\", \"t\", \"s\", \"i\", \"e\", \"v\", \"e\", \"m\", \"e\", \"n\", \"t\", \"s\", \"-\", \"t\", \"y\", \"p\", \"e\", \"s\", \"e\", \"r\", \"s\", \"f\", \"r\", \"i\", \"e\", \"n\", \"d\", \"s\", \"s\", \"t\", \"s\", \"l\", \"i\", \"k\", \"e\", \"s\"], \"type\": \"scatter\", \"uid\": \"3e4923b1-fa1c-4a1f-aca4-93e7af818cc3\", \"x\": [1323.5, 1822.5, 2155.5, 992.49, 1323.5, 1822.5, 2157.5, 992.49, 1323.5, 991.49, 492.49, 825.49, 489.49, 825.49, 159.49, 489.49, 157.49, 489.49, 156.49, 156.49, 156.49, 156.49, 489.49, 489.49, 490.49, 490.49, 490.49, 490.49, 825.49, 825.49, 825.49, 825.49, 1323.5, 1323.5, 1323.5, 1323.5, 1323.5, 1323.5, 1323.5, 1323.5, 1159.5, 1490.5, 1491.5, 1491.5, 1490.5, 1490.5, 1490.5, 1822.5, 1822.5, 1822.5, 1823.5, 1823.5, 1823.5, 1823.5, 1824.5, 1824.5, 1824.5, 2158.5, 2158.5, 2158.5, 2158.5, 2158.5, 2158.5, 2158.5, 2158.5], \"y\": [1170.0, 1170.0, 1170.0, 1098.0, 1098.0, 1098.0, 1098.0, 1026.0, 1026.0, 954.0, 666.0, 666.0, 594.0, 594.0, 522.0, 522.0, 450.0, 450.0, 378.0, 306.0, 234.0, 162.0, 378.0, 306.0, 234.0, 162.0, 90.0, 18.0, 522.0, 450.0, 378.0, 306.0, 954.0, 882.0, 810.0, 738.0, 666.0, 594.0, 522.0, 450.0, 378.0, 378.0, 306.0, 234.0, 162.0, 90.0, 18.0, 1026.0, 954.0, 882.0, 594.0, 522.0, 450.0, 378.0, 306.0, 234.0, 162.0, 1026.0, 954.0, 882.0, 594.0, 522.0, 450.0, 378.0, 306.0]}],\n",
       "                        {\"font\": {\"size\": 15}, \"height\": 800, \"hovermode\": \"closest\", \"margin\": {\"b\": 85, \"l\": 40, \"r\": 40, \"t\": 100}, \"plot_bgcolor\": \"rgb(248,248,248)\", \"showlegend\": false, \"template\": {\"data\": {\"bar\": [{\"error_x\": {\"color\": \"#2a3f5f\"}, \"error_y\": {\"color\": \"#2a3f5f\"}, \"marker\": {\"line\": {\"color\": \"#E5ECF6\", \"width\": 0.5}}, \"type\": \"bar\"}], \"barpolar\": [{\"marker\": {\"line\": {\"color\": \"#E5ECF6\", \"width\": 0.5}}, \"type\": \"barpolar\"}], \"carpet\": [{\"aaxis\": {\"endlinecolor\": \"#2a3f5f\", \"gridcolor\": \"white\", \"linecolor\": \"white\", \"minorgridcolor\": \"white\", \"startlinecolor\": \"#2a3f5f\"}, \"baxis\": {\"endlinecolor\": \"#2a3f5f\", \"gridcolor\": \"white\", \"linecolor\": \"white\", \"minorgridcolor\": \"white\", \"startlinecolor\": \"#2a3f5f\"}, \"type\": \"carpet\"}], \"choropleth\": [{\"colorbar\": {\"outlinewidth\": 0, \"ticks\": \"\"}, \"type\": \"choropleth\"}], \"contour\": [{\"colorbar\": {\"outlinewidth\": 0, \"ticks\": \"\"}, \"colorscale\": [[0.0, \"#0d0887\"], [0.1111111111111111, \"#46039f\"], [0.2222222222222222, \"#7201a8\"], [0.3333333333333333, \"#9c179e\"], [0.4444444444444444, \"#bd3786\"], [0.5555555555555556, \"#d8576b\"], [0.6666666666666666, \"#ed7953\"], [0.7777777777777778, \"#fb9f3a\"], [0.8888888888888888, \"#fdca26\"], [1.0, \"#f0f921\"]], \"type\": \"contour\"}], \"contourcarpet\": [{\"colorbar\": {\"outlinewidth\": 0, \"ticks\": \"\"}, \"type\": \"contourcarpet\"}], \"heatmap\": [{\"colorbar\": {\"outlinewidth\": 0, \"ticks\": \"\"}, \"colorscale\": [[0.0, \"#0d0887\"], [0.1111111111111111, \"#46039f\"], [0.2222222222222222, \"#7201a8\"], [0.3333333333333333, \"#9c179e\"], [0.4444444444444444, \"#bd3786\"], [0.5555555555555556, \"#d8576b\"], [0.6666666666666666, \"#ed7953\"], [0.7777777777777778, \"#fb9f3a\"], [0.8888888888888888, \"#fdca26\"], [1.0, \"#f0f921\"]], \"type\": \"heatmap\"}], \"heatmapgl\": [{\"colorbar\": {\"outlinewidth\": 0, \"ticks\": \"\"}, \"colorscale\": [[0.0, \"#0d0887\"], [0.1111111111111111, \"#46039f\"], [0.2222222222222222, \"#7201a8\"], [0.3333333333333333, \"#9c179e\"], [0.4444444444444444, \"#bd3786\"], [0.5555555555555556, \"#d8576b\"], [0.6666666666666666, \"#ed7953\"], [0.7777777777777778, \"#fb9f3a\"], [0.8888888888888888, \"#fdca26\"], [1.0, \"#f0f921\"]], \"type\": \"heatmapgl\"}], \"histogram\": [{\"marker\": {\"colorbar\": {\"outlinewidth\": 0, \"ticks\": \"\"}}, \"type\": \"histogram\"}], \"histogram2d\": [{\"colorbar\": {\"outlinewidth\": 0, \"ticks\": \"\"}, \"colorscale\": [[0.0, \"#0d0887\"], [0.1111111111111111, \"#46039f\"], [0.2222222222222222, \"#7201a8\"], [0.3333333333333333, \"#9c179e\"], [0.4444444444444444, \"#bd3786\"], [0.5555555555555556, \"#d8576b\"], [0.6666666666666666, \"#ed7953\"], [0.7777777777777778, \"#fb9f3a\"], [0.8888888888888888, \"#fdca26\"], [1.0, \"#f0f921\"]], \"type\": \"histogram2d\"}], \"histogram2dcontour\": [{\"colorbar\": {\"outlinewidth\": 0, \"ticks\": \"\"}, \"colorscale\": [[0.0, \"#0d0887\"], [0.1111111111111111, \"#46039f\"], [0.2222222222222222, \"#7201a8\"], [0.3333333333333333, \"#9c179e\"], [0.4444444444444444, \"#bd3786\"], [0.5555555555555556, \"#d8576b\"], [0.6666666666666666, \"#ed7953\"], [0.7777777777777778, \"#fb9f3a\"], [0.8888888888888888, \"#fdca26\"], [1.0, \"#f0f921\"]], \"type\": \"histogram2dcontour\"}], \"mesh3d\": [{\"colorbar\": {\"outlinewidth\": 0, \"ticks\": \"\"}, \"type\": \"mesh3d\"}], \"parcoords\": [{\"line\": {\"colorbar\": {\"outlinewidth\": 0, \"ticks\": \"\"}}, \"type\": \"parcoords\"}], \"scatter\": [{\"marker\": {\"colorbar\": {\"outlinewidth\": 0, \"ticks\": \"\"}}, \"type\": \"scatter\"}], \"scatter3d\": [{\"line\": {\"colorbar\": {\"outlinewidth\": 0, \"ticks\": \"\"}}, \"marker\": {\"colorbar\": {\"outlinewidth\": 0, \"ticks\": \"\"}}, \"type\": \"scatter3d\"}], \"scattercarpet\": [{\"marker\": {\"colorbar\": {\"outlinewidth\": 0, \"ticks\": \"\"}}, \"type\": \"scattercarpet\"}], \"scattergeo\": [{\"marker\": {\"colorbar\": {\"outlinewidth\": 0, \"ticks\": \"\"}}, \"type\": \"scattergeo\"}], \"scattergl\": [{\"marker\": {\"colorbar\": {\"outlinewidth\": 0, \"ticks\": \"\"}}, \"type\": \"scattergl\"}], \"scattermapbox\": [{\"marker\": {\"colorbar\": {\"outlinewidth\": 0, \"ticks\": \"\"}}, \"type\": \"scattermapbox\"}], \"scatterpolar\": [{\"marker\": {\"colorbar\": {\"outlinewidth\": 0, \"ticks\": \"\"}}, \"type\": \"scatterpolar\"}], \"scatterpolargl\": [{\"marker\": {\"colorbar\": {\"outlinewidth\": 0, \"ticks\": \"\"}}, \"type\": \"scatterpolargl\"}], \"scatterternary\": [{\"marker\": {\"colorbar\": {\"outlinewidth\": 0, \"ticks\": \"\"}}, \"type\": \"scatterternary\"}], \"surface\": [{\"colorbar\": {\"outlinewidth\": 0, \"ticks\": \"\"}, \"colorscale\": [[0.0, \"#0d0887\"], [0.1111111111111111, \"#46039f\"], [0.2222222222222222, \"#7201a8\"], [0.3333333333333333, \"#9c179e\"], [0.4444444444444444, \"#bd3786\"], [0.5555555555555556, \"#d8576b\"], [0.6666666666666666, \"#ed7953\"], [0.7777777777777778, \"#fb9f3a\"], [0.8888888888888888, \"#fdca26\"], [1.0, \"#f0f921\"]], \"type\": \"surface\"}], \"table\": [{\"cells\": {\"fill\": {\"color\": \"#EBF0F8\"}, \"line\": {\"color\": \"white\"}}, \"header\": {\"fill\": {\"color\": \"#C8D4E3\"}, \"line\": {\"color\": \"white\"}}, \"type\": \"table\"}]}, \"layout\": {\"annotationdefaults\": {\"arrowcolor\": \"#2a3f5f\", \"arrowhead\": 0, \"arrowwidth\": 1}, \"colorscale\": {\"diverging\": [[0, \"#8e0152\"], [0.1, \"#c51b7d\"], [0.2, \"#de77ae\"], [0.3, \"#f1b6da\"], [0.4, \"#fde0ef\"], [0.5, \"#f7f7f7\"], [0.6, \"#e6f5d0\"], [0.7, \"#b8e186\"], [0.8, \"#7fbc41\"], [0.9, \"#4d9221\"], [1, \"#276419\"]], \"sequential\": [[0.0, \"#0d0887\"], [0.1111111111111111, \"#46039f\"], [0.2222222222222222, \"#7201a8\"], [0.3333333333333333, \"#9c179e\"], [0.4444444444444444, \"#bd3786\"], [0.5555555555555556, \"#d8576b\"], [0.6666666666666666, \"#ed7953\"], [0.7777777777777778, \"#fb9f3a\"], [0.8888888888888888, \"#fdca26\"], [1.0, \"#f0f921\"]], \"sequentialminus\": [[0.0, \"#0d0887\"], [0.1111111111111111, \"#46039f\"], [0.2222222222222222, \"#7201a8\"], [0.3333333333333333, \"#9c179e\"], [0.4444444444444444, \"#bd3786\"], [0.5555555555555556, \"#d8576b\"], [0.6666666666666666, \"#ed7953\"], [0.7777777777777778, \"#fb9f3a\"], [0.8888888888888888, \"#fdca26\"], [1.0, \"#f0f921\"]]}, \"colorway\": [\"#636efa\", \"#EF553B\", \"#00cc96\", \"#ab63fa\", \"#FFA15A\", \"#19d3f3\", \"#FF6692\", \"#B6E880\", \"#FF97FF\", \"#FECB52\"], \"font\": {\"color\": \"#2a3f5f\"}, \"geo\": {\"bgcolor\": \"white\", \"lakecolor\": \"white\", \"landcolor\": \"#E5ECF6\", \"showlakes\": true, \"showland\": true, \"subunitcolor\": \"white\"}, \"hoverlabel\": {\"align\": \"left\"}, \"hovermode\": \"closest\", \"mapbox\": {\"style\": \"light\"}, \"paper_bgcolor\": \"white\", \"plot_bgcolor\": \"#E5ECF6\", \"polar\": {\"angularaxis\": {\"gridcolor\": \"white\", \"linecolor\": \"white\", \"ticks\": \"\"}, \"bgcolor\": \"#E5ECF6\", \"radialaxis\": {\"gridcolor\": \"white\", \"linecolor\": \"white\", \"ticks\": \"\"}}, \"scene\": {\"xaxis\": {\"backgroundcolor\": \"#E5ECF6\", \"gridcolor\": \"white\", \"gridwidth\": 2, \"linecolor\": \"white\", \"showbackground\": true, \"ticks\": \"\", \"zerolinecolor\": \"white\"}, \"yaxis\": {\"backgroundcolor\": \"#E5ECF6\", \"gridcolor\": \"white\", \"gridwidth\": 2, \"linecolor\": \"white\", \"showbackground\": true, \"ticks\": \"\", \"zerolinecolor\": \"white\"}, \"zaxis\": {\"backgroundcolor\": \"#E5ECF6\", \"gridcolor\": \"white\", \"gridwidth\": 2, \"linecolor\": \"white\", \"showbackground\": true, \"ticks\": \"\", \"zerolinecolor\": \"white\"}}, \"shapedefaults\": {\"line\": {\"color\": \"#2a3f5f\"}}, \"ternary\": {\"aaxis\": {\"gridcolor\": \"white\", \"linecolor\": \"white\", \"ticks\": \"\"}, \"baxis\": {\"gridcolor\": \"white\", \"linecolor\": \"white\", \"ticks\": \"\"}, \"bgcolor\": \"#E5ECF6\", \"caxis\": {\"gridcolor\": \"white\", \"linecolor\": \"white\", \"ticks\": \"\"}}, \"title\": {\"x\": 0.05}, \"xaxis\": {\"automargin\": true, \"gridcolor\": \"white\", \"linecolor\": \"white\", \"ticks\": \"\", \"zerolinecolor\": \"white\", \"zerolinewidth\": 2}, \"yaxis\": {\"automargin\": true, \"gridcolor\": \"white\", \"linecolor\": \"white\", \"ticks\": \"\", \"zerolinecolor\": \"white\", \"zerolinewidth\": 2}}}, \"title\": {\"text\": \"Trie\"}, \"width\": 1000, \"xaxis\": {\"showgrid\": false, \"showline\": false, \"showticklabels\": false, \"zeroline\": false}, \"yaxis\": {\"showgrid\": false, \"showline\": false, \"showticklabels\": false, \"zeroline\": false}},\n",
       "                        {\"responsive\": true}\n",
       "                    ).then(function(){\n",
       "                            \n",
       "var gd = document.getElementById('cc58373d-6f86-40f7-a198-36ab8230da85');\n",
       "var x = new MutationObserver(function (mutations, observer) {{\n",
       "        var display = window.getComputedStyle(gd).display;\n",
       "        if (!display || display === 'none') {{\n",
       "            console.log([gd, 'removed!']);\n",
       "            Plotly.purge(gd);\n",
       "            observer.disconnect();\n",
       "        }}\n",
       "}});\n",
       "\n",
       "// Listen for the removal of the full notebook cells\n",
       "var notebookContainer = gd.closest('#notebook-container');\n",
       "if (notebookContainer) {{\n",
       "    x.observe(notebookContainer, {childList: true});\n",
       "}}\n",
       "\n",
       "// Listen for the clearing of the current output cell\n",
       "var outputEl = gd.closest('.output');\n",
       "if (outputEl) {{\n",
       "    x.observe(outputEl, {childList: true});\n",
       "}}\n",
       "\n",
       "                        })\n",
       "                };\n",
       "                });\n",
       "            </script>\n",
       "        </div>"
      ]
     },
     "metadata": {},
     "output_type": "display_data"
    },
    {
     "data": {
      "application/vnd.plotly.v1+json": {
       "config": {
        "plotlyServerURL": "https://plot.ly"
       },
       "data": [
        {
         "hoverinfo": "none",
         "line": {
          "color": "rgb(160,160,160)",
          "width": 2
         },
         "mode": "lines",
         "type": "scatter",
         "uid": "a1498b57-a137-4016-9488-a5f10d394c19",
         "x": [
          1822.5,
          1822.5,
          null,
          1822.5,
          1323.5,
          null,
          1822.5,
          1822.5,
          null,
          1822.5,
          2155.5,
          null,
          1323.5,
          992.49,
          null,
          1323.5,
          1323.5,
          null,
          1822.5,
          1822.5,
          null,
          2155.5,
          2157.5,
          null,
          992.49,
          992.49,
          null,
          1323.5,
          1323.5,
          null,
          1822.5,
          1822.5,
          null,
          2157.5,
          2158.5,
          null,
          992.49,
          991.49,
          null,
          1323.5,
          1323.5,
          null,
          991.49,
          990.49,
          null,
          990.49,
          988.49,
          null,
          988.49,
          825.49,
          null,
          825.49,
          492.49,
          null,
          825.49,
          825.49,
          null,
          492.49,
          489.49,
          null,
          825.49,
          825.49,
          null,
          489.49,
          159.49,
          null,
          489.49,
          489.49,
          null,
          825.49,
          825.49,
          null,
          159.49,
          157.49,
          null,
          489.49,
          489.49,
          null,
          157.49,
          156.49,
          null,
          489.49,
          489.49,
          null,
          156.49,
          156.49,
          null,
          156.49,
          156.49,
          null,
          156.49,
          156.49,
          null,
          489.49,
          489.49,
          null,
          489.49,
          490.49,
          null,
          490.49,
          490.49,
          null,
          490.49,
          490.49,
          null,
          490.49,
          490.49,
          null,
          825.49,
          825.49,
          null,
          825.49,
          825.49,
          null,
          825.49,
          825.49,
          null,
          1323.5,
          1323.5,
          null,
          1323.5,
          1323.5,
          null,
          1323.5,
          1323.5,
          null,
          1323.5,
          1323.5,
          null,
          1323.5,
          1323.5,
          null,
          1323.5,
          1323.5,
          null,
          1323.5,
          1323.5,
          null,
          1323.5,
          1159.5,
          null,
          1323.5,
          1490.5,
          null,
          1159.5,
          1159.5,
          null,
          1490.5,
          1491.5,
          null,
          1159.5,
          1159.5,
          null,
          1491.5,
          1491.5,
          null,
          1491.5,
          1490.5,
          null,
          1490.5,
          1490.5,
          null,
          1490.5,
          1490.5,
          null,
          1822.5,
          1822.5,
          null,
          1822.5,
          1822.5,
          null,
          1822.5,
          1822.5,
          null,
          1822.5,
          1822.5,
          null,
          1822.5,
          1822.5,
          null,
          1822.5,
          1823.5,
          null,
          1823.5,
          1823.5,
          null,
          1823.5,
          1823.5,
          null,
          1823.5,
          1823.5,
          null,
          1823.5,
          1824.5,
          null,
          1824.5,
          1824.5,
          null,
          1824.5,
          1824.5,
          null,
          2158.5,
          2158.5,
          null,
          2158.5,
          2158.5,
          null,
          2158.5,
          2158.5,
          null,
          2158.5,
          2158.5,
          null,
          2158.5,
          2158.5,
          null,
          2158.5,
          2158.5,
          null,
          2158.5,
          2158.5,
          null,
          2158.5,
          2158.5,
          null,
          2158.5,
          2158.5,
          null,
          2158.5,
          2158.5,
          null
         ],
         "y": [
          1314,
          1242,
          null,
          1242,
          1170,
          null,
          1242,
          1170,
          null,
          1242,
          1170,
          null,
          1170,
          1098,
          null,
          1170,
          1098,
          null,
          1170,
          1098,
          null,
          1170,
          1098,
          null,
          1098,
          1026,
          null,
          1098,
          1026,
          null,
          1098,
          1026,
          null,
          1098,
          1026,
          null,
          1026,
          954,
          null,
          1026,
          954,
          null,
          954,
          882,
          null,
          882,
          810,
          null,
          810,
          738,
          null,
          738,
          666,
          null,
          738,
          666,
          null,
          666,
          594,
          null,
          666,
          594,
          null,
          594,
          522,
          null,
          594,
          522,
          null,
          594,
          522,
          null,
          522,
          450,
          null,
          522,
          450,
          null,
          450,
          378,
          null,
          450,
          378,
          null,
          378,
          306,
          null,
          306,
          234,
          null,
          234,
          162,
          null,
          378,
          306,
          null,
          306,
          234,
          null,
          234,
          162,
          null,
          162,
          90,
          null,
          90,
          18,
          null,
          522,
          450,
          null,
          450,
          378,
          null,
          378,
          306,
          null,
          954,
          882,
          null,
          882,
          810,
          null,
          810,
          738,
          null,
          738,
          666,
          null,
          666,
          594,
          null,
          594,
          522,
          null,
          522,
          450,
          null,
          450,
          378,
          null,
          450,
          378,
          null,
          378,
          306,
          null,
          378,
          306,
          null,
          306,
          234,
          null,
          306,
          234,
          null,
          234,
          162,
          null,
          162,
          90,
          null,
          90,
          18,
          null,
          1026,
          954,
          null,
          954,
          882,
          null,
          882,
          810,
          null,
          810,
          738,
          null,
          738,
          666,
          null,
          666,
          594,
          null,
          594,
          522,
          null,
          522,
          450,
          null,
          450,
          378,
          null,
          378,
          306,
          null,
          306,
          234,
          null,
          234,
          162,
          null,
          1026,
          954,
          null,
          954,
          882,
          null,
          882,
          810,
          null,
          810,
          738,
          null,
          738,
          666,
          null,
          666,
          594,
          null,
          594,
          522,
          null,
          522,
          450,
          null,
          450,
          378,
          null,
          378,
          306,
          null
         ]
        },
        {
         "hoverinfo": "none",
         "marker": {
          "color": "rgb(100,100,100)",
          "line": {
           "color": "rgb(100,100,100)",
           "width": 1
          },
          "size": 18
         },
         "mode": "markers+text",
         "name": "",
         "text": [
          null
         ],
         "type": "scatter",
         "uid": "a29422df-0227-4b52-943e-dba72441b257",
         "x": [
          1822.5
         ],
         "y": [
          1314
         ]
        },
        {
         "hoverinfo": "none",
         "marker": {
          "color": "rgb(101,214,67)",
          "line": {
           "color": "rgb(100,100,100)",
           "width": 1
          },
          "size": 18
         },
         "mode": "markers+text",
         "name": "",
         "text": [
          "dynamic",
          "dynamic",
          "dynamic",
          "dynamic"
         ],
         "type": "scatter",
         "uid": "ec48381d-6973-4a70-98f0-deafab4145f4",
         "x": [
          988.49,
          1159.5,
          1822.5,
          2158.5
         ],
         "y": [
          810,
          234,
          738,
          738
         ]
        },
        {
         "hoverinfo": "none",
         "marker": {
          "color": "rgb(247,185,43)",
          "line": {
           "color": "rgb(100,100,100)",
           "width": 1
          },
          "size": 18
         },
         "mode": "markers+text",
         "name": "",
         "text": [
          "/",
          "/",
          "/",
          "/",
          "/",
          "/",
          "/",
          "/"
         ],
         "type": "scatter",
         "uid": "4bc3c655-1e64-42bb-bcd1-2eb84415a5e4",
         "x": [
          1822.5,
          990.49,
          825.49,
          1159.5,
          1822.5,
          1822.5,
          2158.5,
          2158.5
         ],
         "y": [
          1242,
          882,
          738,
          306,
          810,
          666,
          810,
          666
         ]
        },
        {
         "hoverinfo": "none",
         "marker": {
          "color": "rgb(24,140,216)",
          "line": {
           "color": "rgb(100,100,100)",
           "width": 1
          },
          "size": 18
         },
         "mode": "markers+text",
         "name": "",
         "text": [
          "a",
          "u",
          "p",
          "p",
          "c",
          "s",
          "o",
          "p",
          "h",
          "s",
          "a",
          "e",
          "c",
          "v",
          "c",
          "t",
          "o",
          "i",
          "u",
          "n",
          "t",
          "s",
          "v",
          "i",
          "t",
          "i",
          "e",
          "s",
          "e",
          "n",
          "t",
          "s",
          "i",
          "e",
          "v",
          "e",
          "m",
          "e",
          "n",
          "t",
          "s",
          "-",
          "t",
          "y",
          "p",
          "e",
          "s",
          "e",
          "r",
          "s",
          "f",
          "r",
          "i",
          "e",
          "n",
          "d",
          "s",
          "s",
          "t",
          "s",
          "l",
          "i",
          "k",
          "e",
          "s"
         ],
         "type": "scatter",
         "uid": "a7ceac7e-5870-4e9a-b6e9-8eef671c7941",
         "x": [
          1323.5,
          1822.5,
          2155.5,
          992.49,
          1323.5,
          1822.5,
          2157.5,
          992.49,
          1323.5,
          991.49,
          492.49,
          825.49,
          489.49,
          825.49,
          159.49,
          489.49,
          157.49,
          489.49,
          156.49,
          156.49,
          156.49,
          156.49,
          489.49,
          489.49,
          490.49,
          490.49,
          490.49,
          490.49,
          825.49,
          825.49,
          825.49,
          825.49,
          1323.5,
          1323.5,
          1323.5,
          1323.5,
          1323.5,
          1323.5,
          1323.5,
          1323.5,
          1159.5,
          1490.5,
          1491.5,
          1491.5,
          1490.5,
          1490.5,
          1490.5,
          1822.5,
          1822.5,
          1822.5,
          1823.5,
          1823.5,
          1823.5,
          1823.5,
          1824.5,
          1824.5,
          1824.5,
          2158.5,
          2158.5,
          2158.5,
          2158.5,
          2158.5,
          2158.5,
          2158.5,
          2158.5
         ],
         "y": [
          1170,
          1170,
          1170,
          1098,
          1098,
          1098,
          1098,
          1026,
          1026,
          954,
          666,
          666,
          594,
          594,
          522,
          522,
          450,
          450,
          378,
          306,
          234,
          162,
          378,
          306,
          234,
          162,
          90,
          18,
          522,
          450,
          378,
          306,
          954,
          882,
          810,
          738,
          666,
          594,
          522,
          450,
          378,
          378,
          306,
          234,
          162,
          90,
          18,
          1026,
          954,
          882,
          594,
          522,
          450,
          378,
          306,
          234,
          162,
          1026,
          954,
          882,
          594,
          522,
          450,
          378,
          306
         ]
        }
       ],
       "layout": {
        "font": {
         "size": 15
        },
        "height": 800,
        "hovermode": "closest",
        "margin": {
         "b": 85,
         "l": 40,
         "r": 40,
         "t": 100
        },
        "plot_bgcolor": "rgb(248,248,248)",
        "showlegend": false,
        "template": {
         "data": {
          "bar": [
           {
            "error_x": {
             "color": "#2a3f5f"
            },
            "error_y": {
             "color": "#2a3f5f"
            },
            "marker": {
             "line": {
              "color": "#E5ECF6",
              "width": 0.5
             }
            },
            "type": "bar"
           }
          ],
          "barpolar": [
           {
            "marker": {
             "line": {
              "color": "#E5ECF6",
              "width": 0.5
             }
            },
            "type": "barpolar"
           }
          ],
          "carpet": [
           {
            "aaxis": {
             "endlinecolor": "#2a3f5f",
             "gridcolor": "white",
             "linecolor": "white",
             "minorgridcolor": "white",
             "startlinecolor": "#2a3f5f"
            },
            "baxis": {
             "endlinecolor": "#2a3f5f",
             "gridcolor": "white",
             "linecolor": "white",
             "minorgridcolor": "white",
             "startlinecolor": "#2a3f5f"
            },
            "type": "carpet"
           }
          ],
          "choropleth": [
           {
            "colorbar": {
             "outlinewidth": 0,
             "ticks": ""
            },
            "type": "choropleth"
           }
          ],
          "contour": [
           {
            "colorbar": {
             "outlinewidth": 0,
             "ticks": ""
            },
            "colorscale": [
             [
              0,
              "#0d0887"
             ],
             [
              0.1111111111111111,
              "#46039f"
             ],
             [
              0.2222222222222222,
              "#7201a8"
             ],
             [
              0.3333333333333333,
              "#9c179e"
             ],
             [
              0.4444444444444444,
              "#bd3786"
             ],
             [
              0.5555555555555556,
              "#d8576b"
             ],
             [
              0.6666666666666666,
              "#ed7953"
             ],
             [
              0.7777777777777778,
              "#fb9f3a"
             ],
             [
              0.8888888888888888,
              "#fdca26"
             ],
             [
              1,
              "#f0f921"
             ]
            ],
            "type": "contour"
           }
          ],
          "contourcarpet": [
           {
            "colorbar": {
             "outlinewidth": 0,
             "ticks": ""
            },
            "type": "contourcarpet"
           }
          ],
          "heatmap": [
           {
            "colorbar": {
             "outlinewidth": 0,
             "ticks": ""
            },
            "colorscale": [
             [
              0,
              "#0d0887"
             ],
             [
              0.1111111111111111,
              "#46039f"
             ],
             [
              0.2222222222222222,
              "#7201a8"
             ],
             [
              0.3333333333333333,
              "#9c179e"
             ],
             [
              0.4444444444444444,
              "#bd3786"
             ],
             [
              0.5555555555555556,
              "#d8576b"
             ],
             [
              0.6666666666666666,
              "#ed7953"
             ],
             [
              0.7777777777777778,
              "#fb9f3a"
             ],
             [
              0.8888888888888888,
              "#fdca26"
             ],
             [
              1,
              "#f0f921"
             ]
            ],
            "type": "heatmap"
           }
          ],
          "heatmapgl": [
           {
            "colorbar": {
             "outlinewidth": 0,
             "ticks": ""
            },
            "colorscale": [
             [
              0,
              "#0d0887"
             ],
             [
              0.1111111111111111,
              "#46039f"
             ],
             [
              0.2222222222222222,
              "#7201a8"
             ],
             [
              0.3333333333333333,
              "#9c179e"
             ],
             [
              0.4444444444444444,
              "#bd3786"
             ],
             [
              0.5555555555555556,
              "#d8576b"
             ],
             [
              0.6666666666666666,
              "#ed7953"
             ],
             [
              0.7777777777777778,
              "#fb9f3a"
             ],
             [
              0.8888888888888888,
              "#fdca26"
             ],
             [
              1,
              "#f0f921"
             ]
            ],
            "type": "heatmapgl"
           }
          ],
          "histogram": [
           {
            "marker": {
             "colorbar": {
              "outlinewidth": 0,
              "ticks": ""
             }
            },
            "type": "histogram"
           }
          ],
          "histogram2d": [
           {
            "colorbar": {
             "outlinewidth": 0,
             "ticks": ""
            },
            "colorscale": [
             [
              0,
              "#0d0887"
             ],
             [
              0.1111111111111111,
              "#46039f"
             ],
             [
              0.2222222222222222,
              "#7201a8"
             ],
             [
              0.3333333333333333,
              "#9c179e"
             ],
             [
              0.4444444444444444,
              "#bd3786"
             ],
             [
              0.5555555555555556,
              "#d8576b"
             ],
             [
              0.6666666666666666,
              "#ed7953"
             ],
             [
              0.7777777777777778,
              "#fb9f3a"
             ],
             [
              0.8888888888888888,
              "#fdca26"
             ],
             [
              1,
              "#f0f921"
             ]
            ],
            "type": "histogram2d"
           }
          ],
          "histogram2dcontour": [
           {
            "colorbar": {
             "outlinewidth": 0,
             "ticks": ""
            },
            "colorscale": [
             [
              0,
              "#0d0887"
             ],
             [
              0.1111111111111111,
              "#46039f"
             ],
             [
              0.2222222222222222,
              "#7201a8"
             ],
             [
              0.3333333333333333,
              "#9c179e"
             ],
             [
              0.4444444444444444,
              "#bd3786"
             ],
             [
              0.5555555555555556,
              "#d8576b"
             ],
             [
              0.6666666666666666,
              "#ed7953"
             ],
             [
              0.7777777777777778,
              "#fb9f3a"
             ],
             [
              0.8888888888888888,
              "#fdca26"
             ],
             [
              1,
              "#f0f921"
             ]
            ],
            "type": "histogram2dcontour"
           }
          ],
          "mesh3d": [
           {
            "colorbar": {
             "outlinewidth": 0,
             "ticks": ""
            },
            "type": "mesh3d"
           }
          ],
          "parcoords": [
           {
            "line": {
             "colorbar": {
              "outlinewidth": 0,
              "ticks": ""
             }
            },
            "type": "parcoords"
           }
          ],
          "scatter": [
           {
            "marker": {
             "colorbar": {
              "outlinewidth": 0,
              "ticks": ""
             }
            },
            "type": "scatter"
           }
          ],
          "scatter3d": [
           {
            "line": {
             "colorbar": {
              "outlinewidth": 0,
              "ticks": ""
             }
            },
            "marker": {
             "colorbar": {
              "outlinewidth": 0,
              "ticks": ""
             }
            },
            "type": "scatter3d"
           }
          ],
          "scattercarpet": [
           {
            "marker": {
             "colorbar": {
              "outlinewidth": 0,
              "ticks": ""
             }
            },
            "type": "scattercarpet"
           }
          ],
          "scattergeo": [
           {
            "marker": {
             "colorbar": {
              "outlinewidth": 0,
              "ticks": ""
             }
            },
            "type": "scattergeo"
           }
          ],
          "scattergl": [
           {
            "marker": {
             "colorbar": {
              "outlinewidth": 0,
              "ticks": ""
             }
            },
            "type": "scattergl"
           }
          ],
          "scattermapbox": [
           {
            "marker": {
             "colorbar": {
              "outlinewidth": 0,
              "ticks": ""
             }
            },
            "type": "scattermapbox"
           }
          ],
          "scatterpolar": [
           {
            "marker": {
             "colorbar": {
              "outlinewidth": 0,
              "ticks": ""
             }
            },
            "type": "scatterpolar"
           }
          ],
          "scatterpolargl": [
           {
            "marker": {
             "colorbar": {
              "outlinewidth": 0,
              "ticks": ""
             }
            },
            "type": "scatterpolargl"
           }
          ],
          "scatterternary": [
           {
            "marker": {
             "colorbar": {
              "outlinewidth": 0,
              "ticks": ""
             }
            },
            "type": "scatterternary"
           }
          ],
          "surface": [
           {
            "colorbar": {
             "outlinewidth": 0,
             "ticks": ""
            },
            "colorscale": [
             [
              0,
              "#0d0887"
             ],
             [
              0.1111111111111111,
              "#46039f"
             ],
             [
              0.2222222222222222,
              "#7201a8"
             ],
             [
              0.3333333333333333,
              "#9c179e"
             ],
             [
              0.4444444444444444,
              "#bd3786"
             ],
             [
              0.5555555555555556,
              "#d8576b"
             ],
             [
              0.6666666666666666,
              "#ed7953"
             ],
             [
              0.7777777777777778,
              "#fb9f3a"
             ],
             [
              0.8888888888888888,
              "#fdca26"
             ],
             [
              1,
              "#f0f921"
             ]
            ],
            "type": "surface"
           }
          ],
          "table": [
           {
            "cells": {
             "fill": {
              "color": "#EBF0F8"
             },
             "line": {
              "color": "white"
             }
            },
            "header": {
             "fill": {
              "color": "#C8D4E3"
             },
             "line": {
              "color": "white"
             }
            },
            "type": "table"
           }
          ]
         },
         "layout": {
          "annotationdefaults": {
           "arrowcolor": "#2a3f5f",
           "arrowhead": 0,
           "arrowwidth": 1
          },
          "colorscale": {
           "diverging": [
            [
             0,
             "#8e0152"
            ],
            [
             0.1,
             "#c51b7d"
            ],
            [
             0.2,
             "#de77ae"
            ],
            [
             0.3,
             "#f1b6da"
            ],
            [
             0.4,
             "#fde0ef"
            ],
            [
             0.5,
             "#f7f7f7"
            ],
            [
             0.6,
             "#e6f5d0"
            ],
            [
             0.7,
             "#b8e186"
            ],
            [
             0.8,
             "#7fbc41"
            ],
            [
             0.9,
             "#4d9221"
            ],
            [
             1,
             "#276419"
            ]
           ],
           "sequential": [
            [
             0,
             "#0d0887"
            ],
            [
             0.1111111111111111,
             "#46039f"
            ],
            [
             0.2222222222222222,
             "#7201a8"
            ],
            [
             0.3333333333333333,
             "#9c179e"
            ],
            [
             0.4444444444444444,
             "#bd3786"
            ],
            [
             0.5555555555555556,
             "#d8576b"
            ],
            [
             0.6666666666666666,
             "#ed7953"
            ],
            [
             0.7777777777777778,
             "#fb9f3a"
            ],
            [
             0.8888888888888888,
             "#fdca26"
            ],
            [
             1,
             "#f0f921"
            ]
           ],
           "sequentialminus": [
            [
             0,
             "#0d0887"
            ],
            [
             0.1111111111111111,
             "#46039f"
            ],
            [
             0.2222222222222222,
             "#7201a8"
            ],
            [
             0.3333333333333333,
             "#9c179e"
            ],
            [
             0.4444444444444444,
             "#bd3786"
            ],
            [
             0.5555555555555556,
             "#d8576b"
            ],
            [
             0.6666666666666666,
             "#ed7953"
            ],
            [
             0.7777777777777778,
             "#fb9f3a"
            ],
            [
             0.8888888888888888,
             "#fdca26"
            ],
            [
             1,
             "#f0f921"
            ]
           ]
          },
          "colorway": [
           "#636efa",
           "#EF553B",
           "#00cc96",
           "#ab63fa",
           "#FFA15A",
           "#19d3f3",
           "#FF6692",
           "#B6E880",
           "#FF97FF",
           "#FECB52"
          ],
          "font": {
           "color": "#2a3f5f"
          },
          "geo": {
           "bgcolor": "white",
           "lakecolor": "white",
           "landcolor": "#E5ECF6",
           "showlakes": true,
           "showland": true,
           "subunitcolor": "white"
          },
          "hoverlabel": {
           "align": "left"
          },
          "hovermode": "closest",
          "mapbox": {
           "style": "light"
          },
          "paper_bgcolor": "white",
          "plot_bgcolor": "#E5ECF6",
          "polar": {
           "angularaxis": {
            "gridcolor": "white",
            "linecolor": "white",
            "ticks": ""
           },
           "bgcolor": "#E5ECF6",
           "radialaxis": {
            "gridcolor": "white",
            "linecolor": "white",
            "ticks": ""
           }
          },
          "scene": {
           "xaxis": {
            "backgroundcolor": "#E5ECF6",
            "gridcolor": "white",
            "gridwidth": 2,
            "linecolor": "white",
            "showbackground": true,
            "ticks": "",
            "zerolinecolor": "white"
           },
           "yaxis": {
            "backgroundcolor": "#E5ECF6",
            "gridcolor": "white",
            "gridwidth": 2,
            "linecolor": "white",
            "showbackground": true,
            "ticks": "",
            "zerolinecolor": "white"
           },
           "zaxis": {
            "backgroundcolor": "#E5ECF6",
            "gridcolor": "white",
            "gridwidth": 2,
            "linecolor": "white",
            "showbackground": true,
            "ticks": "",
            "zerolinecolor": "white"
           }
          },
          "shapedefaults": {
           "line": {
            "color": "#2a3f5f"
           }
          },
          "ternary": {
           "aaxis": {
            "gridcolor": "white",
            "linecolor": "white",
            "ticks": ""
           },
           "baxis": {
            "gridcolor": "white",
            "linecolor": "white",
            "ticks": ""
           },
           "bgcolor": "#E5ECF6",
           "caxis": {
            "gridcolor": "white",
            "linecolor": "white",
            "ticks": ""
           }
          },
          "title": {
           "x": 0.05
          },
          "xaxis": {
           "automargin": true,
           "gridcolor": "white",
           "linecolor": "white",
           "ticks": "",
           "zerolinecolor": "white",
           "zerolinewidth": 2
          },
          "yaxis": {
           "automargin": true,
           "gridcolor": "white",
           "linecolor": "white",
           "ticks": "",
           "zerolinecolor": "white",
           "zerolinewidth": 2
          }
         }
        },
        "title": {
         "text": "Trie"
        },
        "width": 1000,
        "xaxis": {
         "showgrid": false,
         "showline": false,
         "showticklabels": false,
         "zeroline": false
        },
        "yaxis": {
         "showgrid": false,
         "showline": false,
         "showticklabels": false,
         "zeroline": false
        }
       }
      },
      "text/html": [
       "<div>\n",
       "        \n",
       "        \n",
       "            <div id=\"b18516c5-09c3-4b58-a756-f284a3da9674\" class=\"plotly-graph-div\" style=\"height:800px; width:1000px;\"></div>\n",
       "            <script type=\"text/javascript\">\n",
       "                require([\"plotly\"], function(Plotly) {\n",
       "                    window.PLOTLYENV=window.PLOTLYENV || {};\n",
       "                    \n",
       "                if (document.getElementById(\"b18516c5-09c3-4b58-a756-f284a3da9674\")) {\n",
       "                    Plotly.newPlot(\n",
       "                        'b18516c5-09c3-4b58-a756-f284a3da9674',\n",
       "                        [{\"hoverinfo\": \"none\", \"line\": {\"color\": \"rgb(160,160,160)\", \"width\": 2}, \"mode\": \"lines\", \"type\": \"scatter\", \"uid\": \"a1498b57-a137-4016-9488-a5f10d394c19\", \"x\": [1822.5, 1822.5, null, 1822.5, 1323.5, null, 1822.5, 1822.5, null, 1822.5, 2155.5, null, 1323.5, 992.49, null, 1323.5, 1323.5, null, 1822.5, 1822.5, null, 2155.5, 2157.5, null, 992.49, 992.49, null, 1323.5, 1323.5, null, 1822.5, 1822.5, null, 2157.5, 2158.5, null, 992.49, 991.49, null, 1323.5, 1323.5, null, 991.49, 990.49, null, 990.49, 988.49, null, 988.49, 825.49, null, 825.49, 492.49, null, 825.49, 825.49, null, 492.49, 489.49, null, 825.49, 825.49, null, 489.49, 159.49, null, 489.49, 489.49, null, 825.49, 825.49, null, 159.49, 157.49, null, 489.49, 489.49, null, 157.49, 156.49, null, 489.49, 489.49, null, 156.49, 156.49, null, 156.49, 156.49, null, 156.49, 156.49, null, 489.49, 489.49, null, 489.49, 490.49, null, 490.49, 490.49, null, 490.49, 490.49, null, 490.49, 490.49, null, 825.49, 825.49, null, 825.49, 825.49, null, 825.49, 825.49, null, 1323.5, 1323.5, null, 1323.5, 1323.5, null, 1323.5, 1323.5, null, 1323.5, 1323.5, null, 1323.5, 1323.5, null, 1323.5, 1323.5, null, 1323.5, 1323.5, null, 1323.5, 1159.5, null, 1323.5, 1490.5, null, 1159.5, 1159.5, null, 1490.5, 1491.5, null, 1159.5, 1159.5, null, 1491.5, 1491.5, null, 1491.5, 1490.5, null, 1490.5, 1490.5, null, 1490.5, 1490.5, null, 1822.5, 1822.5, null, 1822.5, 1822.5, null, 1822.5, 1822.5, null, 1822.5, 1822.5, null, 1822.5, 1822.5, null, 1822.5, 1823.5, null, 1823.5, 1823.5, null, 1823.5, 1823.5, null, 1823.5, 1823.5, null, 1823.5, 1824.5, null, 1824.5, 1824.5, null, 1824.5, 1824.5, null, 2158.5, 2158.5, null, 2158.5, 2158.5, null, 2158.5, 2158.5, null, 2158.5, 2158.5, null, 2158.5, 2158.5, null, 2158.5, 2158.5, null, 2158.5, 2158.5, null, 2158.5, 2158.5, null, 2158.5, 2158.5, null, 2158.5, 2158.5, null], \"y\": [1314.0, 1242.0, null, 1242.0, 1170.0, null, 1242.0, 1170.0, null, 1242.0, 1170.0, null, 1170.0, 1098.0, null, 1170.0, 1098.0, null, 1170.0, 1098.0, null, 1170.0, 1098.0, null, 1098.0, 1026.0, null, 1098.0, 1026.0, null, 1098.0, 1026.0, null, 1098.0, 1026.0, null, 1026.0, 954.0, null, 1026.0, 954.0, null, 954.0, 882.0, null, 882.0, 810.0, null, 810.0, 738.0, null, 738.0, 666.0, null, 738.0, 666.0, null, 666.0, 594.0, null, 666.0, 594.0, null, 594.0, 522.0, null, 594.0, 522.0, null, 594.0, 522.0, null, 522.0, 450.0, null, 522.0, 450.0, null, 450.0, 378.0, null, 450.0, 378.0, null, 378.0, 306.0, null, 306.0, 234.0, null, 234.0, 162.0, null, 378.0, 306.0, null, 306.0, 234.0, null, 234.0, 162.0, null, 162.0, 90.0, null, 90.0, 18.0, null, 522.0, 450.0, null, 450.0, 378.0, null, 378.0, 306.0, null, 954.0, 882.0, null, 882.0, 810.0, null, 810.0, 738.0, null, 738.0, 666.0, null, 666.0, 594.0, null, 594.0, 522.0, null, 522.0, 450.0, null, 450.0, 378.0, null, 450.0, 378.0, null, 378.0, 306.0, null, 378.0, 306.0, null, 306.0, 234.0, null, 306.0, 234.0, null, 234.0, 162.0, null, 162.0, 90.0, null, 90.0, 18.0, null, 1026.0, 954.0, null, 954.0, 882.0, null, 882.0, 810.0, null, 810.0, 738.0, null, 738.0, 666.0, null, 666.0, 594.0, null, 594.0, 522.0, null, 522.0, 450.0, null, 450.0, 378.0, null, 378.0, 306.0, null, 306.0, 234.0, null, 234.0, 162.0, null, 1026.0, 954.0, null, 954.0, 882.0, null, 882.0, 810.0, null, 810.0, 738.0, null, 738.0, 666.0, null, 666.0, 594.0, null, 594.0, 522.0, null, 522.0, 450.0, null, 450.0, 378.0, null, 378.0, 306.0, null]}, {\"hoverinfo\": \"none\", \"marker\": {\"color\": \"rgb(100,100,100)\", \"line\": {\"color\": \"rgb(100,100,100)\", \"width\": 1}, \"size\": 18}, \"mode\": \"markers+text\", \"name\": \"\", \"text\": [null], \"type\": \"scatter\", \"uid\": \"a29422df-0227-4b52-943e-dba72441b257\", \"x\": [1822.5], \"y\": [1314.0]}, {\"hoverinfo\": \"none\", \"marker\": {\"color\": \"rgb(101,214,67)\", \"line\": {\"color\": \"rgb(100,100,100)\", \"width\": 1}, \"size\": 18}, \"mode\": \"markers+text\", \"name\": \"\", \"text\": [\"dynamic\", \"dynamic\", \"dynamic\", \"dynamic\"], \"type\": \"scatter\", \"uid\": \"ec48381d-6973-4a70-98f0-deafab4145f4\", \"x\": [988.49, 1159.5, 1822.5, 2158.5], \"y\": [810.0, 234.0, 738.0, 738.0]}, {\"hoverinfo\": \"none\", \"marker\": {\"color\": \"rgb(247,185,43)\", \"line\": {\"color\": \"rgb(100,100,100)\", \"width\": 1}, \"size\": 18}, \"mode\": \"markers+text\", \"name\": \"\", \"text\": [\"/\", \"/\", \"/\", \"/\", \"/\", \"/\", \"/\", \"/\"], \"type\": \"scatter\", \"uid\": \"4bc3c655-1e64-42bb-bcd1-2eb84415a5e4\", \"x\": [1822.5, 990.49, 825.49, 1159.5, 1822.5, 1822.5, 2158.5, 2158.5], \"y\": [1242.0, 882.0, 738.0, 306.0, 810.0, 666.0, 810.0, 666.0]}, {\"hoverinfo\": \"none\", \"marker\": {\"color\": \"rgb(24,140,216)\", \"line\": {\"color\": \"rgb(100,100,100)\", \"width\": 1}, \"size\": 18}, \"mode\": \"markers+text\", \"name\": \"\", \"text\": [\"a\", \"u\", \"p\", \"p\", \"c\", \"s\", \"o\", \"p\", \"h\", \"s\", \"a\", \"e\", \"c\", \"v\", \"c\", \"t\", \"o\", \"i\", \"u\", \"n\", \"t\", \"s\", \"v\", \"i\", \"t\", \"i\", \"e\", \"s\", \"e\", \"n\", \"t\", \"s\", \"i\", \"e\", \"v\", \"e\", \"m\", \"e\", \"n\", \"t\", \"s\", \"-\", \"t\", \"y\", \"p\", \"e\", \"s\", \"e\", \"r\", \"s\", \"f\", \"r\", \"i\", \"e\", \"n\", \"d\", \"s\", \"s\", \"t\", \"s\", \"l\", \"i\", \"k\", \"e\", \"s\"], \"type\": \"scatter\", \"uid\": \"a7ceac7e-5870-4e9a-b6e9-8eef671c7941\", \"x\": [1323.5, 1822.5, 2155.5, 992.49, 1323.5, 1822.5, 2157.5, 992.49, 1323.5, 991.49, 492.49, 825.49, 489.49, 825.49, 159.49, 489.49, 157.49, 489.49, 156.49, 156.49, 156.49, 156.49, 489.49, 489.49, 490.49, 490.49, 490.49, 490.49, 825.49, 825.49, 825.49, 825.49, 1323.5, 1323.5, 1323.5, 1323.5, 1323.5, 1323.5, 1323.5, 1323.5, 1159.5, 1490.5, 1491.5, 1491.5, 1490.5, 1490.5, 1490.5, 1822.5, 1822.5, 1822.5, 1823.5, 1823.5, 1823.5, 1823.5, 1824.5, 1824.5, 1824.5, 2158.5, 2158.5, 2158.5, 2158.5, 2158.5, 2158.5, 2158.5, 2158.5], \"y\": [1170.0, 1170.0, 1170.0, 1098.0, 1098.0, 1098.0, 1098.0, 1026.0, 1026.0, 954.0, 666.0, 666.0, 594.0, 594.0, 522.0, 522.0, 450.0, 450.0, 378.0, 306.0, 234.0, 162.0, 378.0, 306.0, 234.0, 162.0, 90.0, 18.0, 522.0, 450.0, 378.0, 306.0, 954.0, 882.0, 810.0, 738.0, 666.0, 594.0, 522.0, 450.0, 378.0, 378.0, 306.0, 234.0, 162.0, 90.0, 18.0, 1026.0, 954.0, 882.0, 594.0, 522.0, 450.0, 378.0, 306.0, 234.0, 162.0, 1026.0, 954.0, 882.0, 594.0, 522.0, 450.0, 378.0, 306.0]}],\n",
       "                        {\"font\": {\"size\": 15}, \"height\": 800, \"hovermode\": \"closest\", \"margin\": {\"b\": 85, \"l\": 40, \"r\": 40, \"t\": 100}, \"plot_bgcolor\": \"rgb(248,248,248)\", \"showlegend\": false, \"template\": {\"data\": {\"bar\": [{\"error_x\": {\"color\": \"#2a3f5f\"}, \"error_y\": {\"color\": \"#2a3f5f\"}, \"marker\": {\"line\": {\"color\": \"#E5ECF6\", \"width\": 0.5}}, \"type\": \"bar\"}], \"barpolar\": [{\"marker\": {\"line\": {\"color\": \"#E5ECF6\", \"width\": 0.5}}, \"type\": \"barpolar\"}], \"carpet\": [{\"aaxis\": {\"endlinecolor\": \"#2a3f5f\", \"gridcolor\": \"white\", \"linecolor\": \"white\", \"minorgridcolor\": \"white\", \"startlinecolor\": \"#2a3f5f\"}, \"baxis\": {\"endlinecolor\": \"#2a3f5f\", \"gridcolor\": \"white\", \"linecolor\": \"white\", \"minorgridcolor\": \"white\", \"startlinecolor\": \"#2a3f5f\"}, \"type\": \"carpet\"}], \"choropleth\": [{\"colorbar\": {\"outlinewidth\": 0, \"ticks\": \"\"}, \"type\": \"choropleth\"}], \"contour\": [{\"colorbar\": {\"outlinewidth\": 0, \"ticks\": \"\"}, \"colorscale\": [[0.0, \"#0d0887\"], [0.1111111111111111, \"#46039f\"], [0.2222222222222222, \"#7201a8\"], [0.3333333333333333, \"#9c179e\"], [0.4444444444444444, \"#bd3786\"], [0.5555555555555556, \"#d8576b\"], [0.6666666666666666, \"#ed7953\"], [0.7777777777777778, \"#fb9f3a\"], [0.8888888888888888, \"#fdca26\"], [1.0, \"#f0f921\"]], \"type\": \"contour\"}], \"contourcarpet\": [{\"colorbar\": {\"outlinewidth\": 0, \"ticks\": \"\"}, \"type\": \"contourcarpet\"}], \"heatmap\": [{\"colorbar\": {\"outlinewidth\": 0, \"ticks\": \"\"}, \"colorscale\": [[0.0, \"#0d0887\"], [0.1111111111111111, \"#46039f\"], [0.2222222222222222, \"#7201a8\"], [0.3333333333333333, \"#9c179e\"], [0.4444444444444444, \"#bd3786\"], [0.5555555555555556, \"#d8576b\"], [0.6666666666666666, \"#ed7953\"], [0.7777777777777778, \"#fb9f3a\"], [0.8888888888888888, \"#fdca26\"], [1.0, \"#f0f921\"]], \"type\": \"heatmap\"}], \"heatmapgl\": [{\"colorbar\": {\"outlinewidth\": 0, \"ticks\": \"\"}, \"colorscale\": [[0.0, \"#0d0887\"], [0.1111111111111111, \"#46039f\"], [0.2222222222222222, \"#7201a8\"], [0.3333333333333333, \"#9c179e\"], [0.4444444444444444, \"#bd3786\"], [0.5555555555555556, \"#d8576b\"], [0.6666666666666666, \"#ed7953\"], [0.7777777777777778, \"#fb9f3a\"], [0.8888888888888888, \"#fdca26\"], [1.0, \"#f0f921\"]], \"type\": \"heatmapgl\"}], \"histogram\": [{\"marker\": {\"colorbar\": {\"outlinewidth\": 0, \"ticks\": \"\"}}, \"type\": \"histogram\"}], \"histogram2d\": [{\"colorbar\": {\"outlinewidth\": 0, \"ticks\": \"\"}, \"colorscale\": [[0.0, \"#0d0887\"], [0.1111111111111111, \"#46039f\"], [0.2222222222222222, \"#7201a8\"], [0.3333333333333333, \"#9c179e\"], [0.4444444444444444, \"#bd3786\"], [0.5555555555555556, \"#d8576b\"], [0.6666666666666666, \"#ed7953\"], [0.7777777777777778, \"#fb9f3a\"], [0.8888888888888888, \"#fdca26\"], [1.0, \"#f0f921\"]], \"type\": \"histogram2d\"}], \"histogram2dcontour\": [{\"colorbar\": {\"outlinewidth\": 0, \"ticks\": \"\"}, \"colorscale\": [[0.0, \"#0d0887\"], [0.1111111111111111, \"#46039f\"], [0.2222222222222222, \"#7201a8\"], [0.3333333333333333, \"#9c179e\"], [0.4444444444444444, \"#bd3786\"], [0.5555555555555556, \"#d8576b\"], [0.6666666666666666, \"#ed7953\"], [0.7777777777777778, \"#fb9f3a\"], [0.8888888888888888, \"#fdca26\"], [1.0, \"#f0f921\"]], \"type\": \"histogram2dcontour\"}], \"mesh3d\": [{\"colorbar\": {\"outlinewidth\": 0, \"ticks\": \"\"}, \"type\": \"mesh3d\"}], \"parcoords\": [{\"line\": {\"colorbar\": {\"outlinewidth\": 0, \"ticks\": \"\"}}, \"type\": \"parcoords\"}], \"scatter\": [{\"marker\": {\"colorbar\": {\"outlinewidth\": 0, \"ticks\": \"\"}}, \"type\": \"scatter\"}], \"scatter3d\": [{\"line\": {\"colorbar\": {\"outlinewidth\": 0, \"ticks\": \"\"}}, \"marker\": {\"colorbar\": {\"outlinewidth\": 0, \"ticks\": \"\"}}, \"type\": \"scatter3d\"}], \"scattercarpet\": [{\"marker\": {\"colorbar\": {\"outlinewidth\": 0, \"ticks\": \"\"}}, \"type\": \"scattercarpet\"}], \"scattergeo\": [{\"marker\": {\"colorbar\": {\"outlinewidth\": 0, \"ticks\": \"\"}}, \"type\": \"scattergeo\"}], \"scattergl\": [{\"marker\": {\"colorbar\": {\"outlinewidth\": 0, \"ticks\": \"\"}}, \"type\": \"scattergl\"}], \"scattermapbox\": [{\"marker\": {\"colorbar\": {\"outlinewidth\": 0, \"ticks\": \"\"}}, \"type\": \"scattermapbox\"}], \"scatterpolar\": [{\"marker\": {\"colorbar\": {\"outlinewidth\": 0, \"ticks\": \"\"}}, \"type\": \"scatterpolar\"}], \"scatterpolargl\": [{\"marker\": {\"colorbar\": {\"outlinewidth\": 0, \"ticks\": \"\"}}, \"type\": \"scatterpolargl\"}], \"scatterternary\": [{\"marker\": {\"colorbar\": {\"outlinewidth\": 0, \"ticks\": \"\"}}, \"type\": \"scatterternary\"}], \"surface\": [{\"colorbar\": {\"outlinewidth\": 0, \"ticks\": \"\"}, \"colorscale\": [[0.0, \"#0d0887\"], [0.1111111111111111, \"#46039f\"], [0.2222222222222222, \"#7201a8\"], [0.3333333333333333, \"#9c179e\"], [0.4444444444444444, \"#bd3786\"], [0.5555555555555556, \"#d8576b\"], [0.6666666666666666, \"#ed7953\"], [0.7777777777777778, \"#fb9f3a\"], [0.8888888888888888, \"#fdca26\"], [1.0, \"#f0f921\"]], \"type\": \"surface\"}], \"table\": [{\"cells\": {\"fill\": {\"color\": \"#EBF0F8\"}, \"line\": {\"color\": \"white\"}}, \"header\": {\"fill\": {\"color\": \"#C8D4E3\"}, \"line\": {\"color\": \"white\"}}, \"type\": \"table\"}]}, \"layout\": {\"annotationdefaults\": {\"arrowcolor\": \"#2a3f5f\", \"arrowhead\": 0, \"arrowwidth\": 1}, \"colorscale\": {\"diverging\": [[0, \"#8e0152\"], [0.1, \"#c51b7d\"], [0.2, \"#de77ae\"], [0.3, \"#f1b6da\"], [0.4, \"#fde0ef\"], [0.5, \"#f7f7f7\"], [0.6, \"#e6f5d0\"], [0.7, \"#b8e186\"], [0.8, \"#7fbc41\"], [0.9, \"#4d9221\"], [1, \"#276419\"]], \"sequential\": [[0.0, \"#0d0887\"], [0.1111111111111111, \"#46039f\"], [0.2222222222222222, \"#7201a8\"], [0.3333333333333333, \"#9c179e\"], [0.4444444444444444, \"#bd3786\"], [0.5555555555555556, \"#d8576b\"], [0.6666666666666666, \"#ed7953\"], [0.7777777777777778, \"#fb9f3a\"], [0.8888888888888888, \"#fdca26\"], [1.0, \"#f0f921\"]], \"sequentialminus\": [[0.0, \"#0d0887\"], [0.1111111111111111, \"#46039f\"], [0.2222222222222222, \"#7201a8\"], [0.3333333333333333, \"#9c179e\"], [0.4444444444444444, \"#bd3786\"], [0.5555555555555556, \"#d8576b\"], [0.6666666666666666, \"#ed7953\"], [0.7777777777777778, \"#fb9f3a\"], [0.8888888888888888, \"#fdca26\"], [1.0, \"#f0f921\"]]}, \"colorway\": [\"#636efa\", \"#EF553B\", \"#00cc96\", \"#ab63fa\", \"#FFA15A\", \"#19d3f3\", \"#FF6692\", \"#B6E880\", \"#FF97FF\", \"#FECB52\"], \"font\": {\"color\": \"#2a3f5f\"}, \"geo\": {\"bgcolor\": \"white\", \"lakecolor\": \"white\", \"landcolor\": \"#E5ECF6\", \"showlakes\": true, \"showland\": true, \"subunitcolor\": \"white\"}, \"hoverlabel\": {\"align\": \"left\"}, \"hovermode\": \"closest\", \"mapbox\": {\"style\": \"light\"}, \"paper_bgcolor\": \"white\", \"plot_bgcolor\": \"#E5ECF6\", \"polar\": {\"angularaxis\": {\"gridcolor\": \"white\", \"linecolor\": \"white\", \"ticks\": \"\"}, \"bgcolor\": \"#E5ECF6\", \"radialaxis\": {\"gridcolor\": \"white\", \"linecolor\": \"white\", \"ticks\": \"\"}}, \"scene\": {\"xaxis\": {\"backgroundcolor\": \"#E5ECF6\", \"gridcolor\": \"white\", \"gridwidth\": 2, \"linecolor\": \"white\", \"showbackground\": true, \"ticks\": \"\", \"zerolinecolor\": \"white\"}, \"yaxis\": {\"backgroundcolor\": \"#E5ECF6\", \"gridcolor\": \"white\", \"gridwidth\": 2, \"linecolor\": \"white\", \"showbackground\": true, \"ticks\": \"\", \"zerolinecolor\": \"white\"}, \"zaxis\": {\"backgroundcolor\": \"#E5ECF6\", \"gridcolor\": \"white\", \"gridwidth\": 2, \"linecolor\": \"white\", \"showbackground\": true, \"ticks\": \"\", \"zerolinecolor\": \"white\"}}, \"shapedefaults\": {\"line\": {\"color\": \"#2a3f5f\"}}, \"ternary\": {\"aaxis\": {\"gridcolor\": \"white\", \"linecolor\": \"white\", \"ticks\": \"\"}, \"baxis\": {\"gridcolor\": \"white\", \"linecolor\": \"white\", \"ticks\": \"\"}, \"bgcolor\": \"#E5ECF6\", \"caxis\": {\"gridcolor\": \"white\", \"linecolor\": \"white\", \"ticks\": \"\"}}, \"title\": {\"x\": 0.05}, \"xaxis\": {\"automargin\": true, \"gridcolor\": \"white\", \"linecolor\": \"white\", \"ticks\": \"\", \"zerolinecolor\": \"white\", \"zerolinewidth\": 2}, \"yaxis\": {\"automargin\": true, \"gridcolor\": \"white\", \"linecolor\": \"white\", \"ticks\": \"\", \"zerolinecolor\": \"white\", \"zerolinewidth\": 2}}}, \"title\": {\"text\": \"Trie\"}, \"width\": 1000, \"xaxis\": {\"showgrid\": false, \"showline\": false, \"showticklabels\": false, \"zeroline\": false}, \"yaxis\": {\"showgrid\": false, \"showline\": false, \"showticklabels\": false, \"zeroline\": false}},\n",
       "                        {\"responsive\": true}\n",
       "                    ).then(function(){\n",
       "                            \n",
       "var gd = document.getElementById('b18516c5-09c3-4b58-a756-f284a3da9674');\n",
       "var x = new MutationObserver(function (mutations, observer) {{\n",
       "        var display = window.getComputedStyle(gd).display;\n",
       "        if (!display || display === 'none') {{\n",
       "            console.log([gd, 'removed!']);\n",
       "            Plotly.purge(gd);\n",
       "            observer.disconnect();\n",
       "        }}\n",
       "}});\n",
       "\n",
       "// Listen for the removal of the full notebook cells\n",
       "var notebookContainer = gd.closest('#notebook-container');\n",
       "if (notebookContainer) {{\n",
       "    x.observe(notebookContainer, {childList: true});\n",
       "}}\n",
       "\n",
       "// Listen for the clearing of the current output cell\n",
       "var outputEl = gd.closest('.output');\n",
       "if (outputEl) {{\n",
       "    x.observe(outputEl, {childList: true});\n",
       "}}\n",
       "\n",
       "                        })\n",
       "                };\n",
       "                });\n",
       "            </script>\n",
       "        </div>"
      ]
     },
     "metadata": {},
     "output_type": "display_data"
    },
    {
     "data": {
      "application/vnd.plotly.v1+json": {
       "config": {
        "plotlyServerURL": "https://plot.ly"
       },
       "data": [
        {
         "hoverinfo": "none",
         "line": {
          "color": "rgb(160,160,160)",
          "width": 2
         },
         "mode": "lines",
         "type": "scatter",
         "uid": "d62ec1fd-1500-4fc0-a0f8-ddc779074b46",
         "x": [
          1822.5,
          1822.5,
          null,
          1822.5,
          1323.5,
          null,
          1822.5,
          1822.5,
          null,
          1822.5,
          2155.5,
          null,
          1323.5,
          992.49,
          null,
          1323.5,
          1323.5,
          null,
          1822.5,
          1822.5,
          null,
          2155.5,
          2157.5,
          null,
          992.49,
          992.49,
          null,
          1323.5,
          1323.5,
          null,
          1822.5,
          1822.5,
          null,
          2157.5,
          2158.5,
          null,
          992.49,
          991.49,
          null,
          1323.5,
          1323.5,
          null,
          991.49,
          990.49,
          null,
          990.49,
          988.49,
          null,
          988.49,
          825.49,
          null,
          825.49,
          492.49,
          null,
          825.49,
          825.49,
          null,
          492.49,
          489.49,
          null,
          825.49,
          825.49,
          null,
          489.49,
          159.49,
          null,
          489.49,
          489.49,
          null,
          825.49,
          825.49,
          null,
          159.49,
          157.49,
          null,
          489.49,
          489.49,
          null,
          157.49,
          156.49,
          null,
          489.49,
          489.49,
          null,
          156.49,
          156.49,
          null,
          156.49,
          156.49,
          null,
          156.49,
          156.49,
          null,
          489.49,
          489.49,
          null,
          489.49,
          490.49,
          null,
          490.49,
          490.49,
          null,
          490.49,
          490.49,
          null,
          490.49,
          490.49,
          null,
          825.49,
          825.49,
          null,
          825.49,
          825.49,
          null,
          825.49,
          825.49,
          null,
          1323.5,
          1323.5,
          null,
          1323.5,
          1323.5,
          null,
          1323.5,
          1323.5,
          null,
          1323.5,
          1323.5,
          null,
          1323.5,
          1323.5,
          null,
          1323.5,
          1323.5,
          null,
          1323.5,
          1323.5,
          null,
          1323.5,
          1159.5,
          null,
          1323.5,
          1490.5,
          null,
          1159.5,
          1159.5,
          null,
          1490.5,
          1491.5,
          null,
          1159.5,
          1159.5,
          null,
          1491.5,
          1491.5,
          null,
          1491.5,
          1490.5,
          null,
          1490.5,
          1490.5,
          null,
          1490.5,
          1490.5,
          null,
          1822.5,
          1822.5,
          null,
          1822.5,
          1822.5,
          null,
          1822.5,
          1822.5,
          null,
          1822.5,
          1822.5,
          null,
          1822.5,
          1822.5,
          null,
          1822.5,
          1823.5,
          null,
          1823.5,
          1823.5,
          null,
          1823.5,
          1823.5,
          null,
          1823.5,
          1823.5,
          null,
          1823.5,
          1824.5,
          null,
          1824.5,
          1824.5,
          null,
          1824.5,
          1824.5,
          null,
          2158.5,
          2158.5,
          null,
          2158.5,
          2158.5,
          null,
          2158.5,
          2158.5,
          null,
          2158.5,
          2158.5,
          null,
          2158.5,
          2158.5,
          null,
          2158.5,
          2158.5,
          null,
          2158.5,
          2158.5,
          null,
          2158.5,
          2158.5,
          null,
          2158.5,
          2158.5,
          null,
          2158.5,
          2158.5,
          null
         ],
         "y": [
          1314,
          1242,
          null,
          1242,
          1170,
          null,
          1242,
          1170,
          null,
          1242,
          1170,
          null,
          1170,
          1098,
          null,
          1170,
          1098,
          null,
          1170,
          1098,
          null,
          1170,
          1098,
          null,
          1098,
          1026,
          null,
          1098,
          1026,
          null,
          1098,
          1026,
          null,
          1098,
          1026,
          null,
          1026,
          954,
          null,
          1026,
          954,
          null,
          954,
          882,
          null,
          882,
          810,
          null,
          810,
          738,
          null,
          738,
          666,
          null,
          738,
          666,
          null,
          666,
          594,
          null,
          666,
          594,
          null,
          594,
          522,
          null,
          594,
          522,
          null,
          594,
          522,
          null,
          522,
          450,
          null,
          522,
          450,
          null,
          450,
          378,
          null,
          450,
          378,
          null,
          378,
          306,
          null,
          306,
          234,
          null,
          234,
          162,
          null,
          378,
          306,
          null,
          306,
          234,
          null,
          234,
          162,
          null,
          162,
          90,
          null,
          90,
          18,
          null,
          522,
          450,
          null,
          450,
          378,
          null,
          378,
          306,
          null,
          954,
          882,
          null,
          882,
          810,
          null,
          810,
          738,
          null,
          738,
          666,
          null,
          666,
          594,
          null,
          594,
          522,
          null,
          522,
          450,
          null,
          450,
          378,
          null,
          450,
          378,
          null,
          378,
          306,
          null,
          378,
          306,
          null,
          306,
          234,
          null,
          306,
          234,
          null,
          234,
          162,
          null,
          162,
          90,
          null,
          90,
          18,
          null,
          1026,
          954,
          null,
          954,
          882,
          null,
          882,
          810,
          null,
          810,
          738,
          null,
          738,
          666,
          null,
          666,
          594,
          null,
          594,
          522,
          null,
          522,
          450,
          null,
          450,
          378,
          null,
          378,
          306,
          null,
          306,
          234,
          null,
          234,
          162,
          null,
          1026,
          954,
          null,
          954,
          882,
          null,
          882,
          810,
          null,
          810,
          738,
          null,
          738,
          666,
          null,
          666,
          594,
          null,
          594,
          522,
          null,
          522,
          450,
          null,
          450,
          378,
          null,
          378,
          306,
          null
         ]
        },
        {
         "hoverinfo": "none",
         "marker": {
          "color": "rgb(100,100,100)",
          "line": {
           "color": "rgb(100,100,100)",
           "width": 1
          },
          "size": 18
         },
         "mode": "markers+text",
         "name": "",
         "text": [
          null
         ],
         "type": "scatter",
         "uid": "001300c0-e9dd-491e-83a7-4c0576ce750d",
         "x": [
          1822.5
         ],
         "y": [
          1314
         ]
        },
        {
         "hoverinfo": "none",
         "marker": {
          "color": "rgb(101,214,67)",
          "line": {
           "color": "rgb(100,100,100)",
           "width": 1
          },
          "size": 18
         },
         "mode": "markers+text",
         "name": "",
         "text": [
          "dynamic",
          "dynamic",
          "dynamic",
          "dynamic"
         ],
         "type": "scatter",
         "uid": "d7fa3247-431f-4b7e-b21d-aad4c2ff6557",
         "x": [
          988.49,
          1159.5,
          1822.5,
          2158.5
         ],
         "y": [
          810,
          234,
          738,
          738
         ]
        },
        {
         "hoverinfo": "none",
         "marker": {
          "color": "rgb(247,185,43)",
          "line": {
           "color": "rgb(100,100,100)",
           "width": 1
          },
          "size": 18
         },
         "mode": "markers+text",
         "name": "",
         "text": [
          "/",
          "/",
          "/",
          "/",
          "/",
          "/",
          "/",
          "/"
         ],
         "type": "scatter",
         "uid": "d52288fc-1a13-41e6-a333-05c1ae92f778",
         "x": [
          1822.5,
          990.49,
          825.49,
          1159.5,
          1822.5,
          1822.5,
          2158.5,
          2158.5
         ],
         "y": [
          1242,
          882,
          738,
          306,
          810,
          666,
          810,
          666
         ]
        },
        {
         "hoverinfo": "none",
         "marker": {
          "color": "rgb(24,140,216)",
          "line": {
           "color": "rgb(100,100,100)",
           "width": 1
          },
          "size": 18
         },
         "mode": "markers+text",
         "name": "",
         "text": [
          "a",
          "u",
          "p",
          "p",
          "c",
          "s",
          "o",
          "p",
          "h",
          "s",
          "a",
          "e",
          "c",
          "v",
          "c",
          "t",
          "o",
          "i",
          "u",
          "n",
          "t",
          "s",
          "v",
          "i",
          "t",
          "i",
          "e",
          "s",
          "e",
          "n",
          "t",
          "s",
          "i",
          "e",
          "v",
          "e",
          "m",
          "e",
          "n",
          "t",
          "s",
          "-",
          "t",
          "y",
          "p",
          "e",
          "s",
          "e",
          "r",
          "s",
          "f",
          "r",
          "i",
          "e",
          "n",
          "d",
          "s",
          "s",
          "t",
          "s",
          "l",
          "i",
          "k",
          "e",
          "s"
         ],
         "type": "scatter",
         "uid": "085bcd9a-cb31-4ba0-ac06-ef9955de99d4",
         "x": [
          1323.5,
          1822.5,
          2155.5,
          992.49,
          1323.5,
          1822.5,
          2157.5,
          992.49,
          1323.5,
          991.49,
          492.49,
          825.49,
          489.49,
          825.49,
          159.49,
          489.49,
          157.49,
          489.49,
          156.49,
          156.49,
          156.49,
          156.49,
          489.49,
          489.49,
          490.49,
          490.49,
          490.49,
          490.49,
          825.49,
          825.49,
          825.49,
          825.49,
          1323.5,
          1323.5,
          1323.5,
          1323.5,
          1323.5,
          1323.5,
          1323.5,
          1323.5,
          1159.5,
          1490.5,
          1491.5,
          1491.5,
          1490.5,
          1490.5,
          1490.5,
          1822.5,
          1822.5,
          1822.5,
          1823.5,
          1823.5,
          1823.5,
          1823.5,
          1824.5,
          1824.5,
          1824.5,
          2158.5,
          2158.5,
          2158.5,
          2158.5,
          2158.5,
          2158.5,
          2158.5,
          2158.5
         ],
         "y": [
          1170,
          1170,
          1170,
          1098,
          1098,
          1098,
          1098,
          1026,
          1026,
          954,
          666,
          666,
          594,
          594,
          522,
          522,
          450,
          450,
          378,
          306,
          234,
          162,
          378,
          306,
          234,
          162,
          90,
          18,
          522,
          450,
          378,
          306,
          954,
          882,
          810,
          738,
          666,
          594,
          522,
          450,
          378,
          378,
          306,
          234,
          162,
          90,
          18,
          1026,
          954,
          882,
          594,
          522,
          450,
          378,
          306,
          234,
          162,
          1026,
          954,
          882,
          594,
          522,
          450,
          378,
          306
         ]
        }
       ],
       "layout": {
        "font": {
         "size": 15
        },
        "height": 800,
        "hovermode": "closest",
        "margin": {
         "b": 85,
         "l": 40,
         "r": 40,
         "t": 100
        },
        "plot_bgcolor": "rgb(248,248,248)",
        "showlegend": false,
        "template": {
         "data": {
          "bar": [
           {
            "error_x": {
             "color": "#2a3f5f"
            },
            "error_y": {
             "color": "#2a3f5f"
            },
            "marker": {
             "line": {
              "color": "#E5ECF6",
              "width": 0.5
             }
            },
            "type": "bar"
           }
          ],
          "barpolar": [
           {
            "marker": {
             "line": {
              "color": "#E5ECF6",
              "width": 0.5
             }
            },
            "type": "barpolar"
           }
          ],
          "carpet": [
           {
            "aaxis": {
             "endlinecolor": "#2a3f5f",
             "gridcolor": "white",
             "linecolor": "white",
             "minorgridcolor": "white",
             "startlinecolor": "#2a3f5f"
            },
            "baxis": {
             "endlinecolor": "#2a3f5f",
             "gridcolor": "white",
             "linecolor": "white",
             "minorgridcolor": "white",
             "startlinecolor": "#2a3f5f"
            },
            "type": "carpet"
           }
          ],
          "choropleth": [
           {
            "colorbar": {
             "outlinewidth": 0,
             "ticks": ""
            },
            "type": "choropleth"
           }
          ],
          "contour": [
           {
            "colorbar": {
             "outlinewidth": 0,
             "ticks": ""
            },
            "colorscale": [
             [
              0,
              "#0d0887"
             ],
             [
              0.1111111111111111,
              "#46039f"
             ],
             [
              0.2222222222222222,
              "#7201a8"
             ],
             [
              0.3333333333333333,
              "#9c179e"
             ],
             [
              0.4444444444444444,
              "#bd3786"
             ],
             [
              0.5555555555555556,
              "#d8576b"
             ],
             [
              0.6666666666666666,
              "#ed7953"
             ],
             [
              0.7777777777777778,
              "#fb9f3a"
             ],
             [
              0.8888888888888888,
              "#fdca26"
             ],
             [
              1,
              "#f0f921"
             ]
            ],
            "type": "contour"
           }
          ],
          "contourcarpet": [
           {
            "colorbar": {
             "outlinewidth": 0,
             "ticks": ""
            },
            "type": "contourcarpet"
           }
          ],
          "heatmap": [
           {
            "colorbar": {
             "outlinewidth": 0,
             "ticks": ""
            },
            "colorscale": [
             [
              0,
              "#0d0887"
             ],
             [
              0.1111111111111111,
              "#46039f"
             ],
             [
              0.2222222222222222,
              "#7201a8"
             ],
             [
              0.3333333333333333,
              "#9c179e"
             ],
             [
              0.4444444444444444,
              "#bd3786"
             ],
             [
              0.5555555555555556,
              "#d8576b"
             ],
             [
              0.6666666666666666,
              "#ed7953"
             ],
             [
              0.7777777777777778,
              "#fb9f3a"
             ],
             [
              0.8888888888888888,
              "#fdca26"
             ],
             [
              1,
              "#f0f921"
             ]
            ],
            "type": "heatmap"
           }
          ],
          "heatmapgl": [
           {
            "colorbar": {
             "outlinewidth": 0,
             "ticks": ""
            },
            "colorscale": [
             [
              0,
              "#0d0887"
             ],
             [
              0.1111111111111111,
              "#46039f"
             ],
             [
              0.2222222222222222,
              "#7201a8"
             ],
             [
              0.3333333333333333,
              "#9c179e"
             ],
             [
              0.4444444444444444,
              "#bd3786"
             ],
             [
              0.5555555555555556,
              "#d8576b"
             ],
             [
              0.6666666666666666,
              "#ed7953"
             ],
             [
              0.7777777777777778,
              "#fb9f3a"
             ],
             [
              0.8888888888888888,
              "#fdca26"
             ],
             [
              1,
              "#f0f921"
             ]
            ],
            "type": "heatmapgl"
           }
          ],
          "histogram": [
           {
            "marker": {
             "colorbar": {
              "outlinewidth": 0,
              "ticks": ""
             }
            },
            "type": "histogram"
           }
          ],
          "histogram2d": [
           {
            "colorbar": {
             "outlinewidth": 0,
             "ticks": ""
            },
            "colorscale": [
             [
              0,
              "#0d0887"
             ],
             [
              0.1111111111111111,
              "#46039f"
             ],
             [
              0.2222222222222222,
              "#7201a8"
             ],
             [
              0.3333333333333333,
              "#9c179e"
             ],
             [
              0.4444444444444444,
              "#bd3786"
             ],
             [
              0.5555555555555556,
              "#d8576b"
             ],
             [
              0.6666666666666666,
              "#ed7953"
             ],
             [
              0.7777777777777778,
              "#fb9f3a"
             ],
             [
              0.8888888888888888,
              "#fdca26"
             ],
             [
              1,
              "#f0f921"
             ]
            ],
            "type": "histogram2d"
           }
          ],
          "histogram2dcontour": [
           {
            "colorbar": {
             "outlinewidth": 0,
             "ticks": ""
            },
            "colorscale": [
             [
              0,
              "#0d0887"
             ],
             [
              0.1111111111111111,
              "#46039f"
             ],
             [
              0.2222222222222222,
              "#7201a8"
             ],
             [
              0.3333333333333333,
              "#9c179e"
             ],
             [
              0.4444444444444444,
              "#bd3786"
             ],
             [
              0.5555555555555556,
              "#d8576b"
             ],
             [
              0.6666666666666666,
              "#ed7953"
             ],
             [
              0.7777777777777778,
              "#fb9f3a"
             ],
             [
              0.8888888888888888,
              "#fdca26"
             ],
             [
              1,
              "#f0f921"
             ]
            ],
            "type": "histogram2dcontour"
           }
          ],
          "mesh3d": [
           {
            "colorbar": {
             "outlinewidth": 0,
             "ticks": ""
            },
            "type": "mesh3d"
           }
          ],
          "parcoords": [
           {
            "line": {
             "colorbar": {
              "outlinewidth": 0,
              "ticks": ""
             }
            },
            "type": "parcoords"
           }
          ],
          "scatter": [
           {
            "marker": {
             "colorbar": {
              "outlinewidth": 0,
              "ticks": ""
             }
            },
            "type": "scatter"
           }
          ],
          "scatter3d": [
           {
            "line": {
             "colorbar": {
              "outlinewidth": 0,
              "ticks": ""
             }
            },
            "marker": {
             "colorbar": {
              "outlinewidth": 0,
              "ticks": ""
             }
            },
            "type": "scatter3d"
           }
          ],
          "scattercarpet": [
           {
            "marker": {
             "colorbar": {
              "outlinewidth": 0,
              "ticks": ""
             }
            },
            "type": "scattercarpet"
           }
          ],
          "scattergeo": [
           {
            "marker": {
             "colorbar": {
              "outlinewidth": 0,
              "ticks": ""
             }
            },
            "type": "scattergeo"
           }
          ],
          "scattergl": [
           {
            "marker": {
             "colorbar": {
              "outlinewidth": 0,
              "ticks": ""
             }
            },
            "type": "scattergl"
           }
          ],
          "scattermapbox": [
           {
            "marker": {
             "colorbar": {
              "outlinewidth": 0,
              "ticks": ""
             }
            },
            "type": "scattermapbox"
           }
          ],
          "scatterpolar": [
           {
            "marker": {
             "colorbar": {
              "outlinewidth": 0,
              "ticks": ""
             }
            },
            "type": "scatterpolar"
           }
          ],
          "scatterpolargl": [
           {
            "marker": {
             "colorbar": {
              "outlinewidth": 0,
              "ticks": ""
             }
            },
            "type": "scatterpolargl"
           }
          ],
          "scatterternary": [
           {
            "marker": {
             "colorbar": {
              "outlinewidth": 0,
              "ticks": ""
             }
            },
            "type": "scatterternary"
           }
          ],
          "surface": [
           {
            "colorbar": {
             "outlinewidth": 0,
             "ticks": ""
            },
            "colorscale": [
             [
              0,
              "#0d0887"
             ],
             [
              0.1111111111111111,
              "#46039f"
             ],
             [
              0.2222222222222222,
              "#7201a8"
             ],
             [
              0.3333333333333333,
              "#9c179e"
             ],
             [
              0.4444444444444444,
              "#bd3786"
             ],
             [
              0.5555555555555556,
              "#d8576b"
             ],
             [
              0.6666666666666666,
              "#ed7953"
             ],
             [
              0.7777777777777778,
              "#fb9f3a"
             ],
             [
              0.8888888888888888,
              "#fdca26"
             ],
             [
              1,
              "#f0f921"
             ]
            ],
            "type": "surface"
           }
          ],
          "table": [
           {
            "cells": {
             "fill": {
              "color": "#EBF0F8"
             },
             "line": {
              "color": "white"
             }
            },
            "header": {
             "fill": {
              "color": "#C8D4E3"
             },
             "line": {
              "color": "white"
             }
            },
            "type": "table"
           }
          ]
         },
         "layout": {
          "annotationdefaults": {
           "arrowcolor": "#2a3f5f",
           "arrowhead": 0,
           "arrowwidth": 1
          },
          "colorscale": {
           "diverging": [
            [
             0,
             "#8e0152"
            ],
            [
             0.1,
             "#c51b7d"
            ],
            [
             0.2,
             "#de77ae"
            ],
            [
             0.3,
             "#f1b6da"
            ],
            [
             0.4,
             "#fde0ef"
            ],
            [
             0.5,
             "#f7f7f7"
            ],
            [
             0.6,
             "#e6f5d0"
            ],
            [
             0.7,
             "#b8e186"
            ],
            [
             0.8,
             "#7fbc41"
            ],
            [
             0.9,
             "#4d9221"
            ],
            [
             1,
             "#276419"
            ]
           ],
           "sequential": [
            [
             0,
             "#0d0887"
            ],
            [
             0.1111111111111111,
             "#46039f"
            ],
            [
             0.2222222222222222,
             "#7201a8"
            ],
            [
             0.3333333333333333,
             "#9c179e"
            ],
            [
             0.4444444444444444,
             "#bd3786"
            ],
            [
             0.5555555555555556,
             "#d8576b"
            ],
            [
             0.6666666666666666,
             "#ed7953"
            ],
            [
             0.7777777777777778,
             "#fb9f3a"
            ],
            [
             0.8888888888888888,
             "#fdca26"
            ],
            [
             1,
             "#f0f921"
            ]
           ],
           "sequentialminus": [
            [
             0,
             "#0d0887"
            ],
            [
             0.1111111111111111,
             "#46039f"
            ],
            [
             0.2222222222222222,
             "#7201a8"
            ],
            [
             0.3333333333333333,
             "#9c179e"
            ],
            [
             0.4444444444444444,
             "#bd3786"
            ],
            [
             0.5555555555555556,
             "#d8576b"
            ],
            [
             0.6666666666666666,
             "#ed7953"
            ],
            [
             0.7777777777777778,
             "#fb9f3a"
            ],
            [
             0.8888888888888888,
             "#fdca26"
            ],
            [
             1,
             "#f0f921"
            ]
           ]
          },
          "colorway": [
           "#636efa",
           "#EF553B",
           "#00cc96",
           "#ab63fa",
           "#FFA15A",
           "#19d3f3",
           "#FF6692",
           "#B6E880",
           "#FF97FF",
           "#FECB52"
          ],
          "font": {
           "color": "#2a3f5f"
          },
          "geo": {
           "bgcolor": "white",
           "lakecolor": "white",
           "landcolor": "#E5ECF6",
           "showlakes": true,
           "showland": true,
           "subunitcolor": "white"
          },
          "hoverlabel": {
           "align": "left"
          },
          "hovermode": "closest",
          "mapbox": {
           "style": "light"
          },
          "paper_bgcolor": "white",
          "plot_bgcolor": "#E5ECF6",
          "polar": {
           "angularaxis": {
            "gridcolor": "white",
            "linecolor": "white",
            "ticks": ""
           },
           "bgcolor": "#E5ECF6",
           "radialaxis": {
            "gridcolor": "white",
            "linecolor": "white",
            "ticks": ""
           }
          },
          "scene": {
           "xaxis": {
            "backgroundcolor": "#E5ECF6",
            "gridcolor": "white",
            "gridwidth": 2,
            "linecolor": "white",
            "showbackground": true,
            "ticks": "",
            "zerolinecolor": "white"
           },
           "yaxis": {
            "backgroundcolor": "#E5ECF6",
            "gridcolor": "white",
            "gridwidth": 2,
            "linecolor": "white",
            "showbackground": true,
            "ticks": "",
            "zerolinecolor": "white"
           },
           "zaxis": {
            "backgroundcolor": "#E5ECF6",
            "gridcolor": "white",
            "gridwidth": 2,
            "linecolor": "white",
            "showbackground": true,
            "ticks": "",
            "zerolinecolor": "white"
           }
          },
          "shapedefaults": {
           "line": {
            "color": "#2a3f5f"
           }
          },
          "ternary": {
           "aaxis": {
            "gridcolor": "white",
            "linecolor": "white",
            "ticks": ""
           },
           "baxis": {
            "gridcolor": "white",
            "linecolor": "white",
            "ticks": ""
           },
           "bgcolor": "#E5ECF6",
           "caxis": {
            "gridcolor": "white",
            "linecolor": "white",
            "ticks": ""
           }
          },
          "title": {
           "x": 0.05
          },
          "xaxis": {
           "automargin": true,
           "gridcolor": "white",
           "linecolor": "white",
           "ticks": "",
           "zerolinecolor": "white",
           "zerolinewidth": 2
          },
          "yaxis": {
           "automargin": true,
           "gridcolor": "white",
           "linecolor": "white",
           "ticks": "",
           "zerolinecolor": "white",
           "zerolinewidth": 2
          }
         }
        },
        "title": {
         "text": "Trie"
        },
        "width": 1000,
        "xaxis": {
         "showgrid": false,
         "showline": false,
         "showticklabels": false,
         "zeroline": false
        },
        "yaxis": {
         "showgrid": false,
         "showline": false,
         "showticklabels": false,
         "zeroline": false
        }
       }
      },
      "text/html": [
       "<div>\n",
       "        \n",
       "        \n",
       "            <div id=\"ff130cf5-d9e1-46bf-a619-2899dee6f451\" class=\"plotly-graph-div\" style=\"height:800px; width:1000px;\"></div>\n",
       "            <script type=\"text/javascript\">\n",
       "                require([\"plotly\"], function(Plotly) {\n",
       "                    window.PLOTLYENV=window.PLOTLYENV || {};\n",
       "                    \n",
       "                if (document.getElementById(\"ff130cf5-d9e1-46bf-a619-2899dee6f451\")) {\n",
       "                    Plotly.newPlot(\n",
       "                        'ff130cf5-d9e1-46bf-a619-2899dee6f451',\n",
       "                        [{\"hoverinfo\": \"none\", \"line\": {\"color\": \"rgb(160,160,160)\", \"width\": 2}, \"mode\": \"lines\", \"type\": \"scatter\", \"uid\": \"d62ec1fd-1500-4fc0-a0f8-ddc779074b46\", \"x\": [1822.5, 1822.5, null, 1822.5, 1323.5, null, 1822.5, 1822.5, null, 1822.5, 2155.5, null, 1323.5, 992.49, null, 1323.5, 1323.5, null, 1822.5, 1822.5, null, 2155.5, 2157.5, null, 992.49, 992.49, null, 1323.5, 1323.5, null, 1822.5, 1822.5, null, 2157.5, 2158.5, null, 992.49, 991.49, null, 1323.5, 1323.5, null, 991.49, 990.49, null, 990.49, 988.49, null, 988.49, 825.49, null, 825.49, 492.49, null, 825.49, 825.49, null, 492.49, 489.49, null, 825.49, 825.49, null, 489.49, 159.49, null, 489.49, 489.49, null, 825.49, 825.49, null, 159.49, 157.49, null, 489.49, 489.49, null, 157.49, 156.49, null, 489.49, 489.49, null, 156.49, 156.49, null, 156.49, 156.49, null, 156.49, 156.49, null, 489.49, 489.49, null, 489.49, 490.49, null, 490.49, 490.49, null, 490.49, 490.49, null, 490.49, 490.49, null, 825.49, 825.49, null, 825.49, 825.49, null, 825.49, 825.49, null, 1323.5, 1323.5, null, 1323.5, 1323.5, null, 1323.5, 1323.5, null, 1323.5, 1323.5, null, 1323.5, 1323.5, null, 1323.5, 1323.5, null, 1323.5, 1323.5, null, 1323.5, 1159.5, null, 1323.5, 1490.5, null, 1159.5, 1159.5, null, 1490.5, 1491.5, null, 1159.5, 1159.5, null, 1491.5, 1491.5, null, 1491.5, 1490.5, null, 1490.5, 1490.5, null, 1490.5, 1490.5, null, 1822.5, 1822.5, null, 1822.5, 1822.5, null, 1822.5, 1822.5, null, 1822.5, 1822.5, null, 1822.5, 1822.5, null, 1822.5, 1823.5, null, 1823.5, 1823.5, null, 1823.5, 1823.5, null, 1823.5, 1823.5, null, 1823.5, 1824.5, null, 1824.5, 1824.5, null, 1824.5, 1824.5, null, 2158.5, 2158.5, null, 2158.5, 2158.5, null, 2158.5, 2158.5, null, 2158.5, 2158.5, null, 2158.5, 2158.5, null, 2158.5, 2158.5, null, 2158.5, 2158.5, null, 2158.5, 2158.5, null, 2158.5, 2158.5, null, 2158.5, 2158.5, null], \"y\": [1314.0, 1242.0, null, 1242.0, 1170.0, null, 1242.0, 1170.0, null, 1242.0, 1170.0, null, 1170.0, 1098.0, null, 1170.0, 1098.0, null, 1170.0, 1098.0, null, 1170.0, 1098.0, null, 1098.0, 1026.0, null, 1098.0, 1026.0, null, 1098.0, 1026.0, null, 1098.0, 1026.0, null, 1026.0, 954.0, null, 1026.0, 954.0, null, 954.0, 882.0, null, 882.0, 810.0, null, 810.0, 738.0, null, 738.0, 666.0, null, 738.0, 666.0, null, 666.0, 594.0, null, 666.0, 594.0, null, 594.0, 522.0, null, 594.0, 522.0, null, 594.0, 522.0, null, 522.0, 450.0, null, 522.0, 450.0, null, 450.0, 378.0, null, 450.0, 378.0, null, 378.0, 306.0, null, 306.0, 234.0, null, 234.0, 162.0, null, 378.0, 306.0, null, 306.0, 234.0, null, 234.0, 162.0, null, 162.0, 90.0, null, 90.0, 18.0, null, 522.0, 450.0, null, 450.0, 378.0, null, 378.0, 306.0, null, 954.0, 882.0, null, 882.0, 810.0, null, 810.0, 738.0, null, 738.0, 666.0, null, 666.0, 594.0, null, 594.0, 522.0, null, 522.0, 450.0, null, 450.0, 378.0, null, 450.0, 378.0, null, 378.0, 306.0, null, 378.0, 306.0, null, 306.0, 234.0, null, 306.0, 234.0, null, 234.0, 162.0, null, 162.0, 90.0, null, 90.0, 18.0, null, 1026.0, 954.0, null, 954.0, 882.0, null, 882.0, 810.0, null, 810.0, 738.0, null, 738.0, 666.0, null, 666.0, 594.0, null, 594.0, 522.0, null, 522.0, 450.0, null, 450.0, 378.0, null, 378.0, 306.0, null, 306.0, 234.0, null, 234.0, 162.0, null, 1026.0, 954.0, null, 954.0, 882.0, null, 882.0, 810.0, null, 810.0, 738.0, null, 738.0, 666.0, null, 666.0, 594.0, null, 594.0, 522.0, null, 522.0, 450.0, null, 450.0, 378.0, null, 378.0, 306.0, null]}, {\"hoverinfo\": \"none\", \"marker\": {\"color\": \"rgb(100,100,100)\", \"line\": {\"color\": \"rgb(100,100,100)\", \"width\": 1}, \"size\": 18}, \"mode\": \"markers+text\", \"name\": \"\", \"text\": [null], \"type\": \"scatter\", \"uid\": \"001300c0-e9dd-491e-83a7-4c0576ce750d\", \"x\": [1822.5], \"y\": [1314.0]}, {\"hoverinfo\": \"none\", \"marker\": {\"color\": \"rgb(101,214,67)\", \"line\": {\"color\": \"rgb(100,100,100)\", \"width\": 1}, \"size\": 18}, \"mode\": \"markers+text\", \"name\": \"\", \"text\": [\"dynamic\", \"dynamic\", \"dynamic\", \"dynamic\"], \"type\": \"scatter\", \"uid\": \"d7fa3247-431f-4b7e-b21d-aad4c2ff6557\", \"x\": [988.49, 1159.5, 1822.5, 2158.5], \"y\": [810.0, 234.0, 738.0, 738.0]}, {\"hoverinfo\": \"none\", \"marker\": {\"color\": \"rgb(247,185,43)\", \"line\": {\"color\": \"rgb(100,100,100)\", \"width\": 1}, \"size\": 18}, \"mode\": \"markers+text\", \"name\": \"\", \"text\": [\"/\", \"/\", \"/\", \"/\", \"/\", \"/\", \"/\", \"/\"], \"type\": \"scatter\", \"uid\": \"d52288fc-1a13-41e6-a333-05c1ae92f778\", \"x\": [1822.5, 990.49, 825.49, 1159.5, 1822.5, 1822.5, 2158.5, 2158.5], \"y\": [1242.0, 882.0, 738.0, 306.0, 810.0, 666.0, 810.0, 666.0]}, {\"hoverinfo\": \"none\", \"marker\": {\"color\": \"rgb(24,140,216)\", \"line\": {\"color\": \"rgb(100,100,100)\", \"width\": 1}, \"size\": 18}, \"mode\": \"markers+text\", \"name\": \"\", \"text\": [\"a\", \"u\", \"p\", \"p\", \"c\", \"s\", \"o\", \"p\", \"h\", \"s\", \"a\", \"e\", \"c\", \"v\", \"c\", \"t\", \"o\", \"i\", \"u\", \"n\", \"t\", \"s\", \"v\", \"i\", \"t\", \"i\", \"e\", \"s\", \"e\", \"n\", \"t\", \"s\", \"i\", \"e\", \"v\", \"e\", \"m\", \"e\", \"n\", \"t\", \"s\", \"-\", \"t\", \"y\", \"p\", \"e\", \"s\", \"e\", \"r\", \"s\", \"f\", \"r\", \"i\", \"e\", \"n\", \"d\", \"s\", \"s\", \"t\", \"s\", \"l\", \"i\", \"k\", \"e\", \"s\"], \"type\": \"scatter\", \"uid\": \"085bcd9a-cb31-4ba0-ac06-ef9955de99d4\", \"x\": [1323.5, 1822.5, 2155.5, 992.49, 1323.5, 1822.5, 2157.5, 992.49, 1323.5, 991.49, 492.49, 825.49, 489.49, 825.49, 159.49, 489.49, 157.49, 489.49, 156.49, 156.49, 156.49, 156.49, 489.49, 489.49, 490.49, 490.49, 490.49, 490.49, 825.49, 825.49, 825.49, 825.49, 1323.5, 1323.5, 1323.5, 1323.5, 1323.5, 1323.5, 1323.5, 1323.5, 1159.5, 1490.5, 1491.5, 1491.5, 1490.5, 1490.5, 1490.5, 1822.5, 1822.5, 1822.5, 1823.5, 1823.5, 1823.5, 1823.5, 1824.5, 1824.5, 1824.5, 2158.5, 2158.5, 2158.5, 2158.5, 2158.5, 2158.5, 2158.5, 2158.5], \"y\": [1170.0, 1170.0, 1170.0, 1098.0, 1098.0, 1098.0, 1098.0, 1026.0, 1026.0, 954.0, 666.0, 666.0, 594.0, 594.0, 522.0, 522.0, 450.0, 450.0, 378.0, 306.0, 234.0, 162.0, 378.0, 306.0, 234.0, 162.0, 90.0, 18.0, 522.0, 450.0, 378.0, 306.0, 954.0, 882.0, 810.0, 738.0, 666.0, 594.0, 522.0, 450.0, 378.0, 378.0, 306.0, 234.0, 162.0, 90.0, 18.0, 1026.0, 954.0, 882.0, 594.0, 522.0, 450.0, 378.0, 306.0, 234.0, 162.0, 1026.0, 954.0, 882.0, 594.0, 522.0, 450.0, 378.0, 306.0]}],\n",
       "                        {\"font\": {\"size\": 15}, \"height\": 800, \"hovermode\": \"closest\", \"margin\": {\"b\": 85, \"l\": 40, \"r\": 40, \"t\": 100}, \"plot_bgcolor\": \"rgb(248,248,248)\", \"showlegend\": false, \"template\": {\"data\": {\"bar\": [{\"error_x\": {\"color\": \"#2a3f5f\"}, \"error_y\": {\"color\": \"#2a3f5f\"}, \"marker\": {\"line\": {\"color\": \"#E5ECF6\", \"width\": 0.5}}, \"type\": \"bar\"}], \"barpolar\": [{\"marker\": {\"line\": {\"color\": \"#E5ECF6\", \"width\": 0.5}}, \"type\": \"barpolar\"}], \"carpet\": [{\"aaxis\": {\"endlinecolor\": \"#2a3f5f\", \"gridcolor\": \"white\", \"linecolor\": \"white\", \"minorgridcolor\": \"white\", \"startlinecolor\": \"#2a3f5f\"}, \"baxis\": {\"endlinecolor\": \"#2a3f5f\", \"gridcolor\": \"white\", \"linecolor\": \"white\", \"minorgridcolor\": \"white\", \"startlinecolor\": \"#2a3f5f\"}, \"type\": \"carpet\"}], \"choropleth\": [{\"colorbar\": {\"outlinewidth\": 0, \"ticks\": \"\"}, \"type\": \"choropleth\"}], \"contour\": [{\"colorbar\": {\"outlinewidth\": 0, \"ticks\": \"\"}, \"colorscale\": [[0.0, \"#0d0887\"], [0.1111111111111111, \"#46039f\"], [0.2222222222222222, \"#7201a8\"], [0.3333333333333333, \"#9c179e\"], [0.4444444444444444, \"#bd3786\"], [0.5555555555555556, \"#d8576b\"], [0.6666666666666666, \"#ed7953\"], [0.7777777777777778, \"#fb9f3a\"], [0.8888888888888888, \"#fdca26\"], [1.0, \"#f0f921\"]], \"type\": \"contour\"}], \"contourcarpet\": [{\"colorbar\": {\"outlinewidth\": 0, \"ticks\": \"\"}, \"type\": \"contourcarpet\"}], \"heatmap\": [{\"colorbar\": {\"outlinewidth\": 0, \"ticks\": \"\"}, \"colorscale\": [[0.0, \"#0d0887\"], [0.1111111111111111, \"#46039f\"], [0.2222222222222222, \"#7201a8\"], [0.3333333333333333, \"#9c179e\"], [0.4444444444444444, \"#bd3786\"], [0.5555555555555556, \"#d8576b\"], [0.6666666666666666, \"#ed7953\"], [0.7777777777777778, \"#fb9f3a\"], [0.8888888888888888, \"#fdca26\"], [1.0, \"#f0f921\"]], \"type\": \"heatmap\"}], \"heatmapgl\": [{\"colorbar\": {\"outlinewidth\": 0, \"ticks\": \"\"}, \"colorscale\": [[0.0, \"#0d0887\"], [0.1111111111111111, \"#46039f\"], [0.2222222222222222, \"#7201a8\"], [0.3333333333333333, \"#9c179e\"], [0.4444444444444444, \"#bd3786\"], [0.5555555555555556, \"#d8576b\"], [0.6666666666666666, \"#ed7953\"], [0.7777777777777778, \"#fb9f3a\"], [0.8888888888888888, \"#fdca26\"], [1.0, \"#f0f921\"]], \"type\": \"heatmapgl\"}], \"histogram\": [{\"marker\": {\"colorbar\": {\"outlinewidth\": 0, \"ticks\": \"\"}}, \"type\": \"histogram\"}], \"histogram2d\": [{\"colorbar\": {\"outlinewidth\": 0, \"ticks\": \"\"}, \"colorscale\": [[0.0, \"#0d0887\"], [0.1111111111111111, \"#46039f\"], [0.2222222222222222, \"#7201a8\"], [0.3333333333333333, \"#9c179e\"], [0.4444444444444444, \"#bd3786\"], [0.5555555555555556, \"#d8576b\"], [0.6666666666666666, \"#ed7953\"], [0.7777777777777778, \"#fb9f3a\"], [0.8888888888888888, \"#fdca26\"], [1.0, \"#f0f921\"]], \"type\": \"histogram2d\"}], \"histogram2dcontour\": [{\"colorbar\": {\"outlinewidth\": 0, \"ticks\": \"\"}, \"colorscale\": [[0.0, \"#0d0887\"], [0.1111111111111111, \"#46039f\"], [0.2222222222222222, \"#7201a8\"], [0.3333333333333333, \"#9c179e\"], [0.4444444444444444, \"#bd3786\"], [0.5555555555555556, \"#d8576b\"], [0.6666666666666666, \"#ed7953\"], [0.7777777777777778, \"#fb9f3a\"], [0.8888888888888888, \"#fdca26\"], [1.0, \"#f0f921\"]], \"type\": \"histogram2dcontour\"}], \"mesh3d\": [{\"colorbar\": {\"outlinewidth\": 0, \"ticks\": \"\"}, \"type\": \"mesh3d\"}], \"parcoords\": [{\"line\": {\"colorbar\": {\"outlinewidth\": 0, \"ticks\": \"\"}}, \"type\": \"parcoords\"}], \"scatter\": [{\"marker\": {\"colorbar\": {\"outlinewidth\": 0, \"ticks\": \"\"}}, \"type\": \"scatter\"}], \"scatter3d\": [{\"line\": {\"colorbar\": {\"outlinewidth\": 0, \"ticks\": \"\"}}, \"marker\": {\"colorbar\": {\"outlinewidth\": 0, \"ticks\": \"\"}}, \"type\": \"scatter3d\"}], \"scattercarpet\": [{\"marker\": {\"colorbar\": {\"outlinewidth\": 0, \"ticks\": \"\"}}, \"type\": \"scattercarpet\"}], \"scattergeo\": [{\"marker\": {\"colorbar\": {\"outlinewidth\": 0, \"ticks\": \"\"}}, \"type\": \"scattergeo\"}], \"scattergl\": [{\"marker\": {\"colorbar\": {\"outlinewidth\": 0, \"ticks\": \"\"}}, \"type\": \"scattergl\"}], \"scattermapbox\": [{\"marker\": {\"colorbar\": {\"outlinewidth\": 0, \"ticks\": \"\"}}, \"type\": \"scattermapbox\"}], \"scatterpolar\": [{\"marker\": {\"colorbar\": {\"outlinewidth\": 0, \"ticks\": \"\"}}, \"type\": \"scatterpolar\"}], \"scatterpolargl\": [{\"marker\": {\"colorbar\": {\"outlinewidth\": 0, \"ticks\": \"\"}}, \"type\": \"scatterpolargl\"}], \"scatterternary\": [{\"marker\": {\"colorbar\": {\"outlinewidth\": 0, \"ticks\": \"\"}}, \"type\": \"scatterternary\"}], \"surface\": [{\"colorbar\": {\"outlinewidth\": 0, \"ticks\": \"\"}, \"colorscale\": [[0.0, \"#0d0887\"], [0.1111111111111111, \"#46039f\"], [0.2222222222222222, \"#7201a8\"], [0.3333333333333333, \"#9c179e\"], [0.4444444444444444, \"#bd3786\"], [0.5555555555555556, \"#d8576b\"], [0.6666666666666666, \"#ed7953\"], [0.7777777777777778, \"#fb9f3a\"], [0.8888888888888888, \"#fdca26\"], [1.0, \"#f0f921\"]], \"type\": \"surface\"}], \"table\": [{\"cells\": {\"fill\": {\"color\": \"#EBF0F8\"}, \"line\": {\"color\": \"white\"}}, \"header\": {\"fill\": {\"color\": \"#C8D4E3\"}, \"line\": {\"color\": \"white\"}}, \"type\": \"table\"}]}, \"layout\": {\"annotationdefaults\": {\"arrowcolor\": \"#2a3f5f\", \"arrowhead\": 0, \"arrowwidth\": 1}, \"colorscale\": {\"diverging\": [[0, \"#8e0152\"], [0.1, \"#c51b7d\"], [0.2, \"#de77ae\"], [0.3, \"#f1b6da\"], [0.4, \"#fde0ef\"], [0.5, \"#f7f7f7\"], [0.6, \"#e6f5d0\"], [0.7, \"#b8e186\"], [0.8, \"#7fbc41\"], [0.9, \"#4d9221\"], [1, \"#276419\"]], \"sequential\": [[0.0, \"#0d0887\"], [0.1111111111111111, \"#46039f\"], [0.2222222222222222, \"#7201a8\"], [0.3333333333333333, \"#9c179e\"], [0.4444444444444444, \"#bd3786\"], [0.5555555555555556, \"#d8576b\"], [0.6666666666666666, \"#ed7953\"], [0.7777777777777778, \"#fb9f3a\"], [0.8888888888888888, \"#fdca26\"], [1.0, \"#f0f921\"]], \"sequentialminus\": [[0.0, \"#0d0887\"], [0.1111111111111111, \"#46039f\"], [0.2222222222222222, \"#7201a8\"], [0.3333333333333333, \"#9c179e\"], [0.4444444444444444, \"#bd3786\"], [0.5555555555555556, \"#d8576b\"], [0.6666666666666666, \"#ed7953\"], [0.7777777777777778, \"#fb9f3a\"], [0.8888888888888888, \"#fdca26\"], [1.0, \"#f0f921\"]]}, \"colorway\": [\"#636efa\", \"#EF553B\", \"#00cc96\", \"#ab63fa\", \"#FFA15A\", \"#19d3f3\", \"#FF6692\", \"#B6E880\", \"#FF97FF\", \"#FECB52\"], \"font\": {\"color\": \"#2a3f5f\"}, \"geo\": {\"bgcolor\": \"white\", \"lakecolor\": \"white\", \"landcolor\": \"#E5ECF6\", \"showlakes\": true, \"showland\": true, \"subunitcolor\": \"white\"}, \"hoverlabel\": {\"align\": \"left\"}, \"hovermode\": \"closest\", \"mapbox\": {\"style\": \"light\"}, \"paper_bgcolor\": \"white\", \"plot_bgcolor\": \"#E5ECF6\", \"polar\": {\"angularaxis\": {\"gridcolor\": \"white\", \"linecolor\": \"white\", \"ticks\": \"\"}, \"bgcolor\": \"#E5ECF6\", \"radialaxis\": {\"gridcolor\": \"white\", \"linecolor\": \"white\", \"ticks\": \"\"}}, \"scene\": {\"xaxis\": {\"backgroundcolor\": \"#E5ECF6\", \"gridcolor\": \"white\", \"gridwidth\": 2, \"linecolor\": \"white\", \"showbackground\": true, \"ticks\": \"\", \"zerolinecolor\": \"white\"}, \"yaxis\": {\"backgroundcolor\": \"#E5ECF6\", \"gridcolor\": \"white\", \"gridwidth\": 2, \"linecolor\": \"white\", \"showbackground\": true, \"ticks\": \"\", \"zerolinecolor\": \"white\"}, \"zaxis\": {\"backgroundcolor\": \"#E5ECF6\", \"gridcolor\": \"white\", \"gridwidth\": 2, \"linecolor\": \"white\", \"showbackground\": true, \"ticks\": \"\", \"zerolinecolor\": \"white\"}}, \"shapedefaults\": {\"line\": {\"color\": \"#2a3f5f\"}}, \"ternary\": {\"aaxis\": {\"gridcolor\": \"white\", \"linecolor\": \"white\", \"ticks\": \"\"}, \"baxis\": {\"gridcolor\": \"white\", \"linecolor\": \"white\", \"ticks\": \"\"}, \"bgcolor\": \"#E5ECF6\", \"caxis\": {\"gridcolor\": \"white\", \"linecolor\": \"white\", \"ticks\": \"\"}}, \"title\": {\"x\": 0.05}, \"xaxis\": {\"automargin\": true, \"gridcolor\": \"white\", \"linecolor\": \"white\", \"ticks\": \"\", \"zerolinecolor\": \"white\", \"zerolinewidth\": 2}, \"yaxis\": {\"automargin\": true, \"gridcolor\": \"white\", \"linecolor\": \"white\", \"ticks\": \"\", \"zerolinecolor\": \"white\", \"zerolinewidth\": 2}}}, \"title\": {\"text\": \"Trie\"}, \"width\": 1000, \"xaxis\": {\"showgrid\": false, \"showline\": false, \"showticklabels\": false, \"zeroline\": false}, \"yaxis\": {\"showgrid\": false, \"showline\": false, \"showticklabels\": false, \"zeroline\": false}},\n",
       "                        {\"responsive\": true}\n",
       "                    ).then(function(){\n",
       "                            \n",
       "var gd = document.getElementById('ff130cf5-d9e1-46bf-a619-2899dee6f451');\n",
       "var x = new MutationObserver(function (mutations, observer) {{\n",
       "        var display = window.getComputedStyle(gd).display;\n",
       "        if (!display || display === 'none') {{\n",
       "            console.log([gd, 'removed!']);\n",
       "            Plotly.purge(gd);\n",
       "            observer.disconnect();\n",
       "        }}\n",
       "}});\n",
       "\n",
       "// Listen for the removal of the full notebook cells\n",
       "var notebookContainer = gd.closest('#notebook-container');\n",
       "if (notebookContainer) {{\n",
       "    x.observe(notebookContainer, {childList: true});\n",
       "}}\n",
       "\n",
       "// Listen for the clearing of the current output cell\n",
       "var outputEl = gd.closest('.output');\n",
       "if (outputEl) {{\n",
       "    x.observe(outputEl, {childList: true});\n",
       "}}\n",
       "\n",
       "                        })\n",
       "                };\n",
       "                });\n",
       "            </script>\n",
       "        </div>"
      ]
     },
     "metadata": {},
     "output_type": "display_data"
    },
    {
     "data": {
      "application/vnd.plotly.v1+json": {
       "config": {
        "plotlyServerURL": "https://plot.ly"
       },
       "data": [
        {
         "hoverinfo": "none",
         "line": {
          "color": "rgb(160,160,160)",
          "width": 2
         },
         "mode": "lines",
         "type": "scatter",
         "uid": "992ae632-30f6-4d3a-852a-f7cfa78b1e39",
         "x": [
          1822.5,
          1822.5,
          null,
          1822.5,
          1323.5,
          null,
          1822.5,
          1822.5,
          null,
          1822.5,
          2155.5,
          null,
          1323.5,
          992.49,
          null,
          1323.5,
          1323.5,
          null,
          1822.5,
          1822.5,
          null,
          2155.5,
          2157.5,
          null,
          992.49,
          992.49,
          null,
          1323.5,
          1323.5,
          null,
          1822.5,
          1822.5,
          null,
          2157.5,
          2158.5,
          null,
          992.49,
          991.49,
          null,
          1323.5,
          1323.5,
          null,
          991.49,
          990.49,
          null,
          990.49,
          988.49,
          null,
          988.49,
          825.49,
          null,
          825.49,
          492.49,
          null,
          825.49,
          825.49,
          null,
          492.49,
          489.49,
          null,
          825.49,
          825.49,
          null,
          489.49,
          159.49,
          null,
          489.49,
          489.49,
          null,
          825.49,
          825.49,
          null,
          159.49,
          157.49,
          null,
          489.49,
          489.49,
          null,
          157.49,
          156.49,
          null,
          489.49,
          489.49,
          null,
          156.49,
          156.49,
          null,
          156.49,
          156.49,
          null,
          156.49,
          156.49,
          null,
          489.49,
          489.49,
          null,
          489.49,
          490.49,
          null,
          490.49,
          490.49,
          null,
          490.49,
          490.49,
          null,
          490.49,
          490.49,
          null,
          825.49,
          825.49,
          null,
          825.49,
          825.49,
          null,
          825.49,
          825.49,
          null,
          1323.5,
          1323.5,
          null,
          1323.5,
          1323.5,
          null,
          1323.5,
          1323.5,
          null,
          1323.5,
          1323.5,
          null,
          1323.5,
          1323.5,
          null,
          1323.5,
          1323.5,
          null,
          1323.5,
          1323.5,
          null,
          1323.5,
          1159.5,
          null,
          1323.5,
          1490.5,
          null,
          1159.5,
          1159.5,
          null,
          1490.5,
          1491.5,
          null,
          1159.5,
          1159.5,
          null,
          1491.5,
          1491.5,
          null,
          1491.5,
          1490.5,
          null,
          1490.5,
          1490.5,
          null,
          1490.5,
          1490.5,
          null,
          1822.5,
          1822.5,
          null,
          1822.5,
          1822.5,
          null,
          1822.5,
          1822.5,
          null,
          1822.5,
          1822.5,
          null,
          1822.5,
          1822.5,
          null,
          1822.5,
          1823.5,
          null,
          1823.5,
          1823.5,
          null,
          1823.5,
          1823.5,
          null,
          1823.5,
          1823.5,
          null,
          1823.5,
          1824.5,
          null,
          1824.5,
          1824.5,
          null,
          1824.5,
          1824.5,
          null,
          2158.5,
          2158.5,
          null,
          2158.5,
          2158.5,
          null,
          2158.5,
          2158.5,
          null,
          2158.5,
          2158.5,
          null,
          2158.5,
          2158.5,
          null,
          2158.5,
          2158.5,
          null,
          2158.5,
          2158.5,
          null,
          2158.5,
          2158.5,
          null,
          2158.5,
          2158.5,
          null,
          2158.5,
          2158.5,
          null
         ],
         "y": [
          1314,
          1242,
          null,
          1242,
          1170,
          null,
          1242,
          1170,
          null,
          1242,
          1170,
          null,
          1170,
          1098,
          null,
          1170,
          1098,
          null,
          1170,
          1098,
          null,
          1170,
          1098,
          null,
          1098,
          1026,
          null,
          1098,
          1026,
          null,
          1098,
          1026,
          null,
          1098,
          1026,
          null,
          1026,
          954,
          null,
          1026,
          954,
          null,
          954,
          882,
          null,
          882,
          810,
          null,
          810,
          738,
          null,
          738,
          666,
          null,
          738,
          666,
          null,
          666,
          594,
          null,
          666,
          594,
          null,
          594,
          522,
          null,
          594,
          522,
          null,
          594,
          522,
          null,
          522,
          450,
          null,
          522,
          450,
          null,
          450,
          378,
          null,
          450,
          378,
          null,
          378,
          306,
          null,
          306,
          234,
          null,
          234,
          162,
          null,
          378,
          306,
          null,
          306,
          234,
          null,
          234,
          162,
          null,
          162,
          90,
          null,
          90,
          18,
          null,
          522,
          450,
          null,
          450,
          378,
          null,
          378,
          306,
          null,
          954,
          882,
          null,
          882,
          810,
          null,
          810,
          738,
          null,
          738,
          666,
          null,
          666,
          594,
          null,
          594,
          522,
          null,
          522,
          450,
          null,
          450,
          378,
          null,
          450,
          378,
          null,
          378,
          306,
          null,
          378,
          306,
          null,
          306,
          234,
          null,
          306,
          234,
          null,
          234,
          162,
          null,
          162,
          90,
          null,
          90,
          18,
          null,
          1026,
          954,
          null,
          954,
          882,
          null,
          882,
          810,
          null,
          810,
          738,
          null,
          738,
          666,
          null,
          666,
          594,
          null,
          594,
          522,
          null,
          522,
          450,
          null,
          450,
          378,
          null,
          378,
          306,
          null,
          306,
          234,
          null,
          234,
          162,
          null,
          1026,
          954,
          null,
          954,
          882,
          null,
          882,
          810,
          null,
          810,
          738,
          null,
          738,
          666,
          null,
          666,
          594,
          null,
          594,
          522,
          null,
          522,
          450,
          null,
          450,
          378,
          null,
          378,
          306,
          null
         ]
        },
        {
         "hoverinfo": "none",
         "marker": {
          "color": "rgb(100,100,100)",
          "line": {
           "color": "rgb(100,100,100)",
           "width": 1
          },
          "size": 18
         },
         "mode": "markers+text",
         "name": "",
         "text": [
          null
         ],
         "type": "scatter",
         "uid": "cfd0c481-b227-4801-a119-ccaf77ced921",
         "x": [
          1822.5
         ],
         "y": [
          1314
         ]
        },
        {
         "hoverinfo": "none",
         "marker": {
          "color": "rgb(101,214,67)",
          "line": {
           "color": "rgb(100,100,100)",
           "width": 1
          },
          "size": 18
         },
         "mode": "markers+text",
         "name": "",
         "text": [
          "dynamic",
          "dynamic",
          "dynamic",
          "dynamic"
         ],
         "type": "scatter",
         "uid": "91c1a1f9-279e-4311-a7dd-5f23bd558aef",
         "x": [
          988.49,
          1159.5,
          1822.5,
          2158.5
         ],
         "y": [
          810,
          234,
          738,
          738
         ]
        },
        {
         "hoverinfo": "none",
         "marker": {
          "color": "rgb(247,185,43)",
          "line": {
           "color": "rgb(100,100,100)",
           "width": 1
          },
          "size": 18
         },
         "mode": "markers+text",
         "name": "",
         "text": [
          "/",
          "/",
          "/",
          "/",
          "/",
          "/",
          "/",
          "/"
         ],
         "type": "scatter",
         "uid": "c413aff2-134f-45ed-8575-f384c8523a86",
         "x": [
          1822.5,
          990.49,
          825.49,
          1159.5,
          1822.5,
          1822.5,
          2158.5,
          2158.5
         ],
         "y": [
          1242,
          882,
          738,
          306,
          810,
          666,
          810,
          666
         ]
        },
        {
         "hoverinfo": "none",
         "marker": {
          "color": "rgb(24,140,216)",
          "line": {
           "color": "rgb(100,100,100)",
           "width": 1
          },
          "size": 18
         },
         "mode": "markers+text",
         "name": "",
         "text": [
          "a",
          "u",
          "p",
          "p",
          "c",
          "s",
          "o",
          "p",
          "h",
          "s",
          "a",
          "e",
          "c",
          "v",
          "c",
          "t",
          "o",
          "i",
          "u",
          "n",
          "t",
          "s",
          "v",
          "i",
          "t",
          "i",
          "e",
          "s",
          "e",
          "n",
          "t",
          "s",
          "i",
          "e",
          "v",
          "e",
          "m",
          "e",
          "n",
          "t",
          "s",
          "-",
          "t",
          "y",
          "p",
          "e",
          "s",
          "e",
          "r",
          "s",
          "f",
          "r",
          "i",
          "e",
          "n",
          "d",
          "s",
          "s",
          "t",
          "s",
          "l",
          "i",
          "k",
          "e",
          "s"
         ],
         "type": "scatter",
         "uid": "93a0f27d-8b55-4b71-bd97-278cc9cb0e2d",
         "x": [
          1323.5,
          1822.5,
          2155.5,
          992.49,
          1323.5,
          1822.5,
          2157.5,
          992.49,
          1323.5,
          991.49,
          492.49,
          825.49,
          489.49,
          825.49,
          159.49,
          489.49,
          157.49,
          489.49,
          156.49,
          156.49,
          156.49,
          156.49,
          489.49,
          489.49,
          490.49,
          490.49,
          490.49,
          490.49,
          825.49,
          825.49,
          825.49,
          825.49,
          1323.5,
          1323.5,
          1323.5,
          1323.5,
          1323.5,
          1323.5,
          1323.5,
          1323.5,
          1159.5,
          1490.5,
          1491.5,
          1491.5,
          1490.5,
          1490.5,
          1490.5,
          1822.5,
          1822.5,
          1822.5,
          1823.5,
          1823.5,
          1823.5,
          1823.5,
          1824.5,
          1824.5,
          1824.5,
          2158.5,
          2158.5,
          2158.5,
          2158.5,
          2158.5,
          2158.5,
          2158.5,
          2158.5
         ],
         "y": [
          1170,
          1170,
          1170,
          1098,
          1098,
          1098,
          1098,
          1026,
          1026,
          954,
          666,
          666,
          594,
          594,
          522,
          522,
          450,
          450,
          378,
          306,
          234,
          162,
          378,
          306,
          234,
          162,
          90,
          18,
          522,
          450,
          378,
          306,
          954,
          882,
          810,
          738,
          666,
          594,
          522,
          450,
          378,
          378,
          306,
          234,
          162,
          90,
          18,
          1026,
          954,
          882,
          594,
          522,
          450,
          378,
          306,
          234,
          162,
          1026,
          954,
          882,
          594,
          522,
          450,
          378,
          306
         ]
        }
       ],
       "layout": {
        "font": {
         "size": 15
        },
        "height": 800,
        "hovermode": "closest",
        "margin": {
         "b": 85,
         "l": 40,
         "r": 40,
         "t": 100
        },
        "plot_bgcolor": "rgb(248,248,248)",
        "showlegend": false,
        "template": {
         "data": {
          "bar": [
           {
            "error_x": {
             "color": "#2a3f5f"
            },
            "error_y": {
             "color": "#2a3f5f"
            },
            "marker": {
             "line": {
              "color": "#E5ECF6",
              "width": 0.5
             }
            },
            "type": "bar"
           }
          ],
          "barpolar": [
           {
            "marker": {
             "line": {
              "color": "#E5ECF6",
              "width": 0.5
             }
            },
            "type": "barpolar"
           }
          ],
          "carpet": [
           {
            "aaxis": {
             "endlinecolor": "#2a3f5f",
             "gridcolor": "white",
             "linecolor": "white",
             "minorgridcolor": "white",
             "startlinecolor": "#2a3f5f"
            },
            "baxis": {
             "endlinecolor": "#2a3f5f",
             "gridcolor": "white",
             "linecolor": "white",
             "minorgridcolor": "white",
             "startlinecolor": "#2a3f5f"
            },
            "type": "carpet"
           }
          ],
          "choropleth": [
           {
            "colorbar": {
             "outlinewidth": 0,
             "ticks": ""
            },
            "type": "choropleth"
           }
          ],
          "contour": [
           {
            "colorbar": {
             "outlinewidth": 0,
             "ticks": ""
            },
            "colorscale": [
             [
              0,
              "#0d0887"
             ],
             [
              0.1111111111111111,
              "#46039f"
             ],
             [
              0.2222222222222222,
              "#7201a8"
             ],
             [
              0.3333333333333333,
              "#9c179e"
             ],
             [
              0.4444444444444444,
              "#bd3786"
             ],
             [
              0.5555555555555556,
              "#d8576b"
             ],
             [
              0.6666666666666666,
              "#ed7953"
             ],
             [
              0.7777777777777778,
              "#fb9f3a"
             ],
             [
              0.8888888888888888,
              "#fdca26"
             ],
             [
              1,
              "#f0f921"
             ]
            ],
            "type": "contour"
           }
          ],
          "contourcarpet": [
           {
            "colorbar": {
             "outlinewidth": 0,
             "ticks": ""
            },
            "type": "contourcarpet"
           }
          ],
          "heatmap": [
           {
            "colorbar": {
             "outlinewidth": 0,
             "ticks": ""
            },
            "colorscale": [
             [
              0,
              "#0d0887"
             ],
             [
              0.1111111111111111,
              "#46039f"
             ],
             [
              0.2222222222222222,
              "#7201a8"
             ],
             [
              0.3333333333333333,
              "#9c179e"
             ],
             [
              0.4444444444444444,
              "#bd3786"
             ],
             [
              0.5555555555555556,
              "#d8576b"
             ],
             [
              0.6666666666666666,
              "#ed7953"
             ],
             [
              0.7777777777777778,
              "#fb9f3a"
             ],
             [
              0.8888888888888888,
              "#fdca26"
             ],
             [
              1,
              "#f0f921"
             ]
            ],
            "type": "heatmap"
           }
          ],
          "heatmapgl": [
           {
            "colorbar": {
             "outlinewidth": 0,
             "ticks": ""
            },
            "colorscale": [
             [
              0,
              "#0d0887"
             ],
             [
              0.1111111111111111,
              "#46039f"
             ],
             [
              0.2222222222222222,
              "#7201a8"
             ],
             [
              0.3333333333333333,
              "#9c179e"
             ],
             [
              0.4444444444444444,
              "#bd3786"
             ],
             [
              0.5555555555555556,
              "#d8576b"
             ],
             [
              0.6666666666666666,
              "#ed7953"
             ],
             [
              0.7777777777777778,
              "#fb9f3a"
             ],
             [
              0.8888888888888888,
              "#fdca26"
             ],
             [
              1,
              "#f0f921"
             ]
            ],
            "type": "heatmapgl"
           }
          ],
          "histogram": [
           {
            "marker": {
             "colorbar": {
              "outlinewidth": 0,
              "ticks": ""
             }
            },
            "type": "histogram"
           }
          ],
          "histogram2d": [
           {
            "colorbar": {
             "outlinewidth": 0,
             "ticks": ""
            },
            "colorscale": [
             [
              0,
              "#0d0887"
             ],
             [
              0.1111111111111111,
              "#46039f"
             ],
             [
              0.2222222222222222,
              "#7201a8"
             ],
             [
              0.3333333333333333,
              "#9c179e"
             ],
             [
              0.4444444444444444,
              "#bd3786"
             ],
             [
              0.5555555555555556,
              "#d8576b"
             ],
             [
              0.6666666666666666,
              "#ed7953"
             ],
             [
              0.7777777777777778,
              "#fb9f3a"
             ],
             [
              0.8888888888888888,
              "#fdca26"
             ],
             [
              1,
              "#f0f921"
             ]
            ],
            "type": "histogram2d"
           }
          ],
          "histogram2dcontour": [
           {
            "colorbar": {
             "outlinewidth": 0,
             "ticks": ""
            },
            "colorscale": [
             [
              0,
              "#0d0887"
             ],
             [
              0.1111111111111111,
              "#46039f"
             ],
             [
              0.2222222222222222,
              "#7201a8"
             ],
             [
              0.3333333333333333,
              "#9c179e"
             ],
             [
              0.4444444444444444,
              "#bd3786"
             ],
             [
              0.5555555555555556,
              "#d8576b"
             ],
             [
              0.6666666666666666,
              "#ed7953"
             ],
             [
              0.7777777777777778,
              "#fb9f3a"
             ],
             [
              0.8888888888888888,
              "#fdca26"
             ],
             [
              1,
              "#f0f921"
             ]
            ],
            "type": "histogram2dcontour"
           }
          ],
          "mesh3d": [
           {
            "colorbar": {
             "outlinewidth": 0,
             "ticks": ""
            },
            "type": "mesh3d"
           }
          ],
          "parcoords": [
           {
            "line": {
             "colorbar": {
              "outlinewidth": 0,
              "ticks": ""
             }
            },
            "type": "parcoords"
           }
          ],
          "scatter": [
           {
            "marker": {
             "colorbar": {
              "outlinewidth": 0,
              "ticks": ""
             }
            },
            "type": "scatter"
           }
          ],
          "scatter3d": [
           {
            "line": {
             "colorbar": {
              "outlinewidth": 0,
              "ticks": ""
             }
            },
            "marker": {
             "colorbar": {
              "outlinewidth": 0,
              "ticks": ""
             }
            },
            "type": "scatter3d"
           }
          ],
          "scattercarpet": [
           {
            "marker": {
             "colorbar": {
              "outlinewidth": 0,
              "ticks": ""
             }
            },
            "type": "scattercarpet"
           }
          ],
          "scattergeo": [
           {
            "marker": {
             "colorbar": {
              "outlinewidth": 0,
              "ticks": ""
             }
            },
            "type": "scattergeo"
           }
          ],
          "scattergl": [
           {
            "marker": {
             "colorbar": {
              "outlinewidth": 0,
              "ticks": ""
             }
            },
            "type": "scattergl"
           }
          ],
          "scattermapbox": [
           {
            "marker": {
             "colorbar": {
              "outlinewidth": 0,
              "ticks": ""
             }
            },
            "type": "scattermapbox"
           }
          ],
          "scatterpolar": [
           {
            "marker": {
             "colorbar": {
              "outlinewidth": 0,
              "ticks": ""
             }
            },
            "type": "scatterpolar"
           }
          ],
          "scatterpolargl": [
           {
            "marker": {
             "colorbar": {
              "outlinewidth": 0,
              "ticks": ""
             }
            },
            "type": "scatterpolargl"
           }
          ],
          "scatterternary": [
           {
            "marker": {
             "colorbar": {
              "outlinewidth": 0,
              "ticks": ""
             }
            },
            "type": "scatterternary"
           }
          ],
          "surface": [
           {
            "colorbar": {
             "outlinewidth": 0,
             "ticks": ""
            },
            "colorscale": [
             [
              0,
              "#0d0887"
             ],
             [
              0.1111111111111111,
              "#46039f"
             ],
             [
              0.2222222222222222,
              "#7201a8"
             ],
             [
              0.3333333333333333,
              "#9c179e"
             ],
             [
              0.4444444444444444,
              "#bd3786"
             ],
             [
              0.5555555555555556,
              "#d8576b"
             ],
             [
              0.6666666666666666,
              "#ed7953"
             ],
             [
              0.7777777777777778,
              "#fb9f3a"
             ],
             [
              0.8888888888888888,
              "#fdca26"
             ],
             [
              1,
              "#f0f921"
             ]
            ],
            "type": "surface"
           }
          ],
          "table": [
           {
            "cells": {
             "fill": {
              "color": "#EBF0F8"
             },
             "line": {
              "color": "white"
             }
            },
            "header": {
             "fill": {
              "color": "#C8D4E3"
             },
             "line": {
              "color": "white"
             }
            },
            "type": "table"
           }
          ]
         },
         "layout": {
          "annotationdefaults": {
           "arrowcolor": "#2a3f5f",
           "arrowhead": 0,
           "arrowwidth": 1
          },
          "colorscale": {
           "diverging": [
            [
             0,
             "#8e0152"
            ],
            [
             0.1,
             "#c51b7d"
            ],
            [
             0.2,
             "#de77ae"
            ],
            [
             0.3,
             "#f1b6da"
            ],
            [
             0.4,
             "#fde0ef"
            ],
            [
             0.5,
             "#f7f7f7"
            ],
            [
             0.6,
             "#e6f5d0"
            ],
            [
             0.7,
             "#b8e186"
            ],
            [
             0.8,
             "#7fbc41"
            ],
            [
             0.9,
             "#4d9221"
            ],
            [
             1,
             "#276419"
            ]
           ],
           "sequential": [
            [
             0,
             "#0d0887"
            ],
            [
             0.1111111111111111,
             "#46039f"
            ],
            [
             0.2222222222222222,
             "#7201a8"
            ],
            [
             0.3333333333333333,
             "#9c179e"
            ],
            [
             0.4444444444444444,
             "#bd3786"
            ],
            [
             0.5555555555555556,
             "#d8576b"
            ],
            [
             0.6666666666666666,
             "#ed7953"
            ],
            [
             0.7777777777777778,
             "#fb9f3a"
            ],
            [
             0.8888888888888888,
             "#fdca26"
            ],
            [
             1,
             "#f0f921"
            ]
           ],
           "sequentialminus": [
            [
             0,
             "#0d0887"
            ],
            [
             0.1111111111111111,
             "#46039f"
            ],
            [
             0.2222222222222222,
             "#7201a8"
            ],
            [
             0.3333333333333333,
             "#9c179e"
            ],
            [
             0.4444444444444444,
             "#bd3786"
            ],
            [
             0.5555555555555556,
             "#d8576b"
            ],
            [
             0.6666666666666666,
             "#ed7953"
            ],
            [
             0.7777777777777778,
             "#fb9f3a"
            ],
            [
             0.8888888888888888,
             "#fdca26"
            ],
            [
             1,
             "#f0f921"
            ]
           ]
          },
          "colorway": [
           "#636efa",
           "#EF553B",
           "#00cc96",
           "#ab63fa",
           "#FFA15A",
           "#19d3f3",
           "#FF6692",
           "#B6E880",
           "#FF97FF",
           "#FECB52"
          ],
          "font": {
           "color": "#2a3f5f"
          },
          "geo": {
           "bgcolor": "white",
           "lakecolor": "white",
           "landcolor": "#E5ECF6",
           "showlakes": true,
           "showland": true,
           "subunitcolor": "white"
          },
          "hoverlabel": {
           "align": "left"
          },
          "hovermode": "closest",
          "mapbox": {
           "style": "light"
          },
          "paper_bgcolor": "white",
          "plot_bgcolor": "#E5ECF6",
          "polar": {
           "angularaxis": {
            "gridcolor": "white",
            "linecolor": "white",
            "ticks": ""
           },
           "bgcolor": "#E5ECF6",
           "radialaxis": {
            "gridcolor": "white",
            "linecolor": "white",
            "ticks": ""
           }
          },
          "scene": {
           "xaxis": {
            "backgroundcolor": "#E5ECF6",
            "gridcolor": "white",
            "gridwidth": 2,
            "linecolor": "white",
            "showbackground": true,
            "ticks": "",
            "zerolinecolor": "white"
           },
           "yaxis": {
            "backgroundcolor": "#E5ECF6",
            "gridcolor": "white",
            "gridwidth": 2,
            "linecolor": "white",
            "showbackground": true,
            "ticks": "",
            "zerolinecolor": "white"
           },
           "zaxis": {
            "backgroundcolor": "#E5ECF6",
            "gridcolor": "white",
            "gridwidth": 2,
            "linecolor": "white",
            "showbackground": true,
            "ticks": "",
            "zerolinecolor": "white"
           }
          },
          "shapedefaults": {
           "line": {
            "color": "#2a3f5f"
           }
          },
          "ternary": {
           "aaxis": {
            "gridcolor": "white",
            "linecolor": "white",
            "ticks": ""
           },
           "baxis": {
            "gridcolor": "white",
            "linecolor": "white",
            "ticks": ""
           },
           "bgcolor": "#E5ECF6",
           "caxis": {
            "gridcolor": "white",
            "linecolor": "white",
            "ticks": ""
           }
          },
          "title": {
           "x": 0.05
          },
          "xaxis": {
           "automargin": true,
           "gridcolor": "white",
           "linecolor": "white",
           "ticks": "",
           "zerolinecolor": "white",
           "zerolinewidth": 2
          },
          "yaxis": {
           "automargin": true,
           "gridcolor": "white",
           "linecolor": "white",
           "ticks": "",
           "zerolinecolor": "white",
           "zerolinewidth": 2
          }
         }
        },
        "title": {
         "text": "Trie"
        },
        "width": 1000,
        "xaxis": {
         "showgrid": false,
         "showline": false,
         "showticklabels": false,
         "zeroline": false
        },
        "yaxis": {
         "showgrid": false,
         "showline": false,
         "showticklabels": false,
         "zeroline": false
        }
       }
      },
      "text/html": [
       "<div>\n",
       "        \n",
       "        \n",
       "            <div id=\"6bf1aa87-1277-4193-b1ca-850f14c9df89\" class=\"plotly-graph-div\" style=\"height:800px; width:1000px;\"></div>\n",
       "            <script type=\"text/javascript\">\n",
       "                require([\"plotly\"], function(Plotly) {\n",
       "                    window.PLOTLYENV=window.PLOTLYENV || {};\n",
       "                    \n",
       "                if (document.getElementById(\"6bf1aa87-1277-4193-b1ca-850f14c9df89\")) {\n",
       "                    Plotly.newPlot(\n",
       "                        '6bf1aa87-1277-4193-b1ca-850f14c9df89',\n",
       "                        [{\"hoverinfo\": \"none\", \"line\": {\"color\": \"rgb(160,160,160)\", \"width\": 2}, \"mode\": \"lines\", \"type\": \"scatter\", \"uid\": \"992ae632-30f6-4d3a-852a-f7cfa78b1e39\", \"x\": [1822.5, 1822.5, null, 1822.5, 1323.5, null, 1822.5, 1822.5, null, 1822.5, 2155.5, null, 1323.5, 992.49, null, 1323.5, 1323.5, null, 1822.5, 1822.5, null, 2155.5, 2157.5, null, 992.49, 992.49, null, 1323.5, 1323.5, null, 1822.5, 1822.5, null, 2157.5, 2158.5, null, 992.49, 991.49, null, 1323.5, 1323.5, null, 991.49, 990.49, null, 990.49, 988.49, null, 988.49, 825.49, null, 825.49, 492.49, null, 825.49, 825.49, null, 492.49, 489.49, null, 825.49, 825.49, null, 489.49, 159.49, null, 489.49, 489.49, null, 825.49, 825.49, null, 159.49, 157.49, null, 489.49, 489.49, null, 157.49, 156.49, null, 489.49, 489.49, null, 156.49, 156.49, null, 156.49, 156.49, null, 156.49, 156.49, null, 489.49, 489.49, null, 489.49, 490.49, null, 490.49, 490.49, null, 490.49, 490.49, null, 490.49, 490.49, null, 825.49, 825.49, null, 825.49, 825.49, null, 825.49, 825.49, null, 1323.5, 1323.5, null, 1323.5, 1323.5, null, 1323.5, 1323.5, null, 1323.5, 1323.5, null, 1323.5, 1323.5, null, 1323.5, 1323.5, null, 1323.5, 1323.5, null, 1323.5, 1159.5, null, 1323.5, 1490.5, null, 1159.5, 1159.5, null, 1490.5, 1491.5, null, 1159.5, 1159.5, null, 1491.5, 1491.5, null, 1491.5, 1490.5, null, 1490.5, 1490.5, null, 1490.5, 1490.5, null, 1822.5, 1822.5, null, 1822.5, 1822.5, null, 1822.5, 1822.5, null, 1822.5, 1822.5, null, 1822.5, 1822.5, null, 1822.5, 1823.5, null, 1823.5, 1823.5, null, 1823.5, 1823.5, null, 1823.5, 1823.5, null, 1823.5, 1824.5, null, 1824.5, 1824.5, null, 1824.5, 1824.5, null, 2158.5, 2158.5, null, 2158.5, 2158.5, null, 2158.5, 2158.5, null, 2158.5, 2158.5, null, 2158.5, 2158.5, null, 2158.5, 2158.5, null, 2158.5, 2158.5, null, 2158.5, 2158.5, null, 2158.5, 2158.5, null, 2158.5, 2158.5, null], \"y\": [1314.0, 1242.0, null, 1242.0, 1170.0, null, 1242.0, 1170.0, null, 1242.0, 1170.0, null, 1170.0, 1098.0, null, 1170.0, 1098.0, null, 1170.0, 1098.0, null, 1170.0, 1098.0, null, 1098.0, 1026.0, null, 1098.0, 1026.0, null, 1098.0, 1026.0, null, 1098.0, 1026.0, null, 1026.0, 954.0, null, 1026.0, 954.0, null, 954.0, 882.0, null, 882.0, 810.0, null, 810.0, 738.0, null, 738.0, 666.0, null, 738.0, 666.0, null, 666.0, 594.0, null, 666.0, 594.0, null, 594.0, 522.0, null, 594.0, 522.0, null, 594.0, 522.0, null, 522.0, 450.0, null, 522.0, 450.0, null, 450.0, 378.0, null, 450.0, 378.0, null, 378.0, 306.0, null, 306.0, 234.0, null, 234.0, 162.0, null, 378.0, 306.0, null, 306.0, 234.0, null, 234.0, 162.0, null, 162.0, 90.0, null, 90.0, 18.0, null, 522.0, 450.0, null, 450.0, 378.0, null, 378.0, 306.0, null, 954.0, 882.0, null, 882.0, 810.0, null, 810.0, 738.0, null, 738.0, 666.0, null, 666.0, 594.0, null, 594.0, 522.0, null, 522.0, 450.0, null, 450.0, 378.0, null, 450.0, 378.0, null, 378.0, 306.0, null, 378.0, 306.0, null, 306.0, 234.0, null, 306.0, 234.0, null, 234.0, 162.0, null, 162.0, 90.0, null, 90.0, 18.0, null, 1026.0, 954.0, null, 954.0, 882.0, null, 882.0, 810.0, null, 810.0, 738.0, null, 738.0, 666.0, null, 666.0, 594.0, null, 594.0, 522.0, null, 522.0, 450.0, null, 450.0, 378.0, null, 378.0, 306.0, null, 306.0, 234.0, null, 234.0, 162.0, null, 1026.0, 954.0, null, 954.0, 882.0, null, 882.0, 810.0, null, 810.0, 738.0, null, 738.0, 666.0, null, 666.0, 594.0, null, 594.0, 522.0, null, 522.0, 450.0, null, 450.0, 378.0, null, 378.0, 306.0, null]}, {\"hoverinfo\": \"none\", \"marker\": {\"color\": \"rgb(100,100,100)\", \"line\": {\"color\": \"rgb(100,100,100)\", \"width\": 1}, \"size\": 18}, \"mode\": \"markers+text\", \"name\": \"\", \"text\": [null], \"type\": \"scatter\", \"uid\": \"cfd0c481-b227-4801-a119-ccaf77ced921\", \"x\": [1822.5], \"y\": [1314.0]}, {\"hoverinfo\": \"none\", \"marker\": {\"color\": \"rgb(101,214,67)\", \"line\": {\"color\": \"rgb(100,100,100)\", \"width\": 1}, \"size\": 18}, \"mode\": \"markers+text\", \"name\": \"\", \"text\": [\"dynamic\", \"dynamic\", \"dynamic\", \"dynamic\"], \"type\": \"scatter\", \"uid\": \"91c1a1f9-279e-4311-a7dd-5f23bd558aef\", \"x\": [988.49, 1159.5, 1822.5, 2158.5], \"y\": [810.0, 234.0, 738.0, 738.0]}, {\"hoverinfo\": \"none\", \"marker\": {\"color\": \"rgb(247,185,43)\", \"line\": {\"color\": \"rgb(100,100,100)\", \"width\": 1}, \"size\": 18}, \"mode\": \"markers+text\", \"name\": \"\", \"text\": [\"/\", \"/\", \"/\", \"/\", \"/\", \"/\", \"/\", \"/\"], \"type\": \"scatter\", \"uid\": \"c413aff2-134f-45ed-8575-f384c8523a86\", \"x\": [1822.5, 990.49, 825.49, 1159.5, 1822.5, 1822.5, 2158.5, 2158.5], \"y\": [1242.0, 882.0, 738.0, 306.0, 810.0, 666.0, 810.0, 666.0]}, {\"hoverinfo\": \"none\", \"marker\": {\"color\": \"rgb(24,140,216)\", \"line\": {\"color\": \"rgb(100,100,100)\", \"width\": 1}, \"size\": 18}, \"mode\": \"markers+text\", \"name\": \"\", \"text\": [\"a\", \"u\", \"p\", \"p\", \"c\", \"s\", \"o\", \"p\", \"h\", \"s\", \"a\", \"e\", \"c\", \"v\", \"c\", \"t\", \"o\", \"i\", \"u\", \"n\", \"t\", \"s\", \"v\", \"i\", \"t\", \"i\", \"e\", \"s\", \"e\", \"n\", \"t\", \"s\", \"i\", \"e\", \"v\", \"e\", \"m\", \"e\", \"n\", \"t\", \"s\", \"-\", \"t\", \"y\", \"p\", \"e\", \"s\", \"e\", \"r\", \"s\", \"f\", \"r\", \"i\", \"e\", \"n\", \"d\", \"s\", \"s\", \"t\", \"s\", \"l\", \"i\", \"k\", \"e\", \"s\"], \"type\": \"scatter\", \"uid\": \"93a0f27d-8b55-4b71-bd97-278cc9cb0e2d\", \"x\": [1323.5, 1822.5, 2155.5, 992.49, 1323.5, 1822.5, 2157.5, 992.49, 1323.5, 991.49, 492.49, 825.49, 489.49, 825.49, 159.49, 489.49, 157.49, 489.49, 156.49, 156.49, 156.49, 156.49, 489.49, 489.49, 490.49, 490.49, 490.49, 490.49, 825.49, 825.49, 825.49, 825.49, 1323.5, 1323.5, 1323.5, 1323.5, 1323.5, 1323.5, 1323.5, 1323.5, 1159.5, 1490.5, 1491.5, 1491.5, 1490.5, 1490.5, 1490.5, 1822.5, 1822.5, 1822.5, 1823.5, 1823.5, 1823.5, 1823.5, 1824.5, 1824.5, 1824.5, 2158.5, 2158.5, 2158.5, 2158.5, 2158.5, 2158.5, 2158.5, 2158.5], \"y\": [1170.0, 1170.0, 1170.0, 1098.0, 1098.0, 1098.0, 1098.0, 1026.0, 1026.0, 954.0, 666.0, 666.0, 594.0, 594.0, 522.0, 522.0, 450.0, 450.0, 378.0, 306.0, 234.0, 162.0, 378.0, 306.0, 234.0, 162.0, 90.0, 18.0, 522.0, 450.0, 378.0, 306.0, 954.0, 882.0, 810.0, 738.0, 666.0, 594.0, 522.0, 450.0, 378.0, 378.0, 306.0, 234.0, 162.0, 90.0, 18.0, 1026.0, 954.0, 882.0, 594.0, 522.0, 450.0, 378.0, 306.0, 234.0, 162.0, 1026.0, 954.0, 882.0, 594.0, 522.0, 450.0, 378.0, 306.0]}],\n",
       "                        {\"font\": {\"size\": 15}, \"height\": 800, \"hovermode\": \"closest\", \"margin\": {\"b\": 85, \"l\": 40, \"r\": 40, \"t\": 100}, \"plot_bgcolor\": \"rgb(248,248,248)\", \"showlegend\": false, \"template\": {\"data\": {\"bar\": [{\"error_x\": {\"color\": \"#2a3f5f\"}, \"error_y\": {\"color\": \"#2a3f5f\"}, \"marker\": {\"line\": {\"color\": \"#E5ECF6\", \"width\": 0.5}}, \"type\": \"bar\"}], \"barpolar\": [{\"marker\": {\"line\": {\"color\": \"#E5ECF6\", \"width\": 0.5}}, \"type\": \"barpolar\"}], \"carpet\": [{\"aaxis\": {\"endlinecolor\": \"#2a3f5f\", \"gridcolor\": \"white\", \"linecolor\": \"white\", \"minorgridcolor\": \"white\", \"startlinecolor\": \"#2a3f5f\"}, \"baxis\": {\"endlinecolor\": \"#2a3f5f\", \"gridcolor\": \"white\", \"linecolor\": \"white\", \"minorgridcolor\": \"white\", \"startlinecolor\": \"#2a3f5f\"}, \"type\": \"carpet\"}], \"choropleth\": [{\"colorbar\": {\"outlinewidth\": 0, \"ticks\": \"\"}, \"type\": \"choropleth\"}], \"contour\": [{\"colorbar\": {\"outlinewidth\": 0, \"ticks\": \"\"}, \"colorscale\": [[0.0, \"#0d0887\"], [0.1111111111111111, \"#46039f\"], [0.2222222222222222, \"#7201a8\"], [0.3333333333333333, \"#9c179e\"], [0.4444444444444444, \"#bd3786\"], [0.5555555555555556, \"#d8576b\"], [0.6666666666666666, \"#ed7953\"], [0.7777777777777778, \"#fb9f3a\"], [0.8888888888888888, \"#fdca26\"], [1.0, \"#f0f921\"]], \"type\": \"contour\"}], \"contourcarpet\": [{\"colorbar\": {\"outlinewidth\": 0, \"ticks\": \"\"}, \"type\": \"contourcarpet\"}], \"heatmap\": [{\"colorbar\": {\"outlinewidth\": 0, \"ticks\": \"\"}, \"colorscale\": [[0.0, \"#0d0887\"], [0.1111111111111111, \"#46039f\"], [0.2222222222222222, \"#7201a8\"], [0.3333333333333333, \"#9c179e\"], [0.4444444444444444, \"#bd3786\"], [0.5555555555555556, \"#d8576b\"], [0.6666666666666666, \"#ed7953\"], [0.7777777777777778, \"#fb9f3a\"], [0.8888888888888888, \"#fdca26\"], [1.0, \"#f0f921\"]], \"type\": \"heatmap\"}], \"heatmapgl\": [{\"colorbar\": {\"outlinewidth\": 0, \"ticks\": \"\"}, \"colorscale\": [[0.0, \"#0d0887\"], [0.1111111111111111, \"#46039f\"], [0.2222222222222222, \"#7201a8\"], [0.3333333333333333, \"#9c179e\"], [0.4444444444444444, \"#bd3786\"], [0.5555555555555556, \"#d8576b\"], [0.6666666666666666, \"#ed7953\"], [0.7777777777777778, \"#fb9f3a\"], [0.8888888888888888, \"#fdca26\"], [1.0, \"#f0f921\"]], \"type\": \"heatmapgl\"}], \"histogram\": [{\"marker\": {\"colorbar\": {\"outlinewidth\": 0, \"ticks\": \"\"}}, \"type\": \"histogram\"}], \"histogram2d\": [{\"colorbar\": {\"outlinewidth\": 0, \"ticks\": \"\"}, \"colorscale\": [[0.0, \"#0d0887\"], [0.1111111111111111, \"#46039f\"], [0.2222222222222222, \"#7201a8\"], [0.3333333333333333, \"#9c179e\"], [0.4444444444444444, \"#bd3786\"], [0.5555555555555556, \"#d8576b\"], [0.6666666666666666, \"#ed7953\"], [0.7777777777777778, \"#fb9f3a\"], [0.8888888888888888, \"#fdca26\"], [1.0, \"#f0f921\"]], \"type\": \"histogram2d\"}], \"histogram2dcontour\": [{\"colorbar\": {\"outlinewidth\": 0, \"ticks\": \"\"}, \"colorscale\": [[0.0, \"#0d0887\"], [0.1111111111111111, \"#46039f\"], [0.2222222222222222, \"#7201a8\"], [0.3333333333333333, \"#9c179e\"], [0.4444444444444444, \"#bd3786\"], [0.5555555555555556, \"#d8576b\"], [0.6666666666666666, \"#ed7953\"], [0.7777777777777778, \"#fb9f3a\"], [0.8888888888888888, \"#fdca26\"], [1.0, \"#f0f921\"]], \"type\": \"histogram2dcontour\"}], \"mesh3d\": [{\"colorbar\": {\"outlinewidth\": 0, \"ticks\": \"\"}, \"type\": \"mesh3d\"}], \"parcoords\": [{\"line\": {\"colorbar\": {\"outlinewidth\": 0, \"ticks\": \"\"}}, \"type\": \"parcoords\"}], \"scatter\": [{\"marker\": {\"colorbar\": {\"outlinewidth\": 0, \"ticks\": \"\"}}, \"type\": \"scatter\"}], \"scatter3d\": [{\"line\": {\"colorbar\": {\"outlinewidth\": 0, \"ticks\": \"\"}}, \"marker\": {\"colorbar\": {\"outlinewidth\": 0, \"ticks\": \"\"}}, \"type\": \"scatter3d\"}], \"scattercarpet\": [{\"marker\": {\"colorbar\": {\"outlinewidth\": 0, \"ticks\": \"\"}}, \"type\": \"scattercarpet\"}], \"scattergeo\": [{\"marker\": {\"colorbar\": {\"outlinewidth\": 0, \"ticks\": \"\"}}, \"type\": \"scattergeo\"}], \"scattergl\": [{\"marker\": {\"colorbar\": {\"outlinewidth\": 0, \"ticks\": \"\"}}, \"type\": \"scattergl\"}], \"scattermapbox\": [{\"marker\": {\"colorbar\": {\"outlinewidth\": 0, \"ticks\": \"\"}}, \"type\": \"scattermapbox\"}], \"scatterpolar\": [{\"marker\": {\"colorbar\": {\"outlinewidth\": 0, \"ticks\": \"\"}}, \"type\": \"scatterpolar\"}], \"scatterpolargl\": [{\"marker\": {\"colorbar\": {\"outlinewidth\": 0, \"ticks\": \"\"}}, \"type\": \"scatterpolargl\"}], \"scatterternary\": [{\"marker\": {\"colorbar\": {\"outlinewidth\": 0, \"ticks\": \"\"}}, \"type\": \"scatterternary\"}], \"surface\": [{\"colorbar\": {\"outlinewidth\": 0, \"ticks\": \"\"}, \"colorscale\": [[0.0, \"#0d0887\"], [0.1111111111111111, \"#46039f\"], [0.2222222222222222, \"#7201a8\"], [0.3333333333333333, \"#9c179e\"], [0.4444444444444444, \"#bd3786\"], [0.5555555555555556, \"#d8576b\"], [0.6666666666666666, \"#ed7953\"], [0.7777777777777778, \"#fb9f3a\"], [0.8888888888888888, \"#fdca26\"], [1.0, \"#f0f921\"]], \"type\": \"surface\"}], \"table\": [{\"cells\": {\"fill\": {\"color\": \"#EBF0F8\"}, \"line\": {\"color\": \"white\"}}, \"header\": {\"fill\": {\"color\": \"#C8D4E3\"}, \"line\": {\"color\": \"white\"}}, \"type\": \"table\"}]}, \"layout\": {\"annotationdefaults\": {\"arrowcolor\": \"#2a3f5f\", \"arrowhead\": 0, \"arrowwidth\": 1}, \"colorscale\": {\"diverging\": [[0, \"#8e0152\"], [0.1, \"#c51b7d\"], [0.2, \"#de77ae\"], [0.3, \"#f1b6da\"], [0.4, \"#fde0ef\"], [0.5, \"#f7f7f7\"], [0.6, \"#e6f5d0\"], [0.7, \"#b8e186\"], [0.8, \"#7fbc41\"], [0.9, \"#4d9221\"], [1, \"#276419\"]], \"sequential\": [[0.0, \"#0d0887\"], [0.1111111111111111, \"#46039f\"], [0.2222222222222222, \"#7201a8\"], [0.3333333333333333, \"#9c179e\"], [0.4444444444444444, \"#bd3786\"], [0.5555555555555556, \"#d8576b\"], [0.6666666666666666, \"#ed7953\"], [0.7777777777777778, \"#fb9f3a\"], [0.8888888888888888, \"#fdca26\"], [1.0, \"#f0f921\"]], \"sequentialminus\": [[0.0, \"#0d0887\"], [0.1111111111111111, \"#46039f\"], [0.2222222222222222, \"#7201a8\"], [0.3333333333333333, \"#9c179e\"], [0.4444444444444444, \"#bd3786\"], [0.5555555555555556, \"#d8576b\"], [0.6666666666666666, \"#ed7953\"], [0.7777777777777778, \"#fb9f3a\"], [0.8888888888888888, \"#fdca26\"], [1.0, \"#f0f921\"]]}, \"colorway\": [\"#636efa\", \"#EF553B\", \"#00cc96\", \"#ab63fa\", \"#FFA15A\", \"#19d3f3\", \"#FF6692\", \"#B6E880\", \"#FF97FF\", \"#FECB52\"], \"font\": {\"color\": \"#2a3f5f\"}, \"geo\": {\"bgcolor\": \"white\", \"lakecolor\": \"white\", \"landcolor\": \"#E5ECF6\", \"showlakes\": true, \"showland\": true, \"subunitcolor\": \"white\"}, \"hoverlabel\": {\"align\": \"left\"}, \"hovermode\": \"closest\", \"mapbox\": {\"style\": \"light\"}, \"paper_bgcolor\": \"white\", \"plot_bgcolor\": \"#E5ECF6\", \"polar\": {\"angularaxis\": {\"gridcolor\": \"white\", \"linecolor\": \"white\", \"ticks\": \"\"}, \"bgcolor\": \"#E5ECF6\", \"radialaxis\": {\"gridcolor\": \"white\", \"linecolor\": \"white\", \"ticks\": \"\"}}, \"scene\": {\"xaxis\": {\"backgroundcolor\": \"#E5ECF6\", \"gridcolor\": \"white\", \"gridwidth\": 2, \"linecolor\": \"white\", \"showbackground\": true, \"ticks\": \"\", \"zerolinecolor\": \"white\"}, \"yaxis\": {\"backgroundcolor\": \"#E5ECF6\", \"gridcolor\": \"white\", \"gridwidth\": 2, \"linecolor\": \"white\", \"showbackground\": true, \"ticks\": \"\", \"zerolinecolor\": \"white\"}, \"zaxis\": {\"backgroundcolor\": \"#E5ECF6\", \"gridcolor\": \"white\", \"gridwidth\": 2, \"linecolor\": \"white\", \"showbackground\": true, \"ticks\": \"\", \"zerolinecolor\": \"white\"}}, \"shapedefaults\": {\"line\": {\"color\": \"#2a3f5f\"}}, \"ternary\": {\"aaxis\": {\"gridcolor\": \"white\", \"linecolor\": \"white\", \"ticks\": \"\"}, \"baxis\": {\"gridcolor\": \"white\", \"linecolor\": \"white\", \"ticks\": \"\"}, \"bgcolor\": \"#E5ECF6\", \"caxis\": {\"gridcolor\": \"white\", \"linecolor\": \"white\", \"ticks\": \"\"}}, \"title\": {\"x\": 0.05}, \"xaxis\": {\"automargin\": true, \"gridcolor\": \"white\", \"linecolor\": \"white\", \"ticks\": \"\", \"zerolinecolor\": \"white\", \"zerolinewidth\": 2}, \"yaxis\": {\"automargin\": true, \"gridcolor\": \"white\", \"linecolor\": \"white\", \"ticks\": \"\", \"zerolinecolor\": \"white\", \"zerolinewidth\": 2}}}, \"title\": {\"text\": \"Trie\"}, \"width\": 1000, \"xaxis\": {\"showgrid\": false, \"showline\": false, \"showticklabels\": false, \"zeroline\": false}, \"yaxis\": {\"showgrid\": false, \"showline\": false, \"showticklabels\": false, \"zeroline\": false}},\n",
       "                        {\"responsive\": true}\n",
       "                    ).then(function(){\n",
       "                            \n",
       "var gd = document.getElementById('6bf1aa87-1277-4193-b1ca-850f14c9df89');\n",
       "var x = new MutationObserver(function (mutations, observer) {{\n",
       "        var display = window.getComputedStyle(gd).display;\n",
       "        if (!display || display === 'none') {{\n",
       "            console.log([gd, 'removed!']);\n",
       "            Plotly.purge(gd);\n",
       "            observer.disconnect();\n",
       "        }}\n",
       "}});\n",
       "\n",
       "// Listen for the removal of the full notebook cells\n",
       "var notebookContainer = gd.closest('#notebook-container');\n",
       "if (notebookContainer) {{\n",
       "    x.observe(notebookContainer, {childList: true});\n",
       "}}\n",
       "\n",
       "// Listen for the clearing of the current output cell\n",
       "var outputEl = gd.closest('.output');\n",
       "if (outputEl) {{\n",
       "    x.observe(outputEl, {childList: true});\n",
       "}}\n",
       "\n",
       "                        })\n",
       "                };\n",
       "                });\n",
       "            </script>\n",
       "        </div>"
      ]
     },
     "metadata": {},
     "output_type": "display_data"
    },
    {
     "data": {
      "application/vnd.plotly.v1+json": {
       "config": {
        "plotlyServerURL": "https://plot.ly"
       },
       "data": [
        {
         "hoverinfo": "none",
         "line": {
          "color": "rgb(160,160,160)",
          "width": 2
         },
         "mode": "lines",
         "type": "scatter",
         "uid": "29eda227-beaf-4647-b448-632937ffaba0",
         "x": [
          1822.5,
          1822.5,
          null,
          1822.5,
          1323.5,
          null,
          1822.5,
          1822.5,
          null,
          1822.5,
          2155.5,
          null,
          1323.5,
          992.49,
          null,
          1323.5,
          1323.5,
          null,
          1822.5,
          1822.5,
          null,
          2155.5,
          2157.5,
          null,
          992.49,
          992.49,
          null,
          1323.5,
          1323.5,
          null,
          1822.5,
          1822.5,
          null,
          2157.5,
          2158.5,
          null,
          992.49,
          991.49,
          null,
          1323.5,
          1323.5,
          null,
          991.49,
          990.49,
          null,
          990.49,
          988.49,
          null,
          988.49,
          825.49,
          null,
          825.49,
          492.49,
          null,
          825.49,
          825.49,
          null,
          492.49,
          489.49,
          null,
          825.49,
          825.49,
          null,
          489.49,
          159.49,
          null,
          489.49,
          489.49,
          null,
          825.49,
          825.49,
          null,
          159.49,
          157.49,
          null,
          489.49,
          489.49,
          null,
          157.49,
          156.49,
          null,
          489.49,
          489.49,
          null,
          156.49,
          156.49,
          null,
          156.49,
          156.49,
          null,
          156.49,
          156.49,
          null,
          489.49,
          489.49,
          null,
          489.49,
          490.49,
          null,
          490.49,
          490.49,
          null,
          490.49,
          490.49,
          null,
          490.49,
          490.49,
          null,
          825.49,
          825.49,
          null,
          825.49,
          825.49,
          null,
          825.49,
          825.49,
          null,
          1323.5,
          1323.5,
          null,
          1323.5,
          1323.5,
          null,
          1323.5,
          1323.5,
          null,
          1323.5,
          1323.5,
          null,
          1323.5,
          1323.5,
          null,
          1323.5,
          1323.5,
          null,
          1323.5,
          1323.5,
          null,
          1323.5,
          1159.5,
          null,
          1323.5,
          1490.5,
          null,
          1159.5,
          1159.5,
          null,
          1490.5,
          1491.5,
          null,
          1159.5,
          1159.5,
          null,
          1491.5,
          1491.5,
          null,
          1491.5,
          1490.5,
          null,
          1490.5,
          1490.5,
          null,
          1490.5,
          1490.5,
          null,
          1822.5,
          1822.5,
          null,
          1822.5,
          1822.5,
          null,
          1822.5,
          1822.5,
          null,
          1822.5,
          1822.5,
          null,
          1822.5,
          1822.5,
          null,
          1822.5,
          1823.5,
          null,
          1823.5,
          1823.5,
          null,
          1823.5,
          1823.5,
          null,
          1823.5,
          1823.5,
          null,
          1823.5,
          1824.5,
          null,
          1824.5,
          1824.5,
          null,
          1824.5,
          1824.5,
          null,
          2158.5,
          2158.5,
          null,
          2158.5,
          2158.5,
          null,
          2158.5,
          2158.5,
          null,
          2158.5,
          2158.5,
          null,
          2158.5,
          2158.5,
          null,
          2158.5,
          2158.5,
          null,
          2158.5,
          2158.5,
          null,
          2158.5,
          2158.5,
          null,
          2158.5,
          2158.5,
          null,
          2158.5,
          2158.5,
          null
         ],
         "y": [
          1314,
          1242,
          null,
          1242,
          1170,
          null,
          1242,
          1170,
          null,
          1242,
          1170,
          null,
          1170,
          1098,
          null,
          1170,
          1098,
          null,
          1170,
          1098,
          null,
          1170,
          1098,
          null,
          1098,
          1026,
          null,
          1098,
          1026,
          null,
          1098,
          1026,
          null,
          1098,
          1026,
          null,
          1026,
          954,
          null,
          1026,
          954,
          null,
          954,
          882,
          null,
          882,
          810,
          null,
          810,
          738,
          null,
          738,
          666,
          null,
          738,
          666,
          null,
          666,
          594,
          null,
          666,
          594,
          null,
          594,
          522,
          null,
          594,
          522,
          null,
          594,
          522,
          null,
          522,
          450,
          null,
          522,
          450,
          null,
          450,
          378,
          null,
          450,
          378,
          null,
          378,
          306,
          null,
          306,
          234,
          null,
          234,
          162,
          null,
          378,
          306,
          null,
          306,
          234,
          null,
          234,
          162,
          null,
          162,
          90,
          null,
          90,
          18,
          null,
          522,
          450,
          null,
          450,
          378,
          null,
          378,
          306,
          null,
          954,
          882,
          null,
          882,
          810,
          null,
          810,
          738,
          null,
          738,
          666,
          null,
          666,
          594,
          null,
          594,
          522,
          null,
          522,
          450,
          null,
          450,
          378,
          null,
          450,
          378,
          null,
          378,
          306,
          null,
          378,
          306,
          null,
          306,
          234,
          null,
          306,
          234,
          null,
          234,
          162,
          null,
          162,
          90,
          null,
          90,
          18,
          null,
          1026,
          954,
          null,
          954,
          882,
          null,
          882,
          810,
          null,
          810,
          738,
          null,
          738,
          666,
          null,
          666,
          594,
          null,
          594,
          522,
          null,
          522,
          450,
          null,
          450,
          378,
          null,
          378,
          306,
          null,
          306,
          234,
          null,
          234,
          162,
          null,
          1026,
          954,
          null,
          954,
          882,
          null,
          882,
          810,
          null,
          810,
          738,
          null,
          738,
          666,
          null,
          666,
          594,
          null,
          594,
          522,
          null,
          522,
          450,
          null,
          450,
          378,
          null,
          378,
          306,
          null
         ]
        },
        {
         "hoverinfo": "none",
         "marker": {
          "color": "rgb(100,100,100)",
          "line": {
           "color": "rgb(100,100,100)",
           "width": 1
          },
          "size": 18
         },
         "mode": "markers+text",
         "name": "",
         "text": [
          null
         ],
         "type": "scatter",
         "uid": "e6291df8-6d3a-40f3-b326-c94ac1c34d28",
         "x": [
          1822.5
         ],
         "y": [
          1314
         ]
        },
        {
         "hoverinfo": "none",
         "marker": {
          "color": "rgb(101,214,67)",
          "line": {
           "color": "rgb(100,100,100)",
           "width": 1
          },
          "size": 18
         },
         "mode": "markers+text",
         "name": "",
         "text": [
          "dynamic",
          "dynamic",
          "dynamic",
          "dynamic"
         ],
         "type": "scatter",
         "uid": "e4a3a17e-4907-424b-9d0e-37d3e80af0ed",
         "x": [
          988.49,
          1159.5,
          1822.5,
          2158.5
         ],
         "y": [
          810,
          234,
          738,
          738
         ]
        },
        {
         "hoverinfo": "none",
         "marker": {
          "color": "rgb(247,185,43)",
          "line": {
           "color": "rgb(100,100,100)",
           "width": 1
          },
          "size": 18
         },
         "mode": "markers+text",
         "name": "",
         "text": [
          "/",
          "/",
          "/",
          "/",
          "/",
          "/",
          "/",
          "/"
         ],
         "type": "scatter",
         "uid": "bd89e6dd-4a69-4338-86a6-082ab5220985",
         "x": [
          1822.5,
          990.49,
          825.49,
          1159.5,
          1822.5,
          1822.5,
          2158.5,
          2158.5
         ],
         "y": [
          1242,
          882,
          738,
          306,
          810,
          666,
          810,
          666
         ]
        },
        {
         "hoverinfo": "none",
         "marker": {
          "color": "rgb(24,140,216)",
          "line": {
           "color": "rgb(100,100,100)",
           "width": 1
          },
          "size": 18
         },
         "mode": "markers+text",
         "name": "",
         "text": [
          "a",
          "u",
          "p",
          "p",
          "c",
          "s",
          "o",
          "p",
          "h",
          "s",
          "a",
          "e",
          "c",
          "v",
          "c",
          "t",
          "o",
          "i",
          "u",
          "n",
          "t",
          "s",
          "v",
          "i",
          "t",
          "i",
          "e",
          "s",
          "e",
          "n",
          "t",
          "s",
          "i",
          "e",
          "v",
          "e",
          "m",
          "e",
          "n",
          "t",
          "s",
          "-",
          "t",
          "y",
          "p",
          "e",
          "s",
          "e",
          "r",
          "s",
          "f",
          "r",
          "i",
          "e",
          "n",
          "d",
          "s",
          "s",
          "t",
          "s",
          "l",
          "i",
          "k",
          "e",
          "s"
         ],
         "type": "scatter",
         "uid": "7edd4fbd-d430-48ec-9647-059db4d3584a",
         "x": [
          1323.5,
          1822.5,
          2155.5,
          992.49,
          1323.5,
          1822.5,
          2157.5,
          992.49,
          1323.5,
          991.49,
          492.49,
          825.49,
          489.49,
          825.49,
          159.49,
          489.49,
          157.49,
          489.49,
          156.49,
          156.49,
          156.49,
          156.49,
          489.49,
          489.49,
          490.49,
          490.49,
          490.49,
          490.49,
          825.49,
          825.49,
          825.49,
          825.49,
          1323.5,
          1323.5,
          1323.5,
          1323.5,
          1323.5,
          1323.5,
          1323.5,
          1323.5,
          1159.5,
          1490.5,
          1491.5,
          1491.5,
          1490.5,
          1490.5,
          1490.5,
          1822.5,
          1822.5,
          1822.5,
          1823.5,
          1823.5,
          1823.5,
          1823.5,
          1824.5,
          1824.5,
          1824.5,
          2158.5,
          2158.5,
          2158.5,
          2158.5,
          2158.5,
          2158.5,
          2158.5,
          2158.5
         ],
         "y": [
          1170,
          1170,
          1170,
          1098,
          1098,
          1098,
          1098,
          1026,
          1026,
          954,
          666,
          666,
          594,
          594,
          522,
          522,
          450,
          450,
          378,
          306,
          234,
          162,
          378,
          306,
          234,
          162,
          90,
          18,
          522,
          450,
          378,
          306,
          954,
          882,
          810,
          738,
          666,
          594,
          522,
          450,
          378,
          378,
          306,
          234,
          162,
          90,
          18,
          1026,
          954,
          882,
          594,
          522,
          450,
          378,
          306,
          234,
          162,
          1026,
          954,
          882,
          594,
          522,
          450,
          378,
          306
         ]
        }
       ],
       "layout": {
        "font": {
         "size": 15
        },
        "height": 800,
        "hovermode": "closest",
        "margin": {
         "b": 85,
         "l": 40,
         "r": 40,
         "t": 100
        },
        "plot_bgcolor": "rgb(248,248,248)",
        "showlegend": false,
        "template": {
         "data": {
          "bar": [
           {
            "error_x": {
             "color": "#2a3f5f"
            },
            "error_y": {
             "color": "#2a3f5f"
            },
            "marker": {
             "line": {
              "color": "#E5ECF6",
              "width": 0.5
             }
            },
            "type": "bar"
           }
          ],
          "barpolar": [
           {
            "marker": {
             "line": {
              "color": "#E5ECF6",
              "width": 0.5
             }
            },
            "type": "barpolar"
           }
          ],
          "carpet": [
           {
            "aaxis": {
             "endlinecolor": "#2a3f5f",
             "gridcolor": "white",
             "linecolor": "white",
             "minorgridcolor": "white",
             "startlinecolor": "#2a3f5f"
            },
            "baxis": {
             "endlinecolor": "#2a3f5f",
             "gridcolor": "white",
             "linecolor": "white",
             "minorgridcolor": "white",
             "startlinecolor": "#2a3f5f"
            },
            "type": "carpet"
           }
          ],
          "choropleth": [
           {
            "colorbar": {
             "outlinewidth": 0,
             "ticks": ""
            },
            "type": "choropleth"
           }
          ],
          "contour": [
           {
            "colorbar": {
             "outlinewidth": 0,
             "ticks": ""
            },
            "colorscale": [
             [
              0,
              "#0d0887"
             ],
             [
              0.1111111111111111,
              "#46039f"
             ],
             [
              0.2222222222222222,
              "#7201a8"
             ],
             [
              0.3333333333333333,
              "#9c179e"
             ],
             [
              0.4444444444444444,
              "#bd3786"
             ],
             [
              0.5555555555555556,
              "#d8576b"
             ],
             [
              0.6666666666666666,
              "#ed7953"
             ],
             [
              0.7777777777777778,
              "#fb9f3a"
             ],
             [
              0.8888888888888888,
              "#fdca26"
             ],
             [
              1,
              "#f0f921"
             ]
            ],
            "type": "contour"
           }
          ],
          "contourcarpet": [
           {
            "colorbar": {
             "outlinewidth": 0,
             "ticks": ""
            },
            "type": "contourcarpet"
           }
          ],
          "heatmap": [
           {
            "colorbar": {
             "outlinewidth": 0,
             "ticks": ""
            },
            "colorscale": [
             [
              0,
              "#0d0887"
             ],
             [
              0.1111111111111111,
              "#46039f"
             ],
             [
              0.2222222222222222,
              "#7201a8"
             ],
             [
              0.3333333333333333,
              "#9c179e"
             ],
             [
              0.4444444444444444,
              "#bd3786"
             ],
             [
              0.5555555555555556,
              "#d8576b"
             ],
             [
              0.6666666666666666,
              "#ed7953"
             ],
             [
              0.7777777777777778,
              "#fb9f3a"
             ],
             [
              0.8888888888888888,
              "#fdca26"
             ],
             [
              1,
              "#f0f921"
             ]
            ],
            "type": "heatmap"
           }
          ],
          "heatmapgl": [
           {
            "colorbar": {
             "outlinewidth": 0,
             "ticks": ""
            },
            "colorscale": [
             [
              0,
              "#0d0887"
             ],
             [
              0.1111111111111111,
              "#46039f"
             ],
             [
              0.2222222222222222,
              "#7201a8"
             ],
             [
              0.3333333333333333,
              "#9c179e"
             ],
             [
              0.4444444444444444,
              "#bd3786"
             ],
             [
              0.5555555555555556,
              "#d8576b"
             ],
             [
              0.6666666666666666,
              "#ed7953"
             ],
             [
              0.7777777777777778,
              "#fb9f3a"
             ],
             [
              0.8888888888888888,
              "#fdca26"
             ],
             [
              1,
              "#f0f921"
             ]
            ],
            "type": "heatmapgl"
           }
          ],
          "histogram": [
           {
            "marker": {
             "colorbar": {
              "outlinewidth": 0,
              "ticks": ""
             }
            },
            "type": "histogram"
           }
          ],
          "histogram2d": [
           {
            "colorbar": {
             "outlinewidth": 0,
             "ticks": ""
            },
            "colorscale": [
             [
              0,
              "#0d0887"
             ],
             [
              0.1111111111111111,
              "#46039f"
             ],
             [
              0.2222222222222222,
              "#7201a8"
             ],
             [
              0.3333333333333333,
              "#9c179e"
             ],
             [
              0.4444444444444444,
              "#bd3786"
             ],
             [
              0.5555555555555556,
              "#d8576b"
             ],
             [
              0.6666666666666666,
              "#ed7953"
             ],
             [
              0.7777777777777778,
              "#fb9f3a"
             ],
             [
              0.8888888888888888,
              "#fdca26"
             ],
             [
              1,
              "#f0f921"
             ]
            ],
            "type": "histogram2d"
           }
          ],
          "histogram2dcontour": [
           {
            "colorbar": {
             "outlinewidth": 0,
             "ticks": ""
            },
            "colorscale": [
             [
              0,
              "#0d0887"
             ],
             [
              0.1111111111111111,
              "#46039f"
             ],
             [
              0.2222222222222222,
              "#7201a8"
             ],
             [
              0.3333333333333333,
              "#9c179e"
             ],
             [
              0.4444444444444444,
              "#bd3786"
             ],
             [
              0.5555555555555556,
              "#d8576b"
             ],
             [
              0.6666666666666666,
              "#ed7953"
             ],
             [
              0.7777777777777778,
              "#fb9f3a"
             ],
             [
              0.8888888888888888,
              "#fdca26"
             ],
             [
              1,
              "#f0f921"
             ]
            ],
            "type": "histogram2dcontour"
           }
          ],
          "mesh3d": [
           {
            "colorbar": {
             "outlinewidth": 0,
             "ticks": ""
            },
            "type": "mesh3d"
           }
          ],
          "parcoords": [
           {
            "line": {
             "colorbar": {
              "outlinewidth": 0,
              "ticks": ""
             }
            },
            "type": "parcoords"
           }
          ],
          "scatter": [
           {
            "marker": {
             "colorbar": {
              "outlinewidth": 0,
              "ticks": ""
             }
            },
            "type": "scatter"
           }
          ],
          "scatter3d": [
           {
            "line": {
             "colorbar": {
              "outlinewidth": 0,
              "ticks": ""
             }
            },
            "marker": {
             "colorbar": {
              "outlinewidth": 0,
              "ticks": ""
             }
            },
            "type": "scatter3d"
           }
          ],
          "scattercarpet": [
           {
            "marker": {
             "colorbar": {
              "outlinewidth": 0,
              "ticks": ""
             }
            },
            "type": "scattercarpet"
           }
          ],
          "scattergeo": [
           {
            "marker": {
             "colorbar": {
              "outlinewidth": 0,
              "ticks": ""
             }
            },
            "type": "scattergeo"
           }
          ],
          "scattergl": [
           {
            "marker": {
             "colorbar": {
              "outlinewidth": 0,
              "ticks": ""
             }
            },
            "type": "scattergl"
           }
          ],
          "scattermapbox": [
           {
            "marker": {
             "colorbar": {
              "outlinewidth": 0,
              "ticks": ""
             }
            },
            "type": "scattermapbox"
           }
          ],
          "scatterpolar": [
           {
            "marker": {
             "colorbar": {
              "outlinewidth": 0,
              "ticks": ""
             }
            },
            "type": "scatterpolar"
           }
          ],
          "scatterpolargl": [
           {
            "marker": {
             "colorbar": {
              "outlinewidth": 0,
              "ticks": ""
             }
            },
            "type": "scatterpolargl"
           }
          ],
          "scatterternary": [
           {
            "marker": {
             "colorbar": {
              "outlinewidth": 0,
              "ticks": ""
             }
            },
            "type": "scatterternary"
           }
          ],
          "surface": [
           {
            "colorbar": {
             "outlinewidth": 0,
             "ticks": ""
            },
            "colorscale": [
             [
              0,
              "#0d0887"
             ],
             [
              0.1111111111111111,
              "#46039f"
             ],
             [
              0.2222222222222222,
              "#7201a8"
             ],
             [
              0.3333333333333333,
              "#9c179e"
             ],
             [
              0.4444444444444444,
              "#bd3786"
             ],
             [
              0.5555555555555556,
              "#d8576b"
             ],
             [
              0.6666666666666666,
              "#ed7953"
             ],
             [
              0.7777777777777778,
              "#fb9f3a"
             ],
             [
              0.8888888888888888,
              "#fdca26"
             ],
             [
              1,
              "#f0f921"
             ]
            ],
            "type": "surface"
           }
          ],
          "table": [
           {
            "cells": {
             "fill": {
              "color": "#EBF0F8"
             },
             "line": {
              "color": "white"
             }
            },
            "header": {
             "fill": {
              "color": "#C8D4E3"
             },
             "line": {
              "color": "white"
             }
            },
            "type": "table"
           }
          ]
         },
         "layout": {
          "annotationdefaults": {
           "arrowcolor": "#2a3f5f",
           "arrowhead": 0,
           "arrowwidth": 1
          },
          "colorscale": {
           "diverging": [
            [
             0,
             "#8e0152"
            ],
            [
             0.1,
             "#c51b7d"
            ],
            [
             0.2,
             "#de77ae"
            ],
            [
             0.3,
             "#f1b6da"
            ],
            [
             0.4,
             "#fde0ef"
            ],
            [
             0.5,
             "#f7f7f7"
            ],
            [
             0.6,
             "#e6f5d0"
            ],
            [
             0.7,
             "#b8e186"
            ],
            [
             0.8,
             "#7fbc41"
            ],
            [
             0.9,
             "#4d9221"
            ],
            [
             1,
             "#276419"
            ]
           ],
           "sequential": [
            [
             0,
             "#0d0887"
            ],
            [
             0.1111111111111111,
             "#46039f"
            ],
            [
             0.2222222222222222,
             "#7201a8"
            ],
            [
             0.3333333333333333,
             "#9c179e"
            ],
            [
             0.4444444444444444,
             "#bd3786"
            ],
            [
             0.5555555555555556,
             "#d8576b"
            ],
            [
             0.6666666666666666,
             "#ed7953"
            ],
            [
             0.7777777777777778,
             "#fb9f3a"
            ],
            [
             0.8888888888888888,
             "#fdca26"
            ],
            [
             1,
             "#f0f921"
            ]
           ],
           "sequentialminus": [
            [
             0,
             "#0d0887"
            ],
            [
             0.1111111111111111,
             "#46039f"
            ],
            [
             0.2222222222222222,
             "#7201a8"
            ],
            [
             0.3333333333333333,
             "#9c179e"
            ],
            [
             0.4444444444444444,
             "#bd3786"
            ],
            [
             0.5555555555555556,
             "#d8576b"
            ],
            [
             0.6666666666666666,
             "#ed7953"
            ],
            [
             0.7777777777777778,
             "#fb9f3a"
            ],
            [
             0.8888888888888888,
             "#fdca26"
            ],
            [
             1,
             "#f0f921"
            ]
           ]
          },
          "colorway": [
           "#636efa",
           "#EF553B",
           "#00cc96",
           "#ab63fa",
           "#FFA15A",
           "#19d3f3",
           "#FF6692",
           "#B6E880",
           "#FF97FF",
           "#FECB52"
          ],
          "font": {
           "color": "#2a3f5f"
          },
          "geo": {
           "bgcolor": "white",
           "lakecolor": "white",
           "landcolor": "#E5ECF6",
           "showlakes": true,
           "showland": true,
           "subunitcolor": "white"
          },
          "hoverlabel": {
           "align": "left"
          },
          "hovermode": "closest",
          "mapbox": {
           "style": "light"
          },
          "paper_bgcolor": "white",
          "plot_bgcolor": "#E5ECF6",
          "polar": {
           "angularaxis": {
            "gridcolor": "white",
            "linecolor": "white",
            "ticks": ""
           },
           "bgcolor": "#E5ECF6",
           "radialaxis": {
            "gridcolor": "white",
            "linecolor": "white",
            "ticks": ""
           }
          },
          "scene": {
           "xaxis": {
            "backgroundcolor": "#E5ECF6",
            "gridcolor": "white",
            "gridwidth": 2,
            "linecolor": "white",
            "showbackground": true,
            "ticks": "",
            "zerolinecolor": "white"
           },
           "yaxis": {
            "backgroundcolor": "#E5ECF6",
            "gridcolor": "white",
            "gridwidth": 2,
            "linecolor": "white",
            "showbackground": true,
            "ticks": "",
            "zerolinecolor": "white"
           },
           "zaxis": {
            "backgroundcolor": "#E5ECF6",
            "gridcolor": "white",
            "gridwidth": 2,
            "linecolor": "white",
            "showbackground": true,
            "ticks": "",
            "zerolinecolor": "white"
           }
          },
          "shapedefaults": {
           "line": {
            "color": "#2a3f5f"
           }
          },
          "ternary": {
           "aaxis": {
            "gridcolor": "white",
            "linecolor": "white",
            "ticks": ""
           },
           "baxis": {
            "gridcolor": "white",
            "linecolor": "white",
            "ticks": ""
           },
           "bgcolor": "#E5ECF6",
           "caxis": {
            "gridcolor": "white",
            "linecolor": "white",
            "ticks": ""
           }
          },
          "title": {
           "x": 0.05
          },
          "xaxis": {
           "automargin": true,
           "gridcolor": "white",
           "linecolor": "white",
           "ticks": "",
           "zerolinecolor": "white",
           "zerolinewidth": 2
          },
          "yaxis": {
           "automargin": true,
           "gridcolor": "white",
           "linecolor": "white",
           "ticks": "",
           "zerolinecolor": "white",
           "zerolinewidth": 2
          }
         }
        },
        "title": {
         "text": "Trie"
        },
        "width": 1000,
        "xaxis": {
         "showgrid": false,
         "showline": false,
         "showticklabels": false,
         "zeroline": false
        },
        "yaxis": {
         "showgrid": false,
         "showline": false,
         "showticklabels": false,
         "zeroline": false
        }
       }
      },
      "text/html": [
       "<div>\n",
       "        \n",
       "        \n",
       "            <div id=\"33d7a818-93a0-4de6-a148-533fd1de9863\" class=\"plotly-graph-div\" style=\"height:800px; width:1000px;\"></div>\n",
       "            <script type=\"text/javascript\">\n",
       "                require([\"plotly\"], function(Plotly) {\n",
       "                    window.PLOTLYENV=window.PLOTLYENV || {};\n",
       "                    \n",
       "                if (document.getElementById(\"33d7a818-93a0-4de6-a148-533fd1de9863\")) {\n",
       "                    Plotly.newPlot(\n",
       "                        '33d7a818-93a0-4de6-a148-533fd1de9863',\n",
       "                        [{\"hoverinfo\": \"none\", \"line\": {\"color\": \"rgb(160,160,160)\", \"width\": 2}, \"mode\": \"lines\", \"type\": \"scatter\", \"uid\": \"29eda227-beaf-4647-b448-632937ffaba0\", \"x\": [1822.5, 1822.5, null, 1822.5, 1323.5, null, 1822.5, 1822.5, null, 1822.5, 2155.5, null, 1323.5, 992.49, null, 1323.5, 1323.5, null, 1822.5, 1822.5, null, 2155.5, 2157.5, null, 992.49, 992.49, null, 1323.5, 1323.5, null, 1822.5, 1822.5, null, 2157.5, 2158.5, null, 992.49, 991.49, null, 1323.5, 1323.5, null, 991.49, 990.49, null, 990.49, 988.49, null, 988.49, 825.49, null, 825.49, 492.49, null, 825.49, 825.49, null, 492.49, 489.49, null, 825.49, 825.49, null, 489.49, 159.49, null, 489.49, 489.49, null, 825.49, 825.49, null, 159.49, 157.49, null, 489.49, 489.49, null, 157.49, 156.49, null, 489.49, 489.49, null, 156.49, 156.49, null, 156.49, 156.49, null, 156.49, 156.49, null, 489.49, 489.49, null, 489.49, 490.49, null, 490.49, 490.49, null, 490.49, 490.49, null, 490.49, 490.49, null, 825.49, 825.49, null, 825.49, 825.49, null, 825.49, 825.49, null, 1323.5, 1323.5, null, 1323.5, 1323.5, null, 1323.5, 1323.5, null, 1323.5, 1323.5, null, 1323.5, 1323.5, null, 1323.5, 1323.5, null, 1323.5, 1323.5, null, 1323.5, 1159.5, null, 1323.5, 1490.5, null, 1159.5, 1159.5, null, 1490.5, 1491.5, null, 1159.5, 1159.5, null, 1491.5, 1491.5, null, 1491.5, 1490.5, null, 1490.5, 1490.5, null, 1490.5, 1490.5, null, 1822.5, 1822.5, null, 1822.5, 1822.5, null, 1822.5, 1822.5, null, 1822.5, 1822.5, null, 1822.5, 1822.5, null, 1822.5, 1823.5, null, 1823.5, 1823.5, null, 1823.5, 1823.5, null, 1823.5, 1823.5, null, 1823.5, 1824.5, null, 1824.5, 1824.5, null, 1824.5, 1824.5, null, 2158.5, 2158.5, null, 2158.5, 2158.5, null, 2158.5, 2158.5, null, 2158.5, 2158.5, null, 2158.5, 2158.5, null, 2158.5, 2158.5, null, 2158.5, 2158.5, null, 2158.5, 2158.5, null, 2158.5, 2158.5, null, 2158.5, 2158.5, null], \"y\": [1314.0, 1242.0, null, 1242.0, 1170.0, null, 1242.0, 1170.0, null, 1242.0, 1170.0, null, 1170.0, 1098.0, null, 1170.0, 1098.0, null, 1170.0, 1098.0, null, 1170.0, 1098.0, null, 1098.0, 1026.0, null, 1098.0, 1026.0, null, 1098.0, 1026.0, null, 1098.0, 1026.0, null, 1026.0, 954.0, null, 1026.0, 954.0, null, 954.0, 882.0, null, 882.0, 810.0, null, 810.0, 738.0, null, 738.0, 666.0, null, 738.0, 666.0, null, 666.0, 594.0, null, 666.0, 594.0, null, 594.0, 522.0, null, 594.0, 522.0, null, 594.0, 522.0, null, 522.0, 450.0, null, 522.0, 450.0, null, 450.0, 378.0, null, 450.0, 378.0, null, 378.0, 306.0, null, 306.0, 234.0, null, 234.0, 162.0, null, 378.0, 306.0, null, 306.0, 234.0, null, 234.0, 162.0, null, 162.0, 90.0, null, 90.0, 18.0, null, 522.0, 450.0, null, 450.0, 378.0, null, 378.0, 306.0, null, 954.0, 882.0, null, 882.0, 810.0, null, 810.0, 738.0, null, 738.0, 666.0, null, 666.0, 594.0, null, 594.0, 522.0, null, 522.0, 450.0, null, 450.0, 378.0, null, 450.0, 378.0, null, 378.0, 306.0, null, 378.0, 306.0, null, 306.0, 234.0, null, 306.0, 234.0, null, 234.0, 162.0, null, 162.0, 90.0, null, 90.0, 18.0, null, 1026.0, 954.0, null, 954.0, 882.0, null, 882.0, 810.0, null, 810.0, 738.0, null, 738.0, 666.0, null, 666.0, 594.0, null, 594.0, 522.0, null, 522.0, 450.0, null, 450.0, 378.0, null, 378.0, 306.0, null, 306.0, 234.0, null, 234.0, 162.0, null, 1026.0, 954.0, null, 954.0, 882.0, null, 882.0, 810.0, null, 810.0, 738.0, null, 738.0, 666.0, null, 666.0, 594.0, null, 594.0, 522.0, null, 522.0, 450.0, null, 450.0, 378.0, null, 378.0, 306.0, null]}, {\"hoverinfo\": \"none\", \"marker\": {\"color\": \"rgb(100,100,100)\", \"line\": {\"color\": \"rgb(100,100,100)\", \"width\": 1}, \"size\": 18}, \"mode\": \"markers+text\", \"name\": \"\", \"text\": [null], \"type\": \"scatter\", \"uid\": \"e6291df8-6d3a-40f3-b326-c94ac1c34d28\", \"x\": [1822.5], \"y\": [1314.0]}, {\"hoverinfo\": \"none\", \"marker\": {\"color\": \"rgb(101,214,67)\", \"line\": {\"color\": \"rgb(100,100,100)\", \"width\": 1}, \"size\": 18}, \"mode\": \"markers+text\", \"name\": \"\", \"text\": [\"dynamic\", \"dynamic\", \"dynamic\", \"dynamic\"], \"type\": \"scatter\", \"uid\": \"e4a3a17e-4907-424b-9d0e-37d3e80af0ed\", \"x\": [988.49, 1159.5, 1822.5, 2158.5], \"y\": [810.0, 234.0, 738.0, 738.0]}, {\"hoverinfo\": \"none\", \"marker\": {\"color\": \"rgb(247,185,43)\", \"line\": {\"color\": \"rgb(100,100,100)\", \"width\": 1}, \"size\": 18}, \"mode\": \"markers+text\", \"name\": \"\", \"text\": [\"/\", \"/\", \"/\", \"/\", \"/\", \"/\", \"/\", \"/\"], \"type\": \"scatter\", \"uid\": \"bd89e6dd-4a69-4338-86a6-082ab5220985\", \"x\": [1822.5, 990.49, 825.49, 1159.5, 1822.5, 1822.5, 2158.5, 2158.5], \"y\": [1242.0, 882.0, 738.0, 306.0, 810.0, 666.0, 810.0, 666.0]}, {\"hoverinfo\": \"none\", \"marker\": {\"color\": \"rgb(24,140,216)\", \"line\": {\"color\": \"rgb(100,100,100)\", \"width\": 1}, \"size\": 18}, \"mode\": \"markers+text\", \"name\": \"\", \"text\": [\"a\", \"u\", \"p\", \"p\", \"c\", \"s\", \"o\", \"p\", \"h\", \"s\", \"a\", \"e\", \"c\", \"v\", \"c\", \"t\", \"o\", \"i\", \"u\", \"n\", \"t\", \"s\", \"v\", \"i\", \"t\", \"i\", \"e\", \"s\", \"e\", \"n\", \"t\", \"s\", \"i\", \"e\", \"v\", \"e\", \"m\", \"e\", \"n\", \"t\", \"s\", \"-\", \"t\", \"y\", \"p\", \"e\", \"s\", \"e\", \"r\", \"s\", \"f\", \"r\", \"i\", \"e\", \"n\", \"d\", \"s\", \"s\", \"t\", \"s\", \"l\", \"i\", \"k\", \"e\", \"s\"], \"type\": \"scatter\", \"uid\": \"7edd4fbd-d430-48ec-9647-059db4d3584a\", \"x\": [1323.5, 1822.5, 2155.5, 992.49, 1323.5, 1822.5, 2157.5, 992.49, 1323.5, 991.49, 492.49, 825.49, 489.49, 825.49, 159.49, 489.49, 157.49, 489.49, 156.49, 156.49, 156.49, 156.49, 489.49, 489.49, 490.49, 490.49, 490.49, 490.49, 825.49, 825.49, 825.49, 825.49, 1323.5, 1323.5, 1323.5, 1323.5, 1323.5, 1323.5, 1323.5, 1323.5, 1159.5, 1490.5, 1491.5, 1491.5, 1490.5, 1490.5, 1490.5, 1822.5, 1822.5, 1822.5, 1823.5, 1823.5, 1823.5, 1823.5, 1824.5, 1824.5, 1824.5, 2158.5, 2158.5, 2158.5, 2158.5, 2158.5, 2158.5, 2158.5, 2158.5], \"y\": [1170.0, 1170.0, 1170.0, 1098.0, 1098.0, 1098.0, 1098.0, 1026.0, 1026.0, 954.0, 666.0, 666.0, 594.0, 594.0, 522.0, 522.0, 450.0, 450.0, 378.0, 306.0, 234.0, 162.0, 378.0, 306.0, 234.0, 162.0, 90.0, 18.0, 522.0, 450.0, 378.0, 306.0, 954.0, 882.0, 810.0, 738.0, 666.0, 594.0, 522.0, 450.0, 378.0, 378.0, 306.0, 234.0, 162.0, 90.0, 18.0, 1026.0, 954.0, 882.0, 594.0, 522.0, 450.0, 378.0, 306.0, 234.0, 162.0, 1026.0, 954.0, 882.0, 594.0, 522.0, 450.0, 378.0, 306.0]}],\n",
       "                        {\"font\": {\"size\": 15}, \"height\": 800, \"hovermode\": \"closest\", \"margin\": {\"b\": 85, \"l\": 40, \"r\": 40, \"t\": 100}, \"plot_bgcolor\": \"rgb(248,248,248)\", \"showlegend\": false, \"template\": {\"data\": {\"bar\": [{\"error_x\": {\"color\": \"#2a3f5f\"}, \"error_y\": {\"color\": \"#2a3f5f\"}, \"marker\": {\"line\": {\"color\": \"#E5ECF6\", \"width\": 0.5}}, \"type\": \"bar\"}], \"barpolar\": [{\"marker\": {\"line\": {\"color\": \"#E5ECF6\", \"width\": 0.5}}, \"type\": \"barpolar\"}], \"carpet\": [{\"aaxis\": {\"endlinecolor\": \"#2a3f5f\", \"gridcolor\": \"white\", \"linecolor\": \"white\", \"minorgridcolor\": \"white\", \"startlinecolor\": \"#2a3f5f\"}, \"baxis\": {\"endlinecolor\": \"#2a3f5f\", \"gridcolor\": \"white\", \"linecolor\": \"white\", \"minorgridcolor\": \"white\", \"startlinecolor\": \"#2a3f5f\"}, \"type\": \"carpet\"}], \"choropleth\": [{\"colorbar\": {\"outlinewidth\": 0, \"ticks\": \"\"}, \"type\": \"choropleth\"}], \"contour\": [{\"colorbar\": {\"outlinewidth\": 0, \"ticks\": \"\"}, \"colorscale\": [[0.0, \"#0d0887\"], [0.1111111111111111, \"#46039f\"], [0.2222222222222222, \"#7201a8\"], [0.3333333333333333, \"#9c179e\"], [0.4444444444444444, \"#bd3786\"], [0.5555555555555556, \"#d8576b\"], [0.6666666666666666, \"#ed7953\"], [0.7777777777777778, \"#fb9f3a\"], [0.8888888888888888, \"#fdca26\"], [1.0, \"#f0f921\"]], \"type\": \"contour\"}], \"contourcarpet\": [{\"colorbar\": {\"outlinewidth\": 0, \"ticks\": \"\"}, \"type\": \"contourcarpet\"}], \"heatmap\": [{\"colorbar\": {\"outlinewidth\": 0, \"ticks\": \"\"}, \"colorscale\": [[0.0, \"#0d0887\"], [0.1111111111111111, \"#46039f\"], [0.2222222222222222, \"#7201a8\"], [0.3333333333333333, \"#9c179e\"], [0.4444444444444444, \"#bd3786\"], [0.5555555555555556, \"#d8576b\"], [0.6666666666666666, \"#ed7953\"], [0.7777777777777778, \"#fb9f3a\"], [0.8888888888888888, \"#fdca26\"], [1.0, \"#f0f921\"]], \"type\": \"heatmap\"}], \"heatmapgl\": [{\"colorbar\": {\"outlinewidth\": 0, \"ticks\": \"\"}, \"colorscale\": [[0.0, \"#0d0887\"], [0.1111111111111111, \"#46039f\"], [0.2222222222222222, \"#7201a8\"], [0.3333333333333333, \"#9c179e\"], [0.4444444444444444, \"#bd3786\"], [0.5555555555555556, \"#d8576b\"], [0.6666666666666666, \"#ed7953\"], [0.7777777777777778, \"#fb9f3a\"], [0.8888888888888888, \"#fdca26\"], [1.0, \"#f0f921\"]], \"type\": \"heatmapgl\"}], \"histogram\": [{\"marker\": {\"colorbar\": {\"outlinewidth\": 0, \"ticks\": \"\"}}, \"type\": \"histogram\"}], \"histogram2d\": [{\"colorbar\": {\"outlinewidth\": 0, \"ticks\": \"\"}, \"colorscale\": [[0.0, \"#0d0887\"], [0.1111111111111111, \"#46039f\"], [0.2222222222222222, \"#7201a8\"], [0.3333333333333333, \"#9c179e\"], [0.4444444444444444, \"#bd3786\"], [0.5555555555555556, \"#d8576b\"], [0.6666666666666666, \"#ed7953\"], [0.7777777777777778, \"#fb9f3a\"], [0.8888888888888888, \"#fdca26\"], [1.0, \"#f0f921\"]], \"type\": \"histogram2d\"}], \"histogram2dcontour\": [{\"colorbar\": {\"outlinewidth\": 0, \"ticks\": \"\"}, \"colorscale\": [[0.0, \"#0d0887\"], [0.1111111111111111, \"#46039f\"], [0.2222222222222222, \"#7201a8\"], [0.3333333333333333, \"#9c179e\"], [0.4444444444444444, \"#bd3786\"], [0.5555555555555556, \"#d8576b\"], [0.6666666666666666, \"#ed7953\"], [0.7777777777777778, \"#fb9f3a\"], [0.8888888888888888, \"#fdca26\"], [1.0, \"#f0f921\"]], \"type\": \"histogram2dcontour\"}], \"mesh3d\": [{\"colorbar\": {\"outlinewidth\": 0, \"ticks\": \"\"}, \"type\": \"mesh3d\"}], \"parcoords\": [{\"line\": {\"colorbar\": {\"outlinewidth\": 0, \"ticks\": \"\"}}, \"type\": \"parcoords\"}], \"scatter\": [{\"marker\": {\"colorbar\": {\"outlinewidth\": 0, \"ticks\": \"\"}}, \"type\": \"scatter\"}], \"scatter3d\": [{\"line\": {\"colorbar\": {\"outlinewidth\": 0, \"ticks\": \"\"}}, \"marker\": {\"colorbar\": {\"outlinewidth\": 0, \"ticks\": \"\"}}, \"type\": \"scatter3d\"}], \"scattercarpet\": [{\"marker\": {\"colorbar\": {\"outlinewidth\": 0, \"ticks\": \"\"}}, \"type\": \"scattercarpet\"}], \"scattergeo\": [{\"marker\": {\"colorbar\": {\"outlinewidth\": 0, \"ticks\": \"\"}}, \"type\": \"scattergeo\"}], \"scattergl\": [{\"marker\": {\"colorbar\": {\"outlinewidth\": 0, \"ticks\": \"\"}}, \"type\": \"scattergl\"}], \"scattermapbox\": [{\"marker\": {\"colorbar\": {\"outlinewidth\": 0, \"ticks\": \"\"}}, \"type\": \"scattermapbox\"}], \"scatterpolar\": [{\"marker\": {\"colorbar\": {\"outlinewidth\": 0, \"ticks\": \"\"}}, \"type\": \"scatterpolar\"}], \"scatterpolargl\": [{\"marker\": {\"colorbar\": {\"outlinewidth\": 0, \"ticks\": \"\"}}, \"type\": \"scatterpolargl\"}], \"scatterternary\": [{\"marker\": {\"colorbar\": {\"outlinewidth\": 0, \"ticks\": \"\"}}, \"type\": \"scatterternary\"}], \"surface\": [{\"colorbar\": {\"outlinewidth\": 0, \"ticks\": \"\"}, \"colorscale\": [[0.0, \"#0d0887\"], [0.1111111111111111, \"#46039f\"], [0.2222222222222222, \"#7201a8\"], [0.3333333333333333, \"#9c179e\"], [0.4444444444444444, \"#bd3786\"], [0.5555555555555556, \"#d8576b\"], [0.6666666666666666, \"#ed7953\"], [0.7777777777777778, \"#fb9f3a\"], [0.8888888888888888, \"#fdca26\"], [1.0, \"#f0f921\"]], \"type\": \"surface\"}], \"table\": [{\"cells\": {\"fill\": {\"color\": \"#EBF0F8\"}, \"line\": {\"color\": \"white\"}}, \"header\": {\"fill\": {\"color\": \"#C8D4E3\"}, \"line\": {\"color\": \"white\"}}, \"type\": \"table\"}]}, \"layout\": {\"annotationdefaults\": {\"arrowcolor\": \"#2a3f5f\", \"arrowhead\": 0, \"arrowwidth\": 1}, \"colorscale\": {\"diverging\": [[0, \"#8e0152\"], [0.1, \"#c51b7d\"], [0.2, \"#de77ae\"], [0.3, \"#f1b6da\"], [0.4, \"#fde0ef\"], [0.5, \"#f7f7f7\"], [0.6, \"#e6f5d0\"], [0.7, \"#b8e186\"], [0.8, \"#7fbc41\"], [0.9, \"#4d9221\"], [1, \"#276419\"]], \"sequential\": [[0.0, \"#0d0887\"], [0.1111111111111111, \"#46039f\"], [0.2222222222222222, \"#7201a8\"], [0.3333333333333333, \"#9c179e\"], [0.4444444444444444, \"#bd3786\"], [0.5555555555555556, \"#d8576b\"], [0.6666666666666666, \"#ed7953\"], [0.7777777777777778, \"#fb9f3a\"], [0.8888888888888888, \"#fdca26\"], [1.0, \"#f0f921\"]], \"sequentialminus\": [[0.0, \"#0d0887\"], [0.1111111111111111, \"#46039f\"], [0.2222222222222222, \"#7201a8\"], [0.3333333333333333, \"#9c179e\"], [0.4444444444444444, \"#bd3786\"], [0.5555555555555556, \"#d8576b\"], [0.6666666666666666, \"#ed7953\"], [0.7777777777777778, \"#fb9f3a\"], [0.8888888888888888, \"#fdca26\"], [1.0, \"#f0f921\"]]}, \"colorway\": [\"#636efa\", \"#EF553B\", \"#00cc96\", \"#ab63fa\", \"#FFA15A\", \"#19d3f3\", \"#FF6692\", \"#B6E880\", \"#FF97FF\", \"#FECB52\"], \"font\": {\"color\": \"#2a3f5f\"}, \"geo\": {\"bgcolor\": \"white\", \"lakecolor\": \"white\", \"landcolor\": \"#E5ECF6\", \"showlakes\": true, \"showland\": true, \"subunitcolor\": \"white\"}, \"hoverlabel\": {\"align\": \"left\"}, \"hovermode\": \"closest\", \"mapbox\": {\"style\": \"light\"}, \"paper_bgcolor\": \"white\", \"plot_bgcolor\": \"#E5ECF6\", \"polar\": {\"angularaxis\": {\"gridcolor\": \"white\", \"linecolor\": \"white\", \"ticks\": \"\"}, \"bgcolor\": \"#E5ECF6\", \"radialaxis\": {\"gridcolor\": \"white\", \"linecolor\": \"white\", \"ticks\": \"\"}}, \"scene\": {\"xaxis\": {\"backgroundcolor\": \"#E5ECF6\", \"gridcolor\": \"white\", \"gridwidth\": 2, \"linecolor\": \"white\", \"showbackground\": true, \"ticks\": \"\", \"zerolinecolor\": \"white\"}, \"yaxis\": {\"backgroundcolor\": \"#E5ECF6\", \"gridcolor\": \"white\", \"gridwidth\": 2, \"linecolor\": \"white\", \"showbackground\": true, \"ticks\": \"\", \"zerolinecolor\": \"white\"}, \"zaxis\": {\"backgroundcolor\": \"#E5ECF6\", \"gridcolor\": \"white\", \"gridwidth\": 2, \"linecolor\": \"white\", \"showbackground\": true, \"ticks\": \"\", \"zerolinecolor\": \"white\"}}, \"shapedefaults\": {\"line\": {\"color\": \"#2a3f5f\"}}, \"ternary\": {\"aaxis\": {\"gridcolor\": \"white\", \"linecolor\": \"white\", \"ticks\": \"\"}, \"baxis\": {\"gridcolor\": \"white\", \"linecolor\": \"white\", \"ticks\": \"\"}, \"bgcolor\": \"#E5ECF6\", \"caxis\": {\"gridcolor\": \"white\", \"linecolor\": \"white\", \"ticks\": \"\"}}, \"title\": {\"x\": 0.05}, \"xaxis\": {\"automargin\": true, \"gridcolor\": \"white\", \"linecolor\": \"white\", \"ticks\": \"\", \"zerolinecolor\": \"white\", \"zerolinewidth\": 2}, \"yaxis\": {\"automargin\": true, \"gridcolor\": \"white\", \"linecolor\": \"white\", \"ticks\": \"\", \"zerolinecolor\": \"white\", \"zerolinewidth\": 2}}}, \"title\": {\"text\": \"Trie\"}, \"width\": 1000, \"xaxis\": {\"showgrid\": false, \"showline\": false, \"showticklabels\": false, \"zeroline\": false}, \"yaxis\": {\"showgrid\": false, \"showline\": false, \"showticklabels\": false, \"zeroline\": false}},\n",
       "                        {\"responsive\": true}\n",
       "                    ).then(function(){\n",
       "                            \n",
       "var gd = document.getElementById('33d7a818-93a0-4de6-a148-533fd1de9863');\n",
       "var x = new MutationObserver(function (mutations, observer) {{\n",
       "        var display = window.getComputedStyle(gd).display;\n",
       "        if (!display || display === 'none') {{\n",
       "            console.log([gd, 'removed!']);\n",
       "            Plotly.purge(gd);\n",
       "            observer.disconnect();\n",
       "        }}\n",
       "}});\n",
       "\n",
       "// Listen for the removal of the full notebook cells\n",
       "var notebookContainer = gd.closest('#notebook-container');\n",
       "if (notebookContainer) {{\n",
       "    x.observe(notebookContainer, {childList: true});\n",
       "}}\n",
       "\n",
       "// Listen for the clearing of the current output cell\n",
       "var outputEl = gd.closest('.output');\n",
       "if (outputEl) {{\n",
       "    x.observe(outputEl, {childList: true});\n",
       "}}\n",
       "\n",
       "                        })\n",
       "                };\n",
       "                });\n",
       "            </script>\n",
       "        </div>"
      ]
     },
     "metadata": {},
     "output_type": "display_data"
    },
    {
     "data": {
      "application/vnd.plotly.v1+json": {
       "config": {
        "plotlyServerURL": "https://plot.ly"
       },
       "data": [
        {
         "hoverinfo": "none",
         "line": {
          "color": "rgb(160,160,160)",
          "width": 2
         },
         "mode": "lines",
         "type": "scatter",
         "uid": "481a8236-ea41-445f-9f5a-803ce6df5ddd",
         "x": [
          1822.5,
          1822.5,
          null,
          1822.5,
          1323.5,
          null,
          1822.5,
          1822.5,
          null,
          1822.5,
          2155.5,
          null,
          1323.5,
          992.49,
          null,
          1323.5,
          1323.5,
          null,
          1822.5,
          1822.5,
          null,
          2155.5,
          2157.5,
          null,
          992.49,
          992.49,
          null,
          1323.5,
          1323.5,
          null,
          1822.5,
          1822.5,
          null,
          2157.5,
          2158.5,
          null,
          992.49,
          991.49,
          null,
          1323.5,
          1323.5,
          null,
          991.49,
          990.49,
          null,
          990.49,
          988.49,
          null,
          988.49,
          825.49,
          null,
          825.49,
          492.49,
          null,
          825.49,
          825.49,
          null,
          492.49,
          489.49,
          null,
          825.49,
          825.49,
          null,
          489.49,
          159.49,
          null,
          489.49,
          489.49,
          null,
          825.49,
          825.49,
          null,
          159.49,
          157.49,
          null,
          489.49,
          489.49,
          null,
          157.49,
          156.49,
          null,
          489.49,
          489.49,
          null,
          156.49,
          156.49,
          null,
          156.49,
          156.49,
          null,
          156.49,
          156.49,
          null,
          489.49,
          489.49,
          null,
          489.49,
          490.49,
          null,
          490.49,
          490.49,
          null,
          490.49,
          490.49,
          null,
          490.49,
          490.49,
          null,
          825.49,
          825.49,
          null,
          825.49,
          825.49,
          null,
          825.49,
          825.49,
          null,
          1323.5,
          1323.5,
          null,
          1323.5,
          1323.5,
          null,
          1323.5,
          1323.5,
          null,
          1323.5,
          1323.5,
          null,
          1323.5,
          1323.5,
          null,
          1323.5,
          1323.5,
          null,
          1323.5,
          1323.5,
          null,
          1323.5,
          1159.5,
          null,
          1323.5,
          1490.5,
          null,
          1159.5,
          1159.5,
          null,
          1490.5,
          1491.5,
          null,
          1159.5,
          1159.5,
          null,
          1491.5,
          1491.5,
          null,
          1491.5,
          1490.5,
          null,
          1490.5,
          1490.5,
          null,
          1490.5,
          1490.5,
          null,
          1822.5,
          1822.5,
          null,
          1822.5,
          1822.5,
          null,
          1822.5,
          1822.5,
          null,
          1822.5,
          1822.5,
          null,
          1822.5,
          1822.5,
          null,
          1822.5,
          1823.5,
          null,
          1823.5,
          1823.5,
          null,
          1823.5,
          1823.5,
          null,
          1823.5,
          1823.5,
          null,
          1823.5,
          1824.5,
          null,
          1824.5,
          1824.5,
          null,
          1824.5,
          1824.5,
          null,
          2158.5,
          2158.5,
          null,
          2158.5,
          2158.5,
          null,
          2158.5,
          2158.5,
          null,
          2158.5,
          2158.5,
          null,
          2158.5,
          2158.5,
          null,
          2158.5,
          2158.5,
          null,
          2158.5,
          2158.5,
          null,
          2158.5,
          2158.5,
          null,
          2158.5,
          2158.5,
          null,
          2158.5,
          2158.5,
          null
         ],
         "y": [
          1314,
          1242,
          null,
          1242,
          1170,
          null,
          1242,
          1170,
          null,
          1242,
          1170,
          null,
          1170,
          1098,
          null,
          1170,
          1098,
          null,
          1170,
          1098,
          null,
          1170,
          1098,
          null,
          1098,
          1026,
          null,
          1098,
          1026,
          null,
          1098,
          1026,
          null,
          1098,
          1026,
          null,
          1026,
          954,
          null,
          1026,
          954,
          null,
          954,
          882,
          null,
          882,
          810,
          null,
          810,
          738,
          null,
          738,
          666,
          null,
          738,
          666,
          null,
          666,
          594,
          null,
          666,
          594,
          null,
          594,
          522,
          null,
          594,
          522,
          null,
          594,
          522,
          null,
          522,
          450,
          null,
          522,
          450,
          null,
          450,
          378,
          null,
          450,
          378,
          null,
          378,
          306,
          null,
          306,
          234,
          null,
          234,
          162,
          null,
          378,
          306,
          null,
          306,
          234,
          null,
          234,
          162,
          null,
          162,
          90,
          null,
          90,
          18,
          null,
          522,
          450,
          null,
          450,
          378,
          null,
          378,
          306,
          null,
          954,
          882,
          null,
          882,
          810,
          null,
          810,
          738,
          null,
          738,
          666,
          null,
          666,
          594,
          null,
          594,
          522,
          null,
          522,
          450,
          null,
          450,
          378,
          null,
          450,
          378,
          null,
          378,
          306,
          null,
          378,
          306,
          null,
          306,
          234,
          null,
          306,
          234,
          null,
          234,
          162,
          null,
          162,
          90,
          null,
          90,
          18,
          null,
          1026,
          954,
          null,
          954,
          882,
          null,
          882,
          810,
          null,
          810,
          738,
          null,
          738,
          666,
          null,
          666,
          594,
          null,
          594,
          522,
          null,
          522,
          450,
          null,
          450,
          378,
          null,
          378,
          306,
          null,
          306,
          234,
          null,
          234,
          162,
          null,
          1026,
          954,
          null,
          954,
          882,
          null,
          882,
          810,
          null,
          810,
          738,
          null,
          738,
          666,
          null,
          666,
          594,
          null,
          594,
          522,
          null,
          522,
          450,
          null,
          450,
          378,
          null,
          378,
          306,
          null
         ]
        },
        {
         "hoverinfo": "none",
         "marker": {
          "color": "rgb(100,100,100)",
          "line": {
           "color": "rgb(100,100,100)",
           "width": 1
          },
          "size": 18
         },
         "mode": "markers+text",
         "name": "",
         "text": [
          null
         ],
         "type": "scatter",
         "uid": "1b4feadf-1252-4be8-abc3-4338a1ee737f",
         "x": [
          1822.5
         ],
         "y": [
          1314
         ]
        },
        {
         "hoverinfo": "none",
         "marker": {
          "color": "rgb(101,214,67)",
          "line": {
           "color": "rgb(100,100,100)",
           "width": 1
          },
          "size": 18
         },
         "mode": "markers+text",
         "name": "",
         "text": [
          "dynamic",
          "dynamic",
          "dynamic",
          "dynamic"
         ],
         "type": "scatter",
         "uid": "4f34dcaf-6fe5-4ffd-8343-1b68ff2cc845",
         "x": [
          988.49,
          1159.5,
          1822.5,
          2158.5
         ],
         "y": [
          810,
          234,
          738,
          738
         ]
        },
        {
         "hoverinfo": "none",
         "marker": {
          "color": "rgb(247,185,43)",
          "line": {
           "color": "rgb(100,100,100)",
           "width": 1
          },
          "size": 18
         },
         "mode": "markers+text",
         "name": "",
         "text": [
          "/",
          "/",
          "/",
          "/",
          "/",
          "/",
          "/",
          "/"
         ],
         "type": "scatter",
         "uid": "35593871-0aab-42c1-b7e0-5efa0cf52a05",
         "x": [
          1822.5,
          990.49,
          825.49,
          1159.5,
          1822.5,
          1822.5,
          2158.5,
          2158.5
         ],
         "y": [
          1242,
          882,
          738,
          306,
          810,
          666,
          810,
          666
         ]
        },
        {
         "hoverinfo": "none",
         "marker": {
          "color": "rgb(24,140,216)",
          "line": {
           "color": "rgb(100,100,100)",
           "width": 1
          },
          "size": 18
         },
         "mode": "markers+text",
         "name": "",
         "text": [
          "a",
          "u",
          "p",
          "p",
          "c",
          "s",
          "o",
          "p",
          "h",
          "s",
          "a",
          "e",
          "c",
          "v",
          "c",
          "t",
          "o",
          "i",
          "u",
          "n",
          "t",
          "s",
          "v",
          "i",
          "t",
          "i",
          "e",
          "s",
          "e",
          "n",
          "t",
          "s",
          "i",
          "e",
          "v",
          "e",
          "m",
          "e",
          "n",
          "t",
          "s",
          "-",
          "t",
          "y",
          "p",
          "e",
          "s",
          "e",
          "r",
          "s",
          "f",
          "r",
          "i",
          "e",
          "n",
          "d",
          "s",
          "s",
          "t",
          "s",
          "l",
          "i",
          "k",
          "e",
          "s"
         ],
         "type": "scatter",
         "uid": "c5eb86cc-e6c1-4115-a814-870af07f3f2e",
         "x": [
          1323.5,
          1822.5,
          2155.5,
          992.49,
          1323.5,
          1822.5,
          2157.5,
          992.49,
          1323.5,
          991.49,
          492.49,
          825.49,
          489.49,
          825.49,
          159.49,
          489.49,
          157.49,
          489.49,
          156.49,
          156.49,
          156.49,
          156.49,
          489.49,
          489.49,
          490.49,
          490.49,
          490.49,
          490.49,
          825.49,
          825.49,
          825.49,
          825.49,
          1323.5,
          1323.5,
          1323.5,
          1323.5,
          1323.5,
          1323.5,
          1323.5,
          1323.5,
          1159.5,
          1490.5,
          1491.5,
          1491.5,
          1490.5,
          1490.5,
          1490.5,
          1822.5,
          1822.5,
          1822.5,
          1823.5,
          1823.5,
          1823.5,
          1823.5,
          1824.5,
          1824.5,
          1824.5,
          2158.5,
          2158.5,
          2158.5,
          2158.5,
          2158.5,
          2158.5,
          2158.5,
          2158.5
         ],
         "y": [
          1170,
          1170,
          1170,
          1098,
          1098,
          1098,
          1098,
          1026,
          1026,
          954,
          666,
          666,
          594,
          594,
          522,
          522,
          450,
          450,
          378,
          306,
          234,
          162,
          378,
          306,
          234,
          162,
          90,
          18,
          522,
          450,
          378,
          306,
          954,
          882,
          810,
          738,
          666,
          594,
          522,
          450,
          378,
          378,
          306,
          234,
          162,
          90,
          18,
          1026,
          954,
          882,
          594,
          522,
          450,
          378,
          306,
          234,
          162,
          1026,
          954,
          882,
          594,
          522,
          450,
          378,
          306
         ]
        }
       ],
       "layout": {
        "font": {
         "size": 15
        },
        "height": 800,
        "hovermode": "closest",
        "margin": {
         "b": 85,
         "l": 40,
         "r": 40,
         "t": 100
        },
        "plot_bgcolor": "rgb(248,248,248)",
        "showlegend": false,
        "template": {
         "data": {
          "bar": [
           {
            "error_x": {
             "color": "#2a3f5f"
            },
            "error_y": {
             "color": "#2a3f5f"
            },
            "marker": {
             "line": {
              "color": "#E5ECF6",
              "width": 0.5
             }
            },
            "type": "bar"
           }
          ],
          "barpolar": [
           {
            "marker": {
             "line": {
              "color": "#E5ECF6",
              "width": 0.5
             }
            },
            "type": "barpolar"
           }
          ],
          "carpet": [
           {
            "aaxis": {
             "endlinecolor": "#2a3f5f",
             "gridcolor": "white",
             "linecolor": "white",
             "minorgridcolor": "white",
             "startlinecolor": "#2a3f5f"
            },
            "baxis": {
             "endlinecolor": "#2a3f5f",
             "gridcolor": "white",
             "linecolor": "white",
             "minorgridcolor": "white",
             "startlinecolor": "#2a3f5f"
            },
            "type": "carpet"
           }
          ],
          "choropleth": [
           {
            "colorbar": {
             "outlinewidth": 0,
             "ticks": ""
            },
            "type": "choropleth"
           }
          ],
          "contour": [
           {
            "colorbar": {
             "outlinewidth": 0,
             "ticks": ""
            },
            "colorscale": [
             [
              0,
              "#0d0887"
             ],
             [
              0.1111111111111111,
              "#46039f"
             ],
             [
              0.2222222222222222,
              "#7201a8"
             ],
             [
              0.3333333333333333,
              "#9c179e"
             ],
             [
              0.4444444444444444,
              "#bd3786"
             ],
             [
              0.5555555555555556,
              "#d8576b"
             ],
             [
              0.6666666666666666,
              "#ed7953"
             ],
             [
              0.7777777777777778,
              "#fb9f3a"
             ],
             [
              0.8888888888888888,
              "#fdca26"
             ],
             [
              1,
              "#f0f921"
             ]
            ],
            "type": "contour"
           }
          ],
          "contourcarpet": [
           {
            "colorbar": {
             "outlinewidth": 0,
             "ticks": ""
            },
            "type": "contourcarpet"
           }
          ],
          "heatmap": [
           {
            "colorbar": {
             "outlinewidth": 0,
             "ticks": ""
            },
            "colorscale": [
             [
              0,
              "#0d0887"
             ],
             [
              0.1111111111111111,
              "#46039f"
             ],
             [
              0.2222222222222222,
              "#7201a8"
             ],
             [
              0.3333333333333333,
              "#9c179e"
             ],
             [
              0.4444444444444444,
              "#bd3786"
             ],
             [
              0.5555555555555556,
              "#d8576b"
             ],
             [
              0.6666666666666666,
              "#ed7953"
             ],
             [
              0.7777777777777778,
              "#fb9f3a"
             ],
             [
              0.8888888888888888,
              "#fdca26"
             ],
             [
              1,
              "#f0f921"
             ]
            ],
            "type": "heatmap"
           }
          ],
          "heatmapgl": [
           {
            "colorbar": {
             "outlinewidth": 0,
             "ticks": ""
            },
            "colorscale": [
             [
              0,
              "#0d0887"
             ],
             [
              0.1111111111111111,
              "#46039f"
             ],
             [
              0.2222222222222222,
              "#7201a8"
             ],
             [
              0.3333333333333333,
              "#9c179e"
             ],
             [
              0.4444444444444444,
              "#bd3786"
             ],
             [
              0.5555555555555556,
              "#d8576b"
             ],
             [
              0.6666666666666666,
              "#ed7953"
             ],
             [
              0.7777777777777778,
              "#fb9f3a"
             ],
             [
              0.8888888888888888,
              "#fdca26"
             ],
             [
              1,
              "#f0f921"
             ]
            ],
            "type": "heatmapgl"
           }
          ],
          "histogram": [
           {
            "marker": {
             "colorbar": {
              "outlinewidth": 0,
              "ticks": ""
             }
            },
            "type": "histogram"
           }
          ],
          "histogram2d": [
           {
            "colorbar": {
             "outlinewidth": 0,
             "ticks": ""
            },
            "colorscale": [
             [
              0,
              "#0d0887"
             ],
             [
              0.1111111111111111,
              "#46039f"
             ],
             [
              0.2222222222222222,
              "#7201a8"
             ],
             [
              0.3333333333333333,
              "#9c179e"
             ],
             [
              0.4444444444444444,
              "#bd3786"
             ],
             [
              0.5555555555555556,
              "#d8576b"
             ],
             [
              0.6666666666666666,
              "#ed7953"
             ],
             [
              0.7777777777777778,
              "#fb9f3a"
             ],
             [
              0.8888888888888888,
              "#fdca26"
             ],
             [
              1,
              "#f0f921"
             ]
            ],
            "type": "histogram2d"
           }
          ],
          "histogram2dcontour": [
           {
            "colorbar": {
             "outlinewidth": 0,
             "ticks": ""
            },
            "colorscale": [
             [
              0,
              "#0d0887"
             ],
             [
              0.1111111111111111,
              "#46039f"
             ],
             [
              0.2222222222222222,
              "#7201a8"
             ],
             [
              0.3333333333333333,
              "#9c179e"
             ],
             [
              0.4444444444444444,
              "#bd3786"
             ],
             [
              0.5555555555555556,
              "#d8576b"
             ],
             [
              0.6666666666666666,
              "#ed7953"
             ],
             [
              0.7777777777777778,
              "#fb9f3a"
             ],
             [
              0.8888888888888888,
              "#fdca26"
             ],
             [
              1,
              "#f0f921"
             ]
            ],
            "type": "histogram2dcontour"
           }
          ],
          "mesh3d": [
           {
            "colorbar": {
             "outlinewidth": 0,
             "ticks": ""
            },
            "type": "mesh3d"
           }
          ],
          "parcoords": [
           {
            "line": {
             "colorbar": {
              "outlinewidth": 0,
              "ticks": ""
             }
            },
            "type": "parcoords"
           }
          ],
          "scatter": [
           {
            "marker": {
             "colorbar": {
              "outlinewidth": 0,
              "ticks": ""
             }
            },
            "type": "scatter"
           }
          ],
          "scatter3d": [
           {
            "line": {
             "colorbar": {
              "outlinewidth": 0,
              "ticks": ""
             }
            },
            "marker": {
             "colorbar": {
              "outlinewidth": 0,
              "ticks": ""
             }
            },
            "type": "scatter3d"
           }
          ],
          "scattercarpet": [
           {
            "marker": {
             "colorbar": {
              "outlinewidth": 0,
              "ticks": ""
             }
            },
            "type": "scattercarpet"
           }
          ],
          "scattergeo": [
           {
            "marker": {
             "colorbar": {
              "outlinewidth": 0,
              "ticks": ""
             }
            },
            "type": "scattergeo"
           }
          ],
          "scattergl": [
           {
            "marker": {
             "colorbar": {
              "outlinewidth": 0,
              "ticks": ""
             }
            },
            "type": "scattergl"
           }
          ],
          "scattermapbox": [
           {
            "marker": {
             "colorbar": {
              "outlinewidth": 0,
              "ticks": ""
             }
            },
            "type": "scattermapbox"
           }
          ],
          "scatterpolar": [
           {
            "marker": {
             "colorbar": {
              "outlinewidth": 0,
              "ticks": ""
             }
            },
            "type": "scatterpolar"
           }
          ],
          "scatterpolargl": [
           {
            "marker": {
             "colorbar": {
              "outlinewidth": 0,
              "ticks": ""
             }
            },
            "type": "scatterpolargl"
           }
          ],
          "scatterternary": [
           {
            "marker": {
             "colorbar": {
              "outlinewidth": 0,
              "ticks": ""
             }
            },
            "type": "scatterternary"
           }
          ],
          "surface": [
           {
            "colorbar": {
             "outlinewidth": 0,
             "ticks": ""
            },
            "colorscale": [
             [
              0,
              "#0d0887"
             ],
             [
              0.1111111111111111,
              "#46039f"
             ],
             [
              0.2222222222222222,
              "#7201a8"
             ],
             [
              0.3333333333333333,
              "#9c179e"
             ],
             [
              0.4444444444444444,
              "#bd3786"
             ],
             [
              0.5555555555555556,
              "#d8576b"
             ],
             [
              0.6666666666666666,
              "#ed7953"
             ],
             [
              0.7777777777777778,
              "#fb9f3a"
             ],
             [
              0.8888888888888888,
              "#fdca26"
             ],
             [
              1,
              "#f0f921"
             ]
            ],
            "type": "surface"
           }
          ],
          "table": [
           {
            "cells": {
             "fill": {
              "color": "#EBF0F8"
             },
             "line": {
              "color": "white"
             }
            },
            "header": {
             "fill": {
              "color": "#C8D4E3"
             },
             "line": {
              "color": "white"
             }
            },
            "type": "table"
           }
          ]
         },
         "layout": {
          "annotationdefaults": {
           "arrowcolor": "#2a3f5f",
           "arrowhead": 0,
           "arrowwidth": 1
          },
          "colorscale": {
           "diverging": [
            [
             0,
             "#8e0152"
            ],
            [
             0.1,
             "#c51b7d"
            ],
            [
             0.2,
             "#de77ae"
            ],
            [
             0.3,
             "#f1b6da"
            ],
            [
             0.4,
             "#fde0ef"
            ],
            [
             0.5,
             "#f7f7f7"
            ],
            [
             0.6,
             "#e6f5d0"
            ],
            [
             0.7,
             "#b8e186"
            ],
            [
             0.8,
             "#7fbc41"
            ],
            [
             0.9,
             "#4d9221"
            ],
            [
             1,
             "#276419"
            ]
           ],
           "sequential": [
            [
             0,
             "#0d0887"
            ],
            [
             0.1111111111111111,
             "#46039f"
            ],
            [
             0.2222222222222222,
             "#7201a8"
            ],
            [
             0.3333333333333333,
             "#9c179e"
            ],
            [
             0.4444444444444444,
             "#bd3786"
            ],
            [
             0.5555555555555556,
             "#d8576b"
            ],
            [
             0.6666666666666666,
             "#ed7953"
            ],
            [
             0.7777777777777778,
             "#fb9f3a"
            ],
            [
             0.8888888888888888,
             "#fdca26"
            ],
            [
             1,
             "#f0f921"
            ]
           ],
           "sequentialminus": [
            [
             0,
             "#0d0887"
            ],
            [
             0.1111111111111111,
             "#46039f"
            ],
            [
             0.2222222222222222,
             "#7201a8"
            ],
            [
             0.3333333333333333,
             "#9c179e"
            ],
            [
             0.4444444444444444,
             "#bd3786"
            ],
            [
             0.5555555555555556,
             "#d8576b"
            ],
            [
             0.6666666666666666,
             "#ed7953"
            ],
            [
             0.7777777777777778,
             "#fb9f3a"
            ],
            [
             0.8888888888888888,
             "#fdca26"
            ],
            [
             1,
             "#f0f921"
            ]
           ]
          },
          "colorway": [
           "#636efa",
           "#EF553B",
           "#00cc96",
           "#ab63fa",
           "#FFA15A",
           "#19d3f3",
           "#FF6692",
           "#B6E880",
           "#FF97FF",
           "#FECB52"
          ],
          "font": {
           "color": "#2a3f5f"
          },
          "geo": {
           "bgcolor": "white",
           "lakecolor": "white",
           "landcolor": "#E5ECF6",
           "showlakes": true,
           "showland": true,
           "subunitcolor": "white"
          },
          "hoverlabel": {
           "align": "left"
          },
          "hovermode": "closest",
          "mapbox": {
           "style": "light"
          },
          "paper_bgcolor": "white",
          "plot_bgcolor": "#E5ECF6",
          "polar": {
           "angularaxis": {
            "gridcolor": "white",
            "linecolor": "white",
            "ticks": ""
           },
           "bgcolor": "#E5ECF6",
           "radialaxis": {
            "gridcolor": "white",
            "linecolor": "white",
            "ticks": ""
           }
          },
          "scene": {
           "xaxis": {
            "backgroundcolor": "#E5ECF6",
            "gridcolor": "white",
            "gridwidth": 2,
            "linecolor": "white",
            "showbackground": true,
            "ticks": "",
            "zerolinecolor": "white"
           },
           "yaxis": {
            "backgroundcolor": "#E5ECF6",
            "gridcolor": "white",
            "gridwidth": 2,
            "linecolor": "white",
            "showbackground": true,
            "ticks": "",
            "zerolinecolor": "white"
           },
           "zaxis": {
            "backgroundcolor": "#E5ECF6",
            "gridcolor": "white",
            "gridwidth": 2,
            "linecolor": "white",
            "showbackground": true,
            "ticks": "",
            "zerolinecolor": "white"
           }
          },
          "shapedefaults": {
           "line": {
            "color": "#2a3f5f"
           }
          },
          "ternary": {
           "aaxis": {
            "gridcolor": "white",
            "linecolor": "white",
            "ticks": ""
           },
           "baxis": {
            "gridcolor": "white",
            "linecolor": "white",
            "ticks": ""
           },
           "bgcolor": "#E5ECF6",
           "caxis": {
            "gridcolor": "white",
            "linecolor": "white",
            "ticks": ""
           }
          },
          "title": {
           "x": 0.05
          },
          "xaxis": {
           "automargin": true,
           "gridcolor": "white",
           "linecolor": "white",
           "ticks": "",
           "zerolinecolor": "white",
           "zerolinewidth": 2
          },
          "yaxis": {
           "automargin": true,
           "gridcolor": "white",
           "linecolor": "white",
           "ticks": "",
           "zerolinecolor": "white",
           "zerolinewidth": 2
          }
         }
        },
        "title": {
         "text": "Trie"
        },
        "width": 1000,
        "xaxis": {
         "showgrid": false,
         "showline": false,
         "showticklabels": false,
         "zeroline": false
        },
        "yaxis": {
         "showgrid": false,
         "showline": false,
         "showticklabels": false,
         "zeroline": false
        }
       }
      },
      "text/html": [
       "<div>\n",
       "        \n",
       "        \n",
       "            <div id=\"e4d24088-eeb7-44e0-bbc5-ee77c1bdc2ac\" class=\"plotly-graph-div\" style=\"height:800px; width:1000px;\"></div>\n",
       "            <script type=\"text/javascript\">\n",
       "                require([\"plotly\"], function(Plotly) {\n",
       "                    window.PLOTLYENV=window.PLOTLYENV || {};\n",
       "                    \n",
       "                if (document.getElementById(\"e4d24088-eeb7-44e0-bbc5-ee77c1bdc2ac\")) {\n",
       "                    Plotly.newPlot(\n",
       "                        'e4d24088-eeb7-44e0-bbc5-ee77c1bdc2ac',\n",
       "                        [{\"hoverinfo\": \"none\", \"line\": {\"color\": \"rgb(160,160,160)\", \"width\": 2}, \"mode\": \"lines\", \"type\": \"scatter\", \"uid\": \"481a8236-ea41-445f-9f5a-803ce6df5ddd\", \"x\": [1822.5, 1822.5, null, 1822.5, 1323.5, null, 1822.5, 1822.5, null, 1822.5, 2155.5, null, 1323.5, 992.49, null, 1323.5, 1323.5, null, 1822.5, 1822.5, null, 2155.5, 2157.5, null, 992.49, 992.49, null, 1323.5, 1323.5, null, 1822.5, 1822.5, null, 2157.5, 2158.5, null, 992.49, 991.49, null, 1323.5, 1323.5, null, 991.49, 990.49, null, 990.49, 988.49, null, 988.49, 825.49, null, 825.49, 492.49, null, 825.49, 825.49, null, 492.49, 489.49, null, 825.49, 825.49, null, 489.49, 159.49, null, 489.49, 489.49, null, 825.49, 825.49, null, 159.49, 157.49, null, 489.49, 489.49, null, 157.49, 156.49, null, 489.49, 489.49, null, 156.49, 156.49, null, 156.49, 156.49, null, 156.49, 156.49, null, 489.49, 489.49, null, 489.49, 490.49, null, 490.49, 490.49, null, 490.49, 490.49, null, 490.49, 490.49, null, 825.49, 825.49, null, 825.49, 825.49, null, 825.49, 825.49, null, 1323.5, 1323.5, null, 1323.5, 1323.5, null, 1323.5, 1323.5, null, 1323.5, 1323.5, null, 1323.5, 1323.5, null, 1323.5, 1323.5, null, 1323.5, 1323.5, null, 1323.5, 1159.5, null, 1323.5, 1490.5, null, 1159.5, 1159.5, null, 1490.5, 1491.5, null, 1159.5, 1159.5, null, 1491.5, 1491.5, null, 1491.5, 1490.5, null, 1490.5, 1490.5, null, 1490.5, 1490.5, null, 1822.5, 1822.5, null, 1822.5, 1822.5, null, 1822.5, 1822.5, null, 1822.5, 1822.5, null, 1822.5, 1822.5, null, 1822.5, 1823.5, null, 1823.5, 1823.5, null, 1823.5, 1823.5, null, 1823.5, 1823.5, null, 1823.5, 1824.5, null, 1824.5, 1824.5, null, 1824.5, 1824.5, null, 2158.5, 2158.5, null, 2158.5, 2158.5, null, 2158.5, 2158.5, null, 2158.5, 2158.5, null, 2158.5, 2158.5, null, 2158.5, 2158.5, null, 2158.5, 2158.5, null, 2158.5, 2158.5, null, 2158.5, 2158.5, null, 2158.5, 2158.5, null], \"y\": [1314.0, 1242.0, null, 1242.0, 1170.0, null, 1242.0, 1170.0, null, 1242.0, 1170.0, null, 1170.0, 1098.0, null, 1170.0, 1098.0, null, 1170.0, 1098.0, null, 1170.0, 1098.0, null, 1098.0, 1026.0, null, 1098.0, 1026.0, null, 1098.0, 1026.0, null, 1098.0, 1026.0, null, 1026.0, 954.0, null, 1026.0, 954.0, null, 954.0, 882.0, null, 882.0, 810.0, null, 810.0, 738.0, null, 738.0, 666.0, null, 738.0, 666.0, null, 666.0, 594.0, null, 666.0, 594.0, null, 594.0, 522.0, null, 594.0, 522.0, null, 594.0, 522.0, null, 522.0, 450.0, null, 522.0, 450.0, null, 450.0, 378.0, null, 450.0, 378.0, null, 378.0, 306.0, null, 306.0, 234.0, null, 234.0, 162.0, null, 378.0, 306.0, null, 306.0, 234.0, null, 234.0, 162.0, null, 162.0, 90.0, null, 90.0, 18.0, null, 522.0, 450.0, null, 450.0, 378.0, null, 378.0, 306.0, null, 954.0, 882.0, null, 882.0, 810.0, null, 810.0, 738.0, null, 738.0, 666.0, null, 666.0, 594.0, null, 594.0, 522.0, null, 522.0, 450.0, null, 450.0, 378.0, null, 450.0, 378.0, null, 378.0, 306.0, null, 378.0, 306.0, null, 306.0, 234.0, null, 306.0, 234.0, null, 234.0, 162.0, null, 162.0, 90.0, null, 90.0, 18.0, null, 1026.0, 954.0, null, 954.0, 882.0, null, 882.0, 810.0, null, 810.0, 738.0, null, 738.0, 666.0, null, 666.0, 594.0, null, 594.0, 522.0, null, 522.0, 450.0, null, 450.0, 378.0, null, 378.0, 306.0, null, 306.0, 234.0, null, 234.0, 162.0, null, 1026.0, 954.0, null, 954.0, 882.0, null, 882.0, 810.0, null, 810.0, 738.0, null, 738.0, 666.0, null, 666.0, 594.0, null, 594.0, 522.0, null, 522.0, 450.0, null, 450.0, 378.0, null, 378.0, 306.0, null]}, {\"hoverinfo\": \"none\", \"marker\": {\"color\": \"rgb(100,100,100)\", \"line\": {\"color\": \"rgb(100,100,100)\", \"width\": 1}, \"size\": 18}, \"mode\": \"markers+text\", \"name\": \"\", \"text\": [null], \"type\": \"scatter\", \"uid\": \"1b4feadf-1252-4be8-abc3-4338a1ee737f\", \"x\": [1822.5], \"y\": [1314.0]}, {\"hoverinfo\": \"none\", \"marker\": {\"color\": \"rgb(101,214,67)\", \"line\": {\"color\": \"rgb(100,100,100)\", \"width\": 1}, \"size\": 18}, \"mode\": \"markers+text\", \"name\": \"\", \"text\": [\"dynamic\", \"dynamic\", \"dynamic\", \"dynamic\"], \"type\": \"scatter\", \"uid\": \"4f34dcaf-6fe5-4ffd-8343-1b68ff2cc845\", \"x\": [988.49, 1159.5, 1822.5, 2158.5], \"y\": [810.0, 234.0, 738.0, 738.0]}, {\"hoverinfo\": \"none\", \"marker\": {\"color\": \"rgb(247,185,43)\", \"line\": {\"color\": \"rgb(100,100,100)\", \"width\": 1}, \"size\": 18}, \"mode\": \"markers+text\", \"name\": \"\", \"text\": [\"/\", \"/\", \"/\", \"/\", \"/\", \"/\", \"/\", \"/\"], \"type\": \"scatter\", \"uid\": \"35593871-0aab-42c1-b7e0-5efa0cf52a05\", \"x\": [1822.5, 990.49, 825.49, 1159.5, 1822.5, 1822.5, 2158.5, 2158.5], \"y\": [1242.0, 882.0, 738.0, 306.0, 810.0, 666.0, 810.0, 666.0]}, {\"hoverinfo\": \"none\", \"marker\": {\"color\": \"rgb(24,140,216)\", \"line\": {\"color\": \"rgb(100,100,100)\", \"width\": 1}, \"size\": 18}, \"mode\": \"markers+text\", \"name\": \"\", \"text\": [\"a\", \"u\", \"p\", \"p\", \"c\", \"s\", \"o\", \"p\", \"h\", \"s\", \"a\", \"e\", \"c\", \"v\", \"c\", \"t\", \"o\", \"i\", \"u\", \"n\", \"t\", \"s\", \"v\", \"i\", \"t\", \"i\", \"e\", \"s\", \"e\", \"n\", \"t\", \"s\", \"i\", \"e\", \"v\", \"e\", \"m\", \"e\", \"n\", \"t\", \"s\", \"-\", \"t\", \"y\", \"p\", \"e\", \"s\", \"e\", \"r\", \"s\", \"f\", \"r\", \"i\", \"e\", \"n\", \"d\", \"s\", \"s\", \"t\", \"s\", \"l\", \"i\", \"k\", \"e\", \"s\"], \"type\": \"scatter\", \"uid\": \"c5eb86cc-e6c1-4115-a814-870af07f3f2e\", \"x\": [1323.5, 1822.5, 2155.5, 992.49, 1323.5, 1822.5, 2157.5, 992.49, 1323.5, 991.49, 492.49, 825.49, 489.49, 825.49, 159.49, 489.49, 157.49, 489.49, 156.49, 156.49, 156.49, 156.49, 489.49, 489.49, 490.49, 490.49, 490.49, 490.49, 825.49, 825.49, 825.49, 825.49, 1323.5, 1323.5, 1323.5, 1323.5, 1323.5, 1323.5, 1323.5, 1323.5, 1159.5, 1490.5, 1491.5, 1491.5, 1490.5, 1490.5, 1490.5, 1822.5, 1822.5, 1822.5, 1823.5, 1823.5, 1823.5, 1823.5, 1824.5, 1824.5, 1824.5, 2158.5, 2158.5, 2158.5, 2158.5, 2158.5, 2158.5, 2158.5, 2158.5], \"y\": [1170.0, 1170.0, 1170.0, 1098.0, 1098.0, 1098.0, 1098.0, 1026.0, 1026.0, 954.0, 666.0, 666.0, 594.0, 594.0, 522.0, 522.0, 450.0, 450.0, 378.0, 306.0, 234.0, 162.0, 378.0, 306.0, 234.0, 162.0, 90.0, 18.0, 522.0, 450.0, 378.0, 306.0, 954.0, 882.0, 810.0, 738.0, 666.0, 594.0, 522.0, 450.0, 378.0, 378.0, 306.0, 234.0, 162.0, 90.0, 18.0, 1026.0, 954.0, 882.0, 594.0, 522.0, 450.0, 378.0, 306.0, 234.0, 162.0, 1026.0, 954.0, 882.0, 594.0, 522.0, 450.0, 378.0, 306.0]}],\n",
       "                        {\"font\": {\"size\": 15}, \"height\": 800, \"hovermode\": \"closest\", \"margin\": {\"b\": 85, \"l\": 40, \"r\": 40, \"t\": 100}, \"plot_bgcolor\": \"rgb(248,248,248)\", \"showlegend\": false, \"template\": {\"data\": {\"bar\": [{\"error_x\": {\"color\": \"#2a3f5f\"}, \"error_y\": {\"color\": \"#2a3f5f\"}, \"marker\": {\"line\": {\"color\": \"#E5ECF6\", \"width\": 0.5}}, \"type\": \"bar\"}], \"barpolar\": [{\"marker\": {\"line\": {\"color\": \"#E5ECF6\", \"width\": 0.5}}, \"type\": \"barpolar\"}], \"carpet\": [{\"aaxis\": {\"endlinecolor\": \"#2a3f5f\", \"gridcolor\": \"white\", \"linecolor\": \"white\", \"minorgridcolor\": \"white\", \"startlinecolor\": \"#2a3f5f\"}, \"baxis\": {\"endlinecolor\": \"#2a3f5f\", \"gridcolor\": \"white\", \"linecolor\": \"white\", \"minorgridcolor\": \"white\", \"startlinecolor\": \"#2a3f5f\"}, \"type\": \"carpet\"}], \"choropleth\": [{\"colorbar\": {\"outlinewidth\": 0, \"ticks\": \"\"}, \"type\": \"choropleth\"}], \"contour\": [{\"colorbar\": {\"outlinewidth\": 0, \"ticks\": \"\"}, \"colorscale\": [[0.0, \"#0d0887\"], [0.1111111111111111, \"#46039f\"], [0.2222222222222222, \"#7201a8\"], [0.3333333333333333, \"#9c179e\"], [0.4444444444444444, \"#bd3786\"], [0.5555555555555556, \"#d8576b\"], [0.6666666666666666, \"#ed7953\"], [0.7777777777777778, \"#fb9f3a\"], [0.8888888888888888, \"#fdca26\"], [1.0, \"#f0f921\"]], \"type\": \"contour\"}], \"contourcarpet\": [{\"colorbar\": {\"outlinewidth\": 0, \"ticks\": \"\"}, \"type\": \"contourcarpet\"}], \"heatmap\": [{\"colorbar\": {\"outlinewidth\": 0, \"ticks\": \"\"}, \"colorscale\": [[0.0, \"#0d0887\"], [0.1111111111111111, \"#46039f\"], [0.2222222222222222, \"#7201a8\"], [0.3333333333333333, \"#9c179e\"], [0.4444444444444444, \"#bd3786\"], [0.5555555555555556, \"#d8576b\"], [0.6666666666666666, \"#ed7953\"], [0.7777777777777778, \"#fb9f3a\"], [0.8888888888888888, \"#fdca26\"], [1.0, \"#f0f921\"]], \"type\": \"heatmap\"}], \"heatmapgl\": [{\"colorbar\": {\"outlinewidth\": 0, \"ticks\": \"\"}, \"colorscale\": [[0.0, \"#0d0887\"], [0.1111111111111111, \"#46039f\"], [0.2222222222222222, \"#7201a8\"], [0.3333333333333333, \"#9c179e\"], [0.4444444444444444, \"#bd3786\"], [0.5555555555555556, \"#d8576b\"], [0.6666666666666666, \"#ed7953\"], [0.7777777777777778, \"#fb9f3a\"], [0.8888888888888888, \"#fdca26\"], [1.0, \"#f0f921\"]], \"type\": \"heatmapgl\"}], \"histogram\": [{\"marker\": {\"colorbar\": {\"outlinewidth\": 0, \"ticks\": \"\"}}, \"type\": \"histogram\"}], \"histogram2d\": [{\"colorbar\": {\"outlinewidth\": 0, \"ticks\": \"\"}, \"colorscale\": [[0.0, \"#0d0887\"], [0.1111111111111111, \"#46039f\"], [0.2222222222222222, \"#7201a8\"], [0.3333333333333333, \"#9c179e\"], [0.4444444444444444, \"#bd3786\"], [0.5555555555555556, \"#d8576b\"], [0.6666666666666666, \"#ed7953\"], [0.7777777777777778, \"#fb9f3a\"], [0.8888888888888888, \"#fdca26\"], [1.0, \"#f0f921\"]], \"type\": \"histogram2d\"}], \"histogram2dcontour\": [{\"colorbar\": {\"outlinewidth\": 0, \"ticks\": \"\"}, \"colorscale\": [[0.0, \"#0d0887\"], [0.1111111111111111, \"#46039f\"], [0.2222222222222222, \"#7201a8\"], [0.3333333333333333, \"#9c179e\"], [0.4444444444444444, \"#bd3786\"], [0.5555555555555556, \"#d8576b\"], [0.6666666666666666, \"#ed7953\"], [0.7777777777777778, \"#fb9f3a\"], [0.8888888888888888, \"#fdca26\"], [1.0, \"#f0f921\"]], \"type\": \"histogram2dcontour\"}], \"mesh3d\": [{\"colorbar\": {\"outlinewidth\": 0, \"ticks\": \"\"}, \"type\": \"mesh3d\"}], \"parcoords\": [{\"line\": {\"colorbar\": {\"outlinewidth\": 0, \"ticks\": \"\"}}, \"type\": \"parcoords\"}], \"scatter\": [{\"marker\": {\"colorbar\": {\"outlinewidth\": 0, \"ticks\": \"\"}}, \"type\": \"scatter\"}], \"scatter3d\": [{\"line\": {\"colorbar\": {\"outlinewidth\": 0, \"ticks\": \"\"}}, \"marker\": {\"colorbar\": {\"outlinewidth\": 0, \"ticks\": \"\"}}, \"type\": \"scatter3d\"}], \"scattercarpet\": [{\"marker\": {\"colorbar\": {\"outlinewidth\": 0, \"ticks\": \"\"}}, \"type\": \"scattercarpet\"}], \"scattergeo\": [{\"marker\": {\"colorbar\": {\"outlinewidth\": 0, \"ticks\": \"\"}}, \"type\": \"scattergeo\"}], \"scattergl\": [{\"marker\": {\"colorbar\": {\"outlinewidth\": 0, \"ticks\": \"\"}}, \"type\": \"scattergl\"}], \"scattermapbox\": [{\"marker\": {\"colorbar\": {\"outlinewidth\": 0, \"ticks\": \"\"}}, \"type\": \"scattermapbox\"}], \"scatterpolar\": [{\"marker\": {\"colorbar\": {\"outlinewidth\": 0, \"ticks\": \"\"}}, \"type\": \"scatterpolar\"}], \"scatterpolargl\": [{\"marker\": {\"colorbar\": {\"outlinewidth\": 0, \"ticks\": \"\"}}, \"type\": \"scatterpolargl\"}], \"scatterternary\": [{\"marker\": {\"colorbar\": {\"outlinewidth\": 0, \"ticks\": \"\"}}, \"type\": \"scatterternary\"}], \"surface\": [{\"colorbar\": {\"outlinewidth\": 0, \"ticks\": \"\"}, \"colorscale\": [[0.0, \"#0d0887\"], [0.1111111111111111, \"#46039f\"], [0.2222222222222222, \"#7201a8\"], [0.3333333333333333, \"#9c179e\"], [0.4444444444444444, \"#bd3786\"], [0.5555555555555556, \"#d8576b\"], [0.6666666666666666, \"#ed7953\"], [0.7777777777777778, \"#fb9f3a\"], [0.8888888888888888, \"#fdca26\"], [1.0, \"#f0f921\"]], \"type\": \"surface\"}], \"table\": [{\"cells\": {\"fill\": {\"color\": \"#EBF0F8\"}, \"line\": {\"color\": \"white\"}}, \"header\": {\"fill\": {\"color\": \"#C8D4E3\"}, \"line\": {\"color\": \"white\"}}, \"type\": \"table\"}]}, \"layout\": {\"annotationdefaults\": {\"arrowcolor\": \"#2a3f5f\", \"arrowhead\": 0, \"arrowwidth\": 1}, \"colorscale\": {\"diverging\": [[0, \"#8e0152\"], [0.1, \"#c51b7d\"], [0.2, \"#de77ae\"], [0.3, \"#f1b6da\"], [0.4, \"#fde0ef\"], [0.5, \"#f7f7f7\"], [0.6, \"#e6f5d0\"], [0.7, \"#b8e186\"], [0.8, \"#7fbc41\"], [0.9, \"#4d9221\"], [1, \"#276419\"]], \"sequential\": [[0.0, \"#0d0887\"], [0.1111111111111111, \"#46039f\"], [0.2222222222222222, \"#7201a8\"], [0.3333333333333333, \"#9c179e\"], [0.4444444444444444, \"#bd3786\"], [0.5555555555555556, \"#d8576b\"], [0.6666666666666666, \"#ed7953\"], [0.7777777777777778, \"#fb9f3a\"], [0.8888888888888888, \"#fdca26\"], [1.0, \"#f0f921\"]], \"sequentialminus\": [[0.0, \"#0d0887\"], [0.1111111111111111, \"#46039f\"], [0.2222222222222222, \"#7201a8\"], [0.3333333333333333, \"#9c179e\"], [0.4444444444444444, \"#bd3786\"], [0.5555555555555556, \"#d8576b\"], [0.6666666666666666, \"#ed7953\"], [0.7777777777777778, \"#fb9f3a\"], [0.8888888888888888, \"#fdca26\"], [1.0, \"#f0f921\"]]}, \"colorway\": [\"#636efa\", \"#EF553B\", \"#00cc96\", \"#ab63fa\", \"#FFA15A\", \"#19d3f3\", \"#FF6692\", \"#B6E880\", \"#FF97FF\", \"#FECB52\"], \"font\": {\"color\": \"#2a3f5f\"}, \"geo\": {\"bgcolor\": \"white\", \"lakecolor\": \"white\", \"landcolor\": \"#E5ECF6\", \"showlakes\": true, \"showland\": true, \"subunitcolor\": \"white\"}, \"hoverlabel\": {\"align\": \"left\"}, \"hovermode\": \"closest\", \"mapbox\": {\"style\": \"light\"}, \"paper_bgcolor\": \"white\", \"plot_bgcolor\": \"#E5ECF6\", \"polar\": {\"angularaxis\": {\"gridcolor\": \"white\", \"linecolor\": \"white\", \"ticks\": \"\"}, \"bgcolor\": \"#E5ECF6\", \"radialaxis\": {\"gridcolor\": \"white\", \"linecolor\": \"white\", \"ticks\": \"\"}}, \"scene\": {\"xaxis\": {\"backgroundcolor\": \"#E5ECF6\", \"gridcolor\": \"white\", \"gridwidth\": 2, \"linecolor\": \"white\", \"showbackground\": true, \"ticks\": \"\", \"zerolinecolor\": \"white\"}, \"yaxis\": {\"backgroundcolor\": \"#E5ECF6\", \"gridcolor\": \"white\", \"gridwidth\": 2, \"linecolor\": \"white\", \"showbackground\": true, \"ticks\": \"\", \"zerolinecolor\": \"white\"}, \"zaxis\": {\"backgroundcolor\": \"#E5ECF6\", \"gridcolor\": \"white\", \"gridwidth\": 2, \"linecolor\": \"white\", \"showbackground\": true, \"ticks\": \"\", \"zerolinecolor\": \"white\"}}, \"shapedefaults\": {\"line\": {\"color\": \"#2a3f5f\"}}, \"ternary\": {\"aaxis\": {\"gridcolor\": \"white\", \"linecolor\": \"white\", \"ticks\": \"\"}, \"baxis\": {\"gridcolor\": \"white\", \"linecolor\": \"white\", \"ticks\": \"\"}, \"bgcolor\": \"#E5ECF6\", \"caxis\": {\"gridcolor\": \"white\", \"linecolor\": \"white\", \"ticks\": \"\"}}, \"title\": {\"x\": 0.05}, \"xaxis\": {\"automargin\": true, \"gridcolor\": \"white\", \"linecolor\": \"white\", \"ticks\": \"\", \"zerolinecolor\": \"white\", \"zerolinewidth\": 2}, \"yaxis\": {\"automargin\": true, \"gridcolor\": \"white\", \"linecolor\": \"white\", \"ticks\": \"\", \"zerolinecolor\": \"white\", \"zerolinewidth\": 2}}}, \"title\": {\"text\": \"Trie\"}, \"width\": 1000, \"xaxis\": {\"showgrid\": false, \"showline\": false, \"showticklabels\": false, \"zeroline\": false}, \"yaxis\": {\"showgrid\": false, \"showline\": false, \"showticklabels\": false, \"zeroline\": false}},\n",
       "                        {\"responsive\": true}\n",
       "                    ).then(function(){\n",
       "                            \n",
       "var gd = document.getElementById('e4d24088-eeb7-44e0-bbc5-ee77c1bdc2ac');\n",
       "var x = new MutationObserver(function (mutations, observer) {{\n",
       "        var display = window.getComputedStyle(gd).display;\n",
       "        if (!display || display === 'none') {{\n",
       "            console.log([gd, 'removed!']);\n",
       "            Plotly.purge(gd);\n",
       "            observer.disconnect();\n",
       "        }}\n",
       "}});\n",
       "\n",
       "// Listen for the removal of the full notebook cells\n",
       "var notebookContainer = gd.closest('#notebook-container');\n",
       "if (notebookContainer) {{\n",
       "    x.observe(notebookContainer, {childList: true});\n",
       "}}\n",
       "\n",
       "// Listen for the clearing of the current output cell\n",
       "var outputEl = gd.closest('.output');\n",
       "if (outputEl) {{\n",
       "    x.observe(outputEl, {childList: true});\n",
       "}}\n",
       "\n",
       "                        })\n",
       "                };\n",
       "                });\n",
       "            </script>\n",
       "        </div>"
      ]
     },
     "metadata": {},
     "output_type": "display_data"
    },
    {
     "data": {
      "application/vnd.plotly.v1+json": {
       "config": {
        "plotlyServerURL": "https://plot.ly"
       },
       "data": [
        {
         "hoverinfo": "none",
         "line": {
          "color": "rgb(160,160,160)",
          "width": 2
         },
         "mode": "lines",
         "type": "scatter",
         "uid": "43e68ffd-3393-4102-8674-098d8b7941f7",
         "x": [
          1822.5,
          1822.5,
          null,
          1822.5,
          1323.5,
          null,
          1822.5,
          1822.5,
          null,
          1822.5,
          2155.5,
          null,
          1323.5,
          992.49,
          null,
          1323.5,
          1323.5,
          null,
          1822.5,
          1822.5,
          null,
          2155.5,
          2157.5,
          null,
          992.49,
          992.49,
          null,
          1323.5,
          1323.5,
          null,
          1822.5,
          1822.5,
          null,
          2157.5,
          2158.5,
          null,
          992.49,
          991.49,
          null,
          1323.5,
          1323.5,
          null,
          991.49,
          990.49,
          null,
          990.49,
          988.49,
          null,
          988.49,
          825.49,
          null,
          825.49,
          492.49,
          null,
          825.49,
          825.49,
          null,
          492.49,
          489.49,
          null,
          825.49,
          825.49,
          null,
          489.49,
          159.49,
          null,
          489.49,
          489.49,
          null,
          825.49,
          825.49,
          null,
          159.49,
          157.49,
          null,
          489.49,
          489.49,
          null,
          157.49,
          156.49,
          null,
          489.49,
          489.49,
          null,
          156.49,
          156.49,
          null,
          156.49,
          156.49,
          null,
          156.49,
          156.49,
          null,
          489.49,
          489.49,
          null,
          489.49,
          490.49,
          null,
          490.49,
          490.49,
          null,
          490.49,
          490.49,
          null,
          490.49,
          490.49,
          null,
          825.49,
          825.49,
          null,
          825.49,
          825.49,
          null,
          825.49,
          825.49,
          null,
          1323.5,
          1323.5,
          null,
          1323.5,
          1323.5,
          null,
          1323.5,
          1323.5,
          null,
          1323.5,
          1323.5,
          null,
          1323.5,
          1323.5,
          null,
          1323.5,
          1323.5,
          null,
          1323.5,
          1323.5,
          null,
          1323.5,
          1159.5,
          null,
          1323.5,
          1490.5,
          null,
          1159.5,
          1159.5,
          null,
          1490.5,
          1491.5,
          null,
          1159.5,
          1159.5,
          null,
          1491.5,
          1491.5,
          null,
          1491.5,
          1490.5,
          null,
          1490.5,
          1490.5,
          null,
          1490.5,
          1490.5,
          null,
          1822.5,
          1822.5,
          null,
          1822.5,
          1822.5,
          null,
          1822.5,
          1822.5,
          null,
          1822.5,
          1822.5,
          null,
          1822.5,
          1822.5,
          null,
          1822.5,
          1823.5,
          null,
          1823.5,
          1823.5,
          null,
          1823.5,
          1823.5,
          null,
          1823.5,
          1823.5,
          null,
          1823.5,
          1824.5,
          null,
          1824.5,
          1824.5,
          null,
          1824.5,
          1824.5,
          null,
          2158.5,
          2158.5,
          null,
          2158.5,
          2158.5,
          null,
          2158.5,
          2158.5,
          null,
          2158.5,
          2158.5,
          null,
          2158.5,
          2158.5,
          null,
          2158.5,
          2158.5,
          null,
          2158.5,
          2158.5,
          null,
          2158.5,
          2158.5,
          null,
          2158.5,
          2158.5,
          null,
          2158.5,
          2158.5,
          null
         ],
         "y": [
          1314,
          1242,
          null,
          1242,
          1170,
          null,
          1242,
          1170,
          null,
          1242,
          1170,
          null,
          1170,
          1098,
          null,
          1170,
          1098,
          null,
          1170,
          1098,
          null,
          1170,
          1098,
          null,
          1098,
          1026,
          null,
          1098,
          1026,
          null,
          1098,
          1026,
          null,
          1098,
          1026,
          null,
          1026,
          954,
          null,
          1026,
          954,
          null,
          954,
          882,
          null,
          882,
          810,
          null,
          810,
          738,
          null,
          738,
          666,
          null,
          738,
          666,
          null,
          666,
          594,
          null,
          666,
          594,
          null,
          594,
          522,
          null,
          594,
          522,
          null,
          594,
          522,
          null,
          522,
          450,
          null,
          522,
          450,
          null,
          450,
          378,
          null,
          450,
          378,
          null,
          378,
          306,
          null,
          306,
          234,
          null,
          234,
          162,
          null,
          378,
          306,
          null,
          306,
          234,
          null,
          234,
          162,
          null,
          162,
          90,
          null,
          90,
          18,
          null,
          522,
          450,
          null,
          450,
          378,
          null,
          378,
          306,
          null,
          954,
          882,
          null,
          882,
          810,
          null,
          810,
          738,
          null,
          738,
          666,
          null,
          666,
          594,
          null,
          594,
          522,
          null,
          522,
          450,
          null,
          450,
          378,
          null,
          450,
          378,
          null,
          378,
          306,
          null,
          378,
          306,
          null,
          306,
          234,
          null,
          306,
          234,
          null,
          234,
          162,
          null,
          162,
          90,
          null,
          90,
          18,
          null,
          1026,
          954,
          null,
          954,
          882,
          null,
          882,
          810,
          null,
          810,
          738,
          null,
          738,
          666,
          null,
          666,
          594,
          null,
          594,
          522,
          null,
          522,
          450,
          null,
          450,
          378,
          null,
          378,
          306,
          null,
          306,
          234,
          null,
          234,
          162,
          null,
          1026,
          954,
          null,
          954,
          882,
          null,
          882,
          810,
          null,
          810,
          738,
          null,
          738,
          666,
          null,
          666,
          594,
          null,
          594,
          522,
          null,
          522,
          450,
          null,
          450,
          378,
          null,
          378,
          306,
          null
         ]
        },
        {
         "hoverinfo": "none",
         "marker": {
          "color": "rgb(100,100,100)",
          "line": {
           "color": "rgb(100,100,100)",
           "width": 1
          },
          "size": 18
         },
         "mode": "markers+text",
         "name": "",
         "text": [
          null
         ],
         "type": "scatter",
         "uid": "c7c3b4b2-309f-41a0-819a-9a39044256ec",
         "x": [
          1822.5
         ],
         "y": [
          1314
         ]
        },
        {
         "hoverinfo": "none",
         "marker": {
          "color": "rgb(101,214,67)",
          "line": {
           "color": "rgb(100,100,100)",
           "width": 1
          },
          "size": 18
         },
         "mode": "markers+text",
         "name": "",
         "text": [
          "dynamic",
          "dynamic",
          "dynamic",
          "dynamic"
         ],
         "type": "scatter",
         "uid": "19149b5f-be36-4347-951c-01b8a677fc1d",
         "x": [
          988.49,
          1159.5,
          1822.5,
          2158.5
         ],
         "y": [
          810,
          234,
          738,
          738
         ]
        },
        {
         "hoverinfo": "none",
         "marker": {
          "color": "rgb(247,185,43)",
          "line": {
           "color": "rgb(100,100,100)",
           "width": 1
          },
          "size": 18
         },
         "mode": "markers+text",
         "name": "",
         "text": [
          "/",
          "/",
          "/",
          "/",
          "/",
          "/",
          "/",
          "/"
         ],
         "type": "scatter",
         "uid": "ab8253c4-3f2d-414d-8a20-0c5e676186e7",
         "x": [
          1822.5,
          990.49,
          825.49,
          1159.5,
          1822.5,
          1822.5,
          2158.5,
          2158.5
         ],
         "y": [
          1242,
          882,
          738,
          306,
          810,
          666,
          810,
          666
         ]
        },
        {
         "hoverinfo": "none",
         "marker": {
          "color": "rgb(24,140,216)",
          "line": {
           "color": "rgb(100,100,100)",
           "width": 1
          },
          "size": 18
         },
         "mode": "markers+text",
         "name": "",
         "text": [
          "a",
          "u",
          "p",
          "p",
          "c",
          "s",
          "o",
          "p",
          "h",
          "s",
          "a",
          "e",
          "c",
          "v",
          "c",
          "t",
          "o",
          "i",
          "u",
          "n",
          "t",
          "s",
          "v",
          "i",
          "t",
          "i",
          "e",
          "s",
          "e",
          "n",
          "t",
          "s",
          "i",
          "e",
          "v",
          "e",
          "m",
          "e",
          "n",
          "t",
          "s",
          "-",
          "t",
          "y",
          "p",
          "e",
          "s",
          "e",
          "r",
          "s",
          "f",
          "r",
          "i",
          "e",
          "n",
          "d",
          "s",
          "s",
          "t",
          "s",
          "l",
          "i",
          "k",
          "e",
          "s"
         ],
         "type": "scatter",
         "uid": "1246c3e4-df2d-4f55-bdee-e04eb54693c7",
         "x": [
          1323.5,
          1822.5,
          2155.5,
          992.49,
          1323.5,
          1822.5,
          2157.5,
          992.49,
          1323.5,
          991.49,
          492.49,
          825.49,
          489.49,
          825.49,
          159.49,
          489.49,
          157.49,
          489.49,
          156.49,
          156.49,
          156.49,
          156.49,
          489.49,
          489.49,
          490.49,
          490.49,
          490.49,
          490.49,
          825.49,
          825.49,
          825.49,
          825.49,
          1323.5,
          1323.5,
          1323.5,
          1323.5,
          1323.5,
          1323.5,
          1323.5,
          1323.5,
          1159.5,
          1490.5,
          1491.5,
          1491.5,
          1490.5,
          1490.5,
          1490.5,
          1822.5,
          1822.5,
          1822.5,
          1823.5,
          1823.5,
          1823.5,
          1823.5,
          1824.5,
          1824.5,
          1824.5,
          2158.5,
          2158.5,
          2158.5,
          2158.5,
          2158.5,
          2158.5,
          2158.5,
          2158.5
         ],
         "y": [
          1170,
          1170,
          1170,
          1098,
          1098,
          1098,
          1098,
          1026,
          1026,
          954,
          666,
          666,
          594,
          594,
          522,
          522,
          450,
          450,
          378,
          306,
          234,
          162,
          378,
          306,
          234,
          162,
          90,
          18,
          522,
          450,
          378,
          306,
          954,
          882,
          810,
          738,
          666,
          594,
          522,
          450,
          378,
          378,
          306,
          234,
          162,
          90,
          18,
          1026,
          954,
          882,
          594,
          522,
          450,
          378,
          306,
          234,
          162,
          1026,
          954,
          882,
          594,
          522,
          450,
          378,
          306
         ]
        }
       ],
       "layout": {
        "font": {
         "size": 15
        },
        "height": 800,
        "hovermode": "closest",
        "margin": {
         "b": 85,
         "l": 40,
         "r": 40,
         "t": 100
        },
        "plot_bgcolor": "rgb(248,248,248)",
        "showlegend": false,
        "template": {
         "data": {
          "bar": [
           {
            "error_x": {
             "color": "#2a3f5f"
            },
            "error_y": {
             "color": "#2a3f5f"
            },
            "marker": {
             "line": {
              "color": "#E5ECF6",
              "width": 0.5
             }
            },
            "type": "bar"
           }
          ],
          "barpolar": [
           {
            "marker": {
             "line": {
              "color": "#E5ECF6",
              "width": 0.5
             }
            },
            "type": "barpolar"
           }
          ],
          "carpet": [
           {
            "aaxis": {
             "endlinecolor": "#2a3f5f",
             "gridcolor": "white",
             "linecolor": "white",
             "minorgridcolor": "white",
             "startlinecolor": "#2a3f5f"
            },
            "baxis": {
             "endlinecolor": "#2a3f5f",
             "gridcolor": "white",
             "linecolor": "white",
             "minorgridcolor": "white",
             "startlinecolor": "#2a3f5f"
            },
            "type": "carpet"
           }
          ],
          "choropleth": [
           {
            "colorbar": {
             "outlinewidth": 0,
             "ticks": ""
            },
            "type": "choropleth"
           }
          ],
          "contour": [
           {
            "colorbar": {
             "outlinewidth": 0,
             "ticks": ""
            },
            "colorscale": [
             [
              0,
              "#0d0887"
             ],
             [
              0.1111111111111111,
              "#46039f"
             ],
             [
              0.2222222222222222,
              "#7201a8"
             ],
             [
              0.3333333333333333,
              "#9c179e"
             ],
             [
              0.4444444444444444,
              "#bd3786"
             ],
             [
              0.5555555555555556,
              "#d8576b"
             ],
             [
              0.6666666666666666,
              "#ed7953"
             ],
             [
              0.7777777777777778,
              "#fb9f3a"
             ],
             [
              0.8888888888888888,
              "#fdca26"
             ],
             [
              1,
              "#f0f921"
             ]
            ],
            "type": "contour"
           }
          ],
          "contourcarpet": [
           {
            "colorbar": {
             "outlinewidth": 0,
             "ticks": ""
            },
            "type": "contourcarpet"
           }
          ],
          "heatmap": [
           {
            "colorbar": {
             "outlinewidth": 0,
             "ticks": ""
            },
            "colorscale": [
             [
              0,
              "#0d0887"
             ],
             [
              0.1111111111111111,
              "#46039f"
             ],
             [
              0.2222222222222222,
              "#7201a8"
             ],
             [
              0.3333333333333333,
              "#9c179e"
             ],
             [
              0.4444444444444444,
              "#bd3786"
             ],
             [
              0.5555555555555556,
              "#d8576b"
             ],
             [
              0.6666666666666666,
              "#ed7953"
             ],
             [
              0.7777777777777778,
              "#fb9f3a"
             ],
             [
              0.8888888888888888,
              "#fdca26"
             ],
             [
              1,
              "#f0f921"
             ]
            ],
            "type": "heatmap"
           }
          ],
          "heatmapgl": [
           {
            "colorbar": {
             "outlinewidth": 0,
             "ticks": ""
            },
            "colorscale": [
             [
              0,
              "#0d0887"
             ],
             [
              0.1111111111111111,
              "#46039f"
             ],
             [
              0.2222222222222222,
              "#7201a8"
             ],
             [
              0.3333333333333333,
              "#9c179e"
             ],
             [
              0.4444444444444444,
              "#bd3786"
             ],
             [
              0.5555555555555556,
              "#d8576b"
             ],
             [
              0.6666666666666666,
              "#ed7953"
             ],
             [
              0.7777777777777778,
              "#fb9f3a"
             ],
             [
              0.8888888888888888,
              "#fdca26"
             ],
             [
              1,
              "#f0f921"
             ]
            ],
            "type": "heatmapgl"
           }
          ],
          "histogram": [
           {
            "marker": {
             "colorbar": {
              "outlinewidth": 0,
              "ticks": ""
             }
            },
            "type": "histogram"
           }
          ],
          "histogram2d": [
           {
            "colorbar": {
             "outlinewidth": 0,
             "ticks": ""
            },
            "colorscale": [
             [
              0,
              "#0d0887"
             ],
             [
              0.1111111111111111,
              "#46039f"
             ],
             [
              0.2222222222222222,
              "#7201a8"
             ],
             [
              0.3333333333333333,
              "#9c179e"
             ],
             [
              0.4444444444444444,
              "#bd3786"
             ],
             [
              0.5555555555555556,
              "#d8576b"
             ],
             [
              0.6666666666666666,
              "#ed7953"
             ],
             [
              0.7777777777777778,
              "#fb9f3a"
             ],
             [
              0.8888888888888888,
              "#fdca26"
             ],
             [
              1,
              "#f0f921"
             ]
            ],
            "type": "histogram2d"
           }
          ],
          "histogram2dcontour": [
           {
            "colorbar": {
             "outlinewidth": 0,
             "ticks": ""
            },
            "colorscale": [
             [
              0,
              "#0d0887"
             ],
             [
              0.1111111111111111,
              "#46039f"
             ],
             [
              0.2222222222222222,
              "#7201a8"
             ],
             [
              0.3333333333333333,
              "#9c179e"
             ],
             [
              0.4444444444444444,
              "#bd3786"
             ],
             [
              0.5555555555555556,
              "#d8576b"
             ],
             [
              0.6666666666666666,
              "#ed7953"
             ],
             [
              0.7777777777777778,
              "#fb9f3a"
             ],
             [
              0.8888888888888888,
              "#fdca26"
             ],
             [
              1,
              "#f0f921"
             ]
            ],
            "type": "histogram2dcontour"
           }
          ],
          "mesh3d": [
           {
            "colorbar": {
             "outlinewidth": 0,
             "ticks": ""
            },
            "type": "mesh3d"
           }
          ],
          "parcoords": [
           {
            "line": {
             "colorbar": {
              "outlinewidth": 0,
              "ticks": ""
             }
            },
            "type": "parcoords"
           }
          ],
          "scatter": [
           {
            "marker": {
             "colorbar": {
              "outlinewidth": 0,
              "ticks": ""
             }
            },
            "type": "scatter"
           }
          ],
          "scatter3d": [
           {
            "line": {
             "colorbar": {
              "outlinewidth": 0,
              "ticks": ""
             }
            },
            "marker": {
             "colorbar": {
              "outlinewidth": 0,
              "ticks": ""
             }
            },
            "type": "scatter3d"
           }
          ],
          "scattercarpet": [
           {
            "marker": {
             "colorbar": {
              "outlinewidth": 0,
              "ticks": ""
             }
            },
            "type": "scattercarpet"
           }
          ],
          "scattergeo": [
           {
            "marker": {
             "colorbar": {
              "outlinewidth": 0,
              "ticks": ""
             }
            },
            "type": "scattergeo"
           }
          ],
          "scattergl": [
           {
            "marker": {
             "colorbar": {
              "outlinewidth": 0,
              "ticks": ""
             }
            },
            "type": "scattergl"
           }
          ],
          "scattermapbox": [
           {
            "marker": {
             "colorbar": {
              "outlinewidth": 0,
              "ticks": ""
             }
            },
            "type": "scattermapbox"
           }
          ],
          "scatterpolar": [
           {
            "marker": {
             "colorbar": {
              "outlinewidth": 0,
              "ticks": ""
             }
            },
            "type": "scatterpolar"
           }
          ],
          "scatterpolargl": [
           {
            "marker": {
             "colorbar": {
              "outlinewidth": 0,
              "ticks": ""
             }
            },
            "type": "scatterpolargl"
           }
          ],
          "scatterternary": [
           {
            "marker": {
             "colorbar": {
              "outlinewidth": 0,
              "ticks": ""
             }
            },
            "type": "scatterternary"
           }
          ],
          "surface": [
           {
            "colorbar": {
             "outlinewidth": 0,
             "ticks": ""
            },
            "colorscale": [
             [
              0,
              "#0d0887"
             ],
             [
              0.1111111111111111,
              "#46039f"
             ],
             [
              0.2222222222222222,
              "#7201a8"
             ],
             [
              0.3333333333333333,
              "#9c179e"
             ],
             [
              0.4444444444444444,
              "#bd3786"
             ],
             [
              0.5555555555555556,
              "#d8576b"
             ],
             [
              0.6666666666666666,
              "#ed7953"
             ],
             [
              0.7777777777777778,
              "#fb9f3a"
             ],
             [
              0.8888888888888888,
              "#fdca26"
             ],
             [
              1,
              "#f0f921"
             ]
            ],
            "type": "surface"
           }
          ],
          "table": [
           {
            "cells": {
             "fill": {
              "color": "#EBF0F8"
             },
             "line": {
              "color": "white"
             }
            },
            "header": {
             "fill": {
              "color": "#C8D4E3"
             },
             "line": {
              "color": "white"
             }
            },
            "type": "table"
           }
          ]
         },
         "layout": {
          "annotationdefaults": {
           "arrowcolor": "#2a3f5f",
           "arrowhead": 0,
           "arrowwidth": 1
          },
          "colorscale": {
           "diverging": [
            [
             0,
             "#8e0152"
            ],
            [
             0.1,
             "#c51b7d"
            ],
            [
             0.2,
             "#de77ae"
            ],
            [
             0.3,
             "#f1b6da"
            ],
            [
             0.4,
             "#fde0ef"
            ],
            [
             0.5,
             "#f7f7f7"
            ],
            [
             0.6,
             "#e6f5d0"
            ],
            [
             0.7,
             "#b8e186"
            ],
            [
             0.8,
             "#7fbc41"
            ],
            [
             0.9,
             "#4d9221"
            ],
            [
             1,
             "#276419"
            ]
           ],
           "sequential": [
            [
             0,
             "#0d0887"
            ],
            [
             0.1111111111111111,
             "#46039f"
            ],
            [
             0.2222222222222222,
             "#7201a8"
            ],
            [
             0.3333333333333333,
             "#9c179e"
            ],
            [
             0.4444444444444444,
             "#bd3786"
            ],
            [
             0.5555555555555556,
             "#d8576b"
            ],
            [
             0.6666666666666666,
             "#ed7953"
            ],
            [
             0.7777777777777778,
             "#fb9f3a"
            ],
            [
             0.8888888888888888,
             "#fdca26"
            ],
            [
             1,
             "#f0f921"
            ]
           ],
           "sequentialminus": [
            [
             0,
             "#0d0887"
            ],
            [
             0.1111111111111111,
             "#46039f"
            ],
            [
             0.2222222222222222,
             "#7201a8"
            ],
            [
             0.3333333333333333,
             "#9c179e"
            ],
            [
             0.4444444444444444,
             "#bd3786"
            ],
            [
             0.5555555555555556,
             "#d8576b"
            ],
            [
             0.6666666666666666,
             "#ed7953"
            ],
            [
             0.7777777777777778,
             "#fb9f3a"
            ],
            [
             0.8888888888888888,
             "#fdca26"
            ],
            [
             1,
             "#f0f921"
            ]
           ]
          },
          "colorway": [
           "#636efa",
           "#EF553B",
           "#00cc96",
           "#ab63fa",
           "#FFA15A",
           "#19d3f3",
           "#FF6692",
           "#B6E880",
           "#FF97FF",
           "#FECB52"
          ],
          "font": {
           "color": "#2a3f5f"
          },
          "geo": {
           "bgcolor": "white",
           "lakecolor": "white",
           "landcolor": "#E5ECF6",
           "showlakes": true,
           "showland": true,
           "subunitcolor": "white"
          },
          "hoverlabel": {
           "align": "left"
          },
          "hovermode": "closest",
          "mapbox": {
           "style": "light"
          },
          "paper_bgcolor": "white",
          "plot_bgcolor": "#E5ECF6",
          "polar": {
           "angularaxis": {
            "gridcolor": "white",
            "linecolor": "white",
            "ticks": ""
           },
           "bgcolor": "#E5ECF6",
           "radialaxis": {
            "gridcolor": "white",
            "linecolor": "white",
            "ticks": ""
           }
          },
          "scene": {
           "xaxis": {
            "backgroundcolor": "#E5ECF6",
            "gridcolor": "white",
            "gridwidth": 2,
            "linecolor": "white",
            "showbackground": true,
            "ticks": "",
            "zerolinecolor": "white"
           },
           "yaxis": {
            "backgroundcolor": "#E5ECF6",
            "gridcolor": "white",
            "gridwidth": 2,
            "linecolor": "white",
            "showbackground": true,
            "ticks": "",
            "zerolinecolor": "white"
           },
           "zaxis": {
            "backgroundcolor": "#E5ECF6",
            "gridcolor": "white",
            "gridwidth": 2,
            "linecolor": "white",
            "showbackground": true,
            "ticks": "",
            "zerolinecolor": "white"
           }
          },
          "shapedefaults": {
           "line": {
            "color": "#2a3f5f"
           }
          },
          "ternary": {
           "aaxis": {
            "gridcolor": "white",
            "linecolor": "white",
            "ticks": ""
           },
           "baxis": {
            "gridcolor": "white",
            "linecolor": "white",
            "ticks": ""
           },
           "bgcolor": "#E5ECF6",
           "caxis": {
            "gridcolor": "white",
            "linecolor": "white",
            "ticks": ""
           }
          },
          "title": {
           "x": 0.05
          },
          "xaxis": {
           "automargin": true,
           "gridcolor": "white",
           "linecolor": "white",
           "ticks": "",
           "zerolinecolor": "white",
           "zerolinewidth": 2
          },
          "yaxis": {
           "automargin": true,
           "gridcolor": "white",
           "linecolor": "white",
           "ticks": "",
           "zerolinecolor": "white",
           "zerolinewidth": 2
          }
         }
        },
        "title": {
         "text": "Trie"
        },
        "width": 1000,
        "xaxis": {
         "showgrid": false,
         "showline": false,
         "showticklabels": false,
         "zeroline": false
        },
        "yaxis": {
         "showgrid": false,
         "showline": false,
         "showticklabels": false,
         "zeroline": false
        }
       }
      },
      "text/html": [
       "<div>\n",
       "        \n",
       "        \n",
       "            <div id=\"2ec98fdb-4c6b-450e-b6ab-4c6a743a58b9\" class=\"plotly-graph-div\" style=\"height:800px; width:1000px;\"></div>\n",
       "            <script type=\"text/javascript\">\n",
       "                require([\"plotly\"], function(Plotly) {\n",
       "                    window.PLOTLYENV=window.PLOTLYENV || {};\n",
       "                    \n",
       "                if (document.getElementById(\"2ec98fdb-4c6b-450e-b6ab-4c6a743a58b9\")) {\n",
       "                    Plotly.newPlot(\n",
       "                        '2ec98fdb-4c6b-450e-b6ab-4c6a743a58b9',\n",
       "                        [{\"hoverinfo\": \"none\", \"line\": {\"color\": \"rgb(160,160,160)\", \"width\": 2}, \"mode\": \"lines\", \"type\": \"scatter\", \"uid\": \"43e68ffd-3393-4102-8674-098d8b7941f7\", \"x\": [1822.5, 1822.5, null, 1822.5, 1323.5, null, 1822.5, 1822.5, null, 1822.5, 2155.5, null, 1323.5, 992.49, null, 1323.5, 1323.5, null, 1822.5, 1822.5, null, 2155.5, 2157.5, null, 992.49, 992.49, null, 1323.5, 1323.5, null, 1822.5, 1822.5, null, 2157.5, 2158.5, null, 992.49, 991.49, null, 1323.5, 1323.5, null, 991.49, 990.49, null, 990.49, 988.49, null, 988.49, 825.49, null, 825.49, 492.49, null, 825.49, 825.49, null, 492.49, 489.49, null, 825.49, 825.49, null, 489.49, 159.49, null, 489.49, 489.49, null, 825.49, 825.49, null, 159.49, 157.49, null, 489.49, 489.49, null, 157.49, 156.49, null, 489.49, 489.49, null, 156.49, 156.49, null, 156.49, 156.49, null, 156.49, 156.49, null, 489.49, 489.49, null, 489.49, 490.49, null, 490.49, 490.49, null, 490.49, 490.49, null, 490.49, 490.49, null, 825.49, 825.49, null, 825.49, 825.49, null, 825.49, 825.49, null, 1323.5, 1323.5, null, 1323.5, 1323.5, null, 1323.5, 1323.5, null, 1323.5, 1323.5, null, 1323.5, 1323.5, null, 1323.5, 1323.5, null, 1323.5, 1323.5, null, 1323.5, 1159.5, null, 1323.5, 1490.5, null, 1159.5, 1159.5, null, 1490.5, 1491.5, null, 1159.5, 1159.5, null, 1491.5, 1491.5, null, 1491.5, 1490.5, null, 1490.5, 1490.5, null, 1490.5, 1490.5, null, 1822.5, 1822.5, null, 1822.5, 1822.5, null, 1822.5, 1822.5, null, 1822.5, 1822.5, null, 1822.5, 1822.5, null, 1822.5, 1823.5, null, 1823.5, 1823.5, null, 1823.5, 1823.5, null, 1823.5, 1823.5, null, 1823.5, 1824.5, null, 1824.5, 1824.5, null, 1824.5, 1824.5, null, 2158.5, 2158.5, null, 2158.5, 2158.5, null, 2158.5, 2158.5, null, 2158.5, 2158.5, null, 2158.5, 2158.5, null, 2158.5, 2158.5, null, 2158.5, 2158.5, null, 2158.5, 2158.5, null, 2158.5, 2158.5, null, 2158.5, 2158.5, null], \"y\": [1314.0, 1242.0, null, 1242.0, 1170.0, null, 1242.0, 1170.0, null, 1242.0, 1170.0, null, 1170.0, 1098.0, null, 1170.0, 1098.0, null, 1170.0, 1098.0, null, 1170.0, 1098.0, null, 1098.0, 1026.0, null, 1098.0, 1026.0, null, 1098.0, 1026.0, null, 1098.0, 1026.0, null, 1026.0, 954.0, null, 1026.0, 954.0, null, 954.0, 882.0, null, 882.0, 810.0, null, 810.0, 738.0, null, 738.0, 666.0, null, 738.0, 666.0, null, 666.0, 594.0, null, 666.0, 594.0, null, 594.0, 522.0, null, 594.0, 522.0, null, 594.0, 522.0, null, 522.0, 450.0, null, 522.0, 450.0, null, 450.0, 378.0, null, 450.0, 378.0, null, 378.0, 306.0, null, 306.0, 234.0, null, 234.0, 162.0, null, 378.0, 306.0, null, 306.0, 234.0, null, 234.0, 162.0, null, 162.0, 90.0, null, 90.0, 18.0, null, 522.0, 450.0, null, 450.0, 378.0, null, 378.0, 306.0, null, 954.0, 882.0, null, 882.0, 810.0, null, 810.0, 738.0, null, 738.0, 666.0, null, 666.0, 594.0, null, 594.0, 522.0, null, 522.0, 450.0, null, 450.0, 378.0, null, 450.0, 378.0, null, 378.0, 306.0, null, 378.0, 306.0, null, 306.0, 234.0, null, 306.0, 234.0, null, 234.0, 162.0, null, 162.0, 90.0, null, 90.0, 18.0, null, 1026.0, 954.0, null, 954.0, 882.0, null, 882.0, 810.0, null, 810.0, 738.0, null, 738.0, 666.0, null, 666.0, 594.0, null, 594.0, 522.0, null, 522.0, 450.0, null, 450.0, 378.0, null, 378.0, 306.0, null, 306.0, 234.0, null, 234.0, 162.0, null, 1026.0, 954.0, null, 954.0, 882.0, null, 882.0, 810.0, null, 810.0, 738.0, null, 738.0, 666.0, null, 666.0, 594.0, null, 594.0, 522.0, null, 522.0, 450.0, null, 450.0, 378.0, null, 378.0, 306.0, null]}, {\"hoverinfo\": \"none\", \"marker\": {\"color\": \"rgb(100,100,100)\", \"line\": {\"color\": \"rgb(100,100,100)\", \"width\": 1}, \"size\": 18}, \"mode\": \"markers+text\", \"name\": \"\", \"text\": [null], \"type\": \"scatter\", \"uid\": \"c7c3b4b2-309f-41a0-819a-9a39044256ec\", \"x\": [1822.5], \"y\": [1314.0]}, {\"hoverinfo\": \"none\", \"marker\": {\"color\": \"rgb(101,214,67)\", \"line\": {\"color\": \"rgb(100,100,100)\", \"width\": 1}, \"size\": 18}, \"mode\": \"markers+text\", \"name\": \"\", \"text\": [\"dynamic\", \"dynamic\", \"dynamic\", \"dynamic\"], \"type\": \"scatter\", \"uid\": \"19149b5f-be36-4347-951c-01b8a677fc1d\", \"x\": [988.49, 1159.5, 1822.5, 2158.5], \"y\": [810.0, 234.0, 738.0, 738.0]}, {\"hoverinfo\": \"none\", \"marker\": {\"color\": \"rgb(247,185,43)\", \"line\": {\"color\": \"rgb(100,100,100)\", \"width\": 1}, \"size\": 18}, \"mode\": \"markers+text\", \"name\": \"\", \"text\": [\"/\", \"/\", \"/\", \"/\", \"/\", \"/\", \"/\", \"/\"], \"type\": \"scatter\", \"uid\": \"ab8253c4-3f2d-414d-8a20-0c5e676186e7\", \"x\": [1822.5, 990.49, 825.49, 1159.5, 1822.5, 1822.5, 2158.5, 2158.5], \"y\": [1242.0, 882.0, 738.0, 306.0, 810.0, 666.0, 810.0, 666.0]}, {\"hoverinfo\": \"none\", \"marker\": {\"color\": \"rgb(24,140,216)\", \"line\": {\"color\": \"rgb(100,100,100)\", \"width\": 1}, \"size\": 18}, \"mode\": \"markers+text\", \"name\": \"\", \"text\": [\"a\", \"u\", \"p\", \"p\", \"c\", \"s\", \"o\", \"p\", \"h\", \"s\", \"a\", \"e\", \"c\", \"v\", \"c\", \"t\", \"o\", \"i\", \"u\", \"n\", \"t\", \"s\", \"v\", \"i\", \"t\", \"i\", \"e\", \"s\", \"e\", \"n\", \"t\", \"s\", \"i\", \"e\", \"v\", \"e\", \"m\", \"e\", \"n\", \"t\", \"s\", \"-\", \"t\", \"y\", \"p\", \"e\", \"s\", \"e\", \"r\", \"s\", \"f\", \"r\", \"i\", \"e\", \"n\", \"d\", \"s\", \"s\", \"t\", \"s\", \"l\", \"i\", \"k\", \"e\", \"s\"], \"type\": \"scatter\", \"uid\": \"1246c3e4-df2d-4f55-bdee-e04eb54693c7\", \"x\": [1323.5, 1822.5, 2155.5, 992.49, 1323.5, 1822.5, 2157.5, 992.49, 1323.5, 991.49, 492.49, 825.49, 489.49, 825.49, 159.49, 489.49, 157.49, 489.49, 156.49, 156.49, 156.49, 156.49, 489.49, 489.49, 490.49, 490.49, 490.49, 490.49, 825.49, 825.49, 825.49, 825.49, 1323.5, 1323.5, 1323.5, 1323.5, 1323.5, 1323.5, 1323.5, 1323.5, 1159.5, 1490.5, 1491.5, 1491.5, 1490.5, 1490.5, 1490.5, 1822.5, 1822.5, 1822.5, 1823.5, 1823.5, 1823.5, 1823.5, 1824.5, 1824.5, 1824.5, 2158.5, 2158.5, 2158.5, 2158.5, 2158.5, 2158.5, 2158.5, 2158.5], \"y\": [1170.0, 1170.0, 1170.0, 1098.0, 1098.0, 1098.0, 1098.0, 1026.0, 1026.0, 954.0, 666.0, 666.0, 594.0, 594.0, 522.0, 522.0, 450.0, 450.0, 378.0, 306.0, 234.0, 162.0, 378.0, 306.0, 234.0, 162.0, 90.0, 18.0, 522.0, 450.0, 378.0, 306.0, 954.0, 882.0, 810.0, 738.0, 666.0, 594.0, 522.0, 450.0, 378.0, 378.0, 306.0, 234.0, 162.0, 90.0, 18.0, 1026.0, 954.0, 882.0, 594.0, 522.0, 450.0, 378.0, 306.0, 234.0, 162.0, 1026.0, 954.0, 882.0, 594.0, 522.0, 450.0, 378.0, 306.0]}],\n",
       "                        {\"font\": {\"size\": 15}, \"height\": 800, \"hovermode\": \"closest\", \"margin\": {\"b\": 85, \"l\": 40, \"r\": 40, \"t\": 100}, \"plot_bgcolor\": \"rgb(248,248,248)\", \"showlegend\": false, \"template\": {\"data\": {\"bar\": [{\"error_x\": {\"color\": \"#2a3f5f\"}, \"error_y\": {\"color\": \"#2a3f5f\"}, \"marker\": {\"line\": {\"color\": \"#E5ECF6\", \"width\": 0.5}}, \"type\": \"bar\"}], \"barpolar\": [{\"marker\": {\"line\": {\"color\": \"#E5ECF6\", \"width\": 0.5}}, \"type\": \"barpolar\"}], \"carpet\": [{\"aaxis\": {\"endlinecolor\": \"#2a3f5f\", \"gridcolor\": \"white\", \"linecolor\": \"white\", \"minorgridcolor\": \"white\", \"startlinecolor\": \"#2a3f5f\"}, \"baxis\": {\"endlinecolor\": \"#2a3f5f\", \"gridcolor\": \"white\", \"linecolor\": \"white\", \"minorgridcolor\": \"white\", \"startlinecolor\": \"#2a3f5f\"}, \"type\": \"carpet\"}], \"choropleth\": [{\"colorbar\": {\"outlinewidth\": 0, \"ticks\": \"\"}, \"type\": \"choropleth\"}], \"contour\": [{\"colorbar\": {\"outlinewidth\": 0, \"ticks\": \"\"}, \"colorscale\": [[0.0, \"#0d0887\"], [0.1111111111111111, \"#46039f\"], [0.2222222222222222, \"#7201a8\"], [0.3333333333333333, \"#9c179e\"], [0.4444444444444444, \"#bd3786\"], [0.5555555555555556, \"#d8576b\"], [0.6666666666666666, \"#ed7953\"], [0.7777777777777778, \"#fb9f3a\"], [0.8888888888888888, \"#fdca26\"], [1.0, \"#f0f921\"]], \"type\": \"contour\"}], \"contourcarpet\": [{\"colorbar\": {\"outlinewidth\": 0, \"ticks\": \"\"}, \"type\": \"contourcarpet\"}], \"heatmap\": [{\"colorbar\": {\"outlinewidth\": 0, \"ticks\": \"\"}, \"colorscale\": [[0.0, \"#0d0887\"], [0.1111111111111111, \"#46039f\"], [0.2222222222222222, \"#7201a8\"], [0.3333333333333333, \"#9c179e\"], [0.4444444444444444, \"#bd3786\"], [0.5555555555555556, \"#d8576b\"], [0.6666666666666666, \"#ed7953\"], [0.7777777777777778, \"#fb9f3a\"], [0.8888888888888888, \"#fdca26\"], [1.0, \"#f0f921\"]], \"type\": \"heatmap\"}], \"heatmapgl\": [{\"colorbar\": {\"outlinewidth\": 0, \"ticks\": \"\"}, \"colorscale\": [[0.0, \"#0d0887\"], [0.1111111111111111, \"#46039f\"], [0.2222222222222222, \"#7201a8\"], [0.3333333333333333, \"#9c179e\"], [0.4444444444444444, \"#bd3786\"], [0.5555555555555556, \"#d8576b\"], [0.6666666666666666, \"#ed7953\"], [0.7777777777777778, \"#fb9f3a\"], [0.8888888888888888, \"#fdca26\"], [1.0, \"#f0f921\"]], \"type\": \"heatmapgl\"}], \"histogram\": [{\"marker\": {\"colorbar\": {\"outlinewidth\": 0, \"ticks\": \"\"}}, \"type\": \"histogram\"}], \"histogram2d\": [{\"colorbar\": {\"outlinewidth\": 0, \"ticks\": \"\"}, \"colorscale\": [[0.0, \"#0d0887\"], [0.1111111111111111, \"#46039f\"], [0.2222222222222222, \"#7201a8\"], [0.3333333333333333, \"#9c179e\"], [0.4444444444444444, \"#bd3786\"], [0.5555555555555556, \"#d8576b\"], [0.6666666666666666, \"#ed7953\"], [0.7777777777777778, \"#fb9f3a\"], [0.8888888888888888, \"#fdca26\"], [1.0, \"#f0f921\"]], \"type\": \"histogram2d\"}], \"histogram2dcontour\": [{\"colorbar\": {\"outlinewidth\": 0, \"ticks\": \"\"}, \"colorscale\": [[0.0, \"#0d0887\"], [0.1111111111111111, \"#46039f\"], [0.2222222222222222, \"#7201a8\"], [0.3333333333333333, \"#9c179e\"], [0.4444444444444444, \"#bd3786\"], [0.5555555555555556, \"#d8576b\"], [0.6666666666666666, \"#ed7953\"], [0.7777777777777778, \"#fb9f3a\"], [0.8888888888888888, \"#fdca26\"], [1.0, \"#f0f921\"]], \"type\": \"histogram2dcontour\"}], \"mesh3d\": [{\"colorbar\": {\"outlinewidth\": 0, \"ticks\": \"\"}, \"type\": \"mesh3d\"}], \"parcoords\": [{\"line\": {\"colorbar\": {\"outlinewidth\": 0, \"ticks\": \"\"}}, \"type\": \"parcoords\"}], \"scatter\": [{\"marker\": {\"colorbar\": {\"outlinewidth\": 0, \"ticks\": \"\"}}, \"type\": \"scatter\"}], \"scatter3d\": [{\"line\": {\"colorbar\": {\"outlinewidth\": 0, \"ticks\": \"\"}}, \"marker\": {\"colorbar\": {\"outlinewidth\": 0, \"ticks\": \"\"}}, \"type\": \"scatter3d\"}], \"scattercarpet\": [{\"marker\": {\"colorbar\": {\"outlinewidth\": 0, \"ticks\": \"\"}}, \"type\": \"scattercarpet\"}], \"scattergeo\": [{\"marker\": {\"colorbar\": {\"outlinewidth\": 0, \"ticks\": \"\"}}, \"type\": \"scattergeo\"}], \"scattergl\": [{\"marker\": {\"colorbar\": {\"outlinewidth\": 0, \"ticks\": \"\"}}, \"type\": \"scattergl\"}], \"scattermapbox\": [{\"marker\": {\"colorbar\": {\"outlinewidth\": 0, \"ticks\": \"\"}}, \"type\": \"scattermapbox\"}], \"scatterpolar\": [{\"marker\": {\"colorbar\": {\"outlinewidth\": 0, \"ticks\": \"\"}}, \"type\": \"scatterpolar\"}], \"scatterpolargl\": [{\"marker\": {\"colorbar\": {\"outlinewidth\": 0, \"ticks\": \"\"}}, \"type\": \"scatterpolargl\"}], \"scatterternary\": [{\"marker\": {\"colorbar\": {\"outlinewidth\": 0, \"ticks\": \"\"}}, \"type\": \"scatterternary\"}], \"surface\": [{\"colorbar\": {\"outlinewidth\": 0, \"ticks\": \"\"}, \"colorscale\": [[0.0, \"#0d0887\"], [0.1111111111111111, \"#46039f\"], [0.2222222222222222, \"#7201a8\"], [0.3333333333333333, \"#9c179e\"], [0.4444444444444444, \"#bd3786\"], [0.5555555555555556, \"#d8576b\"], [0.6666666666666666, \"#ed7953\"], [0.7777777777777778, \"#fb9f3a\"], [0.8888888888888888, \"#fdca26\"], [1.0, \"#f0f921\"]], \"type\": \"surface\"}], \"table\": [{\"cells\": {\"fill\": {\"color\": \"#EBF0F8\"}, \"line\": {\"color\": \"white\"}}, \"header\": {\"fill\": {\"color\": \"#C8D4E3\"}, \"line\": {\"color\": \"white\"}}, \"type\": \"table\"}]}, \"layout\": {\"annotationdefaults\": {\"arrowcolor\": \"#2a3f5f\", \"arrowhead\": 0, \"arrowwidth\": 1}, \"colorscale\": {\"diverging\": [[0, \"#8e0152\"], [0.1, \"#c51b7d\"], [0.2, \"#de77ae\"], [0.3, \"#f1b6da\"], [0.4, \"#fde0ef\"], [0.5, \"#f7f7f7\"], [0.6, \"#e6f5d0\"], [0.7, \"#b8e186\"], [0.8, \"#7fbc41\"], [0.9, \"#4d9221\"], [1, \"#276419\"]], \"sequential\": [[0.0, \"#0d0887\"], [0.1111111111111111, \"#46039f\"], [0.2222222222222222, \"#7201a8\"], [0.3333333333333333, \"#9c179e\"], [0.4444444444444444, \"#bd3786\"], [0.5555555555555556, \"#d8576b\"], [0.6666666666666666, \"#ed7953\"], [0.7777777777777778, \"#fb9f3a\"], [0.8888888888888888, \"#fdca26\"], [1.0, \"#f0f921\"]], \"sequentialminus\": [[0.0, \"#0d0887\"], [0.1111111111111111, \"#46039f\"], [0.2222222222222222, \"#7201a8\"], [0.3333333333333333, \"#9c179e\"], [0.4444444444444444, \"#bd3786\"], [0.5555555555555556, \"#d8576b\"], [0.6666666666666666, \"#ed7953\"], [0.7777777777777778, \"#fb9f3a\"], [0.8888888888888888, \"#fdca26\"], [1.0, \"#f0f921\"]]}, \"colorway\": [\"#636efa\", \"#EF553B\", \"#00cc96\", \"#ab63fa\", \"#FFA15A\", \"#19d3f3\", \"#FF6692\", \"#B6E880\", \"#FF97FF\", \"#FECB52\"], \"font\": {\"color\": \"#2a3f5f\"}, \"geo\": {\"bgcolor\": \"white\", \"lakecolor\": \"white\", \"landcolor\": \"#E5ECF6\", \"showlakes\": true, \"showland\": true, \"subunitcolor\": \"white\"}, \"hoverlabel\": {\"align\": \"left\"}, \"hovermode\": \"closest\", \"mapbox\": {\"style\": \"light\"}, \"paper_bgcolor\": \"white\", \"plot_bgcolor\": \"#E5ECF6\", \"polar\": {\"angularaxis\": {\"gridcolor\": \"white\", \"linecolor\": \"white\", \"ticks\": \"\"}, \"bgcolor\": \"#E5ECF6\", \"radialaxis\": {\"gridcolor\": \"white\", \"linecolor\": \"white\", \"ticks\": \"\"}}, \"scene\": {\"xaxis\": {\"backgroundcolor\": \"#E5ECF6\", \"gridcolor\": \"white\", \"gridwidth\": 2, \"linecolor\": \"white\", \"showbackground\": true, \"ticks\": \"\", \"zerolinecolor\": \"white\"}, \"yaxis\": {\"backgroundcolor\": \"#E5ECF6\", \"gridcolor\": \"white\", \"gridwidth\": 2, \"linecolor\": \"white\", \"showbackground\": true, \"ticks\": \"\", \"zerolinecolor\": \"white\"}, \"zaxis\": {\"backgroundcolor\": \"#E5ECF6\", \"gridcolor\": \"white\", \"gridwidth\": 2, \"linecolor\": \"white\", \"showbackground\": true, \"ticks\": \"\", \"zerolinecolor\": \"white\"}}, \"shapedefaults\": {\"line\": {\"color\": \"#2a3f5f\"}}, \"ternary\": {\"aaxis\": {\"gridcolor\": \"white\", \"linecolor\": \"white\", \"ticks\": \"\"}, \"baxis\": {\"gridcolor\": \"white\", \"linecolor\": \"white\", \"ticks\": \"\"}, \"bgcolor\": \"#E5ECF6\", \"caxis\": {\"gridcolor\": \"white\", \"linecolor\": \"white\", \"ticks\": \"\"}}, \"title\": {\"x\": 0.05}, \"xaxis\": {\"automargin\": true, \"gridcolor\": \"white\", \"linecolor\": \"white\", \"ticks\": \"\", \"zerolinecolor\": \"white\", \"zerolinewidth\": 2}, \"yaxis\": {\"automargin\": true, \"gridcolor\": \"white\", \"linecolor\": \"white\", \"ticks\": \"\", \"zerolinecolor\": \"white\", \"zerolinewidth\": 2}}}, \"title\": {\"text\": \"Trie\"}, \"width\": 1000, \"xaxis\": {\"showgrid\": false, \"showline\": false, \"showticklabels\": false, \"zeroline\": false}, \"yaxis\": {\"showgrid\": false, \"showline\": false, \"showticklabels\": false, \"zeroline\": false}},\n",
       "                        {\"responsive\": true}\n",
       "                    ).then(function(){\n",
       "                            \n",
       "var gd = document.getElementById('2ec98fdb-4c6b-450e-b6ab-4c6a743a58b9');\n",
       "var x = new MutationObserver(function (mutations, observer) {{\n",
       "        var display = window.getComputedStyle(gd).display;\n",
       "        if (!display || display === 'none') {{\n",
       "            console.log([gd, 'removed!']);\n",
       "            Plotly.purge(gd);\n",
       "            observer.disconnect();\n",
       "        }}\n",
       "}});\n",
       "\n",
       "// Listen for the removal of the full notebook cells\n",
       "var notebookContainer = gd.closest('#notebook-container');\n",
       "if (notebookContainer) {{\n",
       "    x.observe(notebookContainer, {childList: true});\n",
       "}}\n",
       "\n",
       "// Listen for the clearing of the current output cell\n",
       "var outputEl = gd.closest('.output');\n",
       "if (outputEl) {{\n",
       "    x.observe(outputEl, {childList: true});\n",
       "}}\n",
       "\n",
       "                        })\n",
       "                };\n",
       "                });\n",
       "            </script>\n",
       "        </div>"
      ]
     },
     "metadata": {},
     "output_type": "display_data"
    },
    {
     "data": {
      "application/vnd.plotly.v1+json": {
       "config": {
        "plotlyServerURL": "https://plot.ly"
       },
       "data": [
        {
         "hoverinfo": "none",
         "line": {
          "color": "rgb(160,160,160)",
          "width": 2
         },
         "mode": "lines",
         "type": "scatter",
         "uid": "b5892326-d3d5-4170-b65a-ef7ec2d26a66",
         "x": [
          1822.5,
          1822.5,
          null,
          1822.5,
          1323.5,
          null,
          1822.5,
          1822.5,
          null,
          1822.5,
          2155.5,
          null,
          1323.5,
          992.49,
          null,
          1323.5,
          1323.5,
          null,
          1822.5,
          1822.5,
          null,
          2155.5,
          2157.5,
          null,
          992.49,
          992.49,
          null,
          1323.5,
          1323.5,
          null,
          1822.5,
          1822.5,
          null,
          2157.5,
          2158.5,
          null,
          992.49,
          991.49,
          null,
          1323.5,
          1323.5,
          null,
          991.49,
          990.49,
          null,
          990.49,
          988.49,
          null,
          988.49,
          825.49,
          null,
          825.49,
          492.49,
          null,
          825.49,
          825.49,
          null,
          492.49,
          489.49,
          null,
          825.49,
          825.49,
          null,
          489.49,
          159.49,
          null,
          489.49,
          489.49,
          null,
          825.49,
          825.49,
          null,
          159.49,
          157.49,
          null,
          489.49,
          489.49,
          null,
          157.49,
          156.49,
          null,
          489.49,
          489.49,
          null,
          156.49,
          156.49,
          null,
          156.49,
          156.49,
          null,
          156.49,
          156.49,
          null,
          489.49,
          489.49,
          null,
          489.49,
          490.49,
          null,
          490.49,
          490.49,
          null,
          490.49,
          490.49,
          null,
          490.49,
          490.49,
          null,
          825.49,
          825.49,
          null,
          825.49,
          825.49,
          null,
          825.49,
          825.49,
          null,
          1323.5,
          1323.5,
          null,
          1323.5,
          1323.5,
          null,
          1323.5,
          1323.5,
          null,
          1323.5,
          1323.5,
          null,
          1323.5,
          1323.5,
          null,
          1323.5,
          1323.5,
          null,
          1323.5,
          1323.5,
          null,
          1323.5,
          1159.5,
          null,
          1323.5,
          1490.5,
          null,
          1159.5,
          1159.5,
          null,
          1490.5,
          1491.5,
          null,
          1159.5,
          1159.5,
          null,
          1491.5,
          1491.5,
          null,
          1491.5,
          1490.5,
          null,
          1490.5,
          1490.5,
          null,
          1490.5,
          1490.5,
          null,
          1822.5,
          1822.5,
          null,
          1822.5,
          1822.5,
          null,
          1822.5,
          1822.5,
          null,
          1822.5,
          1822.5,
          null,
          1822.5,
          1822.5,
          null,
          1822.5,
          1823.5,
          null,
          1823.5,
          1823.5,
          null,
          1823.5,
          1823.5,
          null,
          1823.5,
          1823.5,
          null,
          1823.5,
          1824.5,
          null,
          1824.5,
          1824.5,
          null,
          1824.5,
          1824.5,
          null,
          2158.5,
          2158.5,
          null,
          2158.5,
          2158.5,
          null,
          2158.5,
          2158.5,
          null,
          2158.5,
          2158.5,
          null,
          2158.5,
          2158.5,
          null,
          2158.5,
          2158.5,
          null,
          2158.5,
          2158.5,
          null,
          2158.5,
          2158.5,
          null,
          2158.5,
          2158.5,
          null,
          2158.5,
          2158.5,
          null
         ],
         "y": [
          1314,
          1242,
          null,
          1242,
          1170,
          null,
          1242,
          1170,
          null,
          1242,
          1170,
          null,
          1170,
          1098,
          null,
          1170,
          1098,
          null,
          1170,
          1098,
          null,
          1170,
          1098,
          null,
          1098,
          1026,
          null,
          1098,
          1026,
          null,
          1098,
          1026,
          null,
          1098,
          1026,
          null,
          1026,
          954,
          null,
          1026,
          954,
          null,
          954,
          882,
          null,
          882,
          810,
          null,
          810,
          738,
          null,
          738,
          666,
          null,
          738,
          666,
          null,
          666,
          594,
          null,
          666,
          594,
          null,
          594,
          522,
          null,
          594,
          522,
          null,
          594,
          522,
          null,
          522,
          450,
          null,
          522,
          450,
          null,
          450,
          378,
          null,
          450,
          378,
          null,
          378,
          306,
          null,
          306,
          234,
          null,
          234,
          162,
          null,
          378,
          306,
          null,
          306,
          234,
          null,
          234,
          162,
          null,
          162,
          90,
          null,
          90,
          18,
          null,
          522,
          450,
          null,
          450,
          378,
          null,
          378,
          306,
          null,
          954,
          882,
          null,
          882,
          810,
          null,
          810,
          738,
          null,
          738,
          666,
          null,
          666,
          594,
          null,
          594,
          522,
          null,
          522,
          450,
          null,
          450,
          378,
          null,
          450,
          378,
          null,
          378,
          306,
          null,
          378,
          306,
          null,
          306,
          234,
          null,
          306,
          234,
          null,
          234,
          162,
          null,
          162,
          90,
          null,
          90,
          18,
          null,
          1026,
          954,
          null,
          954,
          882,
          null,
          882,
          810,
          null,
          810,
          738,
          null,
          738,
          666,
          null,
          666,
          594,
          null,
          594,
          522,
          null,
          522,
          450,
          null,
          450,
          378,
          null,
          378,
          306,
          null,
          306,
          234,
          null,
          234,
          162,
          null,
          1026,
          954,
          null,
          954,
          882,
          null,
          882,
          810,
          null,
          810,
          738,
          null,
          738,
          666,
          null,
          666,
          594,
          null,
          594,
          522,
          null,
          522,
          450,
          null,
          450,
          378,
          null,
          378,
          306,
          null
         ]
        },
        {
         "hoverinfo": "none",
         "marker": {
          "color": "rgb(100,100,100)",
          "line": {
           "color": "rgb(100,100,100)",
           "width": 1
          },
          "size": 18
         },
         "mode": "markers+text",
         "name": "",
         "text": [
          null
         ],
         "type": "scatter",
         "uid": "e660ba3c-b9a6-468d-9820-3e004aaef5be",
         "x": [
          1822.5
         ],
         "y": [
          1314
         ]
        },
        {
         "hoverinfo": "none",
         "marker": {
          "color": "rgb(101,214,67)",
          "line": {
           "color": "rgb(100,100,100)",
           "width": 1
          },
          "size": 18
         },
         "mode": "markers+text",
         "name": "",
         "text": [
          "dynamic",
          "dynamic",
          "dynamic",
          "dynamic"
         ],
         "type": "scatter",
         "uid": "026964a5-35d4-456d-9639-7791e9ef304b",
         "x": [
          988.49,
          1159.5,
          1822.5,
          2158.5
         ],
         "y": [
          810,
          234,
          738,
          738
         ]
        },
        {
         "hoverinfo": "none",
         "marker": {
          "color": "rgb(247,185,43)",
          "line": {
           "color": "rgb(100,100,100)",
           "width": 1
          },
          "size": 18
         },
         "mode": "markers+text",
         "name": "",
         "text": [
          "/",
          "/",
          "/",
          "/",
          "/",
          "/",
          "/",
          "/"
         ],
         "type": "scatter",
         "uid": "d0dd894b-90c3-46f2-9e3a-46c5cd22a18a",
         "x": [
          1822.5,
          990.49,
          825.49,
          1159.5,
          1822.5,
          1822.5,
          2158.5,
          2158.5
         ],
         "y": [
          1242,
          882,
          738,
          306,
          810,
          666,
          810,
          666
         ]
        },
        {
         "hoverinfo": "none",
         "marker": {
          "color": "rgb(24,140,216)",
          "line": {
           "color": "rgb(100,100,100)",
           "width": 1
          },
          "size": 18
         },
         "mode": "markers+text",
         "name": "",
         "text": [
          "a",
          "u",
          "p",
          "p",
          "c",
          "s",
          "o",
          "p",
          "h",
          "s",
          "a",
          "e",
          "c",
          "v",
          "c",
          "t",
          "o",
          "i",
          "u",
          "n",
          "t",
          "s",
          "v",
          "i",
          "t",
          "i",
          "e",
          "s",
          "e",
          "n",
          "t",
          "s",
          "i",
          "e",
          "v",
          "e",
          "m",
          "e",
          "n",
          "t",
          "s",
          "-",
          "t",
          "y",
          "p",
          "e",
          "s",
          "e",
          "r",
          "s",
          "f",
          "r",
          "i",
          "e",
          "n",
          "d",
          "s",
          "s",
          "t",
          "s",
          "l",
          "i",
          "k",
          "e",
          "s"
         ],
         "type": "scatter",
         "uid": "7ca88459-2205-466f-a348-60436115ffc6",
         "x": [
          1323.5,
          1822.5,
          2155.5,
          992.49,
          1323.5,
          1822.5,
          2157.5,
          992.49,
          1323.5,
          991.49,
          492.49,
          825.49,
          489.49,
          825.49,
          159.49,
          489.49,
          157.49,
          489.49,
          156.49,
          156.49,
          156.49,
          156.49,
          489.49,
          489.49,
          490.49,
          490.49,
          490.49,
          490.49,
          825.49,
          825.49,
          825.49,
          825.49,
          1323.5,
          1323.5,
          1323.5,
          1323.5,
          1323.5,
          1323.5,
          1323.5,
          1323.5,
          1159.5,
          1490.5,
          1491.5,
          1491.5,
          1490.5,
          1490.5,
          1490.5,
          1822.5,
          1822.5,
          1822.5,
          1823.5,
          1823.5,
          1823.5,
          1823.5,
          1824.5,
          1824.5,
          1824.5,
          2158.5,
          2158.5,
          2158.5,
          2158.5,
          2158.5,
          2158.5,
          2158.5,
          2158.5
         ],
         "y": [
          1170,
          1170,
          1170,
          1098,
          1098,
          1098,
          1098,
          1026,
          1026,
          954,
          666,
          666,
          594,
          594,
          522,
          522,
          450,
          450,
          378,
          306,
          234,
          162,
          378,
          306,
          234,
          162,
          90,
          18,
          522,
          450,
          378,
          306,
          954,
          882,
          810,
          738,
          666,
          594,
          522,
          450,
          378,
          378,
          306,
          234,
          162,
          90,
          18,
          1026,
          954,
          882,
          594,
          522,
          450,
          378,
          306,
          234,
          162,
          1026,
          954,
          882,
          594,
          522,
          450,
          378,
          306
         ]
        }
       ],
       "layout": {
        "font": {
         "size": 15
        },
        "height": 800,
        "hovermode": "closest",
        "margin": {
         "b": 85,
         "l": 40,
         "r": 40,
         "t": 100
        },
        "plot_bgcolor": "rgb(248,248,248)",
        "showlegend": false,
        "template": {
         "data": {
          "bar": [
           {
            "error_x": {
             "color": "#2a3f5f"
            },
            "error_y": {
             "color": "#2a3f5f"
            },
            "marker": {
             "line": {
              "color": "#E5ECF6",
              "width": 0.5
             }
            },
            "type": "bar"
           }
          ],
          "barpolar": [
           {
            "marker": {
             "line": {
              "color": "#E5ECF6",
              "width": 0.5
             }
            },
            "type": "barpolar"
           }
          ],
          "carpet": [
           {
            "aaxis": {
             "endlinecolor": "#2a3f5f",
             "gridcolor": "white",
             "linecolor": "white",
             "minorgridcolor": "white",
             "startlinecolor": "#2a3f5f"
            },
            "baxis": {
             "endlinecolor": "#2a3f5f",
             "gridcolor": "white",
             "linecolor": "white",
             "minorgridcolor": "white",
             "startlinecolor": "#2a3f5f"
            },
            "type": "carpet"
           }
          ],
          "choropleth": [
           {
            "colorbar": {
             "outlinewidth": 0,
             "ticks": ""
            },
            "type": "choropleth"
           }
          ],
          "contour": [
           {
            "colorbar": {
             "outlinewidth": 0,
             "ticks": ""
            },
            "colorscale": [
             [
              0,
              "#0d0887"
             ],
             [
              0.1111111111111111,
              "#46039f"
             ],
             [
              0.2222222222222222,
              "#7201a8"
             ],
             [
              0.3333333333333333,
              "#9c179e"
             ],
             [
              0.4444444444444444,
              "#bd3786"
             ],
             [
              0.5555555555555556,
              "#d8576b"
             ],
             [
              0.6666666666666666,
              "#ed7953"
             ],
             [
              0.7777777777777778,
              "#fb9f3a"
             ],
             [
              0.8888888888888888,
              "#fdca26"
             ],
             [
              1,
              "#f0f921"
             ]
            ],
            "type": "contour"
           }
          ],
          "contourcarpet": [
           {
            "colorbar": {
             "outlinewidth": 0,
             "ticks": ""
            },
            "type": "contourcarpet"
           }
          ],
          "heatmap": [
           {
            "colorbar": {
             "outlinewidth": 0,
             "ticks": ""
            },
            "colorscale": [
             [
              0,
              "#0d0887"
             ],
             [
              0.1111111111111111,
              "#46039f"
             ],
             [
              0.2222222222222222,
              "#7201a8"
             ],
             [
              0.3333333333333333,
              "#9c179e"
             ],
             [
              0.4444444444444444,
              "#bd3786"
             ],
             [
              0.5555555555555556,
              "#d8576b"
             ],
             [
              0.6666666666666666,
              "#ed7953"
             ],
             [
              0.7777777777777778,
              "#fb9f3a"
             ],
             [
              0.8888888888888888,
              "#fdca26"
             ],
             [
              1,
              "#f0f921"
             ]
            ],
            "type": "heatmap"
           }
          ],
          "heatmapgl": [
           {
            "colorbar": {
             "outlinewidth": 0,
             "ticks": ""
            },
            "colorscale": [
             [
              0,
              "#0d0887"
             ],
             [
              0.1111111111111111,
              "#46039f"
             ],
             [
              0.2222222222222222,
              "#7201a8"
             ],
             [
              0.3333333333333333,
              "#9c179e"
             ],
             [
              0.4444444444444444,
              "#bd3786"
             ],
             [
              0.5555555555555556,
              "#d8576b"
             ],
             [
              0.6666666666666666,
              "#ed7953"
             ],
             [
              0.7777777777777778,
              "#fb9f3a"
             ],
             [
              0.8888888888888888,
              "#fdca26"
             ],
             [
              1,
              "#f0f921"
             ]
            ],
            "type": "heatmapgl"
           }
          ],
          "histogram": [
           {
            "marker": {
             "colorbar": {
              "outlinewidth": 0,
              "ticks": ""
             }
            },
            "type": "histogram"
           }
          ],
          "histogram2d": [
           {
            "colorbar": {
             "outlinewidth": 0,
             "ticks": ""
            },
            "colorscale": [
             [
              0,
              "#0d0887"
             ],
             [
              0.1111111111111111,
              "#46039f"
             ],
             [
              0.2222222222222222,
              "#7201a8"
             ],
             [
              0.3333333333333333,
              "#9c179e"
             ],
             [
              0.4444444444444444,
              "#bd3786"
             ],
             [
              0.5555555555555556,
              "#d8576b"
             ],
             [
              0.6666666666666666,
              "#ed7953"
             ],
             [
              0.7777777777777778,
              "#fb9f3a"
             ],
             [
              0.8888888888888888,
              "#fdca26"
             ],
             [
              1,
              "#f0f921"
             ]
            ],
            "type": "histogram2d"
           }
          ],
          "histogram2dcontour": [
           {
            "colorbar": {
             "outlinewidth": 0,
             "ticks": ""
            },
            "colorscale": [
             [
              0,
              "#0d0887"
             ],
             [
              0.1111111111111111,
              "#46039f"
             ],
             [
              0.2222222222222222,
              "#7201a8"
             ],
             [
              0.3333333333333333,
              "#9c179e"
             ],
             [
              0.4444444444444444,
              "#bd3786"
             ],
             [
              0.5555555555555556,
              "#d8576b"
             ],
             [
              0.6666666666666666,
              "#ed7953"
             ],
             [
              0.7777777777777778,
              "#fb9f3a"
             ],
             [
              0.8888888888888888,
              "#fdca26"
             ],
             [
              1,
              "#f0f921"
             ]
            ],
            "type": "histogram2dcontour"
           }
          ],
          "mesh3d": [
           {
            "colorbar": {
             "outlinewidth": 0,
             "ticks": ""
            },
            "type": "mesh3d"
           }
          ],
          "parcoords": [
           {
            "line": {
             "colorbar": {
              "outlinewidth": 0,
              "ticks": ""
             }
            },
            "type": "parcoords"
           }
          ],
          "scatter": [
           {
            "marker": {
             "colorbar": {
              "outlinewidth": 0,
              "ticks": ""
             }
            },
            "type": "scatter"
           }
          ],
          "scatter3d": [
           {
            "line": {
             "colorbar": {
              "outlinewidth": 0,
              "ticks": ""
             }
            },
            "marker": {
             "colorbar": {
              "outlinewidth": 0,
              "ticks": ""
             }
            },
            "type": "scatter3d"
           }
          ],
          "scattercarpet": [
           {
            "marker": {
             "colorbar": {
              "outlinewidth": 0,
              "ticks": ""
             }
            },
            "type": "scattercarpet"
           }
          ],
          "scattergeo": [
           {
            "marker": {
             "colorbar": {
              "outlinewidth": 0,
              "ticks": ""
             }
            },
            "type": "scattergeo"
           }
          ],
          "scattergl": [
           {
            "marker": {
             "colorbar": {
              "outlinewidth": 0,
              "ticks": ""
             }
            },
            "type": "scattergl"
           }
          ],
          "scattermapbox": [
           {
            "marker": {
             "colorbar": {
              "outlinewidth": 0,
              "ticks": ""
             }
            },
            "type": "scattermapbox"
           }
          ],
          "scatterpolar": [
           {
            "marker": {
             "colorbar": {
              "outlinewidth": 0,
              "ticks": ""
             }
            },
            "type": "scatterpolar"
           }
          ],
          "scatterpolargl": [
           {
            "marker": {
             "colorbar": {
              "outlinewidth": 0,
              "ticks": ""
             }
            },
            "type": "scatterpolargl"
           }
          ],
          "scatterternary": [
           {
            "marker": {
             "colorbar": {
              "outlinewidth": 0,
              "ticks": ""
             }
            },
            "type": "scatterternary"
           }
          ],
          "surface": [
           {
            "colorbar": {
             "outlinewidth": 0,
             "ticks": ""
            },
            "colorscale": [
             [
              0,
              "#0d0887"
             ],
             [
              0.1111111111111111,
              "#46039f"
             ],
             [
              0.2222222222222222,
              "#7201a8"
             ],
             [
              0.3333333333333333,
              "#9c179e"
             ],
             [
              0.4444444444444444,
              "#bd3786"
             ],
             [
              0.5555555555555556,
              "#d8576b"
             ],
             [
              0.6666666666666666,
              "#ed7953"
             ],
             [
              0.7777777777777778,
              "#fb9f3a"
             ],
             [
              0.8888888888888888,
              "#fdca26"
             ],
             [
              1,
              "#f0f921"
             ]
            ],
            "type": "surface"
           }
          ],
          "table": [
           {
            "cells": {
             "fill": {
              "color": "#EBF0F8"
             },
             "line": {
              "color": "white"
             }
            },
            "header": {
             "fill": {
              "color": "#C8D4E3"
             },
             "line": {
              "color": "white"
             }
            },
            "type": "table"
           }
          ]
         },
         "layout": {
          "annotationdefaults": {
           "arrowcolor": "#2a3f5f",
           "arrowhead": 0,
           "arrowwidth": 1
          },
          "colorscale": {
           "diverging": [
            [
             0,
             "#8e0152"
            ],
            [
             0.1,
             "#c51b7d"
            ],
            [
             0.2,
             "#de77ae"
            ],
            [
             0.3,
             "#f1b6da"
            ],
            [
             0.4,
             "#fde0ef"
            ],
            [
             0.5,
             "#f7f7f7"
            ],
            [
             0.6,
             "#e6f5d0"
            ],
            [
             0.7,
             "#b8e186"
            ],
            [
             0.8,
             "#7fbc41"
            ],
            [
             0.9,
             "#4d9221"
            ],
            [
             1,
             "#276419"
            ]
           ],
           "sequential": [
            [
             0,
             "#0d0887"
            ],
            [
             0.1111111111111111,
             "#46039f"
            ],
            [
             0.2222222222222222,
             "#7201a8"
            ],
            [
             0.3333333333333333,
             "#9c179e"
            ],
            [
             0.4444444444444444,
             "#bd3786"
            ],
            [
             0.5555555555555556,
             "#d8576b"
            ],
            [
             0.6666666666666666,
             "#ed7953"
            ],
            [
             0.7777777777777778,
             "#fb9f3a"
            ],
            [
             0.8888888888888888,
             "#fdca26"
            ],
            [
             1,
             "#f0f921"
            ]
           ],
           "sequentialminus": [
            [
             0,
             "#0d0887"
            ],
            [
             0.1111111111111111,
             "#46039f"
            ],
            [
             0.2222222222222222,
             "#7201a8"
            ],
            [
             0.3333333333333333,
             "#9c179e"
            ],
            [
             0.4444444444444444,
             "#bd3786"
            ],
            [
             0.5555555555555556,
             "#d8576b"
            ],
            [
             0.6666666666666666,
             "#ed7953"
            ],
            [
             0.7777777777777778,
             "#fb9f3a"
            ],
            [
             0.8888888888888888,
             "#fdca26"
            ],
            [
             1,
             "#f0f921"
            ]
           ]
          },
          "colorway": [
           "#636efa",
           "#EF553B",
           "#00cc96",
           "#ab63fa",
           "#FFA15A",
           "#19d3f3",
           "#FF6692",
           "#B6E880",
           "#FF97FF",
           "#FECB52"
          ],
          "font": {
           "color": "#2a3f5f"
          },
          "geo": {
           "bgcolor": "white",
           "lakecolor": "white",
           "landcolor": "#E5ECF6",
           "showlakes": true,
           "showland": true,
           "subunitcolor": "white"
          },
          "hoverlabel": {
           "align": "left"
          },
          "hovermode": "closest",
          "mapbox": {
           "style": "light"
          },
          "paper_bgcolor": "white",
          "plot_bgcolor": "#E5ECF6",
          "polar": {
           "angularaxis": {
            "gridcolor": "white",
            "linecolor": "white",
            "ticks": ""
           },
           "bgcolor": "#E5ECF6",
           "radialaxis": {
            "gridcolor": "white",
            "linecolor": "white",
            "ticks": ""
           }
          },
          "scene": {
           "xaxis": {
            "backgroundcolor": "#E5ECF6",
            "gridcolor": "white",
            "gridwidth": 2,
            "linecolor": "white",
            "showbackground": true,
            "ticks": "",
            "zerolinecolor": "white"
           },
           "yaxis": {
            "backgroundcolor": "#E5ECF6",
            "gridcolor": "white",
            "gridwidth": 2,
            "linecolor": "white",
            "showbackground": true,
            "ticks": "",
            "zerolinecolor": "white"
           },
           "zaxis": {
            "backgroundcolor": "#E5ECF6",
            "gridcolor": "white",
            "gridwidth": 2,
            "linecolor": "white",
            "showbackground": true,
            "ticks": "",
            "zerolinecolor": "white"
           }
          },
          "shapedefaults": {
           "line": {
            "color": "#2a3f5f"
           }
          },
          "ternary": {
           "aaxis": {
            "gridcolor": "white",
            "linecolor": "white",
            "ticks": ""
           },
           "baxis": {
            "gridcolor": "white",
            "linecolor": "white",
            "ticks": ""
           },
           "bgcolor": "#E5ECF6",
           "caxis": {
            "gridcolor": "white",
            "linecolor": "white",
            "ticks": ""
           }
          },
          "title": {
           "x": 0.05
          },
          "xaxis": {
           "automargin": true,
           "gridcolor": "white",
           "linecolor": "white",
           "ticks": "",
           "zerolinecolor": "white",
           "zerolinewidth": 2
          },
          "yaxis": {
           "automargin": true,
           "gridcolor": "white",
           "linecolor": "white",
           "ticks": "",
           "zerolinecolor": "white",
           "zerolinewidth": 2
          }
         }
        },
        "title": {
         "text": "Trie"
        },
        "width": 1000,
        "xaxis": {
         "showgrid": false,
         "showline": false,
         "showticklabels": false,
         "zeroline": false
        },
        "yaxis": {
         "showgrid": false,
         "showline": false,
         "showticklabels": false,
         "zeroline": false
        }
       }
      },
      "text/html": [
       "<div>\n",
       "        \n",
       "        \n",
       "            <div id=\"5fa2c20d-fd08-4a50-9dcb-f9dc03343f71\" class=\"plotly-graph-div\" style=\"height:800px; width:1000px;\"></div>\n",
       "            <script type=\"text/javascript\">\n",
       "                require([\"plotly\"], function(Plotly) {\n",
       "                    window.PLOTLYENV=window.PLOTLYENV || {};\n",
       "                    \n",
       "                if (document.getElementById(\"5fa2c20d-fd08-4a50-9dcb-f9dc03343f71\")) {\n",
       "                    Plotly.newPlot(\n",
       "                        '5fa2c20d-fd08-4a50-9dcb-f9dc03343f71',\n",
       "                        [{\"hoverinfo\": \"none\", \"line\": {\"color\": \"rgb(160,160,160)\", \"width\": 2}, \"mode\": \"lines\", \"type\": \"scatter\", \"uid\": \"b5892326-d3d5-4170-b65a-ef7ec2d26a66\", \"x\": [1822.5, 1822.5, null, 1822.5, 1323.5, null, 1822.5, 1822.5, null, 1822.5, 2155.5, null, 1323.5, 992.49, null, 1323.5, 1323.5, null, 1822.5, 1822.5, null, 2155.5, 2157.5, null, 992.49, 992.49, null, 1323.5, 1323.5, null, 1822.5, 1822.5, null, 2157.5, 2158.5, null, 992.49, 991.49, null, 1323.5, 1323.5, null, 991.49, 990.49, null, 990.49, 988.49, null, 988.49, 825.49, null, 825.49, 492.49, null, 825.49, 825.49, null, 492.49, 489.49, null, 825.49, 825.49, null, 489.49, 159.49, null, 489.49, 489.49, null, 825.49, 825.49, null, 159.49, 157.49, null, 489.49, 489.49, null, 157.49, 156.49, null, 489.49, 489.49, null, 156.49, 156.49, null, 156.49, 156.49, null, 156.49, 156.49, null, 489.49, 489.49, null, 489.49, 490.49, null, 490.49, 490.49, null, 490.49, 490.49, null, 490.49, 490.49, null, 825.49, 825.49, null, 825.49, 825.49, null, 825.49, 825.49, null, 1323.5, 1323.5, null, 1323.5, 1323.5, null, 1323.5, 1323.5, null, 1323.5, 1323.5, null, 1323.5, 1323.5, null, 1323.5, 1323.5, null, 1323.5, 1323.5, null, 1323.5, 1159.5, null, 1323.5, 1490.5, null, 1159.5, 1159.5, null, 1490.5, 1491.5, null, 1159.5, 1159.5, null, 1491.5, 1491.5, null, 1491.5, 1490.5, null, 1490.5, 1490.5, null, 1490.5, 1490.5, null, 1822.5, 1822.5, null, 1822.5, 1822.5, null, 1822.5, 1822.5, null, 1822.5, 1822.5, null, 1822.5, 1822.5, null, 1822.5, 1823.5, null, 1823.5, 1823.5, null, 1823.5, 1823.5, null, 1823.5, 1823.5, null, 1823.5, 1824.5, null, 1824.5, 1824.5, null, 1824.5, 1824.5, null, 2158.5, 2158.5, null, 2158.5, 2158.5, null, 2158.5, 2158.5, null, 2158.5, 2158.5, null, 2158.5, 2158.5, null, 2158.5, 2158.5, null, 2158.5, 2158.5, null, 2158.5, 2158.5, null, 2158.5, 2158.5, null, 2158.5, 2158.5, null], \"y\": [1314.0, 1242.0, null, 1242.0, 1170.0, null, 1242.0, 1170.0, null, 1242.0, 1170.0, null, 1170.0, 1098.0, null, 1170.0, 1098.0, null, 1170.0, 1098.0, null, 1170.0, 1098.0, null, 1098.0, 1026.0, null, 1098.0, 1026.0, null, 1098.0, 1026.0, null, 1098.0, 1026.0, null, 1026.0, 954.0, null, 1026.0, 954.0, null, 954.0, 882.0, null, 882.0, 810.0, null, 810.0, 738.0, null, 738.0, 666.0, null, 738.0, 666.0, null, 666.0, 594.0, null, 666.0, 594.0, null, 594.0, 522.0, null, 594.0, 522.0, null, 594.0, 522.0, null, 522.0, 450.0, null, 522.0, 450.0, null, 450.0, 378.0, null, 450.0, 378.0, null, 378.0, 306.0, null, 306.0, 234.0, null, 234.0, 162.0, null, 378.0, 306.0, null, 306.0, 234.0, null, 234.0, 162.0, null, 162.0, 90.0, null, 90.0, 18.0, null, 522.0, 450.0, null, 450.0, 378.0, null, 378.0, 306.0, null, 954.0, 882.0, null, 882.0, 810.0, null, 810.0, 738.0, null, 738.0, 666.0, null, 666.0, 594.0, null, 594.0, 522.0, null, 522.0, 450.0, null, 450.0, 378.0, null, 450.0, 378.0, null, 378.0, 306.0, null, 378.0, 306.0, null, 306.0, 234.0, null, 306.0, 234.0, null, 234.0, 162.0, null, 162.0, 90.0, null, 90.0, 18.0, null, 1026.0, 954.0, null, 954.0, 882.0, null, 882.0, 810.0, null, 810.0, 738.0, null, 738.0, 666.0, null, 666.0, 594.0, null, 594.0, 522.0, null, 522.0, 450.0, null, 450.0, 378.0, null, 378.0, 306.0, null, 306.0, 234.0, null, 234.0, 162.0, null, 1026.0, 954.0, null, 954.0, 882.0, null, 882.0, 810.0, null, 810.0, 738.0, null, 738.0, 666.0, null, 666.0, 594.0, null, 594.0, 522.0, null, 522.0, 450.0, null, 450.0, 378.0, null, 378.0, 306.0, null]}, {\"hoverinfo\": \"none\", \"marker\": {\"color\": \"rgb(100,100,100)\", \"line\": {\"color\": \"rgb(100,100,100)\", \"width\": 1}, \"size\": 18}, \"mode\": \"markers+text\", \"name\": \"\", \"text\": [null], \"type\": \"scatter\", \"uid\": \"e660ba3c-b9a6-468d-9820-3e004aaef5be\", \"x\": [1822.5], \"y\": [1314.0]}, {\"hoverinfo\": \"none\", \"marker\": {\"color\": \"rgb(101,214,67)\", \"line\": {\"color\": \"rgb(100,100,100)\", \"width\": 1}, \"size\": 18}, \"mode\": \"markers+text\", \"name\": \"\", \"text\": [\"dynamic\", \"dynamic\", \"dynamic\", \"dynamic\"], \"type\": \"scatter\", \"uid\": \"026964a5-35d4-456d-9639-7791e9ef304b\", \"x\": [988.49, 1159.5, 1822.5, 2158.5], \"y\": [810.0, 234.0, 738.0, 738.0]}, {\"hoverinfo\": \"none\", \"marker\": {\"color\": \"rgb(247,185,43)\", \"line\": {\"color\": \"rgb(100,100,100)\", \"width\": 1}, \"size\": 18}, \"mode\": \"markers+text\", \"name\": \"\", \"text\": [\"/\", \"/\", \"/\", \"/\", \"/\", \"/\", \"/\", \"/\"], \"type\": \"scatter\", \"uid\": \"d0dd894b-90c3-46f2-9e3a-46c5cd22a18a\", \"x\": [1822.5, 990.49, 825.49, 1159.5, 1822.5, 1822.5, 2158.5, 2158.5], \"y\": [1242.0, 882.0, 738.0, 306.0, 810.0, 666.0, 810.0, 666.0]}, {\"hoverinfo\": \"none\", \"marker\": {\"color\": \"rgb(24,140,216)\", \"line\": {\"color\": \"rgb(100,100,100)\", \"width\": 1}, \"size\": 18}, \"mode\": \"markers+text\", \"name\": \"\", \"text\": [\"a\", \"u\", \"p\", \"p\", \"c\", \"s\", \"o\", \"p\", \"h\", \"s\", \"a\", \"e\", \"c\", \"v\", \"c\", \"t\", \"o\", \"i\", \"u\", \"n\", \"t\", \"s\", \"v\", \"i\", \"t\", \"i\", \"e\", \"s\", \"e\", \"n\", \"t\", \"s\", \"i\", \"e\", \"v\", \"e\", \"m\", \"e\", \"n\", \"t\", \"s\", \"-\", \"t\", \"y\", \"p\", \"e\", \"s\", \"e\", \"r\", \"s\", \"f\", \"r\", \"i\", \"e\", \"n\", \"d\", \"s\", \"s\", \"t\", \"s\", \"l\", \"i\", \"k\", \"e\", \"s\"], \"type\": \"scatter\", \"uid\": \"7ca88459-2205-466f-a348-60436115ffc6\", \"x\": [1323.5, 1822.5, 2155.5, 992.49, 1323.5, 1822.5, 2157.5, 992.49, 1323.5, 991.49, 492.49, 825.49, 489.49, 825.49, 159.49, 489.49, 157.49, 489.49, 156.49, 156.49, 156.49, 156.49, 489.49, 489.49, 490.49, 490.49, 490.49, 490.49, 825.49, 825.49, 825.49, 825.49, 1323.5, 1323.5, 1323.5, 1323.5, 1323.5, 1323.5, 1323.5, 1323.5, 1159.5, 1490.5, 1491.5, 1491.5, 1490.5, 1490.5, 1490.5, 1822.5, 1822.5, 1822.5, 1823.5, 1823.5, 1823.5, 1823.5, 1824.5, 1824.5, 1824.5, 2158.5, 2158.5, 2158.5, 2158.5, 2158.5, 2158.5, 2158.5, 2158.5], \"y\": [1170.0, 1170.0, 1170.0, 1098.0, 1098.0, 1098.0, 1098.0, 1026.0, 1026.0, 954.0, 666.0, 666.0, 594.0, 594.0, 522.0, 522.0, 450.0, 450.0, 378.0, 306.0, 234.0, 162.0, 378.0, 306.0, 234.0, 162.0, 90.0, 18.0, 522.0, 450.0, 378.0, 306.0, 954.0, 882.0, 810.0, 738.0, 666.0, 594.0, 522.0, 450.0, 378.0, 378.0, 306.0, 234.0, 162.0, 90.0, 18.0, 1026.0, 954.0, 882.0, 594.0, 522.0, 450.0, 378.0, 306.0, 234.0, 162.0, 1026.0, 954.0, 882.0, 594.0, 522.0, 450.0, 378.0, 306.0]}],\n",
       "                        {\"font\": {\"size\": 15}, \"height\": 800, \"hovermode\": \"closest\", \"margin\": {\"b\": 85, \"l\": 40, \"r\": 40, \"t\": 100}, \"plot_bgcolor\": \"rgb(248,248,248)\", \"showlegend\": false, \"template\": {\"data\": {\"bar\": [{\"error_x\": {\"color\": \"#2a3f5f\"}, \"error_y\": {\"color\": \"#2a3f5f\"}, \"marker\": {\"line\": {\"color\": \"#E5ECF6\", \"width\": 0.5}}, \"type\": \"bar\"}], \"barpolar\": [{\"marker\": {\"line\": {\"color\": \"#E5ECF6\", \"width\": 0.5}}, \"type\": \"barpolar\"}], \"carpet\": [{\"aaxis\": {\"endlinecolor\": \"#2a3f5f\", \"gridcolor\": \"white\", \"linecolor\": \"white\", \"minorgridcolor\": \"white\", \"startlinecolor\": \"#2a3f5f\"}, \"baxis\": {\"endlinecolor\": \"#2a3f5f\", \"gridcolor\": \"white\", \"linecolor\": \"white\", \"minorgridcolor\": \"white\", \"startlinecolor\": \"#2a3f5f\"}, \"type\": \"carpet\"}], \"choropleth\": [{\"colorbar\": {\"outlinewidth\": 0, \"ticks\": \"\"}, \"type\": \"choropleth\"}], \"contour\": [{\"colorbar\": {\"outlinewidth\": 0, \"ticks\": \"\"}, \"colorscale\": [[0.0, \"#0d0887\"], [0.1111111111111111, \"#46039f\"], [0.2222222222222222, \"#7201a8\"], [0.3333333333333333, \"#9c179e\"], [0.4444444444444444, \"#bd3786\"], [0.5555555555555556, \"#d8576b\"], [0.6666666666666666, \"#ed7953\"], [0.7777777777777778, \"#fb9f3a\"], [0.8888888888888888, \"#fdca26\"], [1.0, \"#f0f921\"]], \"type\": \"contour\"}], \"contourcarpet\": [{\"colorbar\": {\"outlinewidth\": 0, \"ticks\": \"\"}, \"type\": \"contourcarpet\"}], \"heatmap\": [{\"colorbar\": {\"outlinewidth\": 0, \"ticks\": \"\"}, \"colorscale\": [[0.0, \"#0d0887\"], [0.1111111111111111, \"#46039f\"], [0.2222222222222222, \"#7201a8\"], [0.3333333333333333, \"#9c179e\"], [0.4444444444444444, \"#bd3786\"], [0.5555555555555556, \"#d8576b\"], [0.6666666666666666, \"#ed7953\"], [0.7777777777777778, \"#fb9f3a\"], [0.8888888888888888, \"#fdca26\"], [1.0, \"#f0f921\"]], \"type\": \"heatmap\"}], \"heatmapgl\": [{\"colorbar\": {\"outlinewidth\": 0, \"ticks\": \"\"}, \"colorscale\": [[0.0, \"#0d0887\"], [0.1111111111111111, \"#46039f\"], [0.2222222222222222, \"#7201a8\"], [0.3333333333333333, \"#9c179e\"], [0.4444444444444444, \"#bd3786\"], [0.5555555555555556, \"#d8576b\"], [0.6666666666666666, \"#ed7953\"], [0.7777777777777778, \"#fb9f3a\"], [0.8888888888888888, \"#fdca26\"], [1.0, \"#f0f921\"]], \"type\": \"heatmapgl\"}], \"histogram\": [{\"marker\": {\"colorbar\": {\"outlinewidth\": 0, \"ticks\": \"\"}}, \"type\": \"histogram\"}], \"histogram2d\": [{\"colorbar\": {\"outlinewidth\": 0, \"ticks\": \"\"}, \"colorscale\": [[0.0, \"#0d0887\"], [0.1111111111111111, \"#46039f\"], [0.2222222222222222, \"#7201a8\"], [0.3333333333333333, \"#9c179e\"], [0.4444444444444444, \"#bd3786\"], [0.5555555555555556, \"#d8576b\"], [0.6666666666666666, \"#ed7953\"], [0.7777777777777778, \"#fb9f3a\"], [0.8888888888888888, \"#fdca26\"], [1.0, \"#f0f921\"]], \"type\": \"histogram2d\"}], \"histogram2dcontour\": [{\"colorbar\": {\"outlinewidth\": 0, \"ticks\": \"\"}, \"colorscale\": [[0.0, \"#0d0887\"], [0.1111111111111111, \"#46039f\"], [0.2222222222222222, \"#7201a8\"], [0.3333333333333333, \"#9c179e\"], [0.4444444444444444, \"#bd3786\"], [0.5555555555555556, \"#d8576b\"], [0.6666666666666666, \"#ed7953\"], [0.7777777777777778, \"#fb9f3a\"], [0.8888888888888888, \"#fdca26\"], [1.0, \"#f0f921\"]], \"type\": \"histogram2dcontour\"}], \"mesh3d\": [{\"colorbar\": {\"outlinewidth\": 0, \"ticks\": \"\"}, \"type\": \"mesh3d\"}], \"parcoords\": [{\"line\": {\"colorbar\": {\"outlinewidth\": 0, \"ticks\": \"\"}}, \"type\": \"parcoords\"}], \"scatter\": [{\"marker\": {\"colorbar\": {\"outlinewidth\": 0, \"ticks\": \"\"}}, \"type\": \"scatter\"}], \"scatter3d\": [{\"line\": {\"colorbar\": {\"outlinewidth\": 0, \"ticks\": \"\"}}, \"marker\": {\"colorbar\": {\"outlinewidth\": 0, \"ticks\": \"\"}}, \"type\": \"scatter3d\"}], \"scattercarpet\": [{\"marker\": {\"colorbar\": {\"outlinewidth\": 0, \"ticks\": \"\"}}, \"type\": \"scattercarpet\"}], \"scattergeo\": [{\"marker\": {\"colorbar\": {\"outlinewidth\": 0, \"ticks\": \"\"}}, \"type\": \"scattergeo\"}], \"scattergl\": [{\"marker\": {\"colorbar\": {\"outlinewidth\": 0, \"ticks\": \"\"}}, \"type\": \"scattergl\"}], \"scattermapbox\": [{\"marker\": {\"colorbar\": {\"outlinewidth\": 0, \"ticks\": \"\"}}, \"type\": \"scattermapbox\"}], \"scatterpolar\": [{\"marker\": {\"colorbar\": {\"outlinewidth\": 0, \"ticks\": \"\"}}, \"type\": \"scatterpolar\"}], \"scatterpolargl\": [{\"marker\": {\"colorbar\": {\"outlinewidth\": 0, \"ticks\": \"\"}}, \"type\": \"scatterpolargl\"}], \"scatterternary\": [{\"marker\": {\"colorbar\": {\"outlinewidth\": 0, \"ticks\": \"\"}}, \"type\": \"scatterternary\"}], \"surface\": [{\"colorbar\": {\"outlinewidth\": 0, \"ticks\": \"\"}, \"colorscale\": [[0.0, \"#0d0887\"], [0.1111111111111111, \"#46039f\"], [0.2222222222222222, \"#7201a8\"], [0.3333333333333333, \"#9c179e\"], [0.4444444444444444, \"#bd3786\"], [0.5555555555555556, \"#d8576b\"], [0.6666666666666666, \"#ed7953\"], [0.7777777777777778, \"#fb9f3a\"], [0.8888888888888888, \"#fdca26\"], [1.0, \"#f0f921\"]], \"type\": \"surface\"}], \"table\": [{\"cells\": {\"fill\": {\"color\": \"#EBF0F8\"}, \"line\": {\"color\": \"white\"}}, \"header\": {\"fill\": {\"color\": \"#C8D4E3\"}, \"line\": {\"color\": \"white\"}}, \"type\": \"table\"}]}, \"layout\": {\"annotationdefaults\": {\"arrowcolor\": \"#2a3f5f\", \"arrowhead\": 0, \"arrowwidth\": 1}, \"colorscale\": {\"diverging\": [[0, \"#8e0152\"], [0.1, \"#c51b7d\"], [0.2, \"#de77ae\"], [0.3, \"#f1b6da\"], [0.4, \"#fde0ef\"], [0.5, \"#f7f7f7\"], [0.6, \"#e6f5d0\"], [0.7, \"#b8e186\"], [0.8, \"#7fbc41\"], [0.9, \"#4d9221\"], [1, \"#276419\"]], \"sequential\": [[0.0, \"#0d0887\"], [0.1111111111111111, \"#46039f\"], [0.2222222222222222, \"#7201a8\"], [0.3333333333333333, \"#9c179e\"], [0.4444444444444444, \"#bd3786\"], [0.5555555555555556, \"#d8576b\"], [0.6666666666666666, \"#ed7953\"], [0.7777777777777778, \"#fb9f3a\"], [0.8888888888888888, \"#fdca26\"], [1.0, \"#f0f921\"]], \"sequentialminus\": [[0.0, \"#0d0887\"], [0.1111111111111111, \"#46039f\"], [0.2222222222222222, \"#7201a8\"], [0.3333333333333333, \"#9c179e\"], [0.4444444444444444, \"#bd3786\"], [0.5555555555555556, \"#d8576b\"], [0.6666666666666666, \"#ed7953\"], [0.7777777777777778, \"#fb9f3a\"], [0.8888888888888888, \"#fdca26\"], [1.0, \"#f0f921\"]]}, \"colorway\": [\"#636efa\", \"#EF553B\", \"#00cc96\", \"#ab63fa\", \"#FFA15A\", \"#19d3f3\", \"#FF6692\", \"#B6E880\", \"#FF97FF\", \"#FECB52\"], \"font\": {\"color\": \"#2a3f5f\"}, \"geo\": {\"bgcolor\": \"white\", \"lakecolor\": \"white\", \"landcolor\": \"#E5ECF6\", \"showlakes\": true, \"showland\": true, \"subunitcolor\": \"white\"}, \"hoverlabel\": {\"align\": \"left\"}, \"hovermode\": \"closest\", \"mapbox\": {\"style\": \"light\"}, \"paper_bgcolor\": \"white\", \"plot_bgcolor\": \"#E5ECF6\", \"polar\": {\"angularaxis\": {\"gridcolor\": \"white\", \"linecolor\": \"white\", \"ticks\": \"\"}, \"bgcolor\": \"#E5ECF6\", \"radialaxis\": {\"gridcolor\": \"white\", \"linecolor\": \"white\", \"ticks\": \"\"}}, \"scene\": {\"xaxis\": {\"backgroundcolor\": \"#E5ECF6\", \"gridcolor\": \"white\", \"gridwidth\": 2, \"linecolor\": \"white\", \"showbackground\": true, \"ticks\": \"\", \"zerolinecolor\": \"white\"}, \"yaxis\": {\"backgroundcolor\": \"#E5ECF6\", \"gridcolor\": \"white\", \"gridwidth\": 2, \"linecolor\": \"white\", \"showbackground\": true, \"ticks\": \"\", \"zerolinecolor\": \"white\"}, \"zaxis\": {\"backgroundcolor\": \"#E5ECF6\", \"gridcolor\": \"white\", \"gridwidth\": 2, \"linecolor\": \"white\", \"showbackground\": true, \"ticks\": \"\", \"zerolinecolor\": \"white\"}}, \"shapedefaults\": {\"line\": {\"color\": \"#2a3f5f\"}}, \"ternary\": {\"aaxis\": {\"gridcolor\": \"white\", \"linecolor\": \"white\", \"ticks\": \"\"}, \"baxis\": {\"gridcolor\": \"white\", \"linecolor\": \"white\", \"ticks\": \"\"}, \"bgcolor\": \"#E5ECF6\", \"caxis\": {\"gridcolor\": \"white\", \"linecolor\": \"white\", \"ticks\": \"\"}}, \"title\": {\"x\": 0.05}, \"xaxis\": {\"automargin\": true, \"gridcolor\": \"white\", \"linecolor\": \"white\", \"ticks\": \"\", \"zerolinecolor\": \"white\", \"zerolinewidth\": 2}, \"yaxis\": {\"automargin\": true, \"gridcolor\": \"white\", \"linecolor\": \"white\", \"ticks\": \"\", \"zerolinecolor\": \"white\", \"zerolinewidth\": 2}}}, \"title\": {\"text\": \"Trie\"}, \"width\": 1000, \"xaxis\": {\"showgrid\": false, \"showline\": false, \"showticklabels\": false, \"zeroline\": false}, \"yaxis\": {\"showgrid\": false, \"showline\": false, \"showticklabels\": false, \"zeroline\": false}},\n",
       "                        {\"responsive\": true}\n",
       "                    ).then(function(){\n",
       "                            \n",
       "var gd = document.getElementById('5fa2c20d-fd08-4a50-9dcb-f9dc03343f71');\n",
       "var x = new MutationObserver(function (mutations, observer) {{\n",
       "        var display = window.getComputedStyle(gd).display;\n",
       "        if (!display || display === 'none') {{\n",
       "            console.log([gd, 'removed!']);\n",
       "            Plotly.purge(gd);\n",
       "            observer.disconnect();\n",
       "        }}\n",
       "}});\n",
       "\n",
       "// Listen for the removal of the full notebook cells\n",
       "var notebookContainer = gd.closest('#notebook-container');\n",
       "if (notebookContainer) {{\n",
       "    x.observe(notebookContainer, {childList: true});\n",
       "}}\n",
       "\n",
       "// Listen for the clearing of the current output cell\n",
       "var outputEl = gd.closest('.output');\n",
       "if (outputEl) {{\n",
       "    x.observe(outputEl, {childList: true});\n",
       "}}\n",
       "\n",
       "                        })\n",
       "                };\n",
       "                });\n",
       "            </script>\n",
       "        </div>"
      ]
     },
     "metadata": {},
     "output_type": "display_data"
    }
   ],
   "source": [
    "insert([\"/apps/\", [DYNAMIC], \"/accounts\"], AllAppAccount)\n",
    "insert([\"/apps/\", [DYNAMIC], \"/activities\"], AllAppActivity)\n",
    "insert([\"/apps/\", [DYNAMIC], \"/events\"], AllAppEvent)\n",
    "insert([\"/achievements\"], AllAchievement)\n",
    "insert([\"/achievements/\", [DYNAMIC]], Achievement)\n",
    "insert([\"/achievement-types\"], AllAchievementType)\n",
    "insert([\"/users\"], AllUser)\n",
    "insert([\"/users/\", [DYNAMIC]], User)\n",
    "insert([\"/users/\", [DYNAMIC], \"/friends\"], AllUserFriend)\n",
    "insert([\"/posts\"], AllPost)\n",
    "insert([\"/posts/\", [DYNAMIC]], Post)\n",
    "insert([\"/posts/\", [DYNAMIC], \"/likes\"], AllPostLike)"
   ]
  },
  {
   "cell_type": "code",
   "execution_count": 50,
   "metadata": {},
   "outputs": [],
   "source": [
    "from itertools import tee\n",
    "\n",
    "def pairwise(iterable):\n",
    "    \"s -> (s0,s1), (s1,s2), (s2, s3), ...\"\n",
    "    a, b = tee(iterable)\n",
    "    next(b, None)\n",
    "    return zip(a, b)\n",
    "\n",
    "def path_animation(graph, root, destination):\n",
    "    paths = nx.shortest_path(graph, source=root, target=destination)\n",
    "    H = build_graphviz(graph.nodes(), graph.edges())   \n",
    "    path = plotly_edge_scatter(go, graph, H, pairwise(paths), 'red')    \n",
    "    fig = plotly_figure(go, graph, H, [path])\n",
    "    fig.show()\n",
    "    \n",
    "def search_animation(trie, func):\n",
    "    @wraps(func)\n",
    "    def wrapper(*args, **kwargs):\n",
    "        destination, params = func(*args, **kwargs)\n",
    "        path_animation(trie.graph.copy(), trie._root, destination)\n",
    "    return wrapper\n",
    "\n",
    "search = search_animation(trie, trie.search)"
   ]
  },
  {
   "cell_type": "code",
   "execution_count": 52,
   "metadata": {},
   "outputs": [
    {
     "data": {
      "application/vnd.plotly.v1+json": {
       "config": {
        "plotlyServerURL": "https://plot.ly"
       },
       "data": [
        {
         "hoverinfo": "none",
         "line": {
          "color": "rgb(160,160,160)",
          "width": 2
         },
         "mode": "lines",
         "type": "scatter",
         "uid": "4ce018cf-6151-4a8d-828b-6a83e9024322",
         "x": [
          1822.5,
          1822.5,
          null,
          1822.5,
          1323.5,
          null,
          1822.5,
          1822.5,
          null,
          1822.5,
          2155.5,
          null,
          1323.5,
          992.49,
          null,
          1323.5,
          1323.5,
          null,
          1822.5,
          1822.5,
          null,
          2155.5,
          2157.5,
          null,
          992.49,
          992.49,
          null,
          1323.5,
          1323.5,
          null,
          1822.5,
          1822.5,
          null,
          2157.5,
          2158.5,
          null,
          992.49,
          991.49,
          null,
          1323.5,
          1323.5,
          null,
          991.49,
          990.49,
          null,
          990.49,
          988.49,
          null,
          988.49,
          825.49,
          null,
          825.49,
          492.49,
          null,
          825.49,
          825.49,
          null,
          492.49,
          489.49,
          null,
          825.49,
          825.49,
          null,
          489.49,
          159.49,
          null,
          489.49,
          489.49,
          null,
          825.49,
          825.49,
          null,
          159.49,
          157.49,
          null,
          489.49,
          489.49,
          null,
          157.49,
          156.49,
          null,
          489.49,
          489.49,
          null,
          156.49,
          156.49,
          null,
          156.49,
          156.49,
          null,
          156.49,
          156.49,
          null,
          489.49,
          489.49,
          null,
          489.49,
          490.49,
          null,
          490.49,
          490.49,
          null,
          490.49,
          490.49,
          null,
          490.49,
          490.49,
          null,
          825.49,
          825.49,
          null,
          825.49,
          825.49,
          null,
          825.49,
          825.49,
          null,
          1323.5,
          1323.5,
          null,
          1323.5,
          1323.5,
          null,
          1323.5,
          1323.5,
          null,
          1323.5,
          1323.5,
          null,
          1323.5,
          1323.5,
          null,
          1323.5,
          1323.5,
          null,
          1323.5,
          1323.5,
          null,
          1323.5,
          1159.5,
          null,
          1323.5,
          1490.5,
          null,
          1159.5,
          1159.5,
          null,
          1490.5,
          1491.5,
          null,
          1159.5,
          1159.5,
          null,
          1491.5,
          1491.5,
          null,
          1491.5,
          1490.5,
          null,
          1490.5,
          1490.5,
          null,
          1490.5,
          1490.5,
          null,
          1822.5,
          1822.5,
          null,
          1822.5,
          1822.5,
          null,
          1822.5,
          1822.5,
          null,
          1822.5,
          1822.5,
          null,
          1822.5,
          1822.5,
          null,
          1822.5,
          1823.5,
          null,
          1823.5,
          1823.5,
          null,
          1823.5,
          1823.5,
          null,
          1823.5,
          1823.5,
          null,
          1823.5,
          1824.5,
          null,
          1824.5,
          1824.5,
          null,
          1824.5,
          1824.5,
          null,
          2158.5,
          2158.5,
          null,
          2158.5,
          2158.5,
          null,
          2158.5,
          2158.5,
          null,
          2158.5,
          2158.5,
          null,
          2158.5,
          2158.5,
          null,
          2158.5,
          2158.5,
          null,
          2158.5,
          2158.5,
          null,
          2158.5,
          2158.5,
          null,
          2158.5,
          2158.5,
          null,
          2158.5,
          2158.5,
          null
         ],
         "y": [
          1314,
          1242,
          null,
          1242,
          1170,
          null,
          1242,
          1170,
          null,
          1242,
          1170,
          null,
          1170,
          1098,
          null,
          1170,
          1098,
          null,
          1170,
          1098,
          null,
          1170,
          1098,
          null,
          1098,
          1026,
          null,
          1098,
          1026,
          null,
          1098,
          1026,
          null,
          1098,
          1026,
          null,
          1026,
          954,
          null,
          1026,
          954,
          null,
          954,
          882,
          null,
          882,
          810,
          null,
          810,
          738,
          null,
          738,
          666,
          null,
          738,
          666,
          null,
          666,
          594,
          null,
          666,
          594,
          null,
          594,
          522,
          null,
          594,
          522,
          null,
          594,
          522,
          null,
          522,
          450,
          null,
          522,
          450,
          null,
          450,
          378,
          null,
          450,
          378,
          null,
          378,
          306,
          null,
          306,
          234,
          null,
          234,
          162,
          null,
          378,
          306,
          null,
          306,
          234,
          null,
          234,
          162,
          null,
          162,
          90,
          null,
          90,
          18,
          null,
          522,
          450,
          null,
          450,
          378,
          null,
          378,
          306,
          null,
          954,
          882,
          null,
          882,
          810,
          null,
          810,
          738,
          null,
          738,
          666,
          null,
          666,
          594,
          null,
          594,
          522,
          null,
          522,
          450,
          null,
          450,
          378,
          null,
          450,
          378,
          null,
          378,
          306,
          null,
          378,
          306,
          null,
          306,
          234,
          null,
          306,
          234,
          null,
          234,
          162,
          null,
          162,
          90,
          null,
          90,
          18,
          null,
          1026,
          954,
          null,
          954,
          882,
          null,
          882,
          810,
          null,
          810,
          738,
          null,
          738,
          666,
          null,
          666,
          594,
          null,
          594,
          522,
          null,
          522,
          450,
          null,
          450,
          378,
          null,
          378,
          306,
          null,
          306,
          234,
          null,
          234,
          162,
          null,
          1026,
          954,
          null,
          954,
          882,
          null,
          882,
          810,
          null,
          810,
          738,
          null,
          738,
          666,
          null,
          666,
          594,
          null,
          594,
          522,
          null,
          522,
          450,
          null,
          450,
          378,
          null,
          378,
          306,
          null
         ]
        },
        {
         "hoverinfo": "none",
         "line": {
          "color": "red",
          "width": 2
         },
         "mode": "lines",
         "type": "scatter",
         "uid": "d4f1e8f5-be1a-4426-ae58-a02d6b4b5e63",
         "x": [
          1822.5,
          1822.5,
          null,
          1822.5,
          1822.5,
          null,
          1822.5,
          1822.5,
          null,
          1822.5,
          1822.5,
          null,
          1822.5,
          1822.5,
          null,
          1822.5,
          1822.5,
          null
         ],
         "y": [
          1314,
          1242,
          null,
          1242,
          1170,
          null,
          1170,
          1098,
          null,
          1098,
          1026,
          null,
          1026,
          954,
          null,
          954,
          882,
          null
         ]
        },
        {
         "hoverinfo": "none",
         "marker": {
          "color": "rgb(100,100,100)",
          "line": {
           "color": "rgb(100,100,100)",
           "width": 1
          },
          "size": 18
         },
         "mode": "markers+text",
         "name": "",
         "text": [
          null
         ],
         "type": "scatter",
         "uid": "937375bc-6f13-4c55-b663-ec7d321ccc27",
         "x": [
          1822.5
         ],
         "y": [
          1314
         ]
        },
        {
         "hoverinfo": "none",
         "marker": {
          "color": "rgb(101,214,67)",
          "line": {
           "color": "rgb(100,100,100)",
           "width": 1
          },
          "size": 18
         },
         "mode": "markers+text",
         "name": "",
         "text": [
          "dynamic",
          "dynamic",
          "dynamic",
          "dynamic"
         ],
         "type": "scatter",
         "uid": "fd16591f-0e85-4048-b3bc-a7dd5975aebb",
         "x": [
          988.49,
          1159.5,
          1822.5,
          2158.5
         ],
         "y": [
          810,
          234,
          738,
          738
         ]
        },
        {
         "hoverinfo": "none",
         "marker": {
          "color": "rgb(247,185,43)",
          "line": {
           "color": "rgb(100,100,100)",
           "width": 1
          },
          "size": 18
         },
         "mode": "markers+text",
         "name": "",
         "text": [
          "/",
          "/",
          "/",
          "/",
          "/",
          "/",
          "/",
          "/"
         ],
         "type": "scatter",
         "uid": "2d37207c-0709-49e1-a9be-63f270212675",
         "x": [
          1822.5,
          990.49,
          825.49,
          1159.5,
          1822.5,
          1822.5,
          2158.5,
          2158.5
         ],
         "y": [
          1242,
          882,
          738,
          306,
          810,
          666,
          810,
          666
         ]
        },
        {
         "hoverinfo": "none",
         "marker": {
          "color": "rgb(24,140,216)",
          "line": {
           "color": "rgb(100,100,100)",
           "width": 1
          },
          "size": 18
         },
         "mode": "markers+text",
         "name": "",
         "text": [
          "a",
          "u",
          "p",
          "p",
          "c",
          "s",
          "o",
          "p",
          "h",
          "s",
          "a",
          "e",
          "c",
          "v",
          "c",
          "t",
          "o",
          "i",
          "u",
          "n",
          "t",
          "s",
          "v",
          "i",
          "t",
          "i",
          "e",
          "s",
          "e",
          "n",
          "t",
          "s",
          "i",
          "e",
          "v",
          "e",
          "m",
          "e",
          "n",
          "t",
          "s",
          "-",
          "t",
          "y",
          "p",
          "e",
          "s",
          "e",
          "r",
          "s",
          "f",
          "r",
          "i",
          "e",
          "n",
          "d",
          "s",
          "s",
          "t",
          "s",
          "l",
          "i",
          "k",
          "e",
          "s"
         ],
         "type": "scatter",
         "uid": "104aaea4-987f-426a-ae4f-e23eefc4f003",
         "x": [
          1323.5,
          1822.5,
          2155.5,
          992.49,
          1323.5,
          1822.5,
          2157.5,
          992.49,
          1323.5,
          991.49,
          492.49,
          825.49,
          489.49,
          825.49,
          159.49,
          489.49,
          157.49,
          489.49,
          156.49,
          156.49,
          156.49,
          156.49,
          489.49,
          489.49,
          490.49,
          490.49,
          490.49,
          490.49,
          825.49,
          825.49,
          825.49,
          825.49,
          1323.5,
          1323.5,
          1323.5,
          1323.5,
          1323.5,
          1323.5,
          1323.5,
          1323.5,
          1159.5,
          1490.5,
          1491.5,
          1491.5,
          1490.5,
          1490.5,
          1490.5,
          1822.5,
          1822.5,
          1822.5,
          1823.5,
          1823.5,
          1823.5,
          1823.5,
          1824.5,
          1824.5,
          1824.5,
          2158.5,
          2158.5,
          2158.5,
          2158.5,
          2158.5,
          2158.5,
          2158.5,
          2158.5
         ],
         "y": [
          1170,
          1170,
          1170,
          1098,
          1098,
          1098,
          1098,
          1026,
          1026,
          954,
          666,
          666,
          594,
          594,
          522,
          522,
          450,
          450,
          378,
          306,
          234,
          162,
          378,
          306,
          234,
          162,
          90,
          18,
          522,
          450,
          378,
          306,
          954,
          882,
          810,
          738,
          666,
          594,
          522,
          450,
          378,
          378,
          306,
          234,
          162,
          90,
          18,
          1026,
          954,
          882,
          594,
          522,
          450,
          378,
          306,
          234,
          162,
          1026,
          954,
          882,
          594,
          522,
          450,
          378,
          306
         ]
        }
       ],
       "layout": {
        "font": {
         "size": 15
        },
        "height": 800,
        "hovermode": "closest",
        "margin": {
         "b": 85,
         "l": 40,
         "r": 40,
         "t": 100
        },
        "plot_bgcolor": "rgb(248,248,248)",
        "showlegend": false,
        "template": {
         "data": {
          "bar": [
           {
            "error_x": {
             "color": "#2a3f5f"
            },
            "error_y": {
             "color": "#2a3f5f"
            },
            "marker": {
             "line": {
              "color": "#E5ECF6",
              "width": 0.5
             }
            },
            "type": "bar"
           }
          ],
          "barpolar": [
           {
            "marker": {
             "line": {
              "color": "#E5ECF6",
              "width": 0.5
             }
            },
            "type": "barpolar"
           }
          ],
          "carpet": [
           {
            "aaxis": {
             "endlinecolor": "#2a3f5f",
             "gridcolor": "white",
             "linecolor": "white",
             "minorgridcolor": "white",
             "startlinecolor": "#2a3f5f"
            },
            "baxis": {
             "endlinecolor": "#2a3f5f",
             "gridcolor": "white",
             "linecolor": "white",
             "minorgridcolor": "white",
             "startlinecolor": "#2a3f5f"
            },
            "type": "carpet"
           }
          ],
          "choropleth": [
           {
            "colorbar": {
             "outlinewidth": 0,
             "ticks": ""
            },
            "type": "choropleth"
           }
          ],
          "contour": [
           {
            "colorbar": {
             "outlinewidth": 0,
             "ticks": ""
            },
            "colorscale": [
             [
              0,
              "#0d0887"
             ],
             [
              0.1111111111111111,
              "#46039f"
             ],
             [
              0.2222222222222222,
              "#7201a8"
             ],
             [
              0.3333333333333333,
              "#9c179e"
             ],
             [
              0.4444444444444444,
              "#bd3786"
             ],
             [
              0.5555555555555556,
              "#d8576b"
             ],
             [
              0.6666666666666666,
              "#ed7953"
             ],
             [
              0.7777777777777778,
              "#fb9f3a"
             ],
             [
              0.8888888888888888,
              "#fdca26"
             ],
             [
              1,
              "#f0f921"
             ]
            ],
            "type": "contour"
           }
          ],
          "contourcarpet": [
           {
            "colorbar": {
             "outlinewidth": 0,
             "ticks": ""
            },
            "type": "contourcarpet"
           }
          ],
          "heatmap": [
           {
            "colorbar": {
             "outlinewidth": 0,
             "ticks": ""
            },
            "colorscale": [
             [
              0,
              "#0d0887"
             ],
             [
              0.1111111111111111,
              "#46039f"
             ],
             [
              0.2222222222222222,
              "#7201a8"
             ],
             [
              0.3333333333333333,
              "#9c179e"
             ],
             [
              0.4444444444444444,
              "#bd3786"
             ],
             [
              0.5555555555555556,
              "#d8576b"
             ],
             [
              0.6666666666666666,
              "#ed7953"
             ],
             [
              0.7777777777777778,
              "#fb9f3a"
             ],
             [
              0.8888888888888888,
              "#fdca26"
             ],
             [
              1,
              "#f0f921"
             ]
            ],
            "type": "heatmap"
           }
          ],
          "heatmapgl": [
           {
            "colorbar": {
             "outlinewidth": 0,
             "ticks": ""
            },
            "colorscale": [
             [
              0,
              "#0d0887"
             ],
             [
              0.1111111111111111,
              "#46039f"
             ],
             [
              0.2222222222222222,
              "#7201a8"
             ],
             [
              0.3333333333333333,
              "#9c179e"
             ],
             [
              0.4444444444444444,
              "#bd3786"
             ],
             [
              0.5555555555555556,
              "#d8576b"
             ],
             [
              0.6666666666666666,
              "#ed7953"
             ],
             [
              0.7777777777777778,
              "#fb9f3a"
             ],
             [
              0.8888888888888888,
              "#fdca26"
             ],
             [
              1,
              "#f0f921"
             ]
            ],
            "type": "heatmapgl"
           }
          ],
          "histogram": [
           {
            "marker": {
             "colorbar": {
              "outlinewidth": 0,
              "ticks": ""
             }
            },
            "type": "histogram"
           }
          ],
          "histogram2d": [
           {
            "colorbar": {
             "outlinewidth": 0,
             "ticks": ""
            },
            "colorscale": [
             [
              0,
              "#0d0887"
             ],
             [
              0.1111111111111111,
              "#46039f"
             ],
             [
              0.2222222222222222,
              "#7201a8"
             ],
             [
              0.3333333333333333,
              "#9c179e"
             ],
             [
              0.4444444444444444,
              "#bd3786"
             ],
             [
              0.5555555555555556,
              "#d8576b"
             ],
             [
              0.6666666666666666,
              "#ed7953"
             ],
             [
              0.7777777777777778,
              "#fb9f3a"
             ],
             [
              0.8888888888888888,
              "#fdca26"
             ],
             [
              1,
              "#f0f921"
             ]
            ],
            "type": "histogram2d"
           }
          ],
          "histogram2dcontour": [
           {
            "colorbar": {
             "outlinewidth": 0,
             "ticks": ""
            },
            "colorscale": [
             [
              0,
              "#0d0887"
             ],
             [
              0.1111111111111111,
              "#46039f"
             ],
             [
              0.2222222222222222,
              "#7201a8"
             ],
             [
              0.3333333333333333,
              "#9c179e"
             ],
             [
              0.4444444444444444,
              "#bd3786"
             ],
             [
              0.5555555555555556,
              "#d8576b"
             ],
             [
              0.6666666666666666,
              "#ed7953"
             ],
             [
              0.7777777777777778,
              "#fb9f3a"
             ],
             [
              0.8888888888888888,
              "#fdca26"
             ],
             [
              1,
              "#f0f921"
             ]
            ],
            "type": "histogram2dcontour"
           }
          ],
          "mesh3d": [
           {
            "colorbar": {
             "outlinewidth": 0,
             "ticks": ""
            },
            "type": "mesh3d"
           }
          ],
          "parcoords": [
           {
            "line": {
             "colorbar": {
              "outlinewidth": 0,
              "ticks": ""
             }
            },
            "type": "parcoords"
           }
          ],
          "scatter": [
           {
            "marker": {
             "colorbar": {
              "outlinewidth": 0,
              "ticks": ""
             }
            },
            "type": "scatter"
           }
          ],
          "scatter3d": [
           {
            "line": {
             "colorbar": {
              "outlinewidth": 0,
              "ticks": ""
             }
            },
            "marker": {
             "colorbar": {
              "outlinewidth": 0,
              "ticks": ""
             }
            },
            "type": "scatter3d"
           }
          ],
          "scattercarpet": [
           {
            "marker": {
             "colorbar": {
              "outlinewidth": 0,
              "ticks": ""
             }
            },
            "type": "scattercarpet"
           }
          ],
          "scattergeo": [
           {
            "marker": {
             "colorbar": {
              "outlinewidth": 0,
              "ticks": ""
             }
            },
            "type": "scattergeo"
           }
          ],
          "scattergl": [
           {
            "marker": {
             "colorbar": {
              "outlinewidth": 0,
              "ticks": ""
             }
            },
            "type": "scattergl"
           }
          ],
          "scattermapbox": [
           {
            "marker": {
             "colorbar": {
              "outlinewidth": 0,
              "ticks": ""
             }
            },
            "type": "scattermapbox"
           }
          ],
          "scatterpolar": [
           {
            "marker": {
             "colorbar": {
              "outlinewidth": 0,
              "ticks": ""
             }
            },
            "type": "scatterpolar"
           }
          ],
          "scatterpolargl": [
           {
            "marker": {
             "colorbar": {
              "outlinewidth": 0,
              "ticks": ""
             }
            },
            "type": "scatterpolargl"
           }
          ],
          "scatterternary": [
           {
            "marker": {
             "colorbar": {
              "outlinewidth": 0,
              "ticks": ""
             }
            },
            "type": "scatterternary"
           }
          ],
          "surface": [
           {
            "colorbar": {
             "outlinewidth": 0,
             "ticks": ""
            },
            "colorscale": [
             [
              0,
              "#0d0887"
             ],
             [
              0.1111111111111111,
              "#46039f"
             ],
             [
              0.2222222222222222,
              "#7201a8"
             ],
             [
              0.3333333333333333,
              "#9c179e"
             ],
             [
              0.4444444444444444,
              "#bd3786"
             ],
             [
              0.5555555555555556,
              "#d8576b"
             ],
             [
              0.6666666666666666,
              "#ed7953"
             ],
             [
              0.7777777777777778,
              "#fb9f3a"
             ],
             [
              0.8888888888888888,
              "#fdca26"
             ],
             [
              1,
              "#f0f921"
             ]
            ],
            "type": "surface"
           }
          ],
          "table": [
           {
            "cells": {
             "fill": {
              "color": "#EBF0F8"
             },
             "line": {
              "color": "white"
             }
            },
            "header": {
             "fill": {
              "color": "#C8D4E3"
             },
             "line": {
              "color": "white"
             }
            },
            "type": "table"
           }
          ]
         },
         "layout": {
          "annotationdefaults": {
           "arrowcolor": "#2a3f5f",
           "arrowhead": 0,
           "arrowwidth": 1
          },
          "colorscale": {
           "diverging": [
            [
             0,
             "#8e0152"
            ],
            [
             0.1,
             "#c51b7d"
            ],
            [
             0.2,
             "#de77ae"
            ],
            [
             0.3,
             "#f1b6da"
            ],
            [
             0.4,
             "#fde0ef"
            ],
            [
             0.5,
             "#f7f7f7"
            ],
            [
             0.6,
             "#e6f5d0"
            ],
            [
             0.7,
             "#b8e186"
            ],
            [
             0.8,
             "#7fbc41"
            ],
            [
             0.9,
             "#4d9221"
            ],
            [
             1,
             "#276419"
            ]
           ],
           "sequential": [
            [
             0,
             "#0d0887"
            ],
            [
             0.1111111111111111,
             "#46039f"
            ],
            [
             0.2222222222222222,
             "#7201a8"
            ],
            [
             0.3333333333333333,
             "#9c179e"
            ],
            [
             0.4444444444444444,
             "#bd3786"
            ],
            [
             0.5555555555555556,
             "#d8576b"
            ],
            [
             0.6666666666666666,
             "#ed7953"
            ],
            [
             0.7777777777777778,
             "#fb9f3a"
            ],
            [
             0.8888888888888888,
             "#fdca26"
            ],
            [
             1,
             "#f0f921"
            ]
           ],
           "sequentialminus": [
            [
             0,
             "#0d0887"
            ],
            [
             0.1111111111111111,
             "#46039f"
            ],
            [
             0.2222222222222222,
             "#7201a8"
            ],
            [
             0.3333333333333333,
             "#9c179e"
            ],
            [
             0.4444444444444444,
             "#bd3786"
            ],
            [
             0.5555555555555556,
             "#d8576b"
            ],
            [
             0.6666666666666666,
             "#ed7953"
            ],
            [
             0.7777777777777778,
             "#fb9f3a"
            ],
            [
             0.8888888888888888,
             "#fdca26"
            ],
            [
             1,
             "#f0f921"
            ]
           ]
          },
          "colorway": [
           "#636efa",
           "#EF553B",
           "#00cc96",
           "#ab63fa",
           "#FFA15A",
           "#19d3f3",
           "#FF6692",
           "#B6E880",
           "#FF97FF",
           "#FECB52"
          ],
          "font": {
           "color": "#2a3f5f"
          },
          "geo": {
           "bgcolor": "white",
           "lakecolor": "white",
           "landcolor": "#E5ECF6",
           "showlakes": true,
           "showland": true,
           "subunitcolor": "white"
          },
          "hoverlabel": {
           "align": "left"
          },
          "hovermode": "closest",
          "mapbox": {
           "style": "light"
          },
          "paper_bgcolor": "white",
          "plot_bgcolor": "#E5ECF6",
          "polar": {
           "angularaxis": {
            "gridcolor": "white",
            "linecolor": "white",
            "ticks": ""
           },
           "bgcolor": "#E5ECF6",
           "radialaxis": {
            "gridcolor": "white",
            "linecolor": "white",
            "ticks": ""
           }
          },
          "scene": {
           "xaxis": {
            "backgroundcolor": "#E5ECF6",
            "gridcolor": "white",
            "gridwidth": 2,
            "linecolor": "white",
            "showbackground": true,
            "ticks": "",
            "zerolinecolor": "white"
           },
           "yaxis": {
            "backgroundcolor": "#E5ECF6",
            "gridcolor": "white",
            "gridwidth": 2,
            "linecolor": "white",
            "showbackground": true,
            "ticks": "",
            "zerolinecolor": "white"
           },
           "zaxis": {
            "backgroundcolor": "#E5ECF6",
            "gridcolor": "white",
            "gridwidth": 2,
            "linecolor": "white",
            "showbackground": true,
            "ticks": "",
            "zerolinecolor": "white"
           }
          },
          "shapedefaults": {
           "line": {
            "color": "#2a3f5f"
           }
          },
          "ternary": {
           "aaxis": {
            "gridcolor": "white",
            "linecolor": "white",
            "ticks": ""
           },
           "baxis": {
            "gridcolor": "white",
            "linecolor": "white",
            "ticks": ""
           },
           "bgcolor": "#E5ECF6",
           "caxis": {
            "gridcolor": "white",
            "linecolor": "white",
            "ticks": ""
           }
          },
          "title": {
           "x": 0.05
          },
          "xaxis": {
           "automargin": true,
           "gridcolor": "white",
           "linecolor": "white",
           "ticks": "",
           "zerolinecolor": "white",
           "zerolinewidth": 2
          },
          "yaxis": {
           "automargin": true,
           "gridcolor": "white",
           "linecolor": "white",
           "ticks": "",
           "zerolinecolor": "white",
           "zerolinewidth": 2
          }
         }
        },
        "title": {
         "text": "Trie"
        },
        "width": 1000,
        "xaxis": {
         "showgrid": false,
         "showline": false,
         "showticklabels": false,
         "zeroline": false
        },
        "yaxis": {
         "showgrid": false,
         "showline": false,
         "showticklabels": false,
         "zeroline": false
        }
       }
      },
      "text/html": [
       "<div>\n",
       "        \n",
       "        \n",
       "            <div id=\"95625041-d10f-4839-bc06-65f6ea18062e\" class=\"plotly-graph-div\" style=\"height:800px; width:1000px;\"></div>\n",
       "            <script type=\"text/javascript\">\n",
       "                require([\"plotly\"], function(Plotly) {\n",
       "                    window.PLOTLYENV=window.PLOTLYENV || {};\n",
       "                    \n",
       "                if (document.getElementById(\"95625041-d10f-4839-bc06-65f6ea18062e\")) {\n",
       "                    Plotly.newPlot(\n",
       "                        '95625041-d10f-4839-bc06-65f6ea18062e',\n",
       "                        [{\"hoverinfo\": \"none\", \"line\": {\"color\": \"rgb(160,160,160)\", \"width\": 2}, \"mode\": \"lines\", \"type\": \"scatter\", \"uid\": \"4ce018cf-6151-4a8d-828b-6a83e9024322\", \"x\": [1822.5, 1822.5, null, 1822.5, 1323.5, null, 1822.5, 1822.5, null, 1822.5, 2155.5, null, 1323.5, 992.49, null, 1323.5, 1323.5, null, 1822.5, 1822.5, null, 2155.5, 2157.5, null, 992.49, 992.49, null, 1323.5, 1323.5, null, 1822.5, 1822.5, null, 2157.5, 2158.5, null, 992.49, 991.49, null, 1323.5, 1323.5, null, 991.49, 990.49, null, 990.49, 988.49, null, 988.49, 825.49, null, 825.49, 492.49, null, 825.49, 825.49, null, 492.49, 489.49, null, 825.49, 825.49, null, 489.49, 159.49, null, 489.49, 489.49, null, 825.49, 825.49, null, 159.49, 157.49, null, 489.49, 489.49, null, 157.49, 156.49, null, 489.49, 489.49, null, 156.49, 156.49, null, 156.49, 156.49, null, 156.49, 156.49, null, 489.49, 489.49, null, 489.49, 490.49, null, 490.49, 490.49, null, 490.49, 490.49, null, 490.49, 490.49, null, 825.49, 825.49, null, 825.49, 825.49, null, 825.49, 825.49, null, 1323.5, 1323.5, null, 1323.5, 1323.5, null, 1323.5, 1323.5, null, 1323.5, 1323.5, null, 1323.5, 1323.5, null, 1323.5, 1323.5, null, 1323.5, 1323.5, null, 1323.5, 1159.5, null, 1323.5, 1490.5, null, 1159.5, 1159.5, null, 1490.5, 1491.5, null, 1159.5, 1159.5, null, 1491.5, 1491.5, null, 1491.5, 1490.5, null, 1490.5, 1490.5, null, 1490.5, 1490.5, null, 1822.5, 1822.5, null, 1822.5, 1822.5, null, 1822.5, 1822.5, null, 1822.5, 1822.5, null, 1822.5, 1822.5, null, 1822.5, 1823.5, null, 1823.5, 1823.5, null, 1823.5, 1823.5, null, 1823.5, 1823.5, null, 1823.5, 1824.5, null, 1824.5, 1824.5, null, 1824.5, 1824.5, null, 2158.5, 2158.5, null, 2158.5, 2158.5, null, 2158.5, 2158.5, null, 2158.5, 2158.5, null, 2158.5, 2158.5, null, 2158.5, 2158.5, null, 2158.5, 2158.5, null, 2158.5, 2158.5, null, 2158.5, 2158.5, null, 2158.5, 2158.5, null], \"y\": [1314.0, 1242.0, null, 1242.0, 1170.0, null, 1242.0, 1170.0, null, 1242.0, 1170.0, null, 1170.0, 1098.0, null, 1170.0, 1098.0, null, 1170.0, 1098.0, null, 1170.0, 1098.0, null, 1098.0, 1026.0, null, 1098.0, 1026.0, null, 1098.0, 1026.0, null, 1098.0, 1026.0, null, 1026.0, 954.0, null, 1026.0, 954.0, null, 954.0, 882.0, null, 882.0, 810.0, null, 810.0, 738.0, null, 738.0, 666.0, null, 738.0, 666.0, null, 666.0, 594.0, null, 666.0, 594.0, null, 594.0, 522.0, null, 594.0, 522.0, null, 594.0, 522.0, null, 522.0, 450.0, null, 522.0, 450.0, null, 450.0, 378.0, null, 450.0, 378.0, null, 378.0, 306.0, null, 306.0, 234.0, null, 234.0, 162.0, null, 378.0, 306.0, null, 306.0, 234.0, null, 234.0, 162.0, null, 162.0, 90.0, null, 90.0, 18.0, null, 522.0, 450.0, null, 450.0, 378.0, null, 378.0, 306.0, null, 954.0, 882.0, null, 882.0, 810.0, null, 810.0, 738.0, null, 738.0, 666.0, null, 666.0, 594.0, null, 594.0, 522.0, null, 522.0, 450.0, null, 450.0, 378.0, null, 450.0, 378.0, null, 378.0, 306.0, null, 378.0, 306.0, null, 306.0, 234.0, null, 306.0, 234.0, null, 234.0, 162.0, null, 162.0, 90.0, null, 90.0, 18.0, null, 1026.0, 954.0, null, 954.0, 882.0, null, 882.0, 810.0, null, 810.0, 738.0, null, 738.0, 666.0, null, 666.0, 594.0, null, 594.0, 522.0, null, 522.0, 450.0, null, 450.0, 378.0, null, 378.0, 306.0, null, 306.0, 234.0, null, 234.0, 162.0, null, 1026.0, 954.0, null, 954.0, 882.0, null, 882.0, 810.0, null, 810.0, 738.0, null, 738.0, 666.0, null, 666.0, 594.0, null, 594.0, 522.0, null, 522.0, 450.0, null, 450.0, 378.0, null, 378.0, 306.0, null]}, {\"hoverinfo\": \"none\", \"line\": {\"color\": \"red\", \"width\": 2}, \"mode\": \"lines\", \"type\": \"scatter\", \"uid\": \"d4f1e8f5-be1a-4426-ae58-a02d6b4b5e63\", \"x\": [1822.5, 1822.5, null, 1822.5, 1822.5, null, 1822.5, 1822.5, null, 1822.5, 1822.5, null, 1822.5, 1822.5, null, 1822.5, 1822.5, null], \"y\": [1314.0, 1242.0, null, 1242.0, 1170.0, null, 1170.0, 1098.0, null, 1098.0, 1026.0, null, 1026.0, 954.0, null, 954.0, 882.0, null]}, {\"hoverinfo\": \"none\", \"marker\": {\"color\": \"rgb(100,100,100)\", \"line\": {\"color\": \"rgb(100,100,100)\", \"width\": 1}, \"size\": 18}, \"mode\": \"markers+text\", \"name\": \"\", \"text\": [null], \"type\": \"scatter\", \"uid\": \"937375bc-6f13-4c55-b663-ec7d321ccc27\", \"x\": [1822.5], \"y\": [1314.0]}, {\"hoverinfo\": \"none\", \"marker\": {\"color\": \"rgb(101,214,67)\", \"line\": {\"color\": \"rgb(100,100,100)\", \"width\": 1}, \"size\": 18}, \"mode\": \"markers+text\", \"name\": \"\", \"text\": [\"dynamic\", \"dynamic\", \"dynamic\", \"dynamic\"], \"type\": \"scatter\", \"uid\": \"fd16591f-0e85-4048-b3bc-a7dd5975aebb\", \"x\": [988.49, 1159.5, 1822.5, 2158.5], \"y\": [810.0, 234.0, 738.0, 738.0]}, {\"hoverinfo\": \"none\", \"marker\": {\"color\": \"rgb(247,185,43)\", \"line\": {\"color\": \"rgb(100,100,100)\", \"width\": 1}, \"size\": 18}, \"mode\": \"markers+text\", \"name\": \"\", \"text\": [\"/\", \"/\", \"/\", \"/\", \"/\", \"/\", \"/\", \"/\"], \"type\": \"scatter\", \"uid\": \"2d37207c-0709-49e1-a9be-63f270212675\", \"x\": [1822.5, 990.49, 825.49, 1159.5, 1822.5, 1822.5, 2158.5, 2158.5], \"y\": [1242.0, 882.0, 738.0, 306.0, 810.0, 666.0, 810.0, 666.0]}, {\"hoverinfo\": \"none\", \"marker\": {\"color\": \"rgb(24,140,216)\", \"line\": {\"color\": \"rgb(100,100,100)\", \"width\": 1}, \"size\": 18}, \"mode\": \"markers+text\", \"name\": \"\", \"text\": [\"a\", \"u\", \"p\", \"p\", \"c\", \"s\", \"o\", \"p\", \"h\", \"s\", \"a\", \"e\", \"c\", \"v\", \"c\", \"t\", \"o\", \"i\", \"u\", \"n\", \"t\", \"s\", \"v\", \"i\", \"t\", \"i\", \"e\", \"s\", \"e\", \"n\", \"t\", \"s\", \"i\", \"e\", \"v\", \"e\", \"m\", \"e\", \"n\", \"t\", \"s\", \"-\", \"t\", \"y\", \"p\", \"e\", \"s\", \"e\", \"r\", \"s\", \"f\", \"r\", \"i\", \"e\", \"n\", \"d\", \"s\", \"s\", \"t\", \"s\", \"l\", \"i\", \"k\", \"e\", \"s\"], \"type\": \"scatter\", \"uid\": \"104aaea4-987f-426a-ae4f-e23eefc4f003\", \"x\": [1323.5, 1822.5, 2155.5, 992.49, 1323.5, 1822.5, 2157.5, 992.49, 1323.5, 991.49, 492.49, 825.49, 489.49, 825.49, 159.49, 489.49, 157.49, 489.49, 156.49, 156.49, 156.49, 156.49, 489.49, 489.49, 490.49, 490.49, 490.49, 490.49, 825.49, 825.49, 825.49, 825.49, 1323.5, 1323.5, 1323.5, 1323.5, 1323.5, 1323.5, 1323.5, 1323.5, 1159.5, 1490.5, 1491.5, 1491.5, 1490.5, 1490.5, 1490.5, 1822.5, 1822.5, 1822.5, 1823.5, 1823.5, 1823.5, 1823.5, 1824.5, 1824.5, 1824.5, 2158.5, 2158.5, 2158.5, 2158.5, 2158.5, 2158.5, 2158.5, 2158.5], \"y\": [1170.0, 1170.0, 1170.0, 1098.0, 1098.0, 1098.0, 1098.0, 1026.0, 1026.0, 954.0, 666.0, 666.0, 594.0, 594.0, 522.0, 522.0, 450.0, 450.0, 378.0, 306.0, 234.0, 162.0, 378.0, 306.0, 234.0, 162.0, 90.0, 18.0, 522.0, 450.0, 378.0, 306.0, 954.0, 882.0, 810.0, 738.0, 666.0, 594.0, 522.0, 450.0, 378.0, 378.0, 306.0, 234.0, 162.0, 90.0, 18.0, 1026.0, 954.0, 882.0, 594.0, 522.0, 450.0, 378.0, 306.0, 234.0, 162.0, 1026.0, 954.0, 882.0, 594.0, 522.0, 450.0, 378.0, 306.0]}],\n",
       "                        {\"font\": {\"size\": 15}, \"height\": 800, \"hovermode\": \"closest\", \"margin\": {\"b\": 85, \"l\": 40, \"r\": 40, \"t\": 100}, \"plot_bgcolor\": \"rgb(248,248,248)\", \"showlegend\": false, \"template\": {\"data\": {\"bar\": [{\"error_x\": {\"color\": \"#2a3f5f\"}, \"error_y\": {\"color\": \"#2a3f5f\"}, \"marker\": {\"line\": {\"color\": \"#E5ECF6\", \"width\": 0.5}}, \"type\": \"bar\"}], \"barpolar\": [{\"marker\": {\"line\": {\"color\": \"#E5ECF6\", \"width\": 0.5}}, \"type\": \"barpolar\"}], \"carpet\": [{\"aaxis\": {\"endlinecolor\": \"#2a3f5f\", \"gridcolor\": \"white\", \"linecolor\": \"white\", \"minorgridcolor\": \"white\", \"startlinecolor\": \"#2a3f5f\"}, \"baxis\": {\"endlinecolor\": \"#2a3f5f\", \"gridcolor\": \"white\", \"linecolor\": \"white\", \"minorgridcolor\": \"white\", \"startlinecolor\": \"#2a3f5f\"}, \"type\": \"carpet\"}], \"choropleth\": [{\"colorbar\": {\"outlinewidth\": 0, \"ticks\": \"\"}, \"type\": \"choropleth\"}], \"contour\": [{\"colorbar\": {\"outlinewidth\": 0, \"ticks\": \"\"}, \"colorscale\": [[0.0, \"#0d0887\"], [0.1111111111111111, \"#46039f\"], [0.2222222222222222, \"#7201a8\"], [0.3333333333333333, \"#9c179e\"], [0.4444444444444444, \"#bd3786\"], [0.5555555555555556, \"#d8576b\"], [0.6666666666666666, \"#ed7953\"], [0.7777777777777778, \"#fb9f3a\"], [0.8888888888888888, \"#fdca26\"], [1.0, \"#f0f921\"]], \"type\": \"contour\"}], \"contourcarpet\": [{\"colorbar\": {\"outlinewidth\": 0, \"ticks\": \"\"}, \"type\": \"contourcarpet\"}], \"heatmap\": [{\"colorbar\": {\"outlinewidth\": 0, \"ticks\": \"\"}, \"colorscale\": [[0.0, \"#0d0887\"], [0.1111111111111111, \"#46039f\"], [0.2222222222222222, \"#7201a8\"], [0.3333333333333333, \"#9c179e\"], [0.4444444444444444, \"#bd3786\"], [0.5555555555555556, \"#d8576b\"], [0.6666666666666666, \"#ed7953\"], [0.7777777777777778, \"#fb9f3a\"], [0.8888888888888888, \"#fdca26\"], [1.0, \"#f0f921\"]], \"type\": \"heatmap\"}], \"heatmapgl\": [{\"colorbar\": {\"outlinewidth\": 0, \"ticks\": \"\"}, \"colorscale\": [[0.0, \"#0d0887\"], [0.1111111111111111, \"#46039f\"], [0.2222222222222222, \"#7201a8\"], [0.3333333333333333, \"#9c179e\"], [0.4444444444444444, \"#bd3786\"], [0.5555555555555556, \"#d8576b\"], [0.6666666666666666, \"#ed7953\"], [0.7777777777777778, \"#fb9f3a\"], [0.8888888888888888, \"#fdca26\"], [1.0, \"#f0f921\"]], \"type\": \"heatmapgl\"}], \"histogram\": [{\"marker\": {\"colorbar\": {\"outlinewidth\": 0, \"ticks\": \"\"}}, \"type\": \"histogram\"}], \"histogram2d\": [{\"colorbar\": {\"outlinewidth\": 0, \"ticks\": \"\"}, \"colorscale\": [[0.0, \"#0d0887\"], [0.1111111111111111, \"#46039f\"], [0.2222222222222222, \"#7201a8\"], [0.3333333333333333, \"#9c179e\"], [0.4444444444444444, \"#bd3786\"], [0.5555555555555556, \"#d8576b\"], [0.6666666666666666, \"#ed7953\"], [0.7777777777777778, \"#fb9f3a\"], [0.8888888888888888, \"#fdca26\"], [1.0, \"#f0f921\"]], \"type\": \"histogram2d\"}], \"histogram2dcontour\": [{\"colorbar\": {\"outlinewidth\": 0, \"ticks\": \"\"}, \"colorscale\": [[0.0, \"#0d0887\"], [0.1111111111111111, \"#46039f\"], [0.2222222222222222, \"#7201a8\"], [0.3333333333333333, \"#9c179e\"], [0.4444444444444444, \"#bd3786\"], [0.5555555555555556, \"#d8576b\"], [0.6666666666666666, \"#ed7953\"], [0.7777777777777778, \"#fb9f3a\"], [0.8888888888888888, \"#fdca26\"], [1.0, \"#f0f921\"]], \"type\": \"histogram2dcontour\"}], \"mesh3d\": [{\"colorbar\": {\"outlinewidth\": 0, \"ticks\": \"\"}, \"type\": \"mesh3d\"}], \"parcoords\": [{\"line\": {\"colorbar\": {\"outlinewidth\": 0, \"ticks\": \"\"}}, \"type\": \"parcoords\"}], \"scatter\": [{\"marker\": {\"colorbar\": {\"outlinewidth\": 0, \"ticks\": \"\"}}, \"type\": \"scatter\"}], \"scatter3d\": [{\"line\": {\"colorbar\": {\"outlinewidth\": 0, \"ticks\": \"\"}}, \"marker\": {\"colorbar\": {\"outlinewidth\": 0, \"ticks\": \"\"}}, \"type\": \"scatter3d\"}], \"scattercarpet\": [{\"marker\": {\"colorbar\": {\"outlinewidth\": 0, \"ticks\": \"\"}}, \"type\": \"scattercarpet\"}], \"scattergeo\": [{\"marker\": {\"colorbar\": {\"outlinewidth\": 0, \"ticks\": \"\"}}, \"type\": \"scattergeo\"}], \"scattergl\": [{\"marker\": {\"colorbar\": {\"outlinewidth\": 0, \"ticks\": \"\"}}, \"type\": \"scattergl\"}], \"scattermapbox\": [{\"marker\": {\"colorbar\": {\"outlinewidth\": 0, \"ticks\": \"\"}}, \"type\": \"scattermapbox\"}], \"scatterpolar\": [{\"marker\": {\"colorbar\": {\"outlinewidth\": 0, \"ticks\": \"\"}}, \"type\": \"scatterpolar\"}], \"scatterpolargl\": [{\"marker\": {\"colorbar\": {\"outlinewidth\": 0, \"ticks\": \"\"}}, \"type\": \"scatterpolargl\"}], \"scatterternary\": [{\"marker\": {\"colorbar\": {\"outlinewidth\": 0, \"ticks\": \"\"}}, \"type\": \"scatterternary\"}], \"surface\": [{\"colorbar\": {\"outlinewidth\": 0, \"ticks\": \"\"}, \"colorscale\": [[0.0, \"#0d0887\"], [0.1111111111111111, \"#46039f\"], [0.2222222222222222, \"#7201a8\"], [0.3333333333333333, \"#9c179e\"], [0.4444444444444444, \"#bd3786\"], [0.5555555555555556, \"#d8576b\"], [0.6666666666666666, \"#ed7953\"], [0.7777777777777778, \"#fb9f3a\"], [0.8888888888888888, \"#fdca26\"], [1.0, \"#f0f921\"]], \"type\": \"surface\"}], \"table\": [{\"cells\": {\"fill\": {\"color\": \"#EBF0F8\"}, \"line\": {\"color\": \"white\"}}, \"header\": {\"fill\": {\"color\": \"#C8D4E3\"}, \"line\": {\"color\": \"white\"}}, \"type\": \"table\"}]}, \"layout\": {\"annotationdefaults\": {\"arrowcolor\": \"#2a3f5f\", \"arrowhead\": 0, \"arrowwidth\": 1}, \"colorscale\": {\"diverging\": [[0, \"#8e0152\"], [0.1, \"#c51b7d\"], [0.2, \"#de77ae\"], [0.3, \"#f1b6da\"], [0.4, \"#fde0ef\"], [0.5, \"#f7f7f7\"], [0.6, \"#e6f5d0\"], [0.7, \"#b8e186\"], [0.8, \"#7fbc41\"], [0.9, \"#4d9221\"], [1, \"#276419\"]], \"sequential\": [[0.0, \"#0d0887\"], [0.1111111111111111, \"#46039f\"], [0.2222222222222222, \"#7201a8\"], [0.3333333333333333, \"#9c179e\"], [0.4444444444444444, \"#bd3786\"], [0.5555555555555556, \"#d8576b\"], [0.6666666666666666, \"#ed7953\"], [0.7777777777777778, \"#fb9f3a\"], [0.8888888888888888, \"#fdca26\"], [1.0, \"#f0f921\"]], \"sequentialminus\": [[0.0, \"#0d0887\"], [0.1111111111111111, \"#46039f\"], [0.2222222222222222, \"#7201a8\"], [0.3333333333333333, \"#9c179e\"], [0.4444444444444444, \"#bd3786\"], [0.5555555555555556, \"#d8576b\"], [0.6666666666666666, \"#ed7953\"], [0.7777777777777778, \"#fb9f3a\"], [0.8888888888888888, \"#fdca26\"], [1.0, \"#f0f921\"]]}, \"colorway\": [\"#636efa\", \"#EF553B\", \"#00cc96\", \"#ab63fa\", \"#FFA15A\", \"#19d3f3\", \"#FF6692\", \"#B6E880\", \"#FF97FF\", \"#FECB52\"], \"font\": {\"color\": \"#2a3f5f\"}, \"geo\": {\"bgcolor\": \"white\", \"lakecolor\": \"white\", \"landcolor\": \"#E5ECF6\", \"showlakes\": true, \"showland\": true, \"subunitcolor\": \"white\"}, \"hoverlabel\": {\"align\": \"left\"}, \"hovermode\": \"closest\", \"mapbox\": {\"style\": \"light\"}, \"paper_bgcolor\": \"white\", \"plot_bgcolor\": \"#E5ECF6\", \"polar\": {\"angularaxis\": {\"gridcolor\": \"white\", \"linecolor\": \"white\", \"ticks\": \"\"}, \"bgcolor\": \"#E5ECF6\", \"radialaxis\": {\"gridcolor\": \"white\", \"linecolor\": \"white\", \"ticks\": \"\"}}, \"scene\": {\"xaxis\": {\"backgroundcolor\": \"#E5ECF6\", \"gridcolor\": \"white\", \"gridwidth\": 2, \"linecolor\": \"white\", \"showbackground\": true, \"ticks\": \"\", \"zerolinecolor\": \"white\"}, \"yaxis\": {\"backgroundcolor\": \"#E5ECF6\", \"gridcolor\": \"white\", \"gridwidth\": 2, \"linecolor\": \"white\", \"showbackground\": true, \"ticks\": \"\", \"zerolinecolor\": \"white\"}, \"zaxis\": {\"backgroundcolor\": \"#E5ECF6\", \"gridcolor\": \"white\", \"gridwidth\": 2, \"linecolor\": \"white\", \"showbackground\": true, \"ticks\": \"\", \"zerolinecolor\": \"white\"}}, \"shapedefaults\": {\"line\": {\"color\": \"#2a3f5f\"}}, \"ternary\": {\"aaxis\": {\"gridcolor\": \"white\", \"linecolor\": \"white\", \"ticks\": \"\"}, \"baxis\": {\"gridcolor\": \"white\", \"linecolor\": \"white\", \"ticks\": \"\"}, \"bgcolor\": \"#E5ECF6\", \"caxis\": {\"gridcolor\": \"white\", \"linecolor\": \"white\", \"ticks\": \"\"}}, \"title\": {\"x\": 0.05}, \"xaxis\": {\"automargin\": true, \"gridcolor\": \"white\", \"linecolor\": \"white\", \"ticks\": \"\", \"zerolinecolor\": \"white\", \"zerolinewidth\": 2}, \"yaxis\": {\"automargin\": true, \"gridcolor\": \"white\", \"linecolor\": \"white\", \"ticks\": \"\", \"zerolinecolor\": \"white\", \"zerolinewidth\": 2}}}, \"title\": {\"text\": \"Trie\"}, \"width\": 1000, \"xaxis\": {\"showgrid\": false, \"showline\": false, \"showticklabels\": false, \"zeroline\": false}, \"yaxis\": {\"showgrid\": false, \"showline\": false, \"showticklabels\": false, \"zeroline\": false}},\n",
       "                        {\"responsive\": true}\n",
       "                    ).then(function(){\n",
       "                            \n",
       "var gd = document.getElementById('95625041-d10f-4839-bc06-65f6ea18062e');\n",
       "var x = new MutationObserver(function (mutations, observer) {{\n",
       "        var display = window.getComputedStyle(gd).display;\n",
       "        if (!display || display === 'none') {{\n",
       "            console.log([gd, 'removed!']);\n",
       "            Plotly.purge(gd);\n",
       "            observer.disconnect();\n",
       "        }}\n",
       "}});\n",
       "\n",
       "// Listen for the removal of the full notebook cells\n",
       "var notebookContainer = gd.closest('#notebook-container');\n",
       "if (notebookContainer) {{\n",
       "    x.observe(notebookContainer, {childList: true});\n",
       "}}\n",
       "\n",
       "// Listen for the clearing of the current output cell\n",
       "var outputEl = gd.closest('.output');\n",
       "if (outputEl) {{\n",
       "    x.observe(outputEl, {childList: true});\n",
       "}}\n",
       "\n",
       "                        })\n",
       "                };\n",
       "                });\n",
       "            </script>\n",
       "        </div>"
      ]
     },
     "metadata": {},
     "output_type": "display_data"
    }
   ],
   "source": [
    "search(\"/users\")"
   ]
  },
  {
   "cell_type": "code",
   "execution_count": 53,
   "metadata": {},
   "outputs": [
    {
     "data": {
      "application/vnd.plotly.v1+json": {
       "config": {
        "plotlyServerURL": "https://plot.ly"
       },
       "data": [
        {
         "hoverinfo": "none",
         "line": {
          "color": "rgb(160,160,160)",
          "width": 2
         },
         "mode": "lines",
         "type": "scatter",
         "uid": "a2c8e71e-500d-4557-8c11-dbd9ce7c1ed5",
         "x": [
          1822.5,
          1822.5,
          null,
          1822.5,
          1323.5,
          null,
          1822.5,
          1822.5,
          null,
          1822.5,
          2155.5,
          null,
          1323.5,
          992.49,
          null,
          1323.5,
          1323.5,
          null,
          1822.5,
          1822.5,
          null,
          2155.5,
          2157.5,
          null,
          992.49,
          992.49,
          null,
          1323.5,
          1323.5,
          null,
          1822.5,
          1822.5,
          null,
          2157.5,
          2158.5,
          null,
          992.49,
          991.49,
          null,
          1323.5,
          1323.5,
          null,
          991.49,
          990.49,
          null,
          990.49,
          988.49,
          null,
          988.49,
          825.49,
          null,
          825.49,
          492.49,
          null,
          825.49,
          825.49,
          null,
          492.49,
          489.49,
          null,
          825.49,
          825.49,
          null,
          489.49,
          159.49,
          null,
          489.49,
          489.49,
          null,
          825.49,
          825.49,
          null,
          159.49,
          157.49,
          null,
          489.49,
          489.49,
          null,
          157.49,
          156.49,
          null,
          489.49,
          489.49,
          null,
          156.49,
          156.49,
          null,
          156.49,
          156.49,
          null,
          156.49,
          156.49,
          null,
          489.49,
          489.49,
          null,
          489.49,
          490.49,
          null,
          490.49,
          490.49,
          null,
          490.49,
          490.49,
          null,
          490.49,
          490.49,
          null,
          825.49,
          825.49,
          null,
          825.49,
          825.49,
          null,
          825.49,
          825.49,
          null,
          1323.5,
          1323.5,
          null,
          1323.5,
          1323.5,
          null,
          1323.5,
          1323.5,
          null,
          1323.5,
          1323.5,
          null,
          1323.5,
          1323.5,
          null,
          1323.5,
          1323.5,
          null,
          1323.5,
          1323.5,
          null,
          1323.5,
          1159.5,
          null,
          1323.5,
          1490.5,
          null,
          1159.5,
          1159.5,
          null,
          1490.5,
          1491.5,
          null,
          1159.5,
          1159.5,
          null,
          1491.5,
          1491.5,
          null,
          1491.5,
          1490.5,
          null,
          1490.5,
          1490.5,
          null,
          1490.5,
          1490.5,
          null,
          1822.5,
          1822.5,
          null,
          1822.5,
          1822.5,
          null,
          1822.5,
          1822.5,
          null,
          1822.5,
          1822.5,
          null,
          1822.5,
          1822.5,
          null,
          1822.5,
          1823.5,
          null,
          1823.5,
          1823.5,
          null,
          1823.5,
          1823.5,
          null,
          1823.5,
          1823.5,
          null,
          1823.5,
          1824.5,
          null,
          1824.5,
          1824.5,
          null,
          1824.5,
          1824.5,
          null,
          2158.5,
          2158.5,
          null,
          2158.5,
          2158.5,
          null,
          2158.5,
          2158.5,
          null,
          2158.5,
          2158.5,
          null,
          2158.5,
          2158.5,
          null,
          2158.5,
          2158.5,
          null,
          2158.5,
          2158.5,
          null,
          2158.5,
          2158.5,
          null,
          2158.5,
          2158.5,
          null,
          2158.5,
          2158.5,
          null
         ],
         "y": [
          1314,
          1242,
          null,
          1242,
          1170,
          null,
          1242,
          1170,
          null,
          1242,
          1170,
          null,
          1170,
          1098,
          null,
          1170,
          1098,
          null,
          1170,
          1098,
          null,
          1170,
          1098,
          null,
          1098,
          1026,
          null,
          1098,
          1026,
          null,
          1098,
          1026,
          null,
          1098,
          1026,
          null,
          1026,
          954,
          null,
          1026,
          954,
          null,
          954,
          882,
          null,
          882,
          810,
          null,
          810,
          738,
          null,
          738,
          666,
          null,
          738,
          666,
          null,
          666,
          594,
          null,
          666,
          594,
          null,
          594,
          522,
          null,
          594,
          522,
          null,
          594,
          522,
          null,
          522,
          450,
          null,
          522,
          450,
          null,
          450,
          378,
          null,
          450,
          378,
          null,
          378,
          306,
          null,
          306,
          234,
          null,
          234,
          162,
          null,
          378,
          306,
          null,
          306,
          234,
          null,
          234,
          162,
          null,
          162,
          90,
          null,
          90,
          18,
          null,
          522,
          450,
          null,
          450,
          378,
          null,
          378,
          306,
          null,
          954,
          882,
          null,
          882,
          810,
          null,
          810,
          738,
          null,
          738,
          666,
          null,
          666,
          594,
          null,
          594,
          522,
          null,
          522,
          450,
          null,
          450,
          378,
          null,
          450,
          378,
          null,
          378,
          306,
          null,
          378,
          306,
          null,
          306,
          234,
          null,
          306,
          234,
          null,
          234,
          162,
          null,
          162,
          90,
          null,
          90,
          18,
          null,
          1026,
          954,
          null,
          954,
          882,
          null,
          882,
          810,
          null,
          810,
          738,
          null,
          738,
          666,
          null,
          666,
          594,
          null,
          594,
          522,
          null,
          522,
          450,
          null,
          450,
          378,
          null,
          378,
          306,
          null,
          306,
          234,
          null,
          234,
          162,
          null,
          1026,
          954,
          null,
          954,
          882,
          null,
          882,
          810,
          null,
          810,
          738,
          null,
          738,
          666,
          null,
          666,
          594,
          null,
          594,
          522,
          null,
          522,
          450,
          null,
          450,
          378,
          null,
          378,
          306,
          null
         ]
        },
        {
         "hoverinfo": "none",
         "line": {
          "color": "red",
          "width": 2
         },
         "mode": "lines",
         "type": "scatter",
         "uid": "f36aa515-a50a-4341-a6f6-690f5f4f564e",
         "x": [
          1822.5,
          1822.5,
          null,
          1822.5,
          1323.5,
          null
         ],
         "y": [
          1314,
          1242,
          null,
          1242,
          1170,
          null
         ]
        },
        {
         "hoverinfo": "none",
         "marker": {
          "color": "rgb(100,100,100)",
          "line": {
           "color": "rgb(100,100,100)",
           "width": 1
          },
          "size": 18
         },
         "mode": "markers+text",
         "name": "",
         "text": [
          null
         ],
         "type": "scatter",
         "uid": "c1022edf-6d24-4d56-8162-9e4727965961",
         "x": [
          1822.5
         ],
         "y": [
          1314
         ]
        },
        {
         "hoverinfo": "none",
         "marker": {
          "color": "rgb(101,214,67)",
          "line": {
           "color": "rgb(100,100,100)",
           "width": 1
          },
          "size": 18
         },
         "mode": "markers+text",
         "name": "",
         "text": [
          "dynamic",
          "dynamic",
          "dynamic",
          "dynamic"
         ],
         "type": "scatter",
         "uid": "1c35405d-79dc-4a80-8456-8a75c73bdb70",
         "x": [
          988.49,
          1159.5,
          1822.5,
          2158.5
         ],
         "y": [
          810,
          234,
          738,
          738
         ]
        },
        {
         "hoverinfo": "none",
         "marker": {
          "color": "rgb(247,185,43)",
          "line": {
           "color": "rgb(100,100,100)",
           "width": 1
          },
          "size": 18
         },
         "mode": "markers+text",
         "name": "",
         "text": [
          "/",
          "/",
          "/",
          "/",
          "/",
          "/",
          "/",
          "/"
         ],
         "type": "scatter",
         "uid": "f58f7d3b-14e1-44a4-9d2c-b6ac5a16674f",
         "x": [
          1822.5,
          990.49,
          825.49,
          1159.5,
          1822.5,
          1822.5,
          2158.5,
          2158.5
         ],
         "y": [
          1242,
          882,
          738,
          306,
          810,
          666,
          810,
          666
         ]
        },
        {
         "hoverinfo": "none",
         "marker": {
          "color": "rgb(24,140,216)",
          "line": {
           "color": "rgb(100,100,100)",
           "width": 1
          },
          "size": 18
         },
         "mode": "markers+text",
         "name": "",
         "text": [
          "a",
          "u",
          "p",
          "p",
          "c",
          "s",
          "o",
          "p",
          "h",
          "s",
          "a",
          "e",
          "c",
          "v",
          "c",
          "t",
          "o",
          "i",
          "u",
          "n",
          "t",
          "s",
          "v",
          "i",
          "t",
          "i",
          "e",
          "s",
          "e",
          "n",
          "t",
          "s",
          "i",
          "e",
          "v",
          "e",
          "m",
          "e",
          "n",
          "t",
          "s",
          "-",
          "t",
          "y",
          "p",
          "e",
          "s",
          "e",
          "r",
          "s",
          "f",
          "r",
          "i",
          "e",
          "n",
          "d",
          "s",
          "s",
          "t",
          "s",
          "l",
          "i",
          "k",
          "e",
          "s"
         ],
         "type": "scatter",
         "uid": "2e1474b5-d34c-4a71-8243-cbb751a4dec5",
         "x": [
          1323.5,
          1822.5,
          2155.5,
          992.49,
          1323.5,
          1822.5,
          2157.5,
          992.49,
          1323.5,
          991.49,
          492.49,
          825.49,
          489.49,
          825.49,
          159.49,
          489.49,
          157.49,
          489.49,
          156.49,
          156.49,
          156.49,
          156.49,
          489.49,
          489.49,
          490.49,
          490.49,
          490.49,
          490.49,
          825.49,
          825.49,
          825.49,
          825.49,
          1323.5,
          1323.5,
          1323.5,
          1323.5,
          1323.5,
          1323.5,
          1323.5,
          1323.5,
          1159.5,
          1490.5,
          1491.5,
          1491.5,
          1490.5,
          1490.5,
          1490.5,
          1822.5,
          1822.5,
          1822.5,
          1823.5,
          1823.5,
          1823.5,
          1823.5,
          1824.5,
          1824.5,
          1824.5,
          2158.5,
          2158.5,
          2158.5,
          2158.5,
          2158.5,
          2158.5,
          2158.5,
          2158.5
         ],
         "y": [
          1170,
          1170,
          1170,
          1098,
          1098,
          1098,
          1098,
          1026,
          1026,
          954,
          666,
          666,
          594,
          594,
          522,
          522,
          450,
          450,
          378,
          306,
          234,
          162,
          378,
          306,
          234,
          162,
          90,
          18,
          522,
          450,
          378,
          306,
          954,
          882,
          810,
          738,
          666,
          594,
          522,
          450,
          378,
          378,
          306,
          234,
          162,
          90,
          18,
          1026,
          954,
          882,
          594,
          522,
          450,
          378,
          306,
          234,
          162,
          1026,
          954,
          882,
          594,
          522,
          450,
          378,
          306
         ]
        }
       ],
       "layout": {
        "font": {
         "size": 15
        },
        "height": 800,
        "hovermode": "closest",
        "margin": {
         "b": 85,
         "l": 40,
         "r": 40,
         "t": 100
        },
        "plot_bgcolor": "rgb(248,248,248)",
        "showlegend": false,
        "template": {
         "data": {
          "bar": [
           {
            "error_x": {
             "color": "#2a3f5f"
            },
            "error_y": {
             "color": "#2a3f5f"
            },
            "marker": {
             "line": {
              "color": "#E5ECF6",
              "width": 0.5
             }
            },
            "type": "bar"
           }
          ],
          "barpolar": [
           {
            "marker": {
             "line": {
              "color": "#E5ECF6",
              "width": 0.5
             }
            },
            "type": "barpolar"
           }
          ],
          "carpet": [
           {
            "aaxis": {
             "endlinecolor": "#2a3f5f",
             "gridcolor": "white",
             "linecolor": "white",
             "minorgridcolor": "white",
             "startlinecolor": "#2a3f5f"
            },
            "baxis": {
             "endlinecolor": "#2a3f5f",
             "gridcolor": "white",
             "linecolor": "white",
             "minorgridcolor": "white",
             "startlinecolor": "#2a3f5f"
            },
            "type": "carpet"
           }
          ],
          "choropleth": [
           {
            "colorbar": {
             "outlinewidth": 0,
             "ticks": ""
            },
            "type": "choropleth"
           }
          ],
          "contour": [
           {
            "colorbar": {
             "outlinewidth": 0,
             "ticks": ""
            },
            "colorscale": [
             [
              0,
              "#0d0887"
             ],
             [
              0.1111111111111111,
              "#46039f"
             ],
             [
              0.2222222222222222,
              "#7201a8"
             ],
             [
              0.3333333333333333,
              "#9c179e"
             ],
             [
              0.4444444444444444,
              "#bd3786"
             ],
             [
              0.5555555555555556,
              "#d8576b"
             ],
             [
              0.6666666666666666,
              "#ed7953"
             ],
             [
              0.7777777777777778,
              "#fb9f3a"
             ],
             [
              0.8888888888888888,
              "#fdca26"
             ],
             [
              1,
              "#f0f921"
             ]
            ],
            "type": "contour"
           }
          ],
          "contourcarpet": [
           {
            "colorbar": {
             "outlinewidth": 0,
             "ticks": ""
            },
            "type": "contourcarpet"
           }
          ],
          "heatmap": [
           {
            "colorbar": {
             "outlinewidth": 0,
             "ticks": ""
            },
            "colorscale": [
             [
              0,
              "#0d0887"
             ],
             [
              0.1111111111111111,
              "#46039f"
             ],
             [
              0.2222222222222222,
              "#7201a8"
             ],
             [
              0.3333333333333333,
              "#9c179e"
             ],
             [
              0.4444444444444444,
              "#bd3786"
             ],
             [
              0.5555555555555556,
              "#d8576b"
             ],
             [
              0.6666666666666666,
              "#ed7953"
             ],
             [
              0.7777777777777778,
              "#fb9f3a"
             ],
             [
              0.8888888888888888,
              "#fdca26"
             ],
             [
              1,
              "#f0f921"
             ]
            ],
            "type": "heatmap"
           }
          ],
          "heatmapgl": [
           {
            "colorbar": {
             "outlinewidth": 0,
             "ticks": ""
            },
            "colorscale": [
             [
              0,
              "#0d0887"
             ],
             [
              0.1111111111111111,
              "#46039f"
             ],
             [
              0.2222222222222222,
              "#7201a8"
             ],
             [
              0.3333333333333333,
              "#9c179e"
             ],
             [
              0.4444444444444444,
              "#bd3786"
             ],
             [
              0.5555555555555556,
              "#d8576b"
             ],
             [
              0.6666666666666666,
              "#ed7953"
             ],
             [
              0.7777777777777778,
              "#fb9f3a"
             ],
             [
              0.8888888888888888,
              "#fdca26"
             ],
             [
              1,
              "#f0f921"
             ]
            ],
            "type": "heatmapgl"
           }
          ],
          "histogram": [
           {
            "marker": {
             "colorbar": {
              "outlinewidth": 0,
              "ticks": ""
             }
            },
            "type": "histogram"
           }
          ],
          "histogram2d": [
           {
            "colorbar": {
             "outlinewidth": 0,
             "ticks": ""
            },
            "colorscale": [
             [
              0,
              "#0d0887"
             ],
             [
              0.1111111111111111,
              "#46039f"
             ],
             [
              0.2222222222222222,
              "#7201a8"
             ],
             [
              0.3333333333333333,
              "#9c179e"
             ],
             [
              0.4444444444444444,
              "#bd3786"
             ],
             [
              0.5555555555555556,
              "#d8576b"
             ],
             [
              0.6666666666666666,
              "#ed7953"
             ],
             [
              0.7777777777777778,
              "#fb9f3a"
             ],
             [
              0.8888888888888888,
              "#fdca26"
             ],
             [
              1,
              "#f0f921"
             ]
            ],
            "type": "histogram2d"
           }
          ],
          "histogram2dcontour": [
           {
            "colorbar": {
             "outlinewidth": 0,
             "ticks": ""
            },
            "colorscale": [
             [
              0,
              "#0d0887"
             ],
             [
              0.1111111111111111,
              "#46039f"
             ],
             [
              0.2222222222222222,
              "#7201a8"
             ],
             [
              0.3333333333333333,
              "#9c179e"
             ],
             [
              0.4444444444444444,
              "#bd3786"
             ],
             [
              0.5555555555555556,
              "#d8576b"
             ],
             [
              0.6666666666666666,
              "#ed7953"
             ],
             [
              0.7777777777777778,
              "#fb9f3a"
             ],
             [
              0.8888888888888888,
              "#fdca26"
             ],
             [
              1,
              "#f0f921"
             ]
            ],
            "type": "histogram2dcontour"
           }
          ],
          "mesh3d": [
           {
            "colorbar": {
             "outlinewidth": 0,
             "ticks": ""
            },
            "type": "mesh3d"
           }
          ],
          "parcoords": [
           {
            "line": {
             "colorbar": {
              "outlinewidth": 0,
              "ticks": ""
             }
            },
            "type": "parcoords"
           }
          ],
          "scatter": [
           {
            "marker": {
             "colorbar": {
              "outlinewidth": 0,
              "ticks": ""
             }
            },
            "type": "scatter"
           }
          ],
          "scatter3d": [
           {
            "line": {
             "colorbar": {
              "outlinewidth": 0,
              "ticks": ""
             }
            },
            "marker": {
             "colorbar": {
              "outlinewidth": 0,
              "ticks": ""
             }
            },
            "type": "scatter3d"
           }
          ],
          "scattercarpet": [
           {
            "marker": {
             "colorbar": {
              "outlinewidth": 0,
              "ticks": ""
             }
            },
            "type": "scattercarpet"
           }
          ],
          "scattergeo": [
           {
            "marker": {
             "colorbar": {
              "outlinewidth": 0,
              "ticks": ""
             }
            },
            "type": "scattergeo"
           }
          ],
          "scattergl": [
           {
            "marker": {
             "colorbar": {
              "outlinewidth": 0,
              "ticks": ""
             }
            },
            "type": "scattergl"
           }
          ],
          "scattermapbox": [
           {
            "marker": {
             "colorbar": {
              "outlinewidth": 0,
              "ticks": ""
             }
            },
            "type": "scattermapbox"
           }
          ],
          "scatterpolar": [
           {
            "marker": {
             "colorbar": {
              "outlinewidth": 0,
              "ticks": ""
             }
            },
            "type": "scatterpolar"
           }
          ],
          "scatterpolargl": [
           {
            "marker": {
             "colorbar": {
              "outlinewidth": 0,
              "ticks": ""
             }
            },
            "type": "scatterpolargl"
           }
          ],
          "scatterternary": [
           {
            "marker": {
             "colorbar": {
              "outlinewidth": 0,
              "ticks": ""
             }
            },
            "type": "scatterternary"
           }
          ],
          "surface": [
           {
            "colorbar": {
             "outlinewidth": 0,
             "ticks": ""
            },
            "colorscale": [
             [
              0,
              "#0d0887"
             ],
             [
              0.1111111111111111,
              "#46039f"
             ],
             [
              0.2222222222222222,
              "#7201a8"
             ],
             [
              0.3333333333333333,
              "#9c179e"
             ],
             [
              0.4444444444444444,
              "#bd3786"
             ],
             [
              0.5555555555555556,
              "#d8576b"
             ],
             [
              0.6666666666666666,
              "#ed7953"
             ],
             [
              0.7777777777777778,
              "#fb9f3a"
             ],
             [
              0.8888888888888888,
              "#fdca26"
             ],
             [
              1,
              "#f0f921"
             ]
            ],
            "type": "surface"
           }
          ],
          "table": [
           {
            "cells": {
             "fill": {
              "color": "#EBF0F8"
             },
             "line": {
              "color": "white"
             }
            },
            "header": {
             "fill": {
              "color": "#C8D4E3"
             },
             "line": {
              "color": "white"
             }
            },
            "type": "table"
           }
          ]
         },
         "layout": {
          "annotationdefaults": {
           "arrowcolor": "#2a3f5f",
           "arrowhead": 0,
           "arrowwidth": 1
          },
          "colorscale": {
           "diverging": [
            [
             0,
             "#8e0152"
            ],
            [
             0.1,
             "#c51b7d"
            ],
            [
             0.2,
             "#de77ae"
            ],
            [
             0.3,
             "#f1b6da"
            ],
            [
             0.4,
             "#fde0ef"
            ],
            [
             0.5,
             "#f7f7f7"
            ],
            [
             0.6,
             "#e6f5d0"
            ],
            [
             0.7,
             "#b8e186"
            ],
            [
             0.8,
             "#7fbc41"
            ],
            [
             0.9,
             "#4d9221"
            ],
            [
             1,
             "#276419"
            ]
           ],
           "sequential": [
            [
             0,
             "#0d0887"
            ],
            [
             0.1111111111111111,
             "#46039f"
            ],
            [
             0.2222222222222222,
             "#7201a8"
            ],
            [
             0.3333333333333333,
             "#9c179e"
            ],
            [
             0.4444444444444444,
             "#bd3786"
            ],
            [
             0.5555555555555556,
             "#d8576b"
            ],
            [
             0.6666666666666666,
             "#ed7953"
            ],
            [
             0.7777777777777778,
             "#fb9f3a"
            ],
            [
             0.8888888888888888,
             "#fdca26"
            ],
            [
             1,
             "#f0f921"
            ]
           ],
           "sequentialminus": [
            [
             0,
             "#0d0887"
            ],
            [
             0.1111111111111111,
             "#46039f"
            ],
            [
             0.2222222222222222,
             "#7201a8"
            ],
            [
             0.3333333333333333,
             "#9c179e"
            ],
            [
             0.4444444444444444,
             "#bd3786"
            ],
            [
             0.5555555555555556,
             "#d8576b"
            ],
            [
             0.6666666666666666,
             "#ed7953"
            ],
            [
             0.7777777777777778,
             "#fb9f3a"
            ],
            [
             0.8888888888888888,
             "#fdca26"
            ],
            [
             1,
             "#f0f921"
            ]
           ]
          },
          "colorway": [
           "#636efa",
           "#EF553B",
           "#00cc96",
           "#ab63fa",
           "#FFA15A",
           "#19d3f3",
           "#FF6692",
           "#B6E880",
           "#FF97FF",
           "#FECB52"
          ],
          "font": {
           "color": "#2a3f5f"
          },
          "geo": {
           "bgcolor": "white",
           "lakecolor": "white",
           "landcolor": "#E5ECF6",
           "showlakes": true,
           "showland": true,
           "subunitcolor": "white"
          },
          "hoverlabel": {
           "align": "left"
          },
          "hovermode": "closest",
          "mapbox": {
           "style": "light"
          },
          "paper_bgcolor": "white",
          "plot_bgcolor": "#E5ECF6",
          "polar": {
           "angularaxis": {
            "gridcolor": "white",
            "linecolor": "white",
            "ticks": ""
           },
           "bgcolor": "#E5ECF6",
           "radialaxis": {
            "gridcolor": "white",
            "linecolor": "white",
            "ticks": ""
           }
          },
          "scene": {
           "xaxis": {
            "backgroundcolor": "#E5ECF6",
            "gridcolor": "white",
            "gridwidth": 2,
            "linecolor": "white",
            "showbackground": true,
            "ticks": "",
            "zerolinecolor": "white"
           },
           "yaxis": {
            "backgroundcolor": "#E5ECF6",
            "gridcolor": "white",
            "gridwidth": 2,
            "linecolor": "white",
            "showbackground": true,
            "ticks": "",
            "zerolinecolor": "white"
           },
           "zaxis": {
            "backgroundcolor": "#E5ECF6",
            "gridcolor": "white",
            "gridwidth": 2,
            "linecolor": "white",
            "showbackground": true,
            "ticks": "",
            "zerolinecolor": "white"
           }
          },
          "shapedefaults": {
           "line": {
            "color": "#2a3f5f"
           }
          },
          "ternary": {
           "aaxis": {
            "gridcolor": "white",
            "linecolor": "white",
            "ticks": ""
           },
           "baxis": {
            "gridcolor": "white",
            "linecolor": "white",
            "ticks": ""
           },
           "bgcolor": "#E5ECF6",
           "caxis": {
            "gridcolor": "white",
            "linecolor": "white",
            "ticks": ""
           }
          },
          "title": {
           "x": 0.05
          },
          "xaxis": {
           "automargin": true,
           "gridcolor": "white",
           "linecolor": "white",
           "ticks": "",
           "zerolinecolor": "white",
           "zerolinewidth": 2
          },
          "yaxis": {
           "automargin": true,
           "gridcolor": "white",
           "linecolor": "white",
           "ticks": "",
           "zerolinecolor": "white",
           "zerolinewidth": 2
          }
         }
        },
        "title": {
         "text": "Trie"
        },
        "width": 1000,
        "xaxis": {
         "showgrid": false,
         "showline": false,
         "showticklabels": false,
         "zeroline": false
        },
        "yaxis": {
         "showgrid": false,
         "showline": false,
         "showticklabels": false,
         "zeroline": false
        }
       }
      },
      "text/html": [
       "<div>\n",
       "        \n",
       "        \n",
       "            <div id=\"2ae71cd5-a0db-4979-9095-353aff29c3ba\" class=\"plotly-graph-div\" style=\"height:800px; width:1000px;\"></div>\n",
       "            <script type=\"text/javascript\">\n",
       "                require([\"plotly\"], function(Plotly) {\n",
       "                    window.PLOTLYENV=window.PLOTLYENV || {};\n",
       "                    \n",
       "                if (document.getElementById(\"2ae71cd5-a0db-4979-9095-353aff29c3ba\")) {\n",
       "                    Plotly.newPlot(\n",
       "                        '2ae71cd5-a0db-4979-9095-353aff29c3ba',\n",
       "                        [{\"hoverinfo\": \"none\", \"line\": {\"color\": \"rgb(160,160,160)\", \"width\": 2}, \"mode\": \"lines\", \"type\": \"scatter\", \"uid\": \"a2c8e71e-500d-4557-8c11-dbd9ce7c1ed5\", \"x\": [1822.5, 1822.5, null, 1822.5, 1323.5, null, 1822.5, 1822.5, null, 1822.5, 2155.5, null, 1323.5, 992.49, null, 1323.5, 1323.5, null, 1822.5, 1822.5, null, 2155.5, 2157.5, null, 992.49, 992.49, null, 1323.5, 1323.5, null, 1822.5, 1822.5, null, 2157.5, 2158.5, null, 992.49, 991.49, null, 1323.5, 1323.5, null, 991.49, 990.49, null, 990.49, 988.49, null, 988.49, 825.49, null, 825.49, 492.49, null, 825.49, 825.49, null, 492.49, 489.49, null, 825.49, 825.49, null, 489.49, 159.49, null, 489.49, 489.49, null, 825.49, 825.49, null, 159.49, 157.49, null, 489.49, 489.49, null, 157.49, 156.49, null, 489.49, 489.49, null, 156.49, 156.49, null, 156.49, 156.49, null, 156.49, 156.49, null, 489.49, 489.49, null, 489.49, 490.49, null, 490.49, 490.49, null, 490.49, 490.49, null, 490.49, 490.49, null, 825.49, 825.49, null, 825.49, 825.49, null, 825.49, 825.49, null, 1323.5, 1323.5, null, 1323.5, 1323.5, null, 1323.5, 1323.5, null, 1323.5, 1323.5, null, 1323.5, 1323.5, null, 1323.5, 1323.5, null, 1323.5, 1323.5, null, 1323.5, 1159.5, null, 1323.5, 1490.5, null, 1159.5, 1159.5, null, 1490.5, 1491.5, null, 1159.5, 1159.5, null, 1491.5, 1491.5, null, 1491.5, 1490.5, null, 1490.5, 1490.5, null, 1490.5, 1490.5, null, 1822.5, 1822.5, null, 1822.5, 1822.5, null, 1822.5, 1822.5, null, 1822.5, 1822.5, null, 1822.5, 1822.5, null, 1822.5, 1823.5, null, 1823.5, 1823.5, null, 1823.5, 1823.5, null, 1823.5, 1823.5, null, 1823.5, 1824.5, null, 1824.5, 1824.5, null, 1824.5, 1824.5, null, 2158.5, 2158.5, null, 2158.5, 2158.5, null, 2158.5, 2158.5, null, 2158.5, 2158.5, null, 2158.5, 2158.5, null, 2158.5, 2158.5, null, 2158.5, 2158.5, null, 2158.5, 2158.5, null, 2158.5, 2158.5, null, 2158.5, 2158.5, null], \"y\": [1314.0, 1242.0, null, 1242.0, 1170.0, null, 1242.0, 1170.0, null, 1242.0, 1170.0, null, 1170.0, 1098.0, null, 1170.0, 1098.0, null, 1170.0, 1098.0, null, 1170.0, 1098.0, null, 1098.0, 1026.0, null, 1098.0, 1026.0, null, 1098.0, 1026.0, null, 1098.0, 1026.0, null, 1026.0, 954.0, null, 1026.0, 954.0, null, 954.0, 882.0, null, 882.0, 810.0, null, 810.0, 738.0, null, 738.0, 666.0, null, 738.0, 666.0, null, 666.0, 594.0, null, 666.0, 594.0, null, 594.0, 522.0, null, 594.0, 522.0, null, 594.0, 522.0, null, 522.0, 450.0, null, 522.0, 450.0, null, 450.0, 378.0, null, 450.0, 378.0, null, 378.0, 306.0, null, 306.0, 234.0, null, 234.0, 162.0, null, 378.0, 306.0, null, 306.0, 234.0, null, 234.0, 162.0, null, 162.0, 90.0, null, 90.0, 18.0, null, 522.0, 450.0, null, 450.0, 378.0, null, 378.0, 306.0, null, 954.0, 882.0, null, 882.0, 810.0, null, 810.0, 738.0, null, 738.0, 666.0, null, 666.0, 594.0, null, 594.0, 522.0, null, 522.0, 450.0, null, 450.0, 378.0, null, 450.0, 378.0, null, 378.0, 306.0, null, 378.0, 306.0, null, 306.0, 234.0, null, 306.0, 234.0, null, 234.0, 162.0, null, 162.0, 90.0, null, 90.0, 18.0, null, 1026.0, 954.0, null, 954.0, 882.0, null, 882.0, 810.0, null, 810.0, 738.0, null, 738.0, 666.0, null, 666.0, 594.0, null, 594.0, 522.0, null, 522.0, 450.0, null, 450.0, 378.0, null, 378.0, 306.0, null, 306.0, 234.0, null, 234.0, 162.0, null, 1026.0, 954.0, null, 954.0, 882.0, null, 882.0, 810.0, null, 810.0, 738.0, null, 738.0, 666.0, null, 666.0, 594.0, null, 594.0, 522.0, null, 522.0, 450.0, null, 450.0, 378.0, null, 378.0, 306.0, null]}, {\"hoverinfo\": \"none\", \"line\": {\"color\": \"red\", \"width\": 2}, \"mode\": \"lines\", \"type\": \"scatter\", \"uid\": \"f36aa515-a50a-4341-a6f6-690f5f4f564e\", \"x\": [1822.5, 1822.5, null, 1822.5, 1323.5, null], \"y\": [1314.0, 1242.0, null, 1242.0, 1170.0, null]}, {\"hoverinfo\": \"none\", \"marker\": {\"color\": \"rgb(100,100,100)\", \"line\": {\"color\": \"rgb(100,100,100)\", \"width\": 1}, \"size\": 18}, \"mode\": \"markers+text\", \"name\": \"\", \"text\": [null], \"type\": \"scatter\", \"uid\": \"c1022edf-6d24-4d56-8162-9e4727965961\", \"x\": [1822.5], \"y\": [1314.0]}, {\"hoverinfo\": \"none\", \"marker\": {\"color\": \"rgb(101,214,67)\", \"line\": {\"color\": \"rgb(100,100,100)\", \"width\": 1}, \"size\": 18}, \"mode\": \"markers+text\", \"name\": \"\", \"text\": [\"dynamic\", \"dynamic\", \"dynamic\", \"dynamic\"], \"type\": \"scatter\", \"uid\": \"1c35405d-79dc-4a80-8456-8a75c73bdb70\", \"x\": [988.49, 1159.5, 1822.5, 2158.5], \"y\": [810.0, 234.0, 738.0, 738.0]}, {\"hoverinfo\": \"none\", \"marker\": {\"color\": \"rgb(247,185,43)\", \"line\": {\"color\": \"rgb(100,100,100)\", \"width\": 1}, \"size\": 18}, \"mode\": \"markers+text\", \"name\": \"\", \"text\": [\"/\", \"/\", \"/\", \"/\", \"/\", \"/\", \"/\", \"/\"], \"type\": \"scatter\", \"uid\": \"f58f7d3b-14e1-44a4-9d2c-b6ac5a16674f\", \"x\": [1822.5, 990.49, 825.49, 1159.5, 1822.5, 1822.5, 2158.5, 2158.5], \"y\": [1242.0, 882.0, 738.0, 306.0, 810.0, 666.0, 810.0, 666.0]}, {\"hoverinfo\": \"none\", \"marker\": {\"color\": \"rgb(24,140,216)\", \"line\": {\"color\": \"rgb(100,100,100)\", \"width\": 1}, \"size\": 18}, \"mode\": \"markers+text\", \"name\": \"\", \"text\": [\"a\", \"u\", \"p\", \"p\", \"c\", \"s\", \"o\", \"p\", \"h\", \"s\", \"a\", \"e\", \"c\", \"v\", \"c\", \"t\", \"o\", \"i\", \"u\", \"n\", \"t\", \"s\", \"v\", \"i\", \"t\", \"i\", \"e\", \"s\", \"e\", \"n\", \"t\", \"s\", \"i\", \"e\", \"v\", \"e\", \"m\", \"e\", \"n\", \"t\", \"s\", \"-\", \"t\", \"y\", \"p\", \"e\", \"s\", \"e\", \"r\", \"s\", \"f\", \"r\", \"i\", \"e\", \"n\", \"d\", \"s\", \"s\", \"t\", \"s\", \"l\", \"i\", \"k\", \"e\", \"s\"], \"type\": \"scatter\", \"uid\": \"2e1474b5-d34c-4a71-8243-cbb751a4dec5\", \"x\": [1323.5, 1822.5, 2155.5, 992.49, 1323.5, 1822.5, 2157.5, 992.49, 1323.5, 991.49, 492.49, 825.49, 489.49, 825.49, 159.49, 489.49, 157.49, 489.49, 156.49, 156.49, 156.49, 156.49, 489.49, 489.49, 490.49, 490.49, 490.49, 490.49, 825.49, 825.49, 825.49, 825.49, 1323.5, 1323.5, 1323.5, 1323.5, 1323.5, 1323.5, 1323.5, 1323.5, 1159.5, 1490.5, 1491.5, 1491.5, 1490.5, 1490.5, 1490.5, 1822.5, 1822.5, 1822.5, 1823.5, 1823.5, 1823.5, 1823.5, 1824.5, 1824.5, 1824.5, 2158.5, 2158.5, 2158.5, 2158.5, 2158.5, 2158.5, 2158.5, 2158.5], \"y\": [1170.0, 1170.0, 1170.0, 1098.0, 1098.0, 1098.0, 1098.0, 1026.0, 1026.0, 954.0, 666.0, 666.0, 594.0, 594.0, 522.0, 522.0, 450.0, 450.0, 378.0, 306.0, 234.0, 162.0, 378.0, 306.0, 234.0, 162.0, 90.0, 18.0, 522.0, 450.0, 378.0, 306.0, 954.0, 882.0, 810.0, 738.0, 666.0, 594.0, 522.0, 450.0, 378.0, 378.0, 306.0, 234.0, 162.0, 90.0, 18.0, 1026.0, 954.0, 882.0, 594.0, 522.0, 450.0, 378.0, 306.0, 234.0, 162.0, 1026.0, 954.0, 882.0, 594.0, 522.0, 450.0, 378.0, 306.0]}],\n",
       "                        {\"font\": {\"size\": 15}, \"height\": 800, \"hovermode\": \"closest\", \"margin\": {\"b\": 85, \"l\": 40, \"r\": 40, \"t\": 100}, \"plot_bgcolor\": \"rgb(248,248,248)\", \"showlegend\": false, \"template\": {\"data\": {\"bar\": [{\"error_x\": {\"color\": \"#2a3f5f\"}, \"error_y\": {\"color\": \"#2a3f5f\"}, \"marker\": {\"line\": {\"color\": \"#E5ECF6\", \"width\": 0.5}}, \"type\": \"bar\"}], \"barpolar\": [{\"marker\": {\"line\": {\"color\": \"#E5ECF6\", \"width\": 0.5}}, \"type\": \"barpolar\"}], \"carpet\": [{\"aaxis\": {\"endlinecolor\": \"#2a3f5f\", \"gridcolor\": \"white\", \"linecolor\": \"white\", \"minorgridcolor\": \"white\", \"startlinecolor\": \"#2a3f5f\"}, \"baxis\": {\"endlinecolor\": \"#2a3f5f\", \"gridcolor\": \"white\", \"linecolor\": \"white\", \"minorgridcolor\": \"white\", \"startlinecolor\": \"#2a3f5f\"}, \"type\": \"carpet\"}], \"choropleth\": [{\"colorbar\": {\"outlinewidth\": 0, \"ticks\": \"\"}, \"type\": \"choropleth\"}], \"contour\": [{\"colorbar\": {\"outlinewidth\": 0, \"ticks\": \"\"}, \"colorscale\": [[0.0, \"#0d0887\"], [0.1111111111111111, \"#46039f\"], [0.2222222222222222, \"#7201a8\"], [0.3333333333333333, \"#9c179e\"], [0.4444444444444444, \"#bd3786\"], [0.5555555555555556, \"#d8576b\"], [0.6666666666666666, \"#ed7953\"], [0.7777777777777778, \"#fb9f3a\"], [0.8888888888888888, \"#fdca26\"], [1.0, \"#f0f921\"]], \"type\": \"contour\"}], \"contourcarpet\": [{\"colorbar\": {\"outlinewidth\": 0, \"ticks\": \"\"}, \"type\": \"contourcarpet\"}], \"heatmap\": [{\"colorbar\": {\"outlinewidth\": 0, \"ticks\": \"\"}, \"colorscale\": [[0.0, \"#0d0887\"], [0.1111111111111111, \"#46039f\"], [0.2222222222222222, \"#7201a8\"], [0.3333333333333333, \"#9c179e\"], [0.4444444444444444, \"#bd3786\"], [0.5555555555555556, \"#d8576b\"], [0.6666666666666666, \"#ed7953\"], [0.7777777777777778, \"#fb9f3a\"], [0.8888888888888888, \"#fdca26\"], [1.0, \"#f0f921\"]], \"type\": \"heatmap\"}], \"heatmapgl\": [{\"colorbar\": {\"outlinewidth\": 0, \"ticks\": \"\"}, \"colorscale\": [[0.0, \"#0d0887\"], [0.1111111111111111, \"#46039f\"], [0.2222222222222222, \"#7201a8\"], [0.3333333333333333, \"#9c179e\"], [0.4444444444444444, \"#bd3786\"], [0.5555555555555556, \"#d8576b\"], [0.6666666666666666, \"#ed7953\"], [0.7777777777777778, \"#fb9f3a\"], [0.8888888888888888, \"#fdca26\"], [1.0, \"#f0f921\"]], \"type\": \"heatmapgl\"}], \"histogram\": [{\"marker\": {\"colorbar\": {\"outlinewidth\": 0, \"ticks\": \"\"}}, \"type\": \"histogram\"}], \"histogram2d\": [{\"colorbar\": {\"outlinewidth\": 0, \"ticks\": \"\"}, \"colorscale\": [[0.0, \"#0d0887\"], [0.1111111111111111, \"#46039f\"], [0.2222222222222222, \"#7201a8\"], [0.3333333333333333, \"#9c179e\"], [0.4444444444444444, \"#bd3786\"], [0.5555555555555556, \"#d8576b\"], [0.6666666666666666, \"#ed7953\"], [0.7777777777777778, \"#fb9f3a\"], [0.8888888888888888, \"#fdca26\"], [1.0, \"#f0f921\"]], \"type\": \"histogram2d\"}], \"histogram2dcontour\": [{\"colorbar\": {\"outlinewidth\": 0, \"ticks\": \"\"}, \"colorscale\": [[0.0, \"#0d0887\"], [0.1111111111111111, \"#46039f\"], [0.2222222222222222, \"#7201a8\"], [0.3333333333333333, \"#9c179e\"], [0.4444444444444444, \"#bd3786\"], [0.5555555555555556, \"#d8576b\"], [0.6666666666666666, \"#ed7953\"], [0.7777777777777778, \"#fb9f3a\"], [0.8888888888888888, \"#fdca26\"], [1.0, \"#f0f921\"]], \"type\": \"histogram2dcontour\"}], \"mesh3d\": [{\"colorbar\": {\"outlinewidth\": 0, \"ticks\": \"\"}, \"type\": \"mesh3d\"}], \"parcoords\": [{\"line\": {\"colorbar\": {\"outlinewidth\": 0, \"ticks\": \"\"}}, \"type\": \"parcoords\"}], \"scatter\": [{\"marker\": {\"colorbar\": {\"outlinewidth\": 0, \"ticks\": \"\"}}, \"type\": \"scatter\"}], \"scatter3d\": [{\"line\": {\"colorbar\": {\"outlinewidth\": 0, \"ticks\": \"\"}}, \"marker\": {\"colorbar\": {\"outlinewidth\": 0, \"ticks\": \"\"}}, \"type\": \"scatter3d\"}], \"scattercarpet\": [{\"marker\": {\"colorbar\": {\"outlinewidth\": 0, \"ticks\": \"\"}}, \"type\": \"scattercarpet\"}], \"scattergeo\": [{\"marker\": {\"colorbar\": {\"outlinewidth\": 0, \"ticks\": \"\"}}, \"type\": \"scattergeo\"}], \"scattergl\": [{\"marker\": {\"colorbar\": {\"outlinewidth\": 0, \"ticks\": \"\"}}, \"type\": \"scattergl\"}], \"scattermapbox\": [{\"marker\": {\"colorbar\": {\"outlinewidth\": 0, \"ticks\": \"\"}}, \"type\": \"scattermapbox\"}], \"scatterpolar\": [{\"marker\": {\"colorbar\": {\"outlinewidth\": 0, \"ticks\": \"\"}}, \"type\": \"scatterpolar\"}], \"scatterpolargl\": [{\"marker\": {\"colorbar\": {\"outlinewidth\": 0, \"ticks\": \"\"}}, \"type\": \"scatterpolargl\"}], \"scatterternary\": [{\"marker\": {\"colorbar\": {\"outlinewidth\": 0, \"ticks\": \"\"}}, \"type\": \"scatterternary\"}], \"surface\": [{\"colorbar\": {\"outlinewidth\": 0, \"ticks\": \"\"}, \"colorscale\": [[0.0, \"#0d0887\"], [0.1111111111111111, \"#46039f\"], [0.2222222222222222, \"#7201a8\"], [0.3333333333333333, \"#9c179e\"], [0.4444444444444444, \"#bd3786\"], [0.5555555555555556, \"#d8576b\"], [0.6666666666666666, \"#ed7953\"], [0.7777777777777778, \"#fb9f3a\"], [0.8888888888888888, \"#fdca26\"], [1.0, \"#f0f921\"]], \"type\": \"surface\"}], \"table\": [{\"cells\": {\"fill\": {\"color\": \"#EBF0F8\"}, \"line\": {\"color\": \"white\"}}, \"header\": {\"fill\": {\"color\": \"#C8D4E3\"}, \"line\": {\"color\": \"white\"}}, \"type\": \"table\"}]}, \"layout\": {\"annotationdefaults\": {\"arrowcolor\": \"#2a3f5f\", \"arrowhead\": 0, \"arrowwidth\": 1}, \"colorscale\": {\"diverging\": [[0, \"#8e0152\"], [0.1, \"#c51b7d\"], [0.2, \"#de77ae\"], [0.3, \"#f1b6da\"], [0.4, \"#fde0ef\"], [0.5, \"#f7f7f7\"], [0.6, \"#e6f5d0\"], [0.7, \"#b8e186\"], [0.8, \"#7fbc41\"], [0.9, \"#4d9221\"], [1, \"#276419\"]], \"sequential\": [[0.0, \"#0d0887\"], [0.1111111111111111, \"#46039f\"], [0.2222222222222222, \"#7201a8\"], [0.3333333333333333, \"#9c179e\"], [0.4444444444444444, \"#bd3786\"], [0.5555555555555556, \"#d8576b\"], [0.6666666666666666, \"#ed7953\"], [0.7777777777777778, \"#fb9f3a\"], [0.8888888888888888, \"#fdca26\"], [1.0, \"#f0f921\"]], \"sequentialminus\": [[0.0, \"#0d0887\"], [0.1111111111111111, \"#46039f\"], [0.2222222222222222, \"#7201a8\"], [0.3333333333333333, \"#9c179e\"], [0.4444444444444444, \"#bd3786\"], [0.5555555555555556, \"#d8576b\"], [0.6666666666666666, \"#ed7953\"], [0.7777777777777778, \"#fb9f3a\"], [0.8888888888888888, \"#fdca26\"], [1.0, \"#f0f921\"]]}, \"colorway\": [\"#636efa\", \"#EF553B\", \"#00cc96\", \"#ab63fa\", \"#FFA15A\", \"#19d3f3\", \"#FF6692\", \"#B6E880\", \"#FF97FF\", \"#FECB52\"], \"font\": {\"color\": \"#2a3f5f\"}, \"geo\": {\"bgcolor\": \"white\", \"lakecolor\": \"white\", \"landcolor\": \"#E5ECF6\", \"showlakes\": true, \"showland\": true, \"subunitcolor\": \"white\"}, \"hoverlabel\": {\"align\": \"left\"}, \"hovermode\": \"closest\", \"mapbox\": {\"style\": \"light\"}, \"paper_bgcolor\": \"white\", \"plot_bgcolor\": \"#E5ECF6\", \"polar\": {\"angularaxis\": {\"gridcolor\": \"white\", \"linecolor\": \"white\", \"ticks\": \"\"}, \"bgcolor\": \"#E5ECF6\", \"radialaxis\": {\"gridcolor\": \"white\", \"linecolor\": \"white\", \"ticks\": \"\"}}, \"scene\": {\"xaxis\": {\"backgroundcolor\": \"#E5ECF6\", \"gridcolor\": \"white\", \"gridwidth\": 2, \"linecolor\": \"white\", \"showbackground\": true, \"ticks\": \"\", \"zerolinecolor\": \"white\"}, \"yaxis\": {\"backgroundcolor\": \"#E5ECF6\", \"gridcolor\": \"white\", \"gridwidth\": 2, \"linecolor\": \"white\", \"showbackground\": true, \"ticks\": \"\", \"zerolinecolor\": \"white\"}, \"zaxis\": {\"backgroundcolor\": \"#E5ECF6\", \"gridcolor\": \"white\", \"gridwidth\": 2, \"linecolor\": \"white\", \"showbackground\": true, \"ticks\": \"\", \"zerolinecolor\": \"white\"}}, \"shapedefaults\": {\"line\": {\"color\": \"#2a3f5f\"}}, \"ternary\": {\"aaxis\": {\"gridcolor\": \"white\", \"linecolor\": \"white\", \"ticks\": \"\"}, \"baxis\": {\"gridcolor\": \"white\", \"linecolor\": \"white\", \"ticks\": \"\"}, \"bgcolor\": \"#E5ECF6\", \"caxis\": {\"gridcolor\": \"white\", \"linecolor\": \"white\", \"ticks\": \"\"}}, \"title\": {\"x\": 0.05}, \"xaxis\": {\"automargin\": true, \"gridcolor\": \"white\", \"linecolor\": \"white\", \"ticks\": \"\", \"zerolinecolor\": \"white\", \"zerolinewidth\": 2}, \"yaxis\": {\"automargin\": true, \"gridcolor\": \"white\", \"linecolor\": \"white\", \"ticks\": \"\", \"zerolinecolor\": \"white\", \"zerolinewidth\": 2}}}, \"title\": {\"text\": \"Trie\"}, \"width\": 1000, \"xaxis\": {\"showgrid\": false, \"showline\": false, \"showticklabels\": false, \"zeroline\": false}, \"yaxis\": {\"showgrid\": false, \"showline\": false, \"showticklabels\": false, \"zeroline\": false}},\n",
       "                        {\"responsive\": true}\n",
       "                    ).then(function(){\n",
       "                            \n",
       "var gd = document.getElementById('2ae71cd5-a0db-4979-9095-353aff29c3ba');\n",
       "var x = new MutationObserver(function (mutations, observer) {{\n",
       "        var display = window.getComputedStyle(gd).display;\n",
       "        if (!display || display === 'none') {{\n",
       "            console.log([gd, 'removed!']);\n",
       "            Plotly.purge(gd);\n",
       "            observer.disconnect();\n",
       "        }}\n",
       "}});\n",
       "\n",
       "// Listen for the removal of the full notebook cells\n",
       "var notebookContainer = gd.closest('#notebook-container');\n",
       "if (notebookContainer) {{\n",
       "    x.observe(notebookContainer, {childList: true});\n",
       "}}\n",
       "\n",
       "// Listen for the clearing of the current output cell\n",
       "var outputEl = gd.closest('.output');\n",
       "if (outputEl) {{\n",
       "    x.observe(outputEl, {childList: true});\n",
       "}}\n",
       "\n",
       "                        })\n",
       "                };\n",
       "                });\n",
       "            </script>\n",
       "        </div>"
      ]
     },
     "metadata": {},
     "output_type": "display_data"
    }
   ],
   "source": [
    "search('/anything')"
   ]
  },
  {
   "cell_type": "code",
   "execution_count": null,
   "metadata": {},
   "outputs": [],
   "source": []
  }
 ],
 "metadata": {
  "kernelspec": {
   "display_name": "Python 3",
   "language": "python",
   "name": "python3"
  },
  "language_info": {
   "codemirror_mode": {
    "name": "ipython",
    "version": 3
   },
   "file_extension": ".py",
   "mimetype": "text/x-python",
   "name": "python",
   "nbconvert_exporter": "python",
   "pygments_lexer": "ipython3",
   "version": "3.7.4"
  }
 },
 "nbformat": 4,
 "nbformat_minor": 2
}
